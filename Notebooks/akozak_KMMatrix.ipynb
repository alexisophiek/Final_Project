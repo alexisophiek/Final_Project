{
 "cells": [
  {
   "cell_type": "code",
   "execution_count": 1,
   "metadata": {},
   "outputs": [],
   "source": [
    "import psycopg2\n",
    "import json\n",
    "from datetime import datetime as dt\n",
    "import pandas as pd\n",
    "import re \n",
    "from textblob import TextBlob "
   ]
  },
  {
   "cell_type": "code",
   "execution_count": 2,
   "metadata": {},
   "outputs": [],
   "source": [
    "p=\"dataisok\""
   ]
  },
  {
   "cell_type": "code",
   "execution_count": 3,
   "metadata": {},
   "outputs": [],
   "source": [
    "conn = psycopg2.connect(user = \"sam\",\n",
    "                                  password = f\"{p}\",\n",
    "                                  host = \"127.0.0.1\",\n",
    "                                  port = \"3306\",\n",
    "                                  database = \"postgres\")"
   ]
  },
  {
   "cell_type": "code",
   "execution_count": 4,
   "metadata": {},
   "outputs": [],
   "source": [
    "cursor = conn.cursor()"
   ]
  },
  {
   "cell_type": "code",
   "execution_count": 5,
   "metadata": {},
   "outputs": [],
   "source": [
    "tweet_list = []\n",
    "followers = []\n",
    "cursor.execute(\"select * from tweets\")\n",
    "tweets = cursor.fetchall()\n",
    "if not tweets:\n",
    "    print(\"empty\")\n",
    "for row in tweets:\n",
    "    for col in row:\n",
    "        if type(col) is dict:\n",
    "            tweet_list.append(col['text'])\n",
    "            followers.append(col['user']['followers_count'])"
   ]
  },
  {
   "cell_type": "code",
   "execution_count": 6,
   "metadata": {},
   "outputs": [],
   "source": [
    "remove_list = [r'@[A-Za-z0-9]+','https?://[A-Za-z0-9./]+','\\n','RT :',r'_[A-Za-z0-9]+','  ']"
   ]
  },
  {
   "cell_type": "code",
   "execution_count": 7,
   "metadata": {},
   "outputs": [],
   "source": [
    "def clean_tweets(remove_list,tweet_list):\n",
    "    for item in remove_list:\n",
    "        tweet_list = [re.sub(item,'',tweet) for tweet in tweet_list]\n",
    "    return tweet_list"
   ]
  },
  {
   "cell_type": "code",
   "execution_count": 8,
   "metadata": {},
   "outputs": [
    {
     "data": {
      "text/plain": [
       "2316"
      ]
     },
     "execution_count": 8,
     "metadata": {},
     "output_type": "execute_result"
    }
   ],
   "source": [
    "cleaned = clean_tweets(remove_list,tweet_list)\n",
    "len(cleaned)"
   ]
  },
  {
   "cell_type": "code",
   "execution_count": 9,
   "metadata": {},
   "outputs": [],
   "source": [
    "def result(tweet,keyword_list):\n",
    "    if any(word in tweet for word in keyword_list):\n",
    "        return 1\n",
    "    else:\n",
    "        return 0"
   ]
  },
  {
   "cell_type": "code",
<<<<<<< HEAD
   "execution_count": 28,
=======
   "execution_count": 10,
>>>>>>> fa53cf2fdf308ee5aaef8d6002da30487df7a82e
   "metadata": {},
   "outputs": [],
   "source": [
    "sentiment = []\n",
    "subjectivity= []\n",
    "bernie = []\n",
    "buttigieg = []\n",
    "biden = []\n",
    "warren = []\n",
    "gender = []\n",
    "age = []\n",
    "democrat = []\n",
    "socialist = []\n",
    "trump = []\n",
    "delegates = []\n",
    "extended = []\n",
    "length = []\n",
    "for tweet in cleaned:\n",
    "    tweet_length = len(tweet)\n",
    "    length.append(tweet_length)\n",
    "    if tweet_length > 140:\n",
    "        extended.append(1)\n",
    "    else:\n",
    "        extended.append(0)\n",
    "    delegates.append(result(tweet.lower(),[\"delegate\",\"delegates\"]))\n",
    "    trump.append(result(tweet.lower(),[\"trump\",\"donald\",\"donald trump\",\"donaldtrump\",\"donald j. trump\",\"don\"]))\n",
    "    socialist.append(result(tweet.lower(),[\"socialist\",\"socialism\",\"far-left\",\"left-extremist\", \"extreme left\"]))\n",
    "    democrat.append(result(tweet.lower(),[\"democrat\",\"democratic\",\"blue\",\"bluestate\", \"blue state\", \"blue states\"]))\n",
    "    age.append(result(tweet.lower(),[\"old\",\"aging\",\"grandpa\",\"geriatric\",\"uncle\",\"age\"]))\n",
    "    gender.append(result(tweet.lower(),[\"female\",\"woman\",\"girl\",\"lady\",\"women\"]))\n",
    "    warren.append(result(tweet.lower(),[\"warren\",'elizabeth',\"elizabethwarren\",\"elizabeth warren\"]))\n",
    "    biden.append(result(tweet.lower(),[\"biden\",\"joe\",\"joebiden\",\"joe biden\"]))\n",
    "    buttigieg.append(result(tweet.lower(),[\"buttigieg\",\"pete\",\"petebuttigieg\",\"pete buttigieg\"]))\n",
    "    bernie.append(result(tweet.lower(),[\"bernie\",\"berniesanders\",\"sanders\",\"bernie sanders\", \"feel the bern\"]))\n",
    "    sentiment.append([TextBlob(tweet).polarity])\n",
    "    subjectivity.append([TextBlob(tweet).subjectivity])"
   ]
  },
  {
   "cell_type": "code",
<<<<<<< HEAD
   "execution_count": 29,
=======
   "execution_count": 11,
>>>>>>> fa53cf2fdf308ee5aaef8d6002da30487df7a82e
   "metadata": {},
   "outputs": [
    {
     "data": {
      "text/html": [
       "<div>\n",
       "<style scoped>\n",
       "    .dataframe tbody tr th:only-of-type {\n",
       "        vertical-align: middle;\n",
       "    }\n",
       "\n",
       "    .dataframe tbody tr th {\n",
       "        vertical-align: top;\n",
       "    }\n",
       "\n",
       "    .dataframe thead th {\n",
       "        text-align: right;\n",
       "    }\n",
       "</style>\n",
       "<table border=\"1\" class=\"dataframe\">\n",
       "  <thead>\n",
       "    <tr style=\"text-align: right;\">\n",
       "      <th></th>\n",
       "      <th>bernie</th>\n",
       "      <th>buttigieg</th>\n",
       "      <th>biden</th>\n",
       "      <th>warren</th>\n",
       "      <th>gender</th>\n",
       "      <th>age</th>\n",
       "      <th>democrat</th>\n",
       "      <th>socialist</th>\n",
       "      <th>trump</th>\n",
       "      <th>delegates</th>\n",
       "      <th>extended</th>\n",
       "      <th>sentiment</th>\n",
       "      <th>subjectivity</th>\n",
       "    </tr>\n",
       "  </thead>\n",
       "  <tbody>\n",
       "    <tr>\n",
       "      <td>0</td>\n",
       "      <td>0</td>\n",
       "      <td>0</td>\n",
       "      <td>0</td>\n",
       "      <td>0</td>\n",
       "      <td>0</td>\n",
       "      <td>0</td>\n",
       "      <td>0</td>\n",
       "      <td>0</td>\n",
       "      <td>0</td>\n",
       "      <td>0</td>\n",
       "      <td>0</td>\n",
       "      <td>0.5</td>\n",
       "      <td>0.75</td>\n",
       "    </tr>\n",
       "    <tr>\n",
       "      <td>1</td>\n",
       "      <td>0</td>\n",
       "      <td>0</td>\n",
       "      <td>0</td>\n",
       "      <td>0</td>\n",
       "      <td>0</td>\n",
       "      <td>0</td>\n",
       "      <td>1</td>\n",
       "      <td>0</td>\n",
       "      <td>0</td>\n",
       "      <td>0</td>\n",
       "      <td>0</td>\n",
       "      <td>0.2</td>\n",
       "      <td>0.25</td>\n",
       "    </tr>\n",
       "    <tr>\n",
       "      <td>2</td>\n",
       "      <td>0</td>\n",
       "      <td>0</td>\n",
       "      <td>0</td>\n",
       "      <td>0</td>\n",
       "      <td>0</td>\n",
       "      <td>0</td>\n",
       "      <td>0</td>\n",
       "      <td>0</td>\n",
       "      <td>0</td>\n",
       "      <td>0</td>\n",
       "      <td>0</td>\n",
       "      <td>0.5</td>\n",
       "      <td>0.90</td>\n",
       "    </tr>\n",
       "    <tr>\n",
       "      <td>3</td>\n",
       "      <td>0</td>\n",
       "      <td>0</td>\n",
       "      <td>0</td>\n",
       "      <td>0</td>\n",
       "      <td>0</td>\n",
       "      <td>0</td>\n",
       "      <td>0</td>\n",
       "      <td>0</td>\n",
       "      <td>0</td>\n",
       "      <td>0</td>\n",
       "      <td>0</td>\n",
       "      <td>0.0</td>\n",
       "      <td>0.00</td>\n",
       "    </tr>\n",
       "    <tr>\n",
       "      <td>4</td>\n",
       "      <td>0</td>\n",
       "      <td>0</td>\n",
       "      <td>0</td>\n",
       "      <td>0</td>\n",
       "      <td>0</td>\n",
       "      <td>0</td>\n",
       "      <td>0</td>\n",
       "      <td>0</td>\n",
       "      <td>0</td>\n",
       "      <td>0</td>\n",
       "      <td>0</td>\n",
       "      <td>0.2</td>\n",
       "      <td>0.50</td>\n",
       "    </tr>\n",
       "  </tbody>\n",
       "</table>\n",
       "</div>"
      ],
      "text/plain": [
       "   bernie  buttigieg  biden  warren  gender  age  democrat  socialist  trump  \\\n",
       "0       0          0      0       0       0    0         0          0      0   \n",
       "1       0          0      0       0       0    0         1          0      0   \n",
       "2       0          0      0       0       0    0         0          0      0   \n",
       "3       0          0      0       0       0    0         0          0      0   \n",
       "4       0          0      0       0       0    0         0          0      0   \n",
       "\n",
       "   delegates  extended  sentiment  subjectivity  \n",
       "0          0         0        0.5          0.75  \n",
       "1          0         0        0.2          0.25  \n",
       "2          0         0        0.5          0.90  \n",
       "3          0         0        0.0          0.00  \n",
       "4          0         0        0.2          0.50  "
      ]
     },
<<<<<<< HEAD
     "execution_count": 29,
=======
     "execution_count": 11,
>>>>>>> fa53cf2fdf308ee5aaef8d6002da30487df7a82e
     "metadata": {},
     "output_type": "execute_result"
    }
   ],
   "source": [
    "data = pd.DataFrame({\"bernie\":bernie,\"buttigieg\":buttigieg,\"biden\":biden,\"warren\":warren,\"gender\":gender,\n",
    "             \"age\":age,\"democrat\":democrat,\"socialist\":socialist,\"trump\":trump,\"delegates\":delegates,\n",
    "             \"extended\":extended,\"sentiment\":sentiment, \"subjectivity\":subjectivity})\n",
    "data['sentiment'] = data['sentiment'].map(lambda x: x[0])\n",
    "data['subjectivity'] = data['subjectivity'].map(lambda x: x[0])\n",
    "\n",
    "# data['sentiment'] = data['sentiment'].astype(float)\n",
    "# data['sentiment'] = data['sentiment'].astype(float)\n",
    "\n",
    "data.head()"
   ]
  },
  {
   "cell_type": "code",
<<<<<<< HEAD
   "execution_count": 40,
=======
   "execution_count": 69,
>>>>>>> fa53cf2fdf308ee5aaef8d6002da30487df7a82e
   "metadata": {},
   "outputs": [],
   "source": [
    "from sklearn.cluster import KMeans\n",
    "kmeans = KMeans(n_clusters=12)"
   ]
  },
  {
   "cell_type": "code",
<<<<<<< HEAD
   "execution_count": 41,
=======
   "execution_count": 70,
>>>>>>> fa53cf2fdf308ee5aaef8d6002da30487df7a82e
   "metadata": {},
   "outputs": [
    {
     "data": {
      "text/plain": [
       "KMeans(algorithm='auto', copy_x=True, init='k-means++', max_iter=300,\n",
       "       n_clusters=12, n_init=10, n_jobs=None, precompute_distances='auto',\n",
       "       random_state=None, tol=0.0001, verbose=0)"
      ]
     },
<<<<<<< HEAD
     "execution_count": 41,
=======
     "execution_count": 70,
>>>>>>> fa53cf2fdf308ee5aaef8d6002da30487df7a82e
     "metadata": {},
     "output_type": "execute_result"
    }
   ],
   "source": [
    "kmeans.fit(data)"
   ]
  },
  {
   "cell_type": "code",
<<<<<<< HEAD
   "execution_count": 43,
   "metadata": {},
   "outputs": [
    {
     "name": "stdout",
     "output_type": "stream",
     "text": [
      "[[ 1.11111111e-01  1.73472348e-18  0.00000000e+00  1.85185185e-02\n",
      "  -1.73472348e-17  1.85185185e-02  1.00000000e+00  1.85185185e-02\n",
      "   1.00000000e+00  8.67361738e-19  0.00000000e+00  1.36246727e-02\n",
      "   1.18384907e-01]\n",
      " [-1.72084569e-15  1.44230769e-02  4.80769231e-03 -1.40512602e-16\n",
      "   1.68269231e-02 -3.74700271e-16 -8.32667268e-16  7.21153846e-03\n",
      "  -1.27675648e-15 -8.23993651e-18  0.00000000e+00  9.20601751e-04\n",
      "   5.20599951e-02]\n",
      " [-1.26287869e-15 -8.15320034e-17  3.27332242e-03  4.16333634e-17\n",
      "   1.80032733e-02 -3.33066907e-16 -7.07767178e-16  9.81996727e-03\n",
      "   1.63666121e-03  8.18330606e-03  0.00000000e+00  4.02894514e-01\n",
      "   5.88607461e-01]\n",
      " [ 2.91433544e-16  4.08163265e-03  1.22448980e-02 -6.93889390e-17\n",
      "   8.16326531e-03 -9.71445147e-17 -2.77555756e-17  5.71428571e-02\n",
      "   1.00000000e+00 -6.93889390e-18  0.00000000e+00  3.25361118e-02\n",
      "   2.04052993e-01]\n",
      " [ 1.28000000e-01 -1.56125113e-17  9.54097912e-18  1.90819582e-17\n",
      "   7.20000000e-02  1.38777878e-16  4.16333634e-17  8.00000000e-03\n",
      "   3.20000000e-02 -4.77048956e-18  0.00000000e+00 -4.33218682e-01\n",
      "   8.64147903e-01]\n",
      " [ 1.00000000e+00  1.60000000e-02  8.00000000e-03  1.90819582e-17\n",
      "   3.20000000e-02  4.00000000e-02  4.16333634e-17  1.12000000e-01\n",
      "  -1.66533454e-16 -4.77048956e-18  0.00000000e+00  5.64823232e-02\n",
      "   1.48267677e-01]\n",
      " [ 4.59770115e-02  1.73472348e-18  6.07153217e-18  1.73472348e-17\n",
      "   1.73472348e-17  1.00000000e+00  3.44827586e-02  3.46944695e-17\n",
      "   1.94289029e-16 -3.03576608e-18  0.00000000e+00  2.22155172e-01\n",
      "   6.05862069e-01]\n",
      " [-1.38777878e-17  9.70873786e-03  9.70873786e-03  1.73472348e-17\n",
      "   2.77555756e-17  2.91262136e-02  1.00000000e+00  2.62135922e-01\n",
      "   1.11022302e-16  9.70873786e-03  0.00000000e+00  1.40332136e-01\n",
      "   2.47559086e-01]\n",
      " [ 1.00000000e+00  1.73472348e-18 -8.67361738e-19  3.57142857e-02\n",
      "  -1.04083409e-17  1.07142857e-01  1.00000000e+00  1.07142857e-01\n",
      "   0.00000000e+00  0.00000000e+00  0.00000000e+00 -3.57142857e-03\n",
      "   2.70982143e-01]\n",
      " [ 1.00000000e+00  1.73472348e-18 -8.67361738e-19  1.92307692e-02\n",
      "  -1.73472348e-17 -4.16333634e-17  5.55111512e-17  3.84615385e-02\n",
      "   1.00000000e+00  8.67361738e-19  0.00000000e+00  1.37796232e-03\n",
      "   1.78849796e-01]\n",
      " [ 4.16333634e-17  1.73472348e-18  3.44827586e-02  1.00000000e+00\n",
      "  -1.04083409e-17  1.03448276e-01  3.44827586e-02 -1.38777878e-17\n",
      "   0.00000000e+00  0.00000000e+00  0.00000000e+00  1.25944171e-01\n",
      "   1.98932677e-01]\n",
      " [ 2.77555756e-17  2.40000000e-01  4.00000000e-02  3.46944695e-18\n",
      "  -1.04083409e-17  1.00000000e+00 -2.77555756e-17 -1.38777878e-17\n",
      "   1.00000000e+00 -8.67361738e-19  0.00000000e+00  2.53863636e-01\n",
      "   3.93045455e-01]]\n"
     ]
    }
   ],
   "source": [
    "print(kmeans.cluster_centers_)"
   ]
  },
  {
   "cell_type": "code",
   "execution_count": 45,
   "metadata": {},
   "outputs": [
    {
     "name": "stdout",
     "output_type": "stream",
     "text": [
      "[2 7 2 ... 2 1 1]\n"
     ]
    }
   ],
   "source": [
    "print(kmeans.labels_)"
   ]
  },
  {
   "cell_type": "code",
   "execution_count": 32,
=======
   "execution_count": 71,
>>>>>>> fa53cf2fdf308ee5aaef8d6002da30487df7a82e
   "metadata": {},
   "outputs": [
    {
     "data": {
      "text/plain": [
<<<<<<< HEAD
       "array([ 6, 10,  6,  0,  6, 10,  0,  6,  5, 10])"
      ]
     },
     "execution_count": 32,
=======
       "array([0, 4, 0, 3, 0, 4, 3, 0, 2, 4], dtype=int32)"
      ]
     },
     "execution_count": 71,
>>>>>>> fa53cf2fdf308ee5aaef8d6002da30487df7a82e
     "metadata": {},
     "output_type": "execute_result"
    }
   ],
   "source": [
    "kmeans.predict(data)[:10]"
   ]
  },
  {
   "cell_type": "code",
<<<<<<< HEAD
   "execution_count": 33,
=======
   "execution_count": 72,
>>>>>>> fa53cf2fdf308ee5aaef8d6002da30487df7a82e
   "metadata": {},
   "outputs": [
    {
     "name": "stdout",
     "output_type": "stream",
     "text": [
      "(1, 13)\n"
     ]
    },
    {
     "data": {
      "text/plain": [
       "array([11], dtype=int32)"
      ]
     },
<<<<<<< HEAD
     "execution_count": 33,
=======
     "execution_count": 72,
>>>>>>> fa53cf2fdf308ee5aaef8d6002da30487df7a82e
     "metadata": {},
     "output_type": "execute_result"
    }
   ],
   "source": [
    "# Check individual Result from \n",
    "print((data.iloc[59].values.reshape(1,13)).shape)\n",
    "kmeans.predict(data.iloc[59].values.reshape(1,13))"
   ]
  },
  {
   "cell_type": "code",
<<<<<<< HEAD
   "execution_count": 34,
=======
   "execution_count": 73,
>>>>>>> fa53cf2fdf308ee5aaef8d6002da30487df7a82e
   "metadata": {},
   "outputs": [
    {
     "data": {
      "text/plain": [
       "bernie          1.0\n",
       "buttigieg       0.0\n",
       "biden           0.0\n",
       "warren          0.0\n",
       "gender          0.0\n",
       "age             0.0\n",
       "democrat        1.0\n",
       "socialist       0.0\n",
       "trump           0.0\n",
       "delegates       0.0\n",
       "extended        0.0\n",
       "sentiment       0.0\n",
       "subjectivity    0.0\n",
       "Name: 75, dtype: float64"
      ]
     },
<<<<<<< HEAD
     "execution_count": 34,
=======
     "execution_count": 73,
>>>>>>> fa53cf2fdf308ee5aaef8d6002da30487df7a82e
     "metadata": {},
     "output_type": "execute_result"
    }
   ],
   "source": [
    "data.iloc[75]"
   ]
  },
  {
   "cell_type": "code",
<<<<<<< HEAD
   "execution_count": 35,
=======
   "execution_count": 74,
>>>>>>> fa53cf2fdf308ee5aaef8d6002da30487df7a82e
   "metadata": {},
   "outputs": [
    {
     "name": "stdout",
     "output_type": "stream",
     "text": [
      "Biden: 265\n",
      "Buttigieg: 878\n",
      "Warren: 977\n",
      "Buttigieg: 1742\n",
      "Warren: 1931\n"
     ]
    }
   ],
   "source": [
    "for i,row in data.iterrows():\n",
    "    if row[\"bernie\"] == 1:\n",
    "        if row[\"buttigieg\"] ==1:\n",
    "            print(f\"Buttigieg: {i}\")\n",
    "        if row[\"biden\"] == 1:\n",
    "            print(f\"Biden: {i}\")\n",
    "        if row[\"warren\"] == 1:\n",
    "            print(f\"Warren: {i}\")\n",
    "#This is GREAT because we can rule out a lot of multi-candidate references in a single tweet positivity score / analysis. \n",
    "\n"
   ]
  },
  {
   "cell_type": "code",
<<<<<<< HEAD
   "execution_count": 36,
=======
   "execution_count": 75,
>>>>>>> fa53cf2fdf308ee5aaef8d6002da30487df7a82e
   "metadata": {},
   "outputs": [
    {
     "data": {
      "text/html": [
       "<div>\n",
       "<style scoped>\n",
       "    .dataframe tbody tr th:only-of-type {\n",
       "        vertical-align: middle;\n",
       "    }\n",
       "\n",
       "    .dataframe tbody tr th {\n",
       "        vertical-align: top;\n",
       "    }\n",
       "\n",
       "    .dataframe thead th {\n",
       "        text-align: right;\n",
       "    }\n",
       "</style>\n",
       "<table border=\"1\" class=\"dataframe\">\n",
       "  <thead>\n",
       "    <tr style=\"text-align: right;\">\n",
       "      <th></th>\n",
       "      <th>bernie</th>\n",
       "      <th>buttigieg</th>\n",
       "      <th>biden</th>\n",
       "      <th>warren</th>\n",
       "      <th>gender</th>\n",
       "      <th>age</th>\n",
       "      <th>democrat</th>\n",
       "      <th>socialist</th>\n",
       "      <th>trump</th>\n",
       "      <th>delegates</th>\n",
       "      <th>extended</th>\n",
       "      <th>sentiment</th>\n",
       "      <th>subjectivity</th>\n",
       "    </tr>\n",
       "  </thead>\n",
       "  <tbody>\n",
       "    <tr>\n",
<<<<<<< HEAD
       "      <th>1931</th>\n",
=======
       "      <td>878</td>\n",
       "      <td>1</td>\n",
>>>>>>> fa53cf2fdf308ee5aaef8d6002da30487df7a82e
       "      <td>1</td>\n",
       "      <td>0</td>\n",
       "      <td>0</td>\n",
       "      <td>1</td>\n",
       "      <td>0</td>\n",
       "      <td>0</td>\n",
       "      <td>1</td>\n",
       "      <td>0</td>\n",
       "      <td>0</td>\n",
       "      <td>0</td>\n",
       "      <td>0</td>\n",
<<<<<<< HEAD
=======
       "      <td>0</td>\n",
       "      <td>0.0</td>\n",
       "      <td>0.0</td>\n",
       "    </tr>\n",
       "    <tr>\n",
       "      <td>879</td>\n",
       "      <td>0</td>\n",
       "      <td>0</td>\n",
       "      <td>0</td>\n",
       "      <td>0</td>\n",
       "      <td>0</td>\n",
       "      <td>0</td>\n",
       "      <td>0</td>\n",
       "      <td>0</td>\n",
       "      <td>1</td>\n",
       "      <td>0</td>\n",
       "      <td>0</td>\n",
>>>>>>> fa53cf2fdf308ee5aaef8d6002da30487df7a82e
       "      <td>0.0</td>\n",
       "      <td>0.0</td>\n",
       "    </tr>\n",
       "  </tbody>\n",
       "</table>\n",
       "</div>"
      ],
      "text/plain": [
       "      bernie  buttigieg  biden  warren  gender  age  democrat  socialist  \\\n",
       "1931       1          0      0       1       0    0         1          0   \n",
       "\n",
       "      trump  delegates  extended  sentiment  subjectivity  \n",
       "1931      0          0         0        0.0           0.0  "
      ]
     },
<<<<<<< HEAD
     "execution_count": 36,
=======
     "execution_count": 75,
>>>>>>> fa53cf2fdf308ee5aaef8d6002da30487df7a82e
     "metadata": {},
     "output_type": "execute_result"
    }
   ],
   "source": [
    "data.iloc[1931:1932]"
   ]
  },
  {
   "cell_type": "code",
<<<<<<< HEAD
   "execution_count": 37,
=======
   "execution_count": 76,
>>>>>>> fa53cf2fdf308ee5aaef8d6002da30487df7a82e
   "metadata": {},
   "outputs": [],
   "source": [
    "data_results = data.copy()\n",
    "data_results['cluster'] = kmeans.predict(data).tolist()"
   ]
  },
  {
   "cell_type": "code",
<<<<<<< HEAD
   "execution_count": 38,
=======
   "execution_count": 82,
>>>>>>> fa53cf2fdf308ee5aaef8d6002da30487df7a82e
   "metadata": {},
   "outputs": [
    {
     "data": {
      "text/html": [
       "<div>\n",
       "<style scoped>\n",
       "    .dataframe tbody tr th:only-of-type {\n",
       "        vertical-align: middle;\n",
       "    }\n",
       "\n",
       "    .dataframe tbody tr th {\n",
       "        vertical-align: top;\n",
       "    }\n",
       "\n",
       "    .dataframe thead th {\n",
       "        text-align: right;\n",
       "    }\n",
       "</style>\n",
       "<table border=\"1\" class=\"dataframe\">\n",
       "  <thead>\n",
       "    <tr style=\"text-align: right;\">\n",
       "      <th></th>\n",
       "      <th>bernie</th>\n",
       "      <th>buttigieg</th>\n",
       "      <th>biden</th>\n",
       "      <th>warren</th>\n",
       "      <th>gender</th>\n",
       "      <th>age</th>\n",
       "      <th>democrat</th>\n",
       "      <th>socialist</th>\n",
       "      <th>trump</th>\n",
       "      <th>delegates</th>\n",
       "      <th>extended</th>\n",
       "      <th>sentiment</th>\n",
       "      <th>subjectivity</th>\n",
       "      <th>cluster</th>\n",
       "    </tr>\n",
       "  </thead>\n",
       "  <tbody>\n",
       "    <tr>\n",
       "      <td>0</td>\n",
       "      <td>0</td>\n",
       "      <td>0</td>\n",
       "      <td>0</td>\n",
       "      <td>0</td>\n",
       "      <td>0</td>\n",
       "      <td>0</td>\n",
       "      <td>0</td>\n",
       "      <td>0</td>\n",
       "      <td>0</td>\n",
       "      <td>0</td>\n",
       "      <td>0</td>\n",
       "      <td>0.5</td>\n",
<<<<<<< HEAD
       "      <td>0.75</td>\n",
       "      <td>6</td>\n",
=======
       "      <td>0.750</td>\n",
       "      <td>0</td>\n",
>>>>>>> fa53cf2fdf308ee5aaef8d6002da30487df7a82e
       "    </tr>\n",
       "    <tr>\n",
       "      <td>1</td>\n",
       "      <td>0</td>\n",
       "      <td>0</td>\n",
       "      <td>0</td>\n",
       "      <td>0</td>\n",
       "      <td>0</td>\n",
       "      <td>0</td>\n",
       "      <td>1</td>\n",
       "      <td>0</td>\n",
       "      <td>0</td>\n",
       "      <td>0</td>\n",
       "      <td>0</td>\n",
       "      <td>0.2</td>\n",
<<<<<<< HEAD
       "      <td>0.25</td>\n",
       "      <td>10</td>\n",
=======
       "      <td>0.250</td>\n",
       "      <td>4</td>\n",
>>>>>>> fa53cf2fdf308ee5aaef8d6002da30487df7a82e
       "    </tr>\n",
       "    <tr>\n",
       "      <td>2</td>\n",
       "      <td>0</td>\n",
       "      <td>0</td>\n",
       "      <td>0</td>\n",
       "      <td>0</td>\n",
       "      <td>0</td>\n",
       "      <td>0</td>\n",
       "      <td>0</td>\n",
       "      <td>0</td>\n",
       "      <td>0</td>\n",
       "      <td>0</td>\n",
       "      <td>0</td>\n",
       "      <td>0.5</td>\n",
<<<<<<< HEAD
       "      <td>0.90</td>\n",
       "      <td>6</td>\n",
=======
       "      <td>0.900</td>\n",
       "      <td>0</td>\n",
>>>>>>> fa53cf2fdf308ee5aaef8d6002da30487df7a82e
       "    </tr>\n",
       "    <tr>\n",
       "      <td>3</td>\n",
       "      <td>0</td>\n",
       "      <td>0</td>\n",
       "      <td>0</td>\n",
       "      <td>0</td>\n",
       "      <td>0</td>\n",
       "      <td>0</td>\n",
       "      <td>0</td>\n",
       "      <td>0</td>\n",
       "      <td>0</td>\n",
       "      <td>0</td>\n",
       "      <td>0</td>\n",
       "      <td>0.0</td>\n",
<<<<<<< HEAD
       "      <td>0.00</td>\n",
       "      <td>0</td>\n",
=======
       "      <td>0.000</td>\n",
       "      <td>3</td>\n",
>>>>>>> fa53cf2fdf308ee5aaef8d6002da30487df7a82e
       "    </tr>\n",
       "    <tr>\n",
       "      <td>4</td>\n",
       "      <td>0</td>\n",
       "      <td>0</td>\n",
       "      <td>0</td>\n",
       "      <td>0</td>\n",
       "      <td>0</td>\n",
       "      <td>0</td>\n",
       "      <td>0</td>\n",
       "      <td>0</td>\n",
       "      <td>0</td>\n",
       "      <td>0</td>\n",
       "      <td>0</td>\n",
       "      <td>0.2</td>\n",
<<<<<<< HEAD
       "      <td>0.50</td>\n",
       "      <td>6</td>\n",
=======
       "      <td>0.500</td>\n",
       "      <td>0</td>\n",
       "    </tr>\n",
       "    <tr>\n",
       "      <td>5</td>\n",
       "      <td>0</td>\n",
       "      <td>0</td>\n",
       "      <td>0</td>\n",
       "      <td>1</td>\n",
       "      <td>0</td>\n",
       "      <td>0</td>\n",
       "      <td>1</td>\n",
       "      <td>0</td>\n",
       "      <td>0</td>\n",
       "      <td>0</td>\n",
       "      <td>0</td>\n",
       "      <td>0.0</td>\n",
       "      <td>0.000</td>\n",
       "      <td>4</td>\n",
       "    </tr>\n",
       "    <tr>\n",
       "      <td>6</td>\n",
       "      <td>0</td>\n",
       "      <td>0</td>\n",
       "      <td>0</td>\n",
       "      <td>0</td>\n",
       "      <td>0</td>\n",
       "      <td>0</td>\n",
       "      <td>0</td>\n",
       "      <td>0</td>\n",
       "      <td>0</td>\n",
       "      <td>0</td>\n",
       "      <td>0</td>\n",
       "      <td>0.0</td>\n",
       "      <td>0.000</td>\n",
       "      <td>3</td>\n",
       "    </tr>\n",
       "    <tr>\n",
       "      <td>7</td>\n",
       "      <td>0</td>\n",
       "      <td>0</td>\n",
       "      <td>0</td>\n",
       "      <td>0</td>\n",
       "      <td>0</td>\n",
       "      <td>0</td>\n",
       "      <td>0</td>\n",
       "      <td>0</td>\n",
       "      <td>0</td>\n",
       "      <td>0</td>\n",
       "      <td>0</td>\n",
       "      <td>0.4</td>\n",
       "      <td>0.600</td>\n",
       "      <td>0</td>\n",
       "    </tr>\n",
       "    <tr>\n",
       "      <td>8</td>\n",
       "      <td>0</td>\n",
       "      <td>0</td>\n",
       "      <td>0</td>\n",
       "      <td>0</td>\n",
       "      <td>0</td>\n",
       "      <td>0</td>\n",
       "      <td>0</td>\n",
       "      <td>0</td>\n",
       "      <td>1</td>\n",
       "      <td>0</td>\n",
       "      <td>0</td>\n",
       "      <td>0.5</td>\n",
       "      <td>0.625</td>\n",
       "      <td>2</td>\n",
       "    </tr>\n",
       "    <tr>\n",
       "      <td>9</td>\n",
       "      <td>0</td>\n",
       "      <td>0</td>\n",
       "      <td>0</td>\n",
       "      <td>0</td>\n",
       "      <td>0</td>\n",
       "      <td>0</td>\n",
       "      <td>1</td>\n",
       "      <td>0</td>\n",
       "      <td>0</td>\n",
       "      <td>0</td>\n",
       "      <td>0</td>\n",
       "      <td>0.0</td>\n",
       "      <td>0.000</td>\n",
       "      <td>4</td>\n",
>>>>>>> fa53cf2fdf308ee5aaef8d6002da30487df7a82e
       "    </tr>\n",
       "  </tbody>\n",
       "</table>\n",
       "</div>"
      ],
      "text/plain": [
       "   bernie  buttigieg  biden  warren  gender  age  democrat  socialist  trump  \\\n",
       "0       0          0      0       0       0    0         0          0      0   \n",
       "1       0          0      0       0       0    0         1          0      0   \n",
       "2       0          0      0       0       0    0         0          0      0   \n",
       "3       0          0      0       0       0    0         0          0      0   \n",
       "4       0          0      0       0       0    0         0          0      0   \n",
       "5       0          0      0       1       0    0         1          0      0   \n",
       "6       0          0      0       0       0    0         0          0      0   \n",
       "7       0          0      0       0       0    0         0          0      0   \n",
       "8       0          0      0       0       0    0         0          0      1   \n",
       "9       0          0      0       0       0    0         1          0      0   \n",
       "\n",
       "   delegates  extended  sentiment  subjectivity  cluster  \n",
<<<<<<< HEAD
       "0          0         0        0.5          0.75        6  \n",
       "1          0         0        0.2          0.25       10  \n",
       "2          0         0        0.5          0.90        6  \n",
       "3          0         0        0.0          0.00        0  \n",
       "4          0         0        0.2          0.50        6  "
      ]
     },
     "execution_count": 38,
=======
       "0          0         0        0.5         0.750        0  \n",
       "1          0         0        0.2         0.250        4  \n",
       "2          0         0        0.5         0.900        0  \n",
       "3          0         0        0.0         0.000        3  \n",
       "4          0         0        0.2         0.500        0  \n",
       "5          0         0        0.0         0.000        4  \n",
       "6          0         0        0.0         0.000        3  \n",
       "7          0         0        0.4         0.600        0  \n",
       "8          0         0        0.5         0.625        2  \n",
       "9          0         0        0.0         0.000        4  "
      ]
     },
     "execution_count": 82,
>>>>>>> fa53cf2fdf308ee5aaef8d6002da30487df7a82e
     "metadata": {},
     "output_type": "execute_result"
    }
   ],
   "source": [
    "data_results.head(10)"
   ]
  },
  {
   "cell_type": "code",
<<<<<<< HEAD
   "execution_count": 55,
=======
   "execution_count": null,
   "metadata": {},
   "outputs": [],
   "source": [
    "data_results.groupby"
   ]
  },
  {
   "cell_type": "code",
   "execution_count": 78,
>>>>>>> fa53cf2fdf308ee5aaef8d6002da30487df7a82e
   "metadata": {},
   "outputs": [
    {
     "data": {
<<<<<<< HEAD
      "text/plain": [
       "<matplotlib.collections.PathCollection at 0x21d2ab2bf98>"
      ]
     },
     "execution_count": 55,
     "metadata": {},
     "output_type": "execute_result"
    },
    {
     "data": {
      "image/png": "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\n",
      "text/plain": [
=======
      "image/png": "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\n",
      "text/plain": [
>>>>>>> fa53cf2fdf308ee5aaef8d6002da30487df7a82e
       "<Figure size 432x288 with 1 Axes>"
      ]
     },
     "metadata": {
      "needs_background": "light"
     },
     "output_type": "display_data"
    }
   ],
   "source": [
<<<<<<< HEAD
    "# plt.scatter(data[:,2],data[:,2], c=kmeans.labels_, cmap='rainbow')\n",
    "# plt.scatter(kmeans.cluster_centers_[:,0] ,kmeans.cluster_centers_[:,1], color='black')\n"
=======
    "import numpy as np\n",
    "import matplotlib.pyplot as plt\n",
    "\n",
    "\n",
    "# random example\n",
    "plt.imshow(data_results);\n",
    "# plt.colorbar()\n",
    "# plt.show()"
>>>>>>> fa53cf2fdf308ee5aaef8d6002da30487df7a82e
   ]
  },
  {
   "cell_type": "code",
   "execution_count": 79,
   "metadata": {},
   "outputs": [],
   "source": [
    "df = data_results.groupby('cluster').mean()\n",
    "x = data_results['sentiment']\n",
    "y= data_results['cluster']\n",
    "#df = data_results.groupby('cluster').mean()"
   ]
  },
  {
   "cell_type": "code",
   "execution_count": 81,
   "metadata": {},
   "outputs": [
    {
     "data": {
      "text/plain": [
       "<matplotlib.collections.PathCollection at 0x1a2c4ee6d0>"
      ]
     },
     "execution_count": 81,
     "metadata": {},
     "output_type": "execute_result"
    },
    {
     "data": {
      "image/png": "iVBORw0KGgoAAAANSUhEUgAAAYIAAAD4CAYAAADhNOGaAAAABHNCSVQICAgIfAhkiAAAAAlwSFlzAAALEgAACxIB0t1+/AAAADh0RVh0U29mdHdhcmUAbWF0cGxvdGxpYiB2ZXJzaW9uMy4xLjEsIGh0dHA6Ly9tYXRwbG90bGliLm9yZy8QZhcZAAAgAElEQVR4nO3df5TV9X3n8efbAZXaJICixVECMRwSUxNpp4LlnK41GkjNEdbGRiItyUn0dE+zbeqWLWzYxKTJkSx7jNmtm0ZTE1NdjRo7oQsNNf7YnmOFdSzGEQ0F0SiDDVQkaXWiML73j/u9eOfO9zu/7vf7+d77+b4e58yZe9/3e+f7+cLM930/v83dERGR6jqu7AKIiEi5lAhERCpOiUBEpOKUCEREKk6JQESk4qaUXYDJOOWUU3zu3LllF0NEpKM89thj/+Lus5rjHZkI5s6dS19fX9nFEBHpKGb247S4moZERCpOiUBEpOKUCEREKk6JQESk4pQIREQqTolARKTickkEZnaLmR0wsyczXjcz+x9mtsfMnjCzX2l4bbWZ7U6+VudRHhERGb+85hF8C/hz4NsZr38QmJ98LQK+Biwys5nA54AewIHHzGyTu7+cU7mOmbt284jYcxsuyfs0pVnf288d219gyJ0uM1YuOpMvrjin7GKJRKt3xwAbt+5i/+FBTp8+jTVLF7BiYXfZxZqUXGoE7v73wKFRDlkOfNtrtgHTzWw2sBS4z90PJTf/+4BleZSpUVoSGC3eadb39nPbtucZSvaWGHLntm3Ps763v+SSicSpd8cA6+7tZ+DwIA4MHB5k3b399O4YKLtokxKqj6AbeKHh+b4klhWXCbhj+wsTiotIazZu3cXgkaFhscEjQ2zcuqukErUmVCKwlJiPEh/5A8yuNrM+M+s7ePBgroXrdEMZu8xlxUWkNfsPD04o3u5CJYJ9wJkNz88A9o8SH8Hdb3L3HnfvmTVrxJpJldZlafk0Oy4irTl9+rQJxdtdqESwCfi9ZPTQYuCn7v4isBX4gJnNMLMZwAeSmEzAykVnTiguIq1Zs3QB06Z2DYtNm9rFmqULSipRa3IZNWRmdwAXAKeY2T5qI4GmArj7XwBbgN8C9gCvAh9PXjtkZn8GPJr8qC+4+2idzpPy3IZLoh41VB8dpFFDImHURwfFMmrIvAPbkXt6elzLUIuITIyZPebuPc3xjtyPYDJiGvMrIpKnSiSC+pjf+nCv+phfQMlARCqvEmsNxTbmV0QkT5VIBLGN+RURyVMlEkFsY35FRPJUiUQw9+T0G35WXESkSiqRCLbtTV/MNCsuIlIllUgEWotHRCRbJRKB1uIREclWiUSgtXhERLJVIhH0vH3miAs9LomLiFRdJWYWb9y6izeaYm8k8aJmFl958yM8/Myb6+ctOWsmt191fiHnApi3dvOwjRwMeDaSRfVEpFiVqBEMZEwcy4q3qjkJADz8zCGuvPmRQs7XnASgtrvPvEi24hSRYlUiEYTWnATGircqa+yTxkSJyHgoEYiIVJwSgYhIxeWSCMxsmZntMrM9ZrY25fWvmNnjydc/mdnhhteGGl7blEd5yrbkrPTRSFnxVmXNhtAsCREZj5YTgZl1ATcCHwTOBlaa2dmNx7j7H7v7ue5+LvA/gXsbXh6sv+bul7ZanjSrFs+ZULxVt191/oibfpGjhp7dcMmIm75GDYnIeOUxfPQ8YI+77wUwszuB5cBTGcevpLancTB3bH8hM17Uvr5FDhVNo5u+iExWHk1D3UDjnXZfEhvBzN4OzAMeaAifaGZ9ZrbNzFZkncTMrk6O6zt48OCECqi1hkREsuWRCNKaorPusFcA97h743Zhc5LNlD8K3GBmZ6W90d1vcvced++ZNWtWayUWEZFj8kgE+4DGRXvOAPZnHHsFcEdjwN33J9/3Ag8BC3Mok4iIjFMeieBRYL6ZzTOz46nd7EeM/jGzBcAM4JGG2AwzOyF5fAqwhOy+BRERKUDLncXuftTMPgVsBbqAW9x9p5l9Aehz93pSWAnc6T6sYf7dwNfN7A1qSWmDuysRiIgElMuic+6+BdjSFPts0/NrU973D0Axw3ZERGRcNLNYRKTilAhERCquEokg9JIPIiKdpBKJYNvelycUFxGpkkokAs0sFhHJVolEICIi2SqxZ3EZencMsHHrLvYfHuT06dNYs3RBYfsjl3G+kNb39nPH9hcYcqfLjJWLzixssUCRKlIiKEDvjgHW3dvP4JHakkoDhwdZd28/QCE359DnC2l9bz+3bXv+2PMh92PPlQxE8qGmoQJs3Lrr2E25bvDIEBu37orifCGNtoS4iORDiaAA+w8PTijeqoGMn5sV7yTq6BcpnhJBAU6fPm1C8VZ1WfqmlFnxThLztYm0CyWCAqxZuoBpU7uGxaZN7WLN0gWFnC/mT80rF505obhIjNb39nPWui3MXbuZs9ZtYX1vf64/X53FBah30IYaxdM9fVpqM1B3QTWQkOodwho1JFUVYsCEEkFBVizsDjZiZ83SBcNGDUGxNZDQvrjiHN34pbJC7LleiURwwpTjeO3oG6nxGISugYhIOCGafnNJBGa2DPgqtY1pvuHuG5pe/xiwERhIQn/u7t9IXlsNrE/iX3T3W/MoU6O0JDBavBN9+juPH3s8cHiQT3/n8WgSwTvXbeZow+/8FIM9111SXoFEAuoyS73p5zlgouWPxGbWBdwIfBA4G1hpZmenHPoddz83+aongZnA54BFwHnA58xsRqtlqpq5azdPKN5JmpMAwFGvxUWqYPE70m+JWfHJyKNt5Dxgj7vvdffXgTuB5eN871LgPnc/5O4vA/cBy3Iok0SiOQmMFReJzXMvpc8HyopPRh6JoBto7M3Yl8Sa/baZPWFm95hZfezfeN+LmV1tZn1m1nfw4MEcii0i0v5CTFDNIxGkNVQ1f177G2Cuu78X+AFQ7wcYz3trQfeb3L3H3XtmzZo16cKKiHSSEBNU80gE+4DG2T1nAPsbD3D3l9z9teTpzcCvjve9Um1TMvrDsuJSXb07Bliy4QHmrd3Mkg0P0LtjYOw3dYAQE1TzSASPAvPNbJ6ZHQ9cAWxqPMDMZjc8vRR4Onm8FfiAmc1IOok/kMRkAp7bkD6CJiveSfZcd8mIm75GDUmz+gq8A4cHcd5cgTeGZLBiYTfXXXYO3dOnYdQmil532Tm5jgpsefioux81s09Ru4F3Abe4+04z+wLQ5+6bgD80s0uBo8Ah4GPJew+Z2Z9RSyYAX3D3Q62WqYpu+Mi5I+YRxEI3fRnLaCvwFjWMOuQeIH0/PsQ///TnOPDPP/05fT8+1F6JAMDdtwBbmmKfbXi8DliX8d5bgFvyKEdVxbwfgeQrbUhxDDXH0Cv+hvybC7HERBxTaysu5v0IJD8xzzcJveJvyL+5EHtyVGKJidiF/jQU2sXXP8TuA68cez7/1JO475oLyiuQtJ3Q622F/JsLscSEagQRmDY1/b8xK95JmpMAwO4Dr3Dx9Q+VUyBpSyE6VBuFroEUTTWCCAxmrJmUFe8kzUlgrLhUl1b8nTwlgghk1RCL2pcm5GgJkXYU24q/SgQRCLE6YZ1GKInUhKyBFK3zG5El6HaOGqHUuaZPmzqhuFSHEkEEvrjiHFYtnnOsBtBlxqrFcwrZ1Sv0CKVVi+dMKC7Zrr30PUw9bngtcepxxrWXvqekEkm7UNNQJEJt53h6xv7IRY2W0J7F+YmtXbtZrH1XIZp+lQhkQsoYLaE9i/MTU7t2o5j7rlYuOnPYzOLGeF7UNCQTEnq8tsh4xNx3FaLpVzWCgsRaTYXwnyrX9/araUhGFfvs+u17XzrWPDTkzva9L+X685UIClBGNTXWm2WIBbek84XuuwpptNn1eS21oqahAoSuptZvlo2fGG7b9jzre/sLOV9IIRbcks4XYvOWsoSYXa9EUIDQ1dT/vX1kR9Jo8U4SYsEt6Xzqu2qNmoYKELqa+kbGPTEr3klCzpqWzhbriKgQcqkRmNkyM9tlZnvMbG3K69eY2VNm9oSZ3W9mb294bcjMHk++NjW/txPFXE2FsHvDhpw1LTIRof4O5p960oTik9FyjcDMuoAbgYupbUb/qJltcvenGg7bAfS4+6tm9h+A/wZ8JHlt0N3PbbUc7STmiTuhO8I1oUzGK+TuayH/Dha94+TU/oBF7zg5t3Pk0TR0HrDH3fcCmNmdwHLgWCJw9wcbjt8GrMrhvG0t1mpqGXvDakKZjGW03deKSAYh/w5GGzCR199FHomgG2gs6T5g0SjHfwL424bnJ5pZH7WN7Te4e2/am8zsauBqgDlztM5MWcoYrx3znAzpTNqhbKS0XrvUEprZKqAH2NgQnuPuPcBHgRvM7Ky097r7Te7e4+49s2bNarXMMkmhd2aqV8EHDg/ivFkFL7JfQmQsb8tYsTUr3oqsgRHtttbQPqCx5+4MYH/zQWZ2EfAZ4N+5+2v1uLvvT77vNbOHgIXAMzmUq1Sxfopds3QBn/7O46nxIoRuirry5kd4+JlDx54vOWsmt191fu7nKUusv5ehZd2DixjM1ilrDT0KzDezeWZ2PHAFMGz0j5ktBL4OXOruBxriM8zshOTxKcASGvoWOlXMn2LTksBo8ValDcMdLd6K5iQA8PAzh7jy5kdyP1cZYv69DO3wq0cmFG/FPY+m9xFkxSej5UTg7keBTwFbgaeBu9x9p5l9wcwuTQ7bCPwicHfTMNF3A31m9kPgQWp9BB2fCGJeACtmzUlgrHinifn3MqtDuKhRQyGbSH8+lN4XkBWfjFwmlLn7FmBLU+yzDY8vynjfPwDRDQeJfQEs6Uyx/14WddNPE7qJtGhaYqIAITuSRMYrdEd/aCEnOv7JXelNoVnxdqdEUICQHUkAbz2ha0JxSXfClPQ/h6x4p4l5xnvo/o+jGa0yWfFWTMm4b2TFJyOO3/A2E7IjCeCJzy8bcdN/6wldPPH5ZYWcL1Zf/u330rSlL8dZLR6DmBdmi7n/47S3pdfYsuKToUXnClDG2uix3vS7M/4tuwv4tyxjaZCQyyJAvDPeY+7/CDFyTjWCAsRcBQ8t9L/lioXdPLz2Qp7dcAkPr70weBIYLS7ZQvd/hGiuCUk1ggKU8cnyvZ/7Pj977c2qcSxNQzEv4FeG0DWQUEKP4tlz3SW8c93mYX0CU6wW70RKBAUJWQVvTgIAP3ttiPd+7vvRJAPd+FsXemG2kO7uS9+E6e6+5wv73enUm34aJYIINCeBseKdJtb9mCU/sU8GLJoSQUG0pks+tHm9VN1xlr7bYPMIt5bOkd+PkrreHQOsueeHw8Y0r7nnh1rTZRJi3rw+6w85zz9w6XwfXZS+7H5WfDKUCArw+b/ZyZGmdUCODDmf/5udhZzvxK70O0dWvJPEvHl97BPYQlpy1swJxTvJF1ecw6rFc44tO91lxqrFc3KtEatpqAAvZ0wcy4q3atoJU/h5ys+edkLn//fGvHn94JE3JhRv1ZKzZqa2mcdws7z9qvOjXkK86F36Ov9OIcETT0gh1mKvitg7VGO56acpesCE6qAFmJ6xuFxWXLKFqBaLtLP6gIl6zbg+YGJ9b39u51CNoAAfet/s1E+xH3rf7BJK0/li3bw+5mYvyU+nbF6PmS0Dvgp0Ad9w9w1Nr58AfBv4VeAl4CPu/lzy2jpqG9oPAX/o7lvzKFOZHvzRwQnFZXQhZ8OGPFfoZq+Y+wgg/KzpeWs3D9uc3YBnCzhfR2xeb2ZdwI3AB4GzgZVmdnbTYZ8AXnb3dwJfAb6cvPdsaltbvgdYBvyv5Od1tJDbK8Yu5Ho8odf+SUsCo8UlW+j/u+YkAOBJvBPl0UdwHrDH3fe6++vAncDypmOWA7cmj+8B3m9mlsTvdPfX3P1ZYE/y80QkZ7F3FoeU9Vm8Uwc155EIuoHGRqx9SSz1mGSP458CJ4/zvQCY2dVm1mdmfQcPqolFRCQveSSCtJ6t5sSYdcx43lsLut/k7j3u3jNr1qwJFlFERLLkkQj2AY29W2cA+7OOMbMpwNuAQ+N8b8tinnkrMl4xz74NLevO0al3lDwSwaPAfDObZ2bHU+v83dR0zCZgdfL4w8AD7u5J/AozO8HM5gHzgf+XQ5mG+dGXfmvETf/ELuNHX/qtvE8FZO+eVcSuWgA3fOTcCcU7SdaojyJGg4Q8F8CUjEWFsuKtuv2q80fc9GOZfbtqcfq6O1nxVj274ZIRN/2iRg2F+L1sefioux81s08BW6kNH73F3Xea2ReAPnffBPwl8FdmtodaTeCK5L07zewu4CngKPAH7l7I2slF3fTThN42b83dIzfkqMdjWPE05Fr5Ic91NG1JyVHieYjhpp+mPp4+5HLlRdz002RNHFvf299e8wjcfQuwpSn22YbHPwcuz3jvl4Av5VGOdhF6z+KspWkKWrJGpC3FOvEwxIQyLTFRgN98V3pndlZcRCRLiAllWmKiAJpZLBK/UJtPhViKRDWCAoTuI5DONDXjry8rLu2jd8cA6+7tH7b51Lp7+wvZfCpryZE8lyLRr1wBsvoCiuojiF3vjgGWbHiAeWs3s2TDA9Hs9Ka+nc61cesuBo8MH9cyeGSIjVt35X4ubUzTodYsXcC6e/uH/aJMm9rFmqULSixVZ6p/8qr/W9Y/eQFRjIiSzhS61l90R7hqBAVYsbCb6y47h+7p0zBq8weuu+wc3bgmIeQnL5Hxiq3WrxpBBGJe1z70J69QHYAAXQZDKQM/NOG9/YWu9Re9Q5kSQQF6dwyw5u4fciSZGDRweJA1d/8QKKY5I+YN3kPOyQjdDPWWE6dyeHDkdqJvObG4neyKvqFUxYqF3dz44G52H3jlWOyMGScW8ntS36Gsrr5DGaB5BO3s2k07jyWBuiNvONdu2lnI+bI++EdQIWDN0gVMmzp8i4qiPnmFbob6aUoSGC3eqhBbHlbFlTc/MiwJAOw+8ApX3vxI7ucabUJZXpQICpD2KW+0eKuyPvhHUCEI2t8SuhkqdDtziBtKVYTc20ETykSoJYMQHe2hlwb5zXfNSt2NrKgZ6DE3IcZME8o61IxfSG/jzYpLewjZDAXhZ6Bn3ThiGFQQM00o61CXvHf2hOLSHkIP+w29t3WIG0pVhNzbQRPKOtR3H9uXGdcIjfYWqhmqDGUs1Ryr2686nytvfmRYn0CRezsUPaFMiaAAgxlrBGTFRUKJdanmMsS0t0NLTUNmNtPM7jOz3cn3GSnHnGtmj5jZTjN7wsw+0vDat8zsWTN7PPnq/C21REQ6TKt9BGuB+919PnB/8rzZq8Dvuft7gGXADWY2veH1Ne5+bvKVvtWWiIgUptVEsBy4NXl8K7Ci+QB3/yd335083g8cAKLeoeWk47smFG/V9Gnpo5Gy4iIijVpNBKe5+4sAyfdTRzvYzM4DjgeeaQh/KWky+oqZnTDKe682sz4z6zt4sL03eHn19fRtl7PirQo9Q1VE4jJmIjCzH5jZkylfyydyIjObDfwV8HF3r/eargPeBfwaMBP406z3u/tN7t7j7j2zZrV3hSL0jNHYVkIUkbDGHDXk7hdlvWZmPzGz2e7+YnKjP5Bx3FuBzcB6d9/W8LNfTB6+ZmbfBP5kQqVvU6FXJlyzdAFr7vkhRxqWspzaZYWc77S3HM9P/vX11LhMjAFpc3o1vaszXHz9Q8PWG5p/6kncd80F5RWoBa02DW0CViePVwPfaz7AzI4H/hr4trvf3fTa7OS7UetfeLLF8rSFUvYjaL6jFLRqwPbPXDzipn/aW45n+2cuLuaEETs1I3lmxaV9NCcBqC06d/H1D5VToBa1Oo9gA3CXmX0CeB64HMDMeoDfd/dPAr8D/AZwspl9LHnfx5IRQreb2SxqH4IeB36/xfK0jZATkzZu3ZW62unGrbsKKYNu+vlIq1mNFpf20ZwExoq3u5YSgbu/BLw/Jd4HfDJ5fBtwW8b7L2zl/O0s5AYnoVfNFJG4aK2hAtQ3OBk4PIjz5gYnRW26rs5iEWmFEkEBQm9wkrVscVHLGffuGGDJhgeYt3YzSzY8UFiCE2lX8089aULxdqdEUIDQTTWbn3hxQvFWhK7t1M+pxCPt5L5rLhhx0+/kUUNadK4AoTc4efnV9IljWfFWjFbbKaIPJPQ+wiLj1ak3/TSqERQg9AYnIYWu7YRuZhOpIiWCAoSeRxByraHQHdMaESVSPCWCCFx76XuYetzw+ahTjzOuvfQ9uZ8rdMe0RkSJFE+JoAChO1RXLOxm4+XvG1YD2Xj5+wqpgYTeZzfmZjaRdqHO4gKE7lCFcDOZQzfV1K8p1OQ8kSpSIihAzO3aoUdEQdz7CMdsfW+/9kfuEGoaKkDM7dpqqpHxWN/bz23bnmfIa2tgDblz27bnWd/bX3LJJI0SQQFivlmWsrKqdJw7tr8wobiUS01DBYi9XVtNNfnozmhm646g5livCYw3LuVSIiiIbpYyltAbGIXUZZZ60+8ybbvTjtQ0JFKSmJvZVi46c0JxKZdqBCIlirXmWB8dpFFDnaGlRGBmM4HvAHOB54DfcfeXU44bAurDBZ5390uT+DzgTmob1/8j8Lvuru2ZJiGm/VPLFHJDIYArb36Eh585dOz5krNmcvtV5xd2vpCePfhvw0YNPXvw30ouUb5iGh7batPQWuB+d58P3J88TzPo7ucmX5c2xL8MfCV5/8vAJ1osTyXFtn9qWULPCG9OAgAPP3OIK29+pJDzhRTztUF8w2NbTQTLgVuTx7dS24B+XJIN6y8E7pnM++VNse2fWpbQK5023yjHineSmK8N4hse22oiOM3dXwRIvp+acdyJZtZnZtvMrH6zPxk47O5Hk+f7gMw6uJldnfyMvoMHi1nXRqot5hnhkq/YhseO2UdgZj8Afinlpc9M4Dxz3H2/mb0DeMDM+oGfpRyX+a/o7jcBNwH09PR05r+2tLUyls+QzhTb8NgxawTufpG7/3LK1/eAn5jZbIDk+4GMn7E/+b4XeAhYCPwLMN3M6snoDGB/y1dUQbHtn1qW0DPCl5w1c0LxThLztUF8w2NbbRraBKxOHq8Gvtd8gJnNMLMTksenAEuAp9zdgQeBD4/2fhlbbPunliX0uP7brzp/xI0xllFDMV8b1IbHrlo851gNoMuMVYvndOyoIfMW2rTM7GTgLmAO8DxwubsfMrMe4Pfd/ZNm9uvA14E3qCWeG9z9L5P3v4M3h4/uAFa5+2tjnbenp8f7+vomXW4RkSoys8fcvWdEvJVEUBYlAhGRictKBFpiQkSk4rTEhEiD0DOLQ58vpJivLTZKBCKJ+szi+qSy+sxioJAbWOjzhRTztcVITUOR6N0xwJINDzBv7WaWbHigsGURYhZ6ZnHo84UU87XFSDWCCOjTVz5CzyyOeSZzzNcWI9UIIqBPX/kIvdd0zHtbx3xtMVIiiIA+feUj9MziNUsXMLVr+JIEU7ssih3KYt63O0ZqGoqA1sjJRxl7TR8Z8lGfd6rY9+2OjSaURaC5jwBqn75i2fYwVu/+r3/L4JE3RsSnTT2Op//sgyWUSGKXNaFMNYII6NNXZ0pLAqPFRYqiRBCJWPe+FZHiqbNYpCTHZSxdnxUXKYoSgUhJPrpozoTiIkVRIhApSc/bZ474AzwuiYuEpEQgUpKNW3fR3C38RhIXCamlRGBmM83sPjPbnXyfkXLMb5rZ4w1fP69vYG9m3zKzZxteO7eV8oh0Ek0ElHbRao1gLXC/u88H7k+eD+PuD7r7ue5+LnAh8Crwdw2HrKm/7u6Pt1gekY6hZRikXbSaCJYDtyaPbwVWjHH8h4G/dfdXWzyvSMfTMgzSLlqdR3Cau78I4O4vmtmpYxx/BXB9U+xLZvZZkhpF1p7FZnY1cDXAnDkaVSGdb8XCbvp+fIg7tr/AkDtdZvz2r8YzH2Tu2s0jYs9tuKSEkshYxqwRmNkPzOzJlK/lEzmRmc0GzgG2NoTXAe8Cfo3aBvZ/mvV+d7/J3XvcvWfWrFkTObVIW+rdMcB3HxtgKFnmZcid7z42EMVeEmlJYLS4lGvMGoG7X5T1mpn9xMxmJ7WB2cCBUX7U7wB/7e5HGn72i8nD18zsm8CfjLPcIh1vtOXDY6kVxCymrThb7SPYBKxOHq8GvjfKsSuBOxoDSfLAzIxa/8KTLZZHpGOkrRg7WlzaR32hx4HDgzhvbgbVqbW5VhPBBuBiM9sNXJw8x8x6zOwb9YPMbC5wJvB/m95/u5n1A/3AKcAXWyyPSMfosvS1JLLi0j5i2wyqpc5id38JeH9KvA/4ZMPz54ARdSZ3v7CV84t0sqGMJeCz4tI+YpsDopnFIiXpzpgvkBXvJFmjg2IZNRTbHBAtQy1SkjVLF6RuKBTLPIJYbvppYvu/UyIQKYk2FOpcsf3faatKkRK9c91mjjb8CU4x2HNdvJ+kpVxZW1Wqj0CkJM1JAOCo1+IiISkRiJSkOQmMFRcpihKBiEjFKRGIiFScEoFISaZkTCDOiosURYlApCR7rrtkxE1fo4akDJpHIFIi3fSlHahGICJScUoEIiIVp0QgIlJxSgQiIhXXUiIws8vNbKeZvWFmI9avaDhumZntMrM9Zra2IT7PzLab2W4z+46ZHd9KeUREZOJaHTX0JHAZ8PWsA8ysC7iR2g5m+4BHzWyTuz8FfBn4irvfaWZ/AXwC+FqLZRLpGDHte9ss5msDuPj6h9h94JVjz+efehL3XXNBeQVqQUs1And/2t3H2pvtPGCPu+9199eBO4HlyT7FFwL3JMfdSm3fYpFKiG3f20YxXxuMTAIAuw+8wsXXP1ROgVoUoo+gG3ih4fm+JHYycNjdjzbFRSohtn1vG8V8bcCIJDBWvN2N2TRkZj8Afinlpc+4+/fGcY60CfM+SjyrHFcDVwPMmTNnHKcVaW+x7XvbKOZri9GYicDdL2rxHPuAMxuenwHsB/4FmG5mU5JaQT2eVY6bgJugtjFNi2USKd3p06cxkHJj7NR9bxvFfG0xCtE09CgwPxkhdDxwBbDJa1ujPQh8ODluNTCeGoZIFNYsXcC0qV3DYp28722jmK8Nah3DE4m3u1aHj/57M9sHnA9sNrOtSfx0M9sCkHza/xSwFXgauMvddyY/4k+Ba6tSo6YAAAPDSURBVMxsD7U+g79spTwinWTFwm6uu+wcuqdPw4Du6dO47rJzohhZE/O1Adx3zQUjbvqdPGpIexaLiFSE9iwWEZFUSgQiIhWnRCAiUnFKBCIiFadEICJScUoEIiIV15HDR83sIPDjSb79FGqzmmMV8/Xp2jpTzNcGnXV9b3f3Wc3BjkwErTCzvrRxtLGI+fp0bZ0p5muDOK5PTUMiIhWnRCAiUnFVTAQ3lV2AgsV8fbq2zhTztUEE11e5PgIRERmuijUCERFpoEQgIlJxlUoEZrbMzHaZ2R4zW1t2efJiZmea2YNm9rSZ7TSzPyq7THkzsy4z22Fm/6fssuTNzKab2T1m9qPk//D8ssuUFzP74+R38kkzu8PMTiy7TJNlZreY2QEze7IhNtPM7jOz3cn3GWWWcbIqkwjMrAu4EfggcDaw0szOLrdUuTkK/Cd3fzewGPiDiK6t7o+obWwUo68C33f3dwHvI5LrNLNu4A+BHnf/ZaCL2g6FnepbwLKm2FrgfnefD9yfPO84lUkEwHnAHnff6+6vA3cCy0suUy7c/UV3/8fk8b9Su5HEsRUUYGZnAJcA3yi7LHkzs7cCv0GyO5+7v+7uh8stVa6mANPMbArwC4yyL3m7c/e/Bw41hZcDtyaPbwVWBC1UTqqUCLqBFxqe7yOim2Wdmc0FFgLbyy1Jrm4A/jPwRtkFKcA7gIPAN5Omr2+YWWdufNvE3QeA/w48D7wI/NTd/67cUuXuNHd/EWofyIBTSy7PpFQpEVhKLKqxs2b2i8B3gU+7+8/KLk8ezOxDwAF3f6zsshRkCvArwNfcfSHwCh3avNAsaS9fDswDTgdOMrNV5ZZK0lQpEewDzmx4fgYdXE1tZmZTqSWB29393rLLk6MlwKVm9hy15rwLzey2couUq33APnev1+DuoZYYYnAR8Ky7H3T3I8C9wK+XXKa8/cTMZgMk3w+UXJ5JqVIieBSYb2bzzOx4ap1Wm0ouUy7MzKi1MT/t7teXXZ48ufs6dz/D3edS+z97wN2j+VTp7v8MvGBmC5LQ+4GnSixSnp4HFpvZLyS/o+8nko7wBpuA1cnj1cD3SizLpE0puwChuPtRM/sUsJXa6IVb3H1nycXKyxLgd4F+M3s8if0Xd99SYplk/P4jcHvyAWUv8PGSy5MLd99uZvcA/0htZNsOOng5BjO7A7gAOMXM9gGfAzYAd5nZJ6glvsvLK+HkaYkJEZGKq1LTkIiIpFAiEBGpOCUCEZGKUyIQEak4JQIRkYpTIhARqTglAhGRivv/5ugcTSDx7DIAAAAASUVORK5CYII=\n",
      "text/plain": [
       "<Figure size 432x288 with 1 Axes>"
      ]
     },
     "metadata": {
      "needs_background": "light"
     },
     "output_type": "display_data"
    }
   ],
   "source": [
    "plt.scatter(y,x)\n",
    "\n",
    "# CREATE A BUBBLE / HEAT \n",
    "\n",
    "# USE SENTIMENT OR SUBJECTIVITY AS BUBBLE SIZE\n",
    "\n",
    "# COLOR BY CLUSTER"
   ]
  },
  {
   "cell_type": "code",
   "execution_count": 40,
   "metadata": {},
   "outputs": [
    {
     "data": {
      "text/plain": [
       "<matplotlib.image.AxesImage at 0x1a2c0cf590>"
      ]
     },
     "execution_count": 40,
     "metadata": {},
     "output_type": "execute_result"
    },
    {
     "data": {
      "image/png": "iVBORw0KGgoAAAANSUhEUgAAFe4AABQ+CAYAAABg4PdZAAAABHNCSVQICAgIfAhkiAAAAAlwSFlzAAALEgAACxIB0t1+/AAAADh0RVh0U29mdHdhcmUAbWF0cGxvdGxpYiB2ZXJzaW9uMy4xLjEsIGh0dHA6Ly9tYXRwbG90bGliLm9yZy8QZhcZAAAgAElEQVR4nOzcMUoDURhG0WSUQJA0AbfgjlyI7iPLcwGCjeACLALPwuYWCkFhJgPntK/4v/Y1dzvG2AAAAAAAAAAAAAAAAAAAAAAAAAAAAADfpqUHAAAAAAAAAAAAAAAAAAAAAAAAAAAAwDUR7gUAAAAAAAAAAAAAAAAAAAAAAAAAAIAQ7gUAAAAAAAAAAAAAAAAAAAAAAAAAAIAQ7gUAAAAAAAAAAAAAAAAAAAAAAAAAAIAQ7gUAAAAAAAAAAAAAAAAAAAAAAAAAAIAQ7gUAAAAAAAAAAAAAAAAAAAAAAAAAAIC4nfXY/m7sDsc5TwIAAAAA12C79AAAuNBYegAAAAAAAAAAAAAAAADAuo1p6QUAcLnP97ePMcb9T2+zhnt3h+Pm4fFpzpMA8CdjUpQCYCUEpQBYiXGz9AIAuMx09tECAAAAAAAAAAAAAAAA+I/zXsMJgPV4OT2//vamRQ8AAAAAAAAAAAAAAAAAAAAAAAAAAAAh3AsAAAAAAAAAAAAAAAAAAAAAAAAAAAAh3AsAAAAAAAAAAAAAAAAAAAAAAAAAAAAh3AsAAAAAAAAAAAAAAAAAAAAAAAAAAAAh3AsAAAAAAAAAAAAAAAAAAAAAAAAAAAAh3AsAAAAAAAAAAAAAAAAAAAAAAAAAAAAh3AsAAAAAAAAAAAAAAAAAAAAAAAAAAAAh3AsAAAAAAAAAAAAAAAAAAAAAAAAAAAAh3AsAAAAAAAAAAAAAAAAAAAAAAAAAAAAh3AsAAAAAAAAAAAAAAAAAAAAAAAAAAAAh3AsAAAAAAAAAAAAAAAAAAAAAAAAAAAAh3AsAAAAAAAAAAAAAAAAAAAAAAAAAAAAh3AsAAAAAAAAAAAAAAAAAAAAAAAAAAAAh3AsAAAAAAAAAAAAAAAAAAAAAAAAAAAAh3AsAAAAAAAAAAAAAAAAAAAAAAAAAAAAh3AsAAAAAAAAAAAAAAAAAAAAAAAAAAAAh3AsAAAAAAAAAAAAAAAAAAAAAAAAAAAAh3AsAAAAAAAAAAAAAAAAAAAAAAAAAAAAh3AsAAAAAAAAAAAAAAAAAAAAAAAAAAAAh3AsAAAAAAAAAAAAAAAAAAAAAAAAAAAAh3AsAAAAAAAAAAAAAAAAAAAAAAAAAAAAh3AsAAAAAAAAAAAAAAAAAAAAAAAAAAAAh3AsAAAAAAAAAAAAAAAAAAAAAAAAAAAAh3AsAAAAAAAAAAAAAAAAAAAAAAAAAAAAh3AsAAAAAAAAAAAAAAAAAAAAAAAAAAAAh3AsAAAAAAAAAAAAAAAAAAAAAAAAAAAAh3AsAAAAAAAAAAAAAAAAAAAAAAAAAAAAh3AsAAAAAAAAAAAAAAAAAAAAAAAAAAAAh3AsAAAAAAAAAAAAAAAAAAAAAAAAAAAAh3AsAAAAAAAAAAAAAAAAAAAAAAAAAAAAh3AsAAAAAAAAAAAAAAAAAAAAAAAAAAAAh3AsAAAAAAAAAAAAAAAAAAAAAAAAAAAAh3AsAAAAAAAAAAAAAAAAAAAAAAAAAAAAh3AsAAAAAAAAAAAAAAAAAAAAAAAAAAAAh3AsAAAAAAAAAAAAAAAAAAAAAAAAAAAAh3AsAAAAAAAAAAAAAAAAAAAAAAAAAAAAh3AsAAAAAAAAAAAAAAAAAAAAAAAAAAAAh3AsAAAAAAAAAAAAAAAAAAAAAAAAAAAAh3AsAAAAAAAAAAAAAAAAAAAAAAAAAAAAh3AsAAAAAAAAAAAAAAAAAAAAAAAAAAAAh3AsAAAAAAAAAAAAAAAAAAAAAAAAAAAAh3AsAAAAAAAAAAAAAAAAAAAAAAAAAAAAh3AsAAAAAAAAAAAAAAAAAAAAAAAAAAAAh3AsAAAAAAAAAAAAAAAAAAAAAAAAAAAAh3AsAAAAAAAAAAAAAAAAAAAAAAAAAAAAh3AsAAAAAAAAAAAAAAAAAAAAAAAAAAAAh3AsAAAAAAAAAAAAAAAAAAAAAAAAAAAAh3AsAAAAAAAAAAAAAAAAAAAAAAAAAAAAh3AsAAAAAAAAAAAAAAAAAAAAAAAAAAAAh3AsAAAAAAAAAAAAAAAAAAAAAAAAAAAAh3AsAAAAAAAAAAAAAAAAAAAAAAAAAAAAh3AsAAAAAAAAAAAAAAAAAAAAAAAAAAAAh3AsAAAAAAAAAAAAAAAAAAAAAAAAAAAAh3AsAAAAAAAAAAAAAAAAAAAAAAAAAAAAh3AsAAAAAAAAAAAAAAAAAAAAAAAAAAAAh3AsAAAAAAAAAAAAAAAAAAAAAAAAAAAAh3AsAAAAAAAAAAAAAAAAAAAAAAAAAAAAh3AsAAAAAAAAAAAAAAAAAAAAAAAAAAAAh3AsAAAAAAAAAAAAAAAAAAAAAAAAAAAAh3AsAAAAAAAAAAAAAAAAAAAAAAAAAAAAh3AsAAAAAAAAAAAAAAAAAAAAAAAAAAAAh3AsAAAAAAAAAAAAAAAAAAAAAAAAAAAAh3AsAAAAAAAAAAAAAAAAAAAAAAAAAAAAh3AsAAAAAAAAAAAAAAAAAAAAAAAAAAAAh3AsAAAAAAAAAAAAAAAAAAAAAAAAAAAAh3AsAAAAAAAAAAAAAAAAAAAAAAAAAAAAh3AsAAAAAAAAAAAAAAAAAAAAAAAAAAAAh3AsAAAAAAAAAAAAAAAAAAAAAAAAAAAAh3AsAAAAAAAAAAAAAAAAAAAAAAAAAAAAh3AsAAAAAAAAAAAAAAAAAAAAAAAAAAAAh3AsAAAAAAAAAAAAAAAAAAAAAAAAAAAAh3AsAAAAAAAAAAAAAAAAAAAAAAAAAAAAh3AsAAAAAAAAAAAAAAAAAAAAAAAAAAAAh3AsAAAAAAAAAAAAAAAAAAAAAAAAAAAAh3AsAAAAAAAAAAAAAAAAAAAAAAAAAAAAh3AsAAAAAAAAAAAAAAAAAAAAAAAAAAAAh3AsAAAAAAAAAAAAAAAAAAAAAAAAAAAAh3AsAAAAAAAAAAAAAAAAAAAAAAAAAAAAh3AsAAAAAAAAAAAAAAAAAAAAAAAAAAAAh3AsAAAAAAAAAAAAAAAAAAAAAAAAAAAAh3AsAAAAAAAAAAAAAAAAAAAAAAAAAAAAh3AsAAAAAAAAAAAAAAAAAAAAAAAAAAAAh3AsAAAAAAAAAAAAAAAAAAAAAAAAAAAAh3AsAAAAAAAAAAAAAAAAAAAAAAAAAAAAh3AsAAAAAAAAAAAAAAAAAAAAAAAAAAAAh3AsAAAAAAAAAAAAAAAAAAAAAAAAAAAAh3AsAAAAAAAAAAAAAAAAAAAAAAAAAAAAh3AsAAAAAAAAAAAAAAAAAAAAAAAAAAAAh3AsAAAAAAAAAAAAAAAAAAAAAAAAAAAAh3AsAAAAAAAAAAAAAAAAAAAAAAAAAAAAh3AsAAAAAAAAAAAAAAAAAAAAAAAAAAAAh3AsAAAAAAAAAAAAAAAAAAAAAAAAAAAAh3AsAAAAAAAAAAAAAAAAAAAAAAAAAAAAh3AsAAAAAAAAAAAAAAAAAAAAAAAAAAAAh3AsAAAAAAAAAAAAAAAAAAAAAAAAAAAAh3AsAAAAAAAAAAAAAAAAAAAAAAAAAAAAh3AsAAAAAAAAAAAAAAAAAAAAAAAAAAAAh3AsAAAAAAAAAAAAAAAAAAAAAAAAAAAAh3AsAAAAAAAAAAAAAAAAAAAAAAAAAAAAh3AsAAAAAAAAAAAAAAAAAAAAAAAAAAAAh3AsAAAAAAAAAAAAAAAAAAAAAAAAAAAAh3AsAAAAAAAAAAAAAAAAAAAAAAAAAAAAh3AsAAAAAAAAAAAAAAAAAAAAAAAAAAAAh3AsAAAAAAAAAAAAAAAAAAAAAAAAAAAAh3AsAAAAAAAAAAAAAAAAAAAAAAAAAAAAh3AsAAAAAAAAAAAAAAAAAAAAAAAAAAAAh3AsAAAAAAAAAAAAAAAAAAAAAAAAAAAAh3AsAAAAAAAAAAAAAAAAAAAAAAAAAAAAh3AsAAAAAAAAAAAAAAAAAAAAAAAAAAAAh3AsAAAAAAAAAAAAAAAAAAAAAAAAAAAAh3AsAAAAAAAAAAAAAAAAAAAAAAAAAAAAh3AsAAAAAAAAAAAAAAAAAAAAAAAAAAAAh3AsAAAAAAAAAAAAAAAAAAAAAAAAAAAAh3AsAAAAAAAAAAAAAAAAAAAAAAAAAAAAh3AsAAAAAAAAAAAAAAAAAAAAAAAAAAAAh3AsAAAAAAAAAAAAAAAAAAAAAAAAAAAAh3AsAAAAAAAAAAAAAAAAAAAAAAAAAAAAh3AsAAAAAAAAAAAAAAAAAAAAAAAAAAAAh3AsAAAAAAAAAAAAAAAAAAAAAAAAAAAAh3AsAAAAAAAAAAAAAAAAAAAAAAAAAAAAh3AsAAAAAAAAAAAAAAAAAAAAAAAAAAAAh3AsAAAAAAAAAAAAAAAAAAAAAAAAAAAAh3AsAAAAAAAAAAAAAAAAAAAAAAAAAAAAh3AsAAAAAAAAAAAAAAAAAAAAAAAAAAAAh3AsAAAAAAAAAAAAAAAAAAAAAAAAAAAAh3AsAAAAAAAAAAAAAAAAAAAAAAAAAAAAh3AsAAAAAAAAAAAAAAAAAAAAAAAAAAAAh3AsAAAAAAAAAAAAAAAAAAAAAAAAAAAAh3AsAAAAAAAAAAAAAAAAAAAAAAAAAAAAh3AsAAAAAAAAAAAAAAAAAAAAAAAAAAAAh3AsAAAAAAAAAAAAAAAAAAAAAAAAAAAAh3AsAAAAAAAAAAAAAAAAAAAAAAAAAAAAh3AsAAAAAAAAAAAAAAAAAAAAAAAAAAAAh3AsAAAAAAAAAAAAAAAAAAAAAAAAAAAAh3AsAAAAAAAAAAAAAAAAAAAAAAAAAAAAh3AsAAAAAAAAAAAAAAAAAAAAAAAAAAAAh3AsAAAAAAAAAAAAAAAAAAAAAAAAAAAAh3AsAAAAAAAAAAAAAAAAAAAAAAAAAAAAh3AsAAAAAAAAAAAAAAAAAAAAAAAAAAAAh3AsAAAAAAAAAAAAAAAAAAAAAAAAAAAAh3AsAAAAAAAAAAAAAAAAAAAAAAAAAAAAh3AsAAAAAAAAAAAAAAAAAAAAAAAAAAAAh3AsAAAAAAAAAAAAAAAAAAAAAAAAAAAAh3AsAAAAAAAAAAAAAAAAAAAAAAAAAAAAh3AsAAAAAAAAAAAAAAAAAAAAAAAAAAAAh3AsAAAAAAAAAAAAAAAAAAAAAAAAAAAAh3AsAAAAAAAAAAAAAAAAAAAAAAAAAAAAh3AsAAAAAAAAAAAAAAAAAAAAAAAAAAAAh3AsAAAAAAAAAAAAAAAAAAAAAAAAAAAAh3AsAAAAAAAAAAAAAAAAAAAAAAAAAAAAh3AsAAAAAAAAAAAAAAAAAAAAAAAAAAAAh3AsAAAAAAAAAAAAAAAAAAAAAAAAAAAAh3AsAAAAAAAAAAAAAAAAAAAAAAAAAAAAh3AsAAAAAAAAAAAAAAAAAAAAAAAAAAAAh3AsAAAAAAAAAAAAAAAAAAAAAAAAAAAAh3AsAAAAAAAAAAAAAAAAAAAAAAAAAAAAh3AsAAAAAAAAAAAAAAAAAAAAAAAAAAAAh3AsAAAAAAAAAAAAAAAAAAAAAAAAAAAAh3AsAAAAAAAAAAAAAAAAAAAAAAAAAAAAh3AsAAAAAAAAAAAAAAAAAAAAAAAAAAAAh3AsAAAAAAAAAAAAAAAAAAAAAAAAAAAAh3AsAAAAAAAAAAAAAAAAAAAAAAAAAAAAh3AsAAAAAAAAAAAAAAAAAAAAAAAAAAAAh3AsAAAAAAAAAAAAAAAAAAAAAAAAAAAAh3AsAAAAAAAAAAAAAAAAAAAAAAAAAAAAh3AsAAAAAAAAAAAAAAAAAAAAAAAAAAAAh3AsAAAAAAAAAAAAAAAAAAAAAAAAAAAAh3AsAAAAAAAAAAAAAAAAAAAAAAAAAAAAh3AsAAAAAAAAAAAAAAAAAAAAAAAAAAAAh3AsAAAAAAAAAAAAAAAAAAAAAAAAAAAAh3AsAAAAAAAAAAAAAAAAAAAAAAAAAAAAh3AsAAAAAAAAAAAAAAAAAAAAAAAAAAAAh3AsAAAAAAAAAAAAAAAAAAAAAAAAAAAAh3AsAAAAAAAAAAAAAAAAAAAAAAAAAAAAh3AsAAAAAAAAAAAAAAAAAAAAAAAAAAAAh3AsAAAAAAAAAAAAAAAAAAAAAAAAAAAAh3AsAAAAAAAAAAAAAAPDFzh2j3FWFYRT+PhMEcQhqkcImdXAMWtnqBFI5ACdik8I6tUXAMZjWQgg2BmcggRDYaSwWavXfG66B5+n2YR/2O4IFAAAAAAAAAAAAIdwLAAAAAAAAAAAAAAAAAAAAAAAAAAAAIdwLAAAAAAAAAAAAAAAAAAAAAAAAAAAAIdwLAAAAAAAAAAAAAAAAAAAAAAAAAAAAIdwLAAAAAAAAAAAAAAAAAAAAAAAAAAAAIdwLAAAAAAAAAAAAAAAAAAAAAAAAAAAAIdwLAAAAAAAAAAAAAAAAAAAAAAAAAAAAIdwLAAAAAAAAAAAAAAAAAAAAAAAAAAAAIdwLAAAAAAAAAAAAAAAAAAAAAAAAAAAAIdwLAAAAAAAAAAAAAAAAAAAAAAAAAAAAIdwLAAAAAAAAAAAAAAAAAAAAAAAAAAAAIdwLAAAAAAAAAAAAAAAAAAAAAAAAAAAAIdwLAAAAAAAAAAAAAAAAAAAAAAAAAAAAIdwLAAAAAAAAAAAAAAAAAAAAAAAAAAAAIdwLAAAAAAAAAAAAAAAAAAAAAAAAAAAAIdwLAAAAAAAAAAAAAAAAAAAAAAAAAAAAIdwLAAAAAAAAAAAAAAAAAAAAAAAAAAAAIdwLAAAAAAAAAAAAAAAAAAAAAAAAAAAAIdwLAAAAAAAAAAAAAAAAAAAAAAAAAAAAIdwLAAAAAAAAAAAAAAAAAAAAAAAAAAAAIdwLAAAAAAAAAAAAAAAAAAAAAAAAAAAAIdwLAAAAAAAAAAAAAAAAAAAAAAAAAAAAIdwLAAAAAAAAAAAAAAAAAAAAAAAAAAAAIdwLAAAAAAAAAAAAAAAAAAAAAAAAAAAAIdwLAAAAAAAAAAAAAAAAAAAAAAAAAAAAIdwLAAAAAAAAAAAAAAAAAAAAAAAAAAAAIdwLAAAAAAAAAAAAAAAAAAAAAAAAAAAAIdwLAAAAAAAAAAAAAAAAAAAAAAAAAAAAIdwLAAAAAAAAAAAAAAAAAAAAAAAAAAAAIdwLAAAAAAAAAAAAAAAAAAAAAAAAAAAAIdwLAAAAAAAAAAAAAAAAAAAAAAAAAAAAIdwLAAAAAAAAAAAAAAAAAAAAAAAAAAAAIdwLAAAAAAAAAAAAAAAAAAAAAAAAAAAAcVG4d3e/3N3fdvfF7n5/rVEAAAAAAAAAAAAAAAAAAAAAAAAAAABwK3cO9+7uvZn5YWa+mpmHM/Pt7j681jAAAAAAAAAAAAAAAAAAAAAAAAAAAAC4hTuHe2fmi5l5cc75/ZzzemaezszX15kFAAAAAAAAAAAAAAAAAAAAAAAAAAAAt3FJuPeTmfkj55d/fwMAAAAAAAAAAAAAAAAAAAAAAAAAAID31iXh3v2Pb+dfl3Yf7+7z3X3+5tVfFzwHAAAAAAAAAAAAAAAAAAAAAAAAAAAA794l4d6XM/NZzp/OzJ//vHTOeXLOeXTOeXT/o48veA4AAAAAAAAAAAAAAAAAAAAAAAAAAADevUvCvb/MzOe7+2B3P5yZb2bmp+vMAgAAAAAAAAAAAAAAAAAAAAAAAAAAgNu4f9cfzzlvdve7mfl5Zu7NzI/nnF+vtgwAAAAAAAAAAAAAAAAAAAAAAAAAAABu4M7h3pmZc86zmXl2pS0AAAAAAAAAAAAAAAAAAAAAAAAAAABwcx/cegAAAAAAAAAAAAAAAAAAAAAAAAAAAAD8nwj3AgAAAAAAAAAAAAAAAAAAAAAAAAAAQAj3AgAAAAAAAAAAAAAAAAAAAAAAAAAAQAj3AgAAAAAAAAAAAAAAAAAAAAAAAAAAQAj3AgAAAAAAAAAAAAAAAAAAAAAAAAAAQAj3AgAAAAAAAAAAAAAAAAAAAAAAAAAAQAj3AgAAAAAAAAAAAAAAAAAAAAAAAAAAQAj3AgAAAAAAAAAAAAAAAAAAAAAAAAAAQAj3AgAAAAAAAAAAAAAAAAAAAAAAAAAAQAj3AgAAAAAAAAAAAAAAAAAAAAAAAAAAQAj3AgAAAAAAAAAAAAAAAAAAAAAAAAAAQAj3AgAAAAAAAAAAAAAAAAAAAAAAAAAAQAj3AgAAAAAAAAAAAAAAAAAAAAAAAAAAQAj3AgAAAAAAAAAAAAAAAAAAAAAAAAAAQAj3AgAAAAAAAAAAAAAAAAAAAAAAAAAAQAj3AgAAAAAAAAAAAAAAAAAAAAAAAAAAQAj3AgAAAAAAAAAAAAAAAAAAAAAAAAAAQAj3AgAAAAAAAAAAAAAAAAAAAAAAAAAAQAj3AgAAAAAAAAAAAAAAAAAAAAAAAAAAQAj3AgAAAAAAAAAAAAAAAAAAAAAAAAAAQAj3AgAAAAAAAAAAAAAAAAAAAAAAAAAAQAj3AgAAAAAAAAAAAAAAAAAAAAAAAAAAQAj3AgAAAAAAAAAAAAAAAAAAAAAAAAAAQAj3AgAAAAAAAAAAAAAAAAAAAAAAAAAAQAj3AgAAAAAAAAAAAAAAAAAAAAAAAAAAQAj3AgAAAAAAAAAAAAAAAAAAAAAAAAAAQAj3AgAAAAAAAAAAAAAAAAAAAAAAAAAAQAj3AgAAAAAAAAAAAAAAAAAAAAAAAAAAQAj3AgAAAAAAAAAAAAAAAAAAAAAAAAAAQAj3AgAAAAAAAAAAAAAAAAAAAAAAAAAAQAj3AgAAAAAAAAAAAAAAAAAAAAAAAAAAQAj3AgAAAAAAAAAAAAAAAAAAAAAAAAAAQAj3AgAAAAAAAAAAAAAAAAAAAAAAAAAAQAj3AgAAAAAAAAAAAAAAAAAAAAAAAAAAQAj3AgAAAAAAAAAAAAAAAAAAAAAAAAAAQAj3AgAAAAAAAAAAAAAAAAAAAAAAAAAAQAj3AgAAAAAAAAAAAAAAAAAAAAAAAAAAQAj3AgAAAAAAAAAAAAAAAAAAAAAAAAAAQAj3AgAAAAAAAAAAAAAAAAAAAAAAAAAAQAj3AgAAAAAAAAAAAAAAAAAAAAAAAAAAQAj3AgAAAAAAAAAAAAAAAAAAAAAAAAAAQAj3AgAAAAAAAAAAAAAAAAAAAAAAAAAAQAj3AgAAAAAAAAAAAAAAAAAAAAAAAAAAQAj3AgAAAAAAAAAAAAAAAAAAAAAAAAAAQAj3AgAAAAAAAAAAAAAAAAAAAAAAAAAAQAj3AgAAAAAAAAAAAAAAAAAAAAAAAAAAQAj3AgAAAAAAAAAAAAAAAAAAAAAAAAAAQAj3AgAAAAAAAAAAAAAAAAAAAAAAAAAAQAj3AgAAAAAAAAAAAAAAAAAAAAAAAAAAQAj3AgAAAAAAAAAAAAAAAAAAAAAAAAAAQAj3AgAAAAAAAAAAAAAAAAAAAAAAAAAAQAj3AgAAAAAAAAAAAAAAAAAAAAAAAAAAQAj3AgAAAAAAAAAAAAAAAAAAAAAAAAAAQAj3AgAAAAAAAAAAAAAAAAAAAAAAAAAAQAj3AgAAAAAAAAAAAAAAAAAAAAAAAAAAQAj3AgAAAAAAAAAAAAAAAAAAAAAAAAAAQAj3AgAAAAAAAAAAAAAAAAAAAAAAAAAAQAj3AgAAAAAAAAAAAAAAAAAAAAAAAAAAQAj3AgAAAAAAAAAAAAAAAAAAAAAAAAAAQAj3AgAAAAAAAAAAAAAAAAAAAAAAAAAAQAj3AgAAAAAAAAAAAAAAAAAAAAAAAAAAQAj3AgAAAAAAAAAAAAAAAAAAAAAAAAAAQAj3AgAAAAAAAAAAAAAAAAAAAAAAAAAAQAj3AgAAAAAAAAAAAAAAAAAAAAAAAAAAQAj3AgAAAAAAAAAAAAAAAAAAAAAAAAAAQAj3AgAAAAAAAAAAAAAAAAAAAAAAAAAAQAj3AgAAAAAAAAAAAAAAAAAAAAAAAAAAQAj3AgAAAAAAAAAAAAAAAAAAAAAAAAAAQAj3AgAAAAAAAAAAAAAAAAAAAAAAAAAAQAj3AgAAAAAAAAAAAAAAAAAAAAAAAAAAQAj3AgAAAAAAAAAAAAAAAAAAAAAAAAAAQAj3AgAAAAAAAAAAAAAAAAAAAAAAAAAAQAj3AgAAAAAAAAAAAAAAAAAAAAAAAAAAQAj3AgAAAAAAAAAAAAAAAAAAAAAAAAAAQAj3AgAAAAAAAAAAAAAAAAAAAAAAAAAAQAj3AgAAAAAAAAAAAAAAAAAAAAAAAAAAQAj3AgAAAAAAAAAAAAAAAAAAAAAAAAAAQAj3AgAAAAAAAAAAAAAAAAAAAAAAAAAAQAj3AgAAAAAAAAAAAAAAAAAAAAAAAAAAQAj3AgAAAAAAAAAAAAAAAAAAAAAAAAAAQAj3AgAAAAAAAAAAAAAAAAAAAAAAAAAAQAj3AgAAAAAAAAAAAAAAAAAAAAAAAAAAQAj3AgAAAAAAAAAAAAAAAAAAAAAAAAAAQAj3AgAAAAAAAAAAAAAAAAAAAAAAAAAAQAj3AgAAAAAAAAAAAAAAAAAAAAAAAAAAQAj3AgAAAAAAAAAAAAAAAAAAAAAAAAAAQAj3AgAAAAAAAAAAAAAAAAAAAAAAAAAAQAj3AgAAAAAAAAAAAAAAAAAAAAAAAAAAQAj3AgAAAAAAAAAAAAAAAAAAAAAAAAAAQAj3AgAAAAAAAAAAAAAAAAAAAAAAAAAAQAj3AgAAAAAAAAAAAAAAAAAAAAAAAAAAQAj3AgAAAAAAAAAAAAAAAAAAAAAAAAAAQAj3AgAAAAAAAAAAAAAAAAAAAAAAAAAAQAj3AgAAAAAAAAAAAAAAAAAAAAAAAAAAQAj3AgAAAAAAAAAAAAAAAAAAAAAAAAAAQAj3AgAAAAAAAAAAAAAAAAAAAAAAAAAAQAj3AgAAAAAAAAAAAAAAAAAAAAAAAAAAQAj3AgAAAAAAAAAAAAAAAAAAAAAAAAAAQAj3AgAAAAAAAAAAAAAAAAAAAAAAAOMUeisAACAASURBVAAAQAj3AgAAAAAAAAAAAAAAAAAAAAAAAAAAQAj3AgAAAAAAAAAAAAAAAAAAAAAAAAAAQAj3AgAAAAAAAAAAAAAAAAAAAAAAAAAAQAj3AgAAAAAAAAAAAAAAAAAAAAAAAAAAQAj3AgAAAAAAAAAAAAAAAAAAAAAAAAAAQAj3AgAAAAAAAAAAAAAAAAAAAAAAAAAAQAj3AgAAAAAAAAAAAAAAAAAAAAAAAAAAQAj3AgAAAAAAAAAAAAAAAAAAAAAAAAAAQAj3AgAAAAAAAAAAAAAAAAAAAAAAAAAAQAj3AgAAAAAAAAAAAAAAAAAAAAAAAAAAQAj3AgAAAAAAAAAAAAAAAAAAAAAAAAAAQAj3AgAAAAAAAAAAAAAAAAAAAAAAAAAAQAj3AgAAAAAAAAAAAAAAAAAAAAAAAAAAQAj3AgAAAAAAAAAAAAAAAAAAAAAAAAAAQAj3AgAAAAAAAAAAAAAAAAAAAAAAAAAAQAj3AgAAAAAAAAAAAAAAAAAAAAAAAAAAQAj3AgAAAAAAAAAAAAAAAAAAAAAAAAAAQAj3AgAAAAAAAAAAAAAAAAAAAAAAAAAAQAj3AgAAAAAAAAAAAAAAAAAAAAAAAAAAQAj3AgAAAAAAAAAAAAAAAAAAAAAAAAAAQAj3AgAAAAAAAAAAAAAAAAAAAAAAAAAAQAj3AgAAAAAAAAAAAAAAAAAAAAAAAAAAQAj3AgAAAAAAAAAAAAAAAAAAAAAAAAAAQAj3AgAAAAAAAAAAAAAAAAAAAAAAAAAAQAj3AgAAAAAAAAAAAAAAAAAAAAAAAAAAQAj3AgAAAAAAAAAAAAAAAAAAAAAAAAAAQAj3AgAAAAAAAAAAAAAAAAAAAAAAAAAAQAj3AgAAAAAAAAAAAAAAAAAAAAAAAAAAQAj3AgAAAAAAAAAAAAAAAAAAAAAAAAAAQAj3AgAAAAAAAAAAAAAAAAAAAAAAAAAAQAj3AgAAAAAAAAAAAAAAAAAAAAAAAAAAQAj3AgAAAAAAAAAAAAAAAAAAAAAAAAAAQAj3AgAAAAAAAAAAAAAAAAAAAAAAAAAAQAj3AgAAAAAAAAAAAAAAAAAAAAAAAAAAQAj3AgAAAAAAAAAAAAAAAAAAAAAAAAAAQAj3AgAAAAAAAAAAAAAAAAAAAAAAAAAAQAj3AgAAAAAAAAAAAAAAAAAAAAAAAAAAQAj3AgAAAAAAAAAAAAAAAAAAAAAAAAAAQAj3AgAAAAAAAAAAAAAAAAAAAAAAAAAAQAj3AgAAAAAAAAAAAAAAAAAAAAAAAAAAQAj3AgAAAAAAAAAAAAAAAAAAAAAAAAAAQAj3AgAAAAAAAAAAAAAAAAAAAAAAAAAAQAj3AgAAAAAAAAAAAAAAAAAAAAAAAAAAQAj3AgAAAAAAAAAAAAAAAABv2bljnATCMIqig2IsrKnYAzuV1iW5DRqWYEEiYHsbkgkhM46e007xv26KL7kAAAAAAAAAQAj3AgAAAAAAAAAAAAAAAAAAAAAAAAAAQAj3AgAAAAAAAAAAAAAAAAAAAAAAAAAAQAj3AgAAAAAAAAAAAAAAAAAAAAAAAAAAQAj3AgAAAAAAAAAAAAAAAAAAAAAAAAAAQAj3AgAAAAAAAAAAAAAAAAAAAAAAAAAAQAj3AgAAAAAAAAAAAAAAAAAAAAAAAAAAQAj3AgAAAAAAAAAAAAAAAAAAAAAAAAAAQAj3AgAAAAAAAAAAAAAAAAAAAAAAAAAAQAj3AgAAAAAAAAAAAAAAAAAAAAAAAAAAQAj3AgAAAAAAAAAAAAAAAAAAAAAAAAAAQAj3AgAAAAAAAAAAAAAAAAAAAAAAAAAAQAj3AgAAAAAAAAAAAAAAAAAAAAAAAAAAQAj3AgAAAAAAAAAAAAAAAAAAAAAAAAAAQAj3AgAAAAAAAAAAAAAAAAAAAAAAAAAAQAj3AgAAAAAAAAAAAAAAAAAAAAAAAAAAQAj3AgAAAAAAAAAAAAAAAAAAAAAAAAAAQAj3AgAAAAAAAAAAAAAAAAAAAAAAAAAAQAj3AgAAAAAAAAAAAAAAAAAAAAAAAAAAQAj3AgAAAAAAAAAAAAAAAAAAAAAAAAAAQAj3AgAAAAAAAAAAAAAAAAAAAAAAAAAAQAj3AgAAAAAAAAAAAAAAAAAAAAAAAAAAQAj3AgAAAAAAAAAAAAAAAAAAAAAAAAAAQAj3AgAAAAAAAAAAAAAAAAAAAAAAAAAAQAj3AgAAAAAAAAAAAAAAAAAAAAAAAAAAQAj3AgAAAAAAAAAAAAAAAAAAAAAAAAAAQAj3AgAAAAAAAAAAAAAAAAAAAAAAAAAAQAj3AgAAAAAAAAAAAAAAAAAAAAAAAAAAQAj3AgAAAAAAAAAAAAAAAAAAAAAAAAAAQAj3AgAAAAAAAAAAAAAAAAAAAAAAAAAAQAj3AgAAAAAAAAAAAAAAAAAAAAAAAAAAQAj3AgAAAAAAAAAAAAAAAAAAAAAAAAAAQAj3AgAAAAAAAAAAAAAAAAAAAAAAAAAAQAj3AgAAAAAAAAAAAAAAAAAAAAAAAAAAQAj3AgAAAAAAAAAAAAAAAAAAAAAAAAAAQAj3AgAAAAAAAAAAAAAAAAAAAAAAAAAAQAj3AgAAAAAAAAAAAAAAAAAAAAAAAAAAQAj3AgAAAAAAAAAAAAAAAAAAAAAAAAAAQAj3AgAAAAAAAAAAAAAAAAAAAAAAAAAAQAj3AgAAAAAAAAAAAAAAAAAAAAAAAAAAQAj3AgAAAAAAAAAAAAAAAAAAAAAAAAAAQAj3AgAAAAAAAAAAAAAAAAAAAAAAAAAAQAj3AgAAAAAAAAAAAAAAAAAAAAAAAAAAQAj3AgAAAAAAAAAAAAAAAAAAAAAAAAAAQAj3AgAAAAAAAAAAAAAAAAAAAAAAAAAAQAj3AgAAAAAAAAAAAAAAAAAAAAAAAAAAQAj3AgAAAAAAAAAAAAAAAAAAAAAAAAAAQAj3AgAAAAAAAAAAAAAAAAAAAAAAAAAAQAj3AgAAAAAAAAAAAAAAAAAAAAAAAAAAQAj3AgAAAAAAAAAAAAAAAAAAAAAAAAAAQAj3AgAAAAAAAAAAAAAAAAAAAAAAAAAAQAj3AgAAAAAAAAAAAAAAAAAAAAAAAAAAQAj3AgAAAAAAAAAAAAAAAAAAAAAAAAAAQAj3AgAAAAAAAAAAAAAAAAAAAAAAAAAAQAj3AgAAAAAAAAAAAAAAAAAAAAAAAAAAQAj3AgAAAAAAAAAAAAAAAAAAAAAAAAAAQAj3AgAAAAAAAAAAAAAAAAAAAAAAAAAAQAj3AgAAAAAAAAAAAAAAAAAAAAAAAAAAQAj3AgAAAAAAAAAAAAAAAAAAAAAAAAAAQAj3AgAAAAAAAAAAAAAAAAAAAAAAAAAAQAj3AgAAAAAAAAAAAAAAAAAAAAAAAAAAQAj3AgAAAAAAAAAAAAAAAAAAAAAAAAAAQAj3AgAAAAAAAAAAAAAAAAAAAAAAAAAAQAj3AgAAAAAAAAAAAAAAAAAAAAAAAAAAQAj3AgAAAAAAAAAAAAAAAAAAAAAAAAAAQAj3AgAAAAAAAAAAAAAAAAAAAAAAAAAAQKynfOzyMgxf2ylfBID7vB2vc08AAAD4U1bfcy8AgHHOr6u5JwDAaM8nNy0AAAAA+I/ctABYEjctAACAx9p8fM49AQBG2R/8swBYjt377W9P080AAAAAAAAAAAAAAAAAAAAAAAAAAACA30+4FwAAAAAAAAAAAAAAAAAAAAAAAAAAAEK4FwAAAAAAAAAAAAAAAAAAAAAAAAAAAEK4FwAAAAAAAAAAAAAAAAAAAAAAAAAAAEK4FwAAAAAAAAAAAAAAAAAAAAAAAAAAAEK4FwAAAAAAAAAAAAAAAAAAAAAAAAAAAEK4FwAAAAAAAAAAAAAAAAAAAAAAAAAAAEK4FwAAAAAAAAAAAAAAAAAAAAAAAAAAAEK4FwAAAAAAAAAAAAAAAAAAAAAAAAAAAEK4FwAAAAAAAAAAAAAAAAAAAAAAAAAAAEK4FwAAAAAAAAAAAAAAAAAAAAAAAAAAAEK4FwAAAAAAAAAAAAAAAAAAAAAAAAAAAEK4FwAAAAAAAAAAAAAAAAAAAAAAAAAAAEK4FwAAAAAAAAAAAAAAAAAAAAAAAAAAAEK4FwAAAAAAAAAAAAAAAAAAAAAAAAAAAEK4FwAAAAAAAAAAAAAAAAAAAAAAAAAAAEK4FwAAAAAAAAAAAAAAAAAAAAAAAAAAAEK4FwAAAAAAAAAAAAAAAAAAAAAAAAAAAEK4FwAAAAAAAAAAAAAAAAAAAAAAAAAAAEK4FwAAAAAAAAAAAAAAAAAAAAAAAAAAAEK4FwAAAAAAAAAAAAAAAAAAAAAAAAAAAEK4FwAAAAAAAAAAAAAAAAAAAAAAAAAAAEK4FwAAAAAAAAAAAAAAAAAAAAAAAAAAAEK4FwAAAAAAAAAAAAAAAAAAAAAAAAAAAEK4FwAAAAAAAAAAAAAAAAAAAAAAAAAAAEK4FwAAAAAAAAAAAAAAAAAAAAAAAAAAAEK4FwAAAAAAAAAAAAAAAAAAAAAAAAAAAEK4FwAAAAAAAAAAAAAAAAAAAAAAAAAAAEK4FwAAAAAAAAAAAAAAAAAAAAAAAAAAAEK4FwAAAAAAAAAAAAAAAAAAAAAAAAAAAEK4FwAAAAAAAAAAAAAAAAAAAAAAAAAAAEK4FwAAAAAAAAAAAAAAAAAAAAAAAAAAAEK4FwAAAAAAAAAAAAAAAAAAAAAAAAAAAEK4FwAAAAAAAAAAAAAAAAAAAAAAAAAAAEK4FwAAAAAAAAAAAAAAAAAAAAAAAAAAAEK4FwAAAAAAAAAAAAAAAAAAAAAAAAAAAEK4FwAAAAAAAAAAAAAAAAAAAAAAAAAAAEK4FwAAAAAAAAAAAAAAAAAAAAAAAAAAAEK4FwAAAAAAAAAAAAAAAAAAAAAAAAAAAEK4FwAAAAAAAAAAAAAAAAAAAAAAAAAAAEK4FwAAAAAAAAAAAAAAAAAAAAAAAAAAAEK4FwAAAAAAAAAAAAAAAAAAAAAAAAAAAEK4FwAAAAAAAAAAAAAAAAAAAAAAAAAAAEK4FwAAAAAAAAAAAAAAAAAAAAAAAAAAAEK4FwAAAAAAAAAAAAAAAAAAAAAAAAAAAEK4FwAAAAAAAAAAAAAAAAAAAAAAAAAAAEK4FwAAAAAAAAAAAAAAAAAAAAAAAAAAAEK4FwAAAAAAAAAAAAAAAAAAAAAAAAAAAEK4FwAAAAAAAAAAAAAAAAAAAAAAAAAAAEK4FwAAAAAAAAAAAAAAAAAAAAAAAAAAAEK4FwAAAAAAAAAAAAAAAAAAAAAAAAAAAEK4FwAAAAAAAAAAAAAAAAAAAAAAAAAAAEK4FwAAAAAAAAAAAAAAAAAAAAAAAAAAAEK4FwAAAAAAAAAAAAAAAAAAAAAAAAAAAEK4FwAAAAAAAAAAAAAAAAAAAAAAAAAAAEK4FwAAAAAAAAAAAAAAAAAAAAAAAAAAAEK4FwAAAAAAAAAAAAAAAAAAAAAAAAAAAEK4FwAAAAAAAAAAAAAAAAAAAAAAAAAAAEK4FwAAAAAAAAAAAAAAAAAAAAAAAAAAAEK4FwAAAAAAAAAAAAAAAAAAAAAAAAAAAEK4FwAAAAAAAAAAAAAAAAAAAAAAAAAAAEK4FwAAAAAAAAAAAAAAAAAAAAAAAAAAAEK4FwAAAAAAAAAAAAAAAAAAAAAAAAAAAEK4FwAAAAAAAAAAAAAAAAAAAAAAAAAAAEK4FwAAAAAAAAAAAAAAAAAAAAAAAAAAAEK4FwAAAAAAAAAAAAAAAAAAAAAAAAAAAEK4FwAAAAAAAAAAAAAAAAAAAAAAAAAAAEK4FwAAAAAAAAAAAAAAAAAAAAAAAAAAAEK4FwAAAAAAAAAAAAAAAAAAAAAAAAAAAEK4FwAAAAAAAAAAAAAAAAAAAAAAAAAAAEK4FwAAAAAAAAAAAAAAAAAAAAAAAAAAAEK4FwAAAAAAAAAAAAAAAAAAAAAAAAAAAEK4FwAAAAAAAAAAAAAAAAAAAAAAAAAAAEK4FwAAAAAAAAAAAAAAAAAAAAAAAAAAAEK4FwAAAAAAAAAAAAAAAAAAAAAAAAAAAEK4FwAAAAAAAAAAAAAAAAAAAAAAAAAAAEK4FwAAAAAAAAAAAAAAAAAAAAAAAAAAAEK4FwAAAAAAAAAAAAAAAAAAAAAAAAAAAEK4FwAAAAAAAAAAAAAAAAAAAAAAAAAAAEK4FwAAAAAAAAAAAAAAAAAAAAAAAAAAAEK4FwAAAAAAAAAAAAAAAAAAAAAAAAAAAEK4FwAAAAAAAAAAAAAAAAAAAAAAAAAAAEK4FwAAAAAAAAAAAAAAAAAAAAAAAAAAAEK4FwAAAAAAAAAAAAAAAAAAAAAAAAAAAEK4FwAAAAAAAAAAAAAAAAAAAAAAAAAAAEK4FwAAAAAAAAAAAAAAAAAAAAAAAAAAAEK4FwAAAAAAAAAAAAAAAAAAAAAAAAAAAEK4FwAAAAAAAAAAAAAAAAAAAAAAAAAAAEK4FwAAAAAAAAAAAAAAAAAAAAAAAAAAAEK4FwAAAAAAAAAAAAAAAAAAAAAAAAAAAEK4FwAAAAAAAAAAAAAAAAAAAAAAAAAAAEK4FwAAAAAAAAAAAAAAAAAAAAAAAAAAAEK4FwAAAAAAAAAAAAAAAAAAAAAAAAAAAEK4FwAAAAAAAAAAAAAAAAAAAAAAAAAAAEK4FwAAAAAAAAAAAAAAAAAAAAAAAAAAAEK4FwAAAAAAAAAAAAAAAAAAAAAAAAAAAEK4FwAAAAAAAAAAAAAAAAAAAAAAAAAAAEK4FwAAAAAAAAAAAAAAAAAAAAAAAAAAAEK4FwAAAAAAAAAAAAAAAAAAAAAAAAAAAEK4FwAAAAAAAAAAAAAAAAAAAAAAAAAAAEK4FwAAAAAAAAAAAAAAAAAAAAAAAAAAAEK4FwAAAAAAAAAAAAAAAAAAAAAAAAAAAEK4FwAAAAAAAAAAAAAAAAAAAAAAAAAAAEK4FwAAAAAAAAAAAAAAAAAAAAAAAAAAAEK4FwAAAAAAAAAAAAAAAAAAAAAAAAAAAEK4FwAAAAAAAAAAAAAAAAAAAAAAAAAAAEK4FwAAAAAAAAAAAAAAAAAAAAAAAAAAAEK4FwAAAAAAAAAAAAAAAAAAAAAAAAAAAEK4FwAAAAAAAAAAAAAAAAAAAAAAAAAAAEK4FwAAAAAAAAAAAAAAAAAAAAAAAAAAAEK4FwAAAAAAAAAAAAAAAAAAAAAAAAAAAEK4FwAAAAAAAAAAAAAAAAAAAAAAAAAAAEK4FwAAAAAAAAAAAAAAAAAAAAAAAAAAAEK4FwAAAAAAAAAAAAAAAAAAAAAAAAAAAEK4FwAAAAAAAAAAAAAAAAAAAAAAAAAAAEK4FwAAAAAAAAAAAAAAAAAAAAAAAAAAAEK4FwAAAAAAAAAAAAAAAAAAAAAAAAAAAEK4FwAAAAAAAAAAAAAAAAAAAAAAAAAAAEK4FwAAAAAAAAAAAAAAAAAAAAAAAAAAAEK4FwAAAAAAAAAAgB927lgAAAAAYJC/9d5BFEgAAAAAAAAAAAAAAACMuBcAAAAAAAAAAAAAAAAAAAAAAAAAAABG3AsAAAAAAAAAAAAAAAAAAAAAAAAAAAAj7gUAAAAAAAAAAAAAAAAAAAAAAAAAAIAR9wIAAAAAAAAAAAAAAAAAAAAAAAAAAMCIewEAAAAAAAAAAAAAAAAAAAAAAAAAAGDEvQAAAAAAAAAAAAAAAAAAAAAAAAAAADDiXgAAAAAAAAAAAAAAAAAAAAAAAAAAABhxLwAAAAAAAAAAAAAAAAAAAAAAAAAAAIy4FwAAAAAAAAAAAAAAAAAAAAAAAAAAAEbcCwAAAAAAAAAAAAAAAAAAAAAAAAAAACPuBQAAAAAAAAAAAAAAAAAAAAAAAAAAgBH3AgAAAAAAAAAAAAAAAAAAAAAAAAAAwIh7AQAAAAAAAAAAAAAAAAAAAAAAAAAAYMS9AAAAAAAAAAAAAAAAAAAAAAAAAAAAMOJeAAAAAAAAAAAAAAAAAAAAAAAAAAAAGHEvAAAAAAAAAAAAAAAAAAAAAAAAAAAAjLgXAAAAAAAAAAAAAAAAAAAAAAAAAAAARtwLAAAAAAAAAAAAAAAAAAAAAAAAAAAAI+4FAAAAAAAAAAAAAAAAAAAAAAAAAACAEfcCAAAAAAAAAAAAAAAAAAAAAAAAAADAiHsBAAAAAAAAAAAAAAAAAAAAAAAAAABgxL0AAAAAAAAAAAAAAAAAAAAAAAAAAAAw4l4AAAAAAAAAAAAAAAAAAAAAAAAAAAAYcS8AAAAAAAAAAAAAAAAAAAAAAAAAAACMuBcAAAAAAAAAAAAAAAAAAAAAAAAAAABG3AsAAAAAAAAAAAAAAAAAAAAAAAAAAAAj7gUAAAAAAAAAAAAAAAAAAAAAAAAAAIAR9wIAAAAAAAAAAAAAAAAAAAAAAAAAAMCIewEAAAAAAAAAAAAAAAAAAAAAAAAAAGDEvQAAAAAAAAAAAAAAAAAAAAAAAAAAADDiXgAAAAAAAAAAAAAAAAAAAAAAAAAAABhxLwAAAAAAAAAAAAAAAAAAAAAAAAAAAIy4FwAAAAAAAAAAAAAAAAAAAAAAAAAAAEbcCwAAAAAAAAAAAAAAAAAAAAAAAAAAACPuBQAAAAAAAAAAAAAAAAAAAAAAAAAAgBH3AgAAAAAAAAAAAAAAAAAAAAAAAAAAwIh7AQAAAAAAAAAAAAAAAAAAAAAAAAAAYMS9AAAAAAAAAAAAAAAAAAAAAAAAAAAAMOJeAAAAAAAAAAAAAAAAAAAAAAAAAAAAGHEvAAAAAAAAAAAAAAAAAAAAAAAAAAAAjLgXAAAAAAAAAAAAAAAAAAAAAAAAAAAARtwLAAAAAAAAAAAAAAAAAAAAAAAAAAAAI+4FAAAAAAAAAAAAAAAAAAAAAAAAAACAEfcCAAAAAAAAAAAAAAAAAAAAAAAAAADAiHsBAAAAAAAAAAAAAAAAAAAAAAAAAABgxL0AAAAAAAAAAAAAAAAAAAAAAAAAAAAw4l4AAAAAAAAAAAAAAAAAAAAAAAAAAAAYcS8AAAAAAAAAAAAAAAAAAAAAAAAAAACMuBcAAAAAAAAAAAAAAAAAAAAAAAAAAABG3AsAAAAAAAAAAAAAAAAAAAAAAAAAAAAj7gUAAAAAAAAAAAAAAAAAAAAAAAAAAIAR9wIAAAAAAAAAAAAAAAAAAAAAAAAAAMCIewEAAAAAAAAAAAAAAAAAAAAAAAAAAGDEvQAAAAAAAAAAAAAAAAAAAAAAAAAAADDiXgAAAAAAAAAAAAAAAAAAAAAAAAAAABhxLwAAAAAAAAAAAAAAAAAAAAAAAAAAAIy4FwAAAAAAAAAAAAAAAAAAAAAAAAAAAEbcCwAAAAAAAAAAAAAAAAAAAAAAAAAAACPuBQAAAAAAAAAAAAAAAAAAAAAAAAAAgBH3AgAAAAAAAAAAAAAAAAAAAAAAAAAAwIh7AQAAAAAAAAAAAAAAAAAAAAAAAAAAYMS9AAAAAAAAAAAAAAAAAAAAAAAAAAAAMOJeAAAAAAAAAAAAAAAAAAAAAAAAAAAAGHEvAAAAAAAAAAAAAAAAAAAAAAAAAAAAjLgXAAAAAAAAAAAAAAAAAAAAAAAAAAAARtwLAAAAAAAAAAAAAAAAAAAAAAAAAAAAI+4FAAAAAAAAAAAAAAAAAAAAAAAAAACAEfcCAAAAAAAAAAAAAAAAAAAAAAAAAADAiHsBAAAAAAAAAAAAAAAAAAAAAAAAAABgxL0AAAAAAAAAAAAAAAAAAAAAAAAAAAAw4l4AAAAAAAAAAAAAAAAAAAAAAAAAAAAYcS8AAAAAAAAAAAAAAAAAAAAAAAAAAACMuBcAAAAAAAAAAAAAAAAAAAAAAAAAAABG3AsAAAAAAAAAAAAAAAAAAAAAAAAAAAAj7gUAAAAAAAAAAAAAAAAAAAAAAAAAAIAR9wIAAAAAAAAAAAAAAAAAAAAAAAAAAMCIewEAAAAAAAAAAAAAAAAAAAAAAAAAAGDEvQAAAAAAAAAAAAAAAAAAAAAAAAAAADDiXgAAAAAAAAAAAAAAAAAAAAAAAAAAABhxLwAAAAAAAAAAAAAAAAAAAAAAAAAAAIy4FwAAAAAAAAAAAAAAAAAAAAAAAAAAAEbcCwAAAAAAAAAAAAAAAAAAAAAAAAAAACPuBQAAAAAAAAAAAAAAAAAAAAAAAAAAgBH3AgAAAAAAAAAAAAAAAAAAAAAAAAAAwIh7AQAAAAAAAAAAAAAAAAAAAAAAAAAAYMS9AAAAAAAAAAAAAAAAAAAAAAAAAAAAMOJeAAAAAAAAAAAAAAAAAAAAAAAAAAAAGHEvAAAAAAAAAAAAAAAAAAAAAAAAAAAAjLgXAAAAAAAAAAAAAAAAAAAAAAAAAAAARtwLAAAAAAAAAAAAAAAAAAAAAAAAAAAAI+4FAAAAAAAAAAAAAAAAAAAAAAAAAACAEfcCAAAAAAAAAAAAAAAAAAAAAAAAAADAiHsBAAAAAAAAAAAAAAAAAAAAAAAAAABgxL0AAAAAAAAAAAAAAAAAAAAAAAAAAAAw4l4AAAAAAAAAAAAAAAAAAAAAAAAAAAAYcS8AAAAAAAAAAAAAAAAAAAAAAAAAAACMuBcAAAAAAAAAAAAAAAAAAAAAAAAAAABG3AsAAAAAAAAAAAAAAAAAAAAAAAAAAAAj7gUAAAAAAAAAAAAAAAAAAAAAAAAAAIAR9wIAAAAAAAAAAAAAAAAAAAAAAAAAAMCIewEAAAAAAAAAAAAAAAAAAAAAAAAAAGDEvQAAAAAAAAAAAAAAAAAAAAAAAAAAADDiXgAAAAAAAAAAAAAAAAAAAAAAAAAAABhxLwAAAAAAAAAAAAAAAAAAAAAAAAAAAIy4FwAAAAAAAAAAAAAAAAAAAAAAAAAAAEbcCwAAAAAAAAAAAAAAAAAAAAAAAAAAACPuBQAAAAAAAAAAAAAAAAAAAAAALXAzggAAIABJREFUAAAAgBH3AgAAAAAAAAAAAAAAAAAAAAAAAAAAwIh7AQAAAAAAAAAAAAAAAAAAAAAAAAAAYMS9AAAAAAAAAAAAAAAAAAAAAAAAAAAAMOJeAAAAAAAAAAAAAAAAAAAAAAAAAAAAGHEvAAAAAAAAAAAAAAAAAAAAAAAAAAAAjLgXAAAAAAAAAAAAAAAAAAAAAAAAAAAARtwLAAAAAAAAAAAAAAAAAAAAAAAAAAAAI+4FAAAAAAAAAAAAAAAAAAAAAAAAAACAEfcCAAAAAAAAAAAAAAAAAAAAAAAAAADAiHsBAAAAAAAAAAAAAAAAAAAAAAAAAABgxL0AAAAAAAAAAAAAAAAAAAAAAAAAAAAw4l4AAAAAAAAAAAAAAAAAAAAAAAAAAAAYcS8AAAAAAAAAAAAAAAAAAAAAAAAAAACMuBcAAAAAAAAAAAAAAAAAAAAAAAAAAABG3AsAAAAAAAAAAAAAAAAAAAAAAAAAAAAj7gUAAAAAAAAAAAAAAAAAAAAAAAAAAIAR9wIAAAAAAAAAAAAAAAAAAAAAAAAAAMCIewEAAAAAAAAAAAAAAAAAAAAAAAAAAGDEvQAAAAAAAAAAAAAAAAAAAAAAAAAAADDiXgAAAAAAAAAAAAAAAAAAAAAAAAAAABhxLwAAAAAAAAAAAAAAAAAAAAAAAAAAAIy4FwAAAAAAAAAAAAAAAAAAAAAAAAAAAEbcCwAAAAAAAAAAAAAAAAAAAAAAAAAAACPuBQAAAAAAAAAAAAAAAAAAAAAAAAAAgBH3AgAAAAAAAAAAAAAAAAAAAAAAAAAAwIh7AQAAAAAAAAAAAAAAAAAAAAAAAAAAYMS9AAAAAAAAAAAAAAAAAAAAAAAAAAAAMOJeAAAAAAAAAAAAAAAAAAAAAAAAAAAAGHEvAAAAAAAAAAAAAAAAAAAAAAAAAAAAjLgXAAAAAAAAAAAAAAAAAAAAAAAAAAAARtwLAAAAAAAAAAAAAAAAAAAAAAAAAAAAI+4FAAAAAAAAAAAAAAAAAAAAAAAAAACAEfcCAAAAAAAAAAAAAAAAAAAAAAAAAADAiHsBAAAAAAAAAAAAAAAAAAAAAAAAAABgxL0AAAAAAAAAAAAAAAAAAAAAAAAAAAAw4l4AAAAAAAAAAAAAAAAAAAAAAAAAAAAYcS8AAAAAAAAAAAAAAAAAAAAAAAAAAACMuBcAAAAAAAAAAAAAAAAAAAAAAAAAAABG3AsAAAAAAAAAAAAAAAAAAAAAAAAAAAAj7gUAAAAAAAAAAAAAAAAAAAAAAAAAAIAR9wIAAAAAAAAAAAAAAAAAAAAAAAAAAMCIewEAAAAAAAAAAAAAAAAAAAAAAAAAAGDEvQAAAAAAAAAAAAAAAAAAAAAAAAAAADDiXgAAAAAAAAAAAAAAAAAAAAAAAAAAABhxLwAAAAAAAAAAAAAAAAAAAAAAAAAAAIy4FwAAAAAAAAAAAAAAAAAAAAAAAAAAAEbcCwAAAAAAAAAAAAAAAAAAAAAAAAAAACPuBQAAAAAAAAAAAAAAAAAAAAAAAAAAgBH3AgAAAAAAAAAAAAAAAAAAAAAAAAAAwIh7AQAAAAAAAAAAAAAAAAAAAAAAAAAAYMS9AAAAAAAAAAAAAAAAAAAAAAAAAAAAMOJeAAAAAAAAAAAAAAAAAAAAAAAAAAAAGHEvAAAAAAAAAAAAAAAAAAAAAAAAAAAAjLgXAAAAAAAAAAAAAAAAAAAAAAAAAAAARtwLAAAAAAAAAAAAAAAAAAAAAAAAAAAAI+4FAAAAAAAAAAAAAAAAAAAAAAAAAACAEfcCAAAAAAAAAAAAAAAAAAAAAAAAAADAiHsBAAAAAAAAAAAAAAAAAAAAAAAAAABgxL0AAAAAAAAAAAAAAAAAAAAAAAAAAAAw4l4AAAAAAAAAAAAAAAAAAAAAAAAAAAAYcS8AAAAAAAAAAAAAAAAAAAAAAAAAAACMuBcAAAAAAAAAAAAAAAAAAAAAAAAAAABG3AsAAAAAAAAAAAAAAAAAAAAAAAAAAAAj7gUAAAAAAAAAAAAAAAAAAAAAAAAAAIAR9wIAAAAAAAAAAAAAAAAAAAAAAAAAAMCIewEAAAAAAAAAAAAAAAAAAAAAAAAAAGDEvQAAAAAAAAAAAAAAAAAAAAAAAAAAADDiXgAAAAAAAAAAAAAAAAAAAAAAAAAAABhxLwAAAAAAAAAAAAAAAAAAAAAAAAAAAIy4FwAAAAAAAAAAAAAAAAAAAAAAAAAAAEbcCwAAAAAAAAAAAAAAAAAAAAAAAAAAACPuBQAAAAAAAAAAAAAAAAAAAAAAAAAAgBH3AgAAAAAAAAAAAAAAAAAAAAAAAAAAwIh7AQAAAAAAAAAAAAAAAAAAAAAAAAAAYMS9AAAAAAAAAAAAAAAAAAAAAAAAAAAAMOJeAAAAAAAAAAAAAAAAAAAAAAAAAAAAGHEvAAAAAAAAAAAAAAAAAAAAAAAAAAAAjLgXAAAAAAAAAAAAAAAAAAAAAAAAAAAARtwLAAAAAAAAAAAAAAAAEDt3aIMwFEBRlAIOxSYsyRR4xsIxBEEUew2kmJaSc2zFf65p+nMBAAAAAAAAACCEewEAAAAAAAAAAAAAAAAAAAAAAAAAACCEewEAAAAAAAAAAAAAAAAAAAAAAAAAACCEewEAAAAAAAAAAAAAAAAAAAAAAAAAACCEewEAAAAAAAAAAAAAAAAAAAAAAAAAACCEewEAAAAAAAAAAAAAAAAAAAAAAAAAACCEewEAAAAAAAAAAAAAAAAAAAAAAAAAACCEewEAAAAAAAAAAAAAAAAAAAAAAAAAACCEewEAAAAAAAAAAAAAAAAAAAAAAAAAACCEewEAAAAAAAAAAAAAAAAAAAAAAAAAACCEewEAAAAAAAAAAAAAAAAAAAAAAAAAACCEewEAAAAAAAAAAAAAAAAAAAAAAAAAACCEewEAAAAAAAAAAAAAAAAAAAAAAAAAACCEewEAAAAAAAAAAAAAAAAAAAAAAAAAACCEewEAAAAAAAAAAAAAAAAAAAAAAAAAACCEewEAAAAAAAAAAAAAAAAAAAAAAAAAACCEewEAAAAAAAAAAAAAAAAAAAAAAAAAACCEewEAAAAAAAAAAAAAAAAAAAAAAAAAACCEewEAAAAAAAAAAAAAAAAAAAAAAAAAACCEewEAAAAAAAAAAAAAAAAAAAAAAAAAACCEewEAAAAAAAAAAAAAAAAAAAAAAAAAACCEewEAAAAAAAAAAAAAAAAAAAAAAAAAACCEewEAAAAAAAAAAAAAAAAAAAAAAAAAACCEewEAAAAAAAAAAAAAAAAAAAAAAAAAACCEewEAAAAAAAAAAAAAAAAAAAAAAAAAACCEewEAAAAAAAAAAAAAAAAAAAAAAAAAACCEewEAAAAAAAAAAAAAAAAAAAAAAAAAACCEewEAAAAAAAAAAAAAAAAAAAAAAAAAACCEewEAAAAAAAAAAAAAAAAAAAAAAAAAACCEewEAAAAAAAAAAAAAAAAAAAAAAAAAACCEewEAAAAAAAAAAAAAAAAAAAAAAAAAACCEewEAAAAAAAAAAAAAAAAAAAAAAAAAACCEewEAAAAAAAAAAAAAAAAAAAAAAAAAACCEewEAAAAAAAAAAAAAAAAAAAAAAAAAACCEewEAAAAAAAAAAAAAAAAAAAAAAAAAACCEewEAAAAAAAAAAAAAAAAAAAAAAAAAACCEewEAAAAAAAAAAAAAAAAAAAAAAAAAACCEewEAAAAAAAAAAAAAAAAAAAAAAAAAACCEewEAAAAAAAAAAAAAAAAAAAAAAAAAACCEewEAAAAAAAAAAAAAAAAAAAAAAAAAACCEewEAAAAAAAAAAAAAAAAAAAAAAAAAACCEewEAAAAAAAAAAAAAAAAAAAAAAAAAACCEewEAAAAAAAAAAAAAAAAAAAAAAAAAACCEewEAAAAAAAAAAAAAAAAAAAAAAAAAACCEewEAAAAAAAAAAAAAAAAAAAAAAAAAACCEewEAAAAAAAAAAAAAAAAAAAAAAAAAACCEewEAAAAAAAAAAAAAAAAAAAAAAAAAACCEewEAAAAAAAAAAAAAAAAAAAAAAAAAACCEewEAAAAAAAAAAAAAAAAAAAAAAAAAACCEewEAAAAAAAAAAAAAAAAAAAAAAAAAACCEewEAAAAAAAAAAAAAAAAAAAAAAAAAACCEewEAAAAAAAAAAAAAAAAAAAAAAAAAACCEewEAAAAAAAAAAAAAAAAAAAAAAAAAACCEewEAAAAAAAAAAAAAAAAAAAAAAAAAACCEewEAAAAAAAAAAAAAAAAAAAAAAAAAACCEewEAAAAAAAAAAAAAAAAAAAAAAAAAACCEewEAAAAAAAAAAAAAAAAAAAAAAAAAACCEewEAAAAAAAAAAAAAAAAAAAAAAAAAACCEewEAAAAAAAAAAAAAAAAAAAAAAAAAACCEewEAAAAAAAAAAAAAAAAAAAAAAAAAACCEewEAAAAAAAAAAAAAAAAAAAAAAAAAACCEewEAAAAAAAAAAAAAAAAAAAAAAAAAACCEewEAAAAAAAAAAAAAAAAAAAAAAAAAACCEewEAAAAAAAAAAAAAAAAAAAAAAAAAACCEewEAAAAAAAAAAAAAAAAAAAAAAAAAACCEewEAAAAAAAAAAAAAAAAAAAAAAAAAACCEewEAAAAAAAAAAAAAAAAAAAAAAAAAACCEewEAAAAAAAAAAAAAAAAAAAAAAAAAACCEewEAAAAAAAAAAAAAAAAAAAAAAAAAACCEewEAAAAAAAAAAAAAAAAAAAAAAAAAACCEewEAAAAAAAAAAAAAAAAAAAAAAAAAACCEewEAAAAAAAAAAAAAAAAAAAAAAAAAACCEewEAAAAAAAAAAAAAAAAAAAAAAAAAACCEewEAAAAAAAAAAAAAAAAAAAAAAAAAACCEewEAAAAAAAAAAAAAAAAAAAAAAAAAACCEewEAAAAAAAAAAAAAAAAAAAAAAAAAACCEewEAAAAAAAAAAAAAAAAAAAAAAAAAACCEewEAAAAAAAAAAAAAAAAAAAAAAAAAACCEewEAAAAAAAAAAAAAAAAAAAAAAAAAACCEewEAAAAAAAAAAAAAAAAAAAAAAAAAACCEewEAAAAAAAAAAAAAAAAAAAAAAAAAACCEewEAAAAAAAAAAAAAAAAAAAAAAAAAACCEewEAAAAAAAAAAAAAAAAAAAAAAAAAACCEewEAAAAAAAAAAAAAAAAAAAAAAAAAACCEewEAAAAAAAAAAAAAAAAAAAAAAAAAACCEewEAAAAAAAAAAAAAAAAAAAAAAAAAACCEewEAAAAAAAAAAAAAAAAAAAAAAAAAACCEewEAAAAAAAAAAAAAAAAAAAAAAAAAACCEewEAAAAAAAAAAAAAAAAAAAAAAAAAACCEewEAAAAAAAAAAAAAAAAAAAAAAAAAACCEewEAAAAAAAAAAAAAAAAAAAAAAAAAACCEewEAAAAAAAAAAAAAAAAAAAAAAAAAACCEewEAAAAAAAAAAAAAAAAAAAAAAAAAACCEewEAAAAAAAAAAAAAAAAAAAAAAAAAACCEewEAAAAAAAAAAAAAAAAAAAAAAAAAACCEewEAAAAAAAAAAAAAAAAAAAAAAAAAACCEewEAAAAAAAAAAAAAAAAAAAAAAAAAACCEewEAAAAAAAAAAAAAAAAAAAAAAAAAACCEewEAAAAAAAAAAAAAAAAAAAAAAAAAACCEewEAAAAAAAAAAAAAAAAAAAAAAAAAACCEewEAAAAAAAAAAAAAAAAAAAAAAAAAACCEewEAAAAAAAAAAAAAAAAAAAAAAAAAACCEewEAAAAAAAAAAAAAAAAAAAAAAAAAACCEewEAAAAAAAAAAAAAAAAAAAAAAAAAACCEewEAAAAAAAAAAAAAAAAAAAAAAAAAACCEewEAAAAAAAAAAAAAAAAAAAAAAAAAACCEewEAAAAAAAAAAAAAAAAAAAAAAAAAACCEewEAAAAAAAAAAAAAAAAAAAAAAAAAACCEewEAAAAAAAAAAAAAAAAAAAAAAAAAACCEewEAAAAAAAAAAAAAAAAAAAAAAAAAACCEewEAAAAAAAAAAAAAAAAAAAAAAAAAACCEewEAAAAAAAAAAAAAAAAAAAAAAAAAACCEewEAAAAAAAAAAAAAAAAAAAAAAAAAACCEewEAAAAAAAAAAAAAAAAAAAAAAAAAACCEewEAAAAAAAAAAAAAAAAAAAAAAAAAACCEewEAAAAAAAAAAAAAAAAAAAAAAAAAACCEewEAAAAAAAAAAAAAAAAAAAAAAAAAACCEewEAAAAAAAAAAAAAAAAAAAAAAAAAACCEewEAAAAAAAAAAAAAAAAAAAAAAAAAACCEewEAAAAAAAAAAAAAAAAAAAAAAAAAACCEewEAAAAAAAAAAAAAAAAAAAAAAAAAACCEewEAAAAAAAAAAAAAAAAAAAAAAAAAACCEewEAAAAAAAAAAAAAAAAAAAAAAAAAACCEewEAAAAAAAAAAAAAAAAAAAAAAAAAACD2cx62fW42h/ucJwIAAPy3cRiWngAA03hlAbASu8e49AQAAAAAAAD4yD8tANbEnXcA1mIYfWsBsA6362npCQAwyfl+XHoCAHzh8vbJdsYVAAAAAAAAAAAAAAAAAAAAAAAAAAAA8POEewEAAAAAAAAAAAAAAAAAAAAAAAAAACCEewEAAAAAAAAAAAAAAAAAAAAAAAAAACCEewEAAAAAAAAAAAAAAAAAAAAAAAAAACCEewEAAAAAAAAAAAAAAAAAAAAAAAAAACCEewEAAAAAAAAAAAAAAAAAAAAAAAAAACCEewEAAAAAAAAAAAAAAAAAAAAAAAAAACCEewEAAAAAAAAAAAAAAAAAAAAAAAAAACCEewEAAAAAAAAAAAAAAAAAAAAAAAAAACCEewEAAAAAAAAAAAAAAAAAAAAAAAAAACCEewEAAAAAAAAAAAAAAAAAAAAAAAAAACCEewEAAAAAAAAAAAAAAAAAAAAAAAAAACCEewEAAAAAAAAAAAAAAAAAAAAAAAAAACCEewEAAAAAAAAAAAAAAAAAAAAAAAAAACCEewEAAAAAAAAAAAAAAAAAAAAAAAAAACCEewEAAAAAAAAAAAAAAAAAAAAAAAAAACCEewEAAAAAAAAAAAAAAAAAAAAAAAAAACCEewEAAAAAAAAAAAAAAAAAAAAAAAAAACCEewEAAAAAAAAAAAAAAAAAAAAAAAAAACCEewEAAAAAAAAAAAAAAAAAAAAAAAAAACCEewEAAAAAAAAAAAAAAAAAAAAAAAAAACCEewEAAAAAAAAAAAAAAAAAAAAAAAAAACCEewEAAAAAAAAAAAAAAAAAAAAAAAAAACCEewEAAAAAAAAAAAAAAAAAAAAAAAAAACCEewEAAAAAAAAAAAAAAAAAAAAAAAAAACCEewEAAAAAAAAAAAAAAAAAAAAAAAAAACCEewEAAAAAAAAAAAAAAAAAAAAAAAAAACCEewEAAAAAAAAAAAAAAAAAAAAAAAAAACCEewEAAAAAAAAAAAAAAAAAAAAAAAAAACCEewEAAAAAAAAAAAAAAAAAAAAAAAAAACCEewEAAAAAAAAAAAAAAAAAAAAAAAAAACCEewEAAAAAAAAAAAAAAAAAAAAAAAAAACCEewEAAAAAAAAAAAAAAAAAAAAAAAAAACCEewEAAAAAAAAAAAAAAAAAAAAAAAAAACCEewEAAAAAAAAAAAAAAAAAAAAAAAAAACCEewEAAAAAAAAAAAAAAAAAAAAAAAAAACCEewEAAAAAAAAAAAAAAAAAAAAAAAAAACCEewEAAAAAAAAAAAAAAAAAAAAAAAAAACCEewEAAAAAAAAAAAAAAAAAAAAAAAAAACCEewEAAAAAAAAAAAAAAAAAAAAAAAAAACCEewEAAAAAAAAAAAAAAAAAAAAAAAAAACCEewEAAAAAAAAAAAAAAAAAAAAAAAAAACCEewEAAAAAAAAAAAAAAAAAAAAAAAAAACCEewEAAAAAAAAAAAAAAAAAAAAAAAAAACCEewEAAAAAAAAAAAAAAAAAAAAAAAAAACCEewEAAAAAAAAAAAAAAAAAAAAAAAAAACCEewEAAAAAAAAAAAAAAAAAAAAAAAAAACCEewEAAAAAAAAAAAAAAAAAAAAAAAAAACCEewEAAAAAAAAAAAAAAAAAAAAAAAAAACCEewEAAAAAAAAAAAAAAAAAAAAAAAAAACCEewEAAAAAAAAAAAAAAAAAAAAAAAAAACCEewEAAAAAAAAAAAAAAAAAAAAAAAAAACCEewEAAAAAAAAAAAAAAAAAAAAAAAAAACCEewEAAAAAAAAAAAAAAAAAAAAAAAAAACCEewEAAAAAAAAAAAAAAAAAAAAAAAAAACCEewEAAAAAAAAAAAAAAAAAAAAAAAAAACCEewEAAAAAAAAAAAAAAAAAAAAAAAAAACCEewEAAAAAAAAAAAAAAAAAAAAAAAAAACCEewEAAAAAAAAAAAAAAAAAAAAAAAAAACCEewEAAAAAAAAAAAAAAAAAAAAAAAAAACCEewEAAAAAAAAAAAAAAAAAAAAAAAAAACCEewEAAAAAAAAAAF7s3DGqJVUUhtG9m2cg6ghEcApCZ2aGzsHUVMF5OADB0FAnYGBiIrSNib4hmCti0nAM7OALOrr3ttdgLSgoqDpV/wg+AAAAAAAAAAAAAAAACOFeAAAAAAAAAAAAAAAAAAAAAAAAAAAACOFeAAAAAAAAAAAAAAAAAAAAAAAAAAAACOFeAAAAAAAAAAAAAAAAAAAAAAAAAAAACOFeAAAAAAAAAAAAAAAAAAAAAAAAAAAACOFeAAAAAAAAAAAAAAAAAAAAAAAAAAAACOFeAAAAAAAAAAAAAAAAAAAAAAAAAAAACOFeAAAAAAAAAAAAAAAAAAAAAAAAAAAACOFeAAAAAAAAAAAAAAAAAAAAAAAAAAAACOFeAAAAAAAAAAAAAAAAAAAAAAAAAAAACOFeAAAAAAAAAAAAAAAAAAAAAAAAAAAACOFeAAAAAAAAAAAAAAAAAAAAAAAAAAAACOFeAAAAAAAAAAAAAAAAAAAAAAAAAAAACOFeAAAAAAAAAAAAAAAAAAAAAAAAAAAACOFeAAAAAAAAAAAAAAAAAAAAAAAAAAAACOFeAAAAAAAAAAAAAAAAAAAAAAAAAAAACOFeAAAAAAAAAAAAAAAAAAAAAAAAAAAACOFeAAAAAAAAAAAAAAAAAAAAAAAAAAAACOFeAAAAAAAAAAAAAAAAAAAAAAAAAAAACOFeAAAAAAAAAAAAAAAAAAAAAAAAAAAACOFeAAAAAAAAAAAAAAAAAAAAAAAAAAAACOFeAAAAAAAAAAAAAAAAAAAAAAAAAAAACOFeAAAAAAAAAAAAAAAAAAAAAAAAAAAACOFeAAAAAAAAAAAAAAAAAAAAAAAAAAAACOFeAAAAAAAAAAAAAAAAAAAAAAAAAAAACOFeAAAAAAAAAAAAAAAAAAAAAAAAAAAACOFeAAAAAAAAAAAAAAAAAAAAAAAAAAAACOFeAAAAAAAAAAAAAAAAAAAAAAAAAAAACOFeAAAAAAAAAAAAAAAAAAAAAAAAAAAACOFeAAAAAAAAAAAAAAAAAAAAAAAAAAAACOFeAAAAAAAAAAAAAAAAAAAAAAAAAAAACOFeAAAAAAAAAAAAAAAAAAAAAAAAAAAACOFeAAAAAAAAAAAAAAAAAAAAAAAAAAAACOFeAAAAAAAAAAAAAAAAAAAAAAAAAAAACOFeAAAAAAAAAAAAAAAAAAAAAAAAAAAACOFeAAAAAAAAAAAAAAAAAAAAAAAAAAAACOFeAAAAAAAAAAAAAAAAAAAAAAAAAAAACOFeAAAAAAAAAAAAAAAAAAAAAAAAAAAACOFeAAAAAAAAAAAAAAAAAAAAAAAAAAAACOFeAAAAAAAAAAAAAAAAAAAAAAAAAAAACOFeAAAAAAAAAAAAAAAAAAAAAAAAAAAACOFeAAAAAAAAAAAAAAAAAAAAAAAAAAAACOFeAAAAAAAAAAAAAAAAAAAAAAAAAAAACOFeAAAAAAAAAAAAAAAAAAAAAAAAAAAACOFeAAAAAAAAAAAAAAAAAAAAAAAAAAAACOFeAAAAAAAAAAAAAAAAAAAAAAAAAAAACOFeAAAAAAAAAAAAAAAAAAAAAAAAAAAACOFeAAAAAAAAAAAAAAAAAAAAAAAAAAAACOFeAAAAAAAAAAAAAAAAAAAAAAAAAAAACOFeAAAAAAAAAAAAAAAAAAAAAAAAAAAACOFeAAAAAAAAAAAAAAAAAAAAAAAAAAAACOFeAAAAAAAAAAAAAAAAAAAAAAAAAAAACOFeAAAAAAAAAAAAAAAAAAAAAAAAAAAACOFeAAAAAAAAAAAAAAAAAAAAAAAAAAAACOFeAAAAAAAAAAAAAAAAAAAAAAAAAAAACOFeAAAAAAAAAAAAAAAAAAAAAAAAAAAACOFeAAAAAAAAAAAAAAAAAAAAAAAAAAAACOFeAAAAAAAAAAAAAAAAAAAAAAAAAAAACOFeAAAAAAAAAAAAAAAAAAAAAAAAAAAACOFeAAAAAAAAAAAAAAAAAAAAAAAAAAAACOFeAAAAAAAAAAAAAAAAAAAAAAAAAAAACOFeAAAAAAAAAAAAAAAAAAAAAAAAAAAACOFeAAAAAAAAAAAAAAAAAAAAAAAAAAAACOFeAAAAAAAAAAAAAAAAAAAAAAAAAAAACOFeAAAAAAAAAAAAAAAAAAAAAAAAAAAACOFeAAAAAAAAAAAAAAAAAAAAAAAAAAAACOFeAAAAAAAAAAAAAAAAAAAAAAAAAAAACOFeAAAAAAAAAAAAAAAAAAAAAAAAAAAACOFeAAAAAAAAAAAAAAAAAAAAAAAAAAAACOFeAAAAAAAAAAAAAAAAAAAAAAAAAAAACOFeAAAAAAAAAAAAAAAAAAAAAAAAAACNFRVOAAAgAElEQVQACOFeAAAAAAAAAAAAAAAAAAAAAAAAAAAACOFeAAAAAAAAAAAAAAAAAAAAAAAAAAAACOFeAAAAAAAAAAAAAAAAAAAAAAAAAAAACOFeAAAAAAAAAAAAAAAAAAAAAAAAAAAACOFeAAAAAAAAAAAAAAAAAAAAAAAAAAAACOFeAAAAAAAAAAAAAAAAAAAAAAAAAAAACOFeAAAAAAAAAAAAAAAAAAAAAAAAAAAACOFeAAAAAAAAAAAAAAAAAAAAAAAAAAAACOFeAAAAAAAAAAAAAAAAAAAAAAAAAAAACOFeAAAAAAAAAAAAAAAAAAAAAAAAAAAACOFeAAAAAAAAAAAAAAAAAAAAAAAAAAAACOFeAAAAAAAAAAAAAAAAAAAAAAAAAAAACOFeAAAAAAAAAAAAAAAAAAAAAAAAAAAACOFeAAAAAAAAAAAAAAAAAAAAAAAAAAAACOFeAAAAAAAAAAAAAAAAAAAAAAAAAAAACOFeAAAAAAAAAAAAAAAAAAAAAAAAAAAACOFeAAAAAAAAAAAAAAAAAAAAAAAAAAAACOFeAAAAAAAAAAAAAAAAAAAAAAAAAAAACOFeAAAAAAAAAAAAAAAAAAAAAAAAAAAACOFeAAAAAAAAAAAAAAAAAAAAAAAAAAAACOFeAAAAAAAAAAAAAAAAAAAAAAAAAAAACOFeAAAAAAAAAAAAAAAAAAAAAAAAAAAACOFeAAAAAAAAAAAAAAAAAAAAAAAAAAAACOFeAAAAAAAAAAAAAAAAAAAAAAAAAAAACOFeAAAAAAAAAAAAAAAAAAAAAAAAAAAACOFeAAAAAAAAAAAAAAAAAAAAAAAAAAAACOFeAAAAAAAAAAAAAAAAAAAAAAAAAAAACOFeAAAAAAAAAAAAAAAAAAAAAAAAAAAACOFeAAAAAAAAAAAAAAAAAAAAAAAAAAAACOFeAAAAAAAAAAAAAAAAAAAAAAAAAAAACOFeAAAAAAAAAAAAAAAAAAAAAAAAAAAACOFeAAAAAAAAAAAAAAAAAAAAAAAAAAAACOFeAAAAAAAAAAAAAAAAAAAAAAAAAAAACOFeAAAAAAAAAAAAAAAAAAAAAAAAAAAACOFeAAAAAAAAAAAAAAAAAAAAAAAAAAAACOFeAAAAAAAAAAAAAAAAAAAAAAAAAAAACOFeAAAAAAAAAAAAAAAAAAAAAAAAAAAACOFeAAAAAAAAAAAAAAAAAAAAAAAAAAAACOFeAAAAAAAAAAAAAAAAAAAAAAAAAAAACOFeAAAAAAAAAAAAAAAAAAAAAAAAAAAACOFeAAAAAAAAAAAAAAAAAAAAAAAAAAAACOFeAAAAAAAAAAAAAAAAAAAAAAAAAAAACOFeAAAAAAAAAAAAAAAAAAAAAAAAAAAACOFeAAAAAAAAAAAAAAAAAAAAAAAAAAAACOFeAAAAAAAAAAAAAAAAAAAAAAAAAAAACOFeAAAAAAAAAAAAAAAAAAAAAAAAAAAACOFeAAAAAAAAAAAAAAAAAAAAAAAAAAAACOFeAAAAAAAAAAAAAAAAAAAAAAAAAAAACOFeAAAAAAAAAAAAAAAAAAAAAAAAAAAACOFeAAAAAAAAAAAAAAAAAAAAAAAAAAAACOFeAAAAAAAAAAAAAAAAAAAAAAAAAAAACOFeAAAAAAAAAAAAAAAAAAAAAAAAAAAACOFeAAAAAAAAAAAAAAAAAAAAAAAAAAAACOFeAAAAAAAAAAAAAAAAAAAAAAAAAAAACOFeAAAAAAAAAAAAAAAAAAAAAAAAAAAACOFeAAAAAAAAAAAAAAAAAAAAAAAAAAAACOFeAAAAAAAAAAAAAAAAAAAAAAAAAAAACOFeAAAAAAAAAAAAAAAAAAAAAAAAAAAACOFeAAAAAAAAAAAAAAAAAAAAAAAAAAAACOFeAAAAAAAAAAAAAAAAAAAAAAAAAAAACOFeAAAAAAAAAAAAAAAAAAAAAAAAAAAACOFeAAAAAAAAAAAAAAAAAAAAAAAAAAAACOFeAAAAAAAAAAAAAAAAAAAAAAAAAAAACOFeAAAAAAAAAAAAAAAAAAAAAAAAAAAACOFeAAAAAAAAAAAAAAAAAAAAAAAAAAAACOFeAAAAAAAAAAAAAAAAAAAAAAAAAAAACOFeAAAAAAAAAAAAAAAAAAAAAAAAAAAACOFeAAAAAAAAAAAAAAAAAAAAAAAAAAAACOFeAAAAAAAAAAAAAAAAAAAAAAAAAAAACOFeAAAAAAAAAAAAAAAAAAAAAAAAAAAACOFeAAAAAAAAAAAAAAAAAAAAAAAAAAAACOFeAAAAAAAAAAAAAAAAAAAAAAAAAAAACOFeAAAAAAAAAAAAAAAAAAAAAAAAAAAACOFeAAAAAAAAAAAAAAAAAAAAAAAAAAAACOFeAAAAAAAAAAAAAAAAAAAAAAAAAAAACOFeAAAAAAAAAAAAAAAAAAAAAAAAAAAACOFeAAAAAAAAAAAAAAAAAAAAAAAAAAAACOFeAAAAAAAAAAAAAAAAAAAAAAAAAAAAiIvDvbv73u7+sLuPu/vr7n52y2EAAAAAAAAAAAAAAAAAAAAAAAAAAABwDw9XnH0xM1+cc57v7jsz8/Pufn/O+e1G2wAAAAAAAAAAAAAAAAAAAAAAAAAAAOA/9+TSg+ec3885z1/e/zkzjzPz7q2GAQAAAAAAAAAAAAAAAAAAAAAAAAAAwD1cHO6t3X1/Zj6YmZ9u8T0AAAAAAAAAAAAAAAAAAAAAAAAAAAC4l6vDvbv79sx8OzOfn3P+eMXzT3f32e4+e/H3X9f+DgAAAAAAAAAAAAAAAAAAAAAAAAAAAF6rq8K9u/vG/Bvt/eac892r3jnnfHXOeXrOefrw5lvX/A4AAAAAAAAAAAAAAAAAAAAAAAAAAABeu4vDvbu7M/P1zDyec7683SQAAAAAAAAAAAAAAAAAAAAAAAAAAAC4n4vDvTPz4cx8MjMf7e4vL6+Pb7QLAAAAAAAAAAAAAAAAAAAAAAAAAAAA7uLh0oPnnB9nZm+4BQAAAAAAAAAAAAAAAAAAAAAAAAAAAO7uyb0HAAAAAAAAAAAAAAAAAAAAAAAAAAAAwP+JcC8AAAAAAAAAAAAAAAAAAAAAAAAAAACEcC8AAAAAAAAAAAAAAAAAAAAAAAAAAACEcC8AAAAAAAAAAAAAAAAAAAAAAAAAAACEcC8AAAAAAAAAAAAAAAAAAAAAAAAAAACEcC8AAAAAAAAAAAAAAAAAAAAAAAAAAACEcC8AAAAAAAAAAAAAAAAAAAAAAAAAAACEcC8AAAAAAAAAAAAAAAAAAAAAAAAAAACEcC8AAAAAAAAAAAAAAAAAAAAAAAAAAACEcC8AAAAAAAAAAAAAAAAAAAAAAAAAAACEcC8AAAAAAAAAAAAAAAAAAAAAAAAAAACEcC8AAAAAAAAAAAAAAAAAAAAAAAAAAACEcC8AAAAAAAAAAAAAAAAAAAAAAAAAAACEcC8AAAAAAAAAAAAAAAAAAAAAAAAAAACEcC8AAAAAAAAAAAAAAAAAAAAAAAAAAACEcC8AAAAAAAAAAAAAAAAAAAAAAAAAAACEcC8AAAAAAAAAAAAAAAAAAAAAAAAAAACEcC8AAAAAAAAAAAAAAAAAAAAAAAAAAACEcC8AAAAAAAAAAAAAAAAAAAAAAAAAAACEcC8AAAAAAAAAAAAAAAAAAAAAAAAAAACEcC8AAAAAAAAAAAAAAAAAAAAAAAAAAACEcC8AAAAAAAAAAAAAAAAAAAAAAAAAAACEcC8AAAAAAAAAAAAAAAAAAAAAAAAAAACEcC8AAAAAAAAAAAAAAAAAAAAAAAAAAACEcC8AAAAAAAAAAAAAAAAAAAAAAAAAAACEcC8AAAAAAAAAAAAAAAAAAAAAAAAAAACEcC8AAAAAAAAAAADAP+zcsQkCUQBEQe4wEcQ+TO3K0BrswXrsQbsRPNMXXiB8lZkKNt7gAQAAAAAAAAAAAABACPcCAAAAAAAAAAAAAAAAAAAAAAAAAABACPcCAAAAAAAAAAAAAAAAAAAAAAAAAABACPcCAAAAAAAAAAAAAAAAAAAAAAAAAABACPcCAAAAAAAAAAAAAAAAAAAAAAAAAABACPcCAAAAAAAAAAAAAAAAAAAAAAAAAABACPcCAAAAAAAAAAAAAAAAAAAAAAAAAABACPcCAAAAAAAAAAAAAAAAAAAAAAAAAABACPcCAAAAAAAAAAAAAAAAAAAAAAAAAABACPcCAAAAAAAAAAAAAAAAAAAAAAAAAABACPcCAAAAAAAAAAAAAAAAAAAAAAAAAABACPcCAAAAAAAAAAAAAAAAAAAAAAAAAABACPcCAAAAAAAAAAAAAAAAAAAAAAAAAABACPcCAAAAAAAAAAAAAAAAAAAAAAAAAABACPcCAAAAAAAAAAAAAAAAAAAAAAAAAABACPcCAAAAAAAAAAAAAAAAAAAAAAAAAABACPcCAAAAAAAAAAAAAAAAAAAAAAAAAABACPcCAAAAAAAAAAAAAAAAAAAAAAAAAABACPcCAAAAAAAAAAAAAAAAAAAAAAAAAABACPcCAAAAAAAAAAAAAAAAAAAAAAAAAABACPcCAAAAAAAAAAAAAAAAAAAAAAAAAABACPcCAAAAAAAAAAAAAAAAAAAAAAAAAABACPcCAAAAAAAAAAAAAAAAAAAAAAAAAABACPcCAAAAAAAAAAAAAAAAAAAAAAAAAABACPcCAAAAAAAAAAAAAAAAAAAAAAAAAABACPcCAAAAAAAAAAAAAAAAAAAAAAAAAABACPcCAAAAAAAAAAAAAAAAAAAAAAAAAABACPcCAAAAAAAAAAAAAAAAAAAAAAAAAABACPcCAAAAAAAAAAAAAAAAAAAAAAAAAABACPcCAAAAAAAAAAAAAAAAAAAAAAAAAABACPcCAAAAAAAAAAAAAAAAAAAAAAAAAABACPcCAAAAAAAAAAAAAAAAAAAAAAAAAABACPcCAAAAAAAAAAAAAAAAAAAAAAAAAABACPcCAAAAAAAAAAAAAAAAAAAAAAAAAABACPcCAAAAAAAAAAAAAAAAAAAAAAAAAABACPcCAAAAAAAAAAAAAAAAAAAAAAAAAABACPcCAAAAAAAAAAAAAAAAAAAAAAAAAABACPcCAAAAAAAAAAAAAAAAAAAAAAAAAABACPcCAAAAAAAAAAAAAAAAAAAAAAAAAABACPcCAAAAAAAAAAAAAAAAAAAAAAAAAABACPcCAAAAAAAAAAAAAAAAAAAAAAAAAABACPcCAAAAAAAAAAAAAAAAAAAAAAAAAABACPcCAAAAAAAAAAAAAAAAAAAAAAAAAABACPcCAAAAAAAAAAAAAAAAAAAAAAAAAABACPcCAAAAAAAAAAAAAAAAAAAAAAAAAABACPcCAAAAAAAAAAAAAAAAAAAAAAAAAABACPcCAAAAAAAAAAAAAAAAAAAAAAAAAABACPcCAAAAAAAAAAAAAAAAAAAAAAAAAABACPcCAAAAAAAAAAAAAAAAAAAAAAAAAABACPcCAAAAAAAAAAAAAAAAAAAAAAAAAABACPcCAAAAAAAAAAAAAAAAAAAAAAAAAABACPcCAAAAAAAAAAAAAAAAAAAAAAAAAABACPcCAAAAAAAAAAAAAAAAAAAAAAAAAABACPcCAAAAAAAAAAAAAAAAAAAAAAAAAABACPcCAAAAAAAAAAAAAAAAAAAAAAAAAABACPcCAAAAAAAAAAAAAAAAAAAAAAAAAABACPcCAAAAAAAAAAAAAAAAAAAAAAAAAABACPcCAAAAAAAAAAAAAAAAAAAAAAAAAABACPcCAAAAAAAAAAAAAAAAAAAAAAAAAABACPcCAAAAAAAAAAAAAAAAAAAAAAAAAABACPcCAAAAAAAAAAAAAAAAAAAAAAAAAABACPcCAAAAAAAAAAAAAAAAAAAAAAAAAABACPcCAAAAAAAAAAAAAAAAAAAAAAAAAABACPcCAAAAAAAAAAAAAAAAAAAAAAAAAABACPcCAAAAAAAAAAAAAAAAAAAAAAAAAABACPcCAAAAAAAAAAAAAAAAAAAAAAAAAABACPcCAAAAAAAAAAAAAAAAAAAAAAAAAABACPcCAAAAAAAAAAAAAAAAAAAAAAAAAABACPcCAAAAAAAAAAAAAAAAAAAAAAAAAABACPcCAAAAAAAAAAAAAAAAAAAAAAAAAABACPcCAAAAAAAAAAAAAAAAAAAAAAAAAABACPcCAAAAAAAAAAAAAAAAAAAAAAAAAABACPcCAAAAAAAAAAAAAAAAAAAAAAAAAABACPcCAAAAAAAAAAAAAAAAAAAAAAAAAABACPcCAAAAAAAAAAAAAAAAAAAAAAAAAABACPcCAAAAAAAAAAAAAAAAAAAAAAAAAABACPcCAAAAAAAAAAAAAAAAAAAAAAAAAABACPcCAAAAAAAAAAAAAAAAAAAAAAAAAABACPcCAAAAAAAAAAAAAAAAAAAAAAAAAABACPcCAAAAAAAAAAAAAAAAAAAAAAAAAABACPcCAAAAAAAAAAAAAAAAAAAAAAAAAABACPcCAAAAAAAAAAAAAAAAAAAAAAAAAABACPcCAAAAAAAAAAAAAAAAAAAAAAAAAABACPcCAAAAAAAAAAAAAAAAAAAAAAAAAABACPcCAAAAAAAAAAAAAAAAAAAAAAAAAABACPcCAAAAAAAAAAAAAAAAAAAAAAAAAABACPcCAAAAAAAAAAAAAAAAAAAAAAAAAABACPcCAAAAAAAAAAAAAAAAAAAAAAAAAABACPcCAAAAAAAAAAAAAAAAAAAAAAAAAABACPcCAAAAAAAAAAAAAAAAAAAAAAAAAABACPcCAAAAAAAAAAAAAAAAAAAAAAAAAABACPcCAAAAAAAAAAAAAAAAAAAAAAAAAABACPcCAAAAAAAAAAAAAAAAAAAAAAAAAABACPcCAAAAAAAAAAAAAAAAAAAAAAAAAABACPcCAAAAAAAAAAAAAAAAAAAAAAAAAABACPcCAAAAAAAAAAAAAAAAAAAAAAAAAABACPcCAAAAAAAAAAAAAAAAAAAAAAAAAABACPcCAAAAAAAAAAAAAAAAAAAAAAAAAABACPcCAAAAAAAAAAAAAAAAAAAAAAAAAABACPcCAAAAAAAAAAAAAAAAAAAAAAAAAABACPcCAAAAAAAAAAAAAAAAAAAAAAAAAABACPcCAAAAAAAAAAAAAAAAAAAAAAAAAABACPcCAAAAAAAAAAAAAAAAAAAAAAAAAABACPcCAAAAAAAAAAAAAAAAAAAAAAAAAABACPcCAAAAAAAAAAAAAAAAAAAAAAAAAABACPcCAAAAAAAAAAAAAAAAAAAAAAAAAABACPcCAAAAAAAAAAAAAAAAAAAAAAAAAABACPcCAAAAAAAAAAAAAAAAAAAAAAAAAABACPcCAAAAAAAAAAAAAAAAAAAAAAAAAABACPcCAAAAAAAAAAAAAAAAAAAAAAAAAABACPcCAAAAAAAAAAAAAAAAAAAAAAAAAABACPcCAAAAAAAAAAAAAAAAAAAAAAAAAABACPcCAAAAAAAAAAAAAAAAAAAAAAAAAABACPcCAAAAAAAAAAAAAAAAAAAAAAAAAABACPcCAAAAAAAAAAAAAAAAAAAAAAAAAABACPcCAAAAAAAAAAAAAAAAAAAAAAAAAABACPcCAAAAAAAAAAAAAAAAAAAAAAAAAABACPcCAAAAAAAAAAAAAAAAAAAAAAAAAABACPcCAAAAAAAAAAAAAAAAAAAAAAAAAABACPcCAAAAAAAAAAAAAAAAAAAAAAAAAABACPcCAAAAAAAAAAAAAAAAAAAAAAAAAABACPcCAAAAAAAAAAAAAAAAAAAAAAAAAABACPcCAAAAAAAAAAAAAAAAAAAAAAAAAABACPcCAAAAAAAAAAAAAAAAAAAAAAAAAABACPcCAAAAAAAAAAAAAAAAAAAAAAAAAABACPcCAAAAAAAAAAAAAAAAAAAAAAAAAABACPcCAAAAAAAAAAAAAAAAAAAAAAAAAABACPcCAAAAAAAAAAAAAAAAAAAAAAAAAABACPcCAAAAAAAAAAAAAAAAAAAAAAAAAABACPcCAAAAAAAAAAAAAAAAAAAAAAAAAABACPcCAAAAAAAAAAAAAAAAAAAAAAAAAABACPcCAAAAAAAAAAAAAAAAAAAAAAAAAABACPcCAAAAAAAAAAAAAAAAAAAAAAAAAABACPcCAAAAAAAAAAAAAAAAAAAAAAAAAABACPcCAAAAAAAAAAAAAAAAAAAAAAAAAABACPcCAAAAAAAAAAAAAAAAAAAAAAAAAABACPcCAAAAAAAAAAAAAAAAAAAAAAAAAABACPcCAAAAAAAAAAAAAAAAAAAAAAAAAABACPcCAAAAAAAAAAAAAAAAAAAAAAAAAABACPcCAAAAAAAAAAAAAAAAAAAAAAAAAABACPcCAAAAAAAAAAAAAAAAAAAAAAAAAABACPcCAAAAAAAAAAAAAAAAAAAAAAAAAABACPcCAAAAAAAAAAAAAAAAAAAAAAAAAABACPcCAAAAAAAAAAAAAAAAAAAAAAAAAABACPcCAAAAAAAAAAAAAAAAAAAAAAAAAABACPcCAAAAAAAAAAAAAAAAAAAAAAAAAABACPcCAAAAAAAAAAAAAAAAAAAAAAAAAABACPcCAAAAAAAAAAAAAAAAAAAAAAAAAABACPcCAAAAAAAAAAAAAAAAAAAAAAAAAABACPcCAAAAAAAAAAAAAAAAAAAAAAAAAABACPcCAAAAAAAAAAAAAAAAAAAAAAAAAABACPcCAAAAAAAAAAAAAAAAAAAAAAAAAABACPcCAAAAAAAAAAAAAAAAAAAAAAAAAABACPcCAAAAAAAAAAAAAAAAAAAAAAAAAABACPcCAAAAAAAAAAAAAAAAAAAAAAAAAABACPcCAAAAAAAAAAAAAAAAAAAAAAAAAABACPcCAAAAAAAAAAAAAAAAAAAAAAAAAABACPcCAAAAAAAAAAAAAAAAAAAAAAAAAABACPcCAAAAAAAAAAAAAAAAAAAAAAAAAABACPcCAAAAAAAAAAAAAAAAAAAAAAAAAABACPcCAAAAAAAAAAAAAAAAAAAAAAAAAABACPcCAAAAAAAAAAAAAAAAAAAAAAAAAABACPcCAAAAAAAAAAAAAAAAAAAAAAAAAABACPcCAAAAAAAAAAAAAAAAAAAAAAAAAABACPcCAAAAAAAAAAAAAAAAAAAAAAAAAABACPcCAAAAAAAAAAAAAAAAAAAAAAAAAABACPcCAAAAAAAAAAAAAAAAAAAAAAAAAABACPcCAAAAAAAAAAAAAAAAAAAAAAAAAABACPcCAAAAAAAAAAAAAAAAAAAAAAAAAABACPcCAAAAAAAAAAAAAAAAAAAAAAAAAABACPcCAAAAAAAAAAAAAAAAAAAAAAAAAABACPcCAAAAAAAAAAAAAAAAAAAAAAAAAABACPcCAAAAAAAAAAAAAAAAAAAAAAAAAABACPcCAAAAAAAAAAAAAAAAAAAAAAAAAABACPcCAAAAAAAAAAAAAAAAAAAAAAAAAABACPcCAAAAAAAAAAAAAAAAAAAAAAAAAABACPcCAAAAAAAAAAAAAAAAAAAAAAAAAABACPcCAAAAAAAAAAAAAAAAAAAAAAAAAABACPcCAAAAAAAAAAAAAAAAAAAAAAAAAABACPcCAAAAAAAAAAAAAAAAAAAAAAAAAABACPcCAAAAAAAAAAAAAAAAAAAAAAAAAABACPcCAAAAAAAAAAAAAAAAAAAAAAAAAABACPcCAAAAAAAAAAAAAAAAAAAAAAAAAABAbEYPAIBvtEzT6AkAAAB/ZXotoycAwCrL7BsEAAD4NP8gAL/iufMPAvAb7ufr6AkAsNrxcho9AQAA4K/sb9vREwBglcfuMHoCAHzEPHoAAAAAAAAAAAAAAAAAAAAAAAAAAAAAfBPhXgAAAAAAAAAAAAAAAAAAAAAAAAAAAAjhXgAAAAAA4M3OHQsAAAAADPK33juIAgkAAAAAAAAAAAAAAAAAAAAYcS8AAAAAAAAAAAAAAAAAAAAAAAAAAACMuBcAAAAAAAAAAAAAAAAAAAAAAAAAAABG3AsAAAAAAAAAAAAAAAAAAAAAAAAAAAAj7gUAAAAAAAAAAAAAAAAAAAAAAAAAAIAR9wIAAAAAAAAAAAAAAAAAAAAAAAAAAMCIewEAAAAAAAAAAAAAAAAAAAAAAAAAAGDEvQAAAAAAAAAAAAAAAAAAAAAAAAAAADDiXgAAAAAAAAAAAAAAAAAAAAAAAAAAABhxLwAAAAAAAAAAAAAAAAAAAAAAAAAAAIy4FwAAAAAAAAAAAAAAAAAAAAAAAAAAAEbcCwAAAAAAAAAAAAAAAAAAAAAAAAAAACPuBQAAAAAAAAAAAAAAAAAAAAAAAAAAgBH3AgAAAAAAAAAAAAAAAAAAAAAAAAAAwIh7AQAAAAAAAAAAAAAAAAAAAAAAAAAAYMS9AAAAAAAAAAAAAAAAAAAAAAAAAAAAMOJeAAAAAAAAAAAAAAAAAAAAAAAAAAAAGHEvAAAAAAAAAAAAAAAAAAAAAAAAAAAAjLgXAAAAAAAAAAAAAAAAAAAAAAAAAAAARtwLAAAAAAAAAAAAAAAAAAAAAAAAAAAAI+4FAAAAAAAAAAAAAAAAAAAAAAAAAACAEfcCAAAAAAAAAAAAAAAAAAAAAAAAAADAiHsBAAAAAAAAAAAAAAAAAAAAAAAAAABgxL0AAAAAAAAAAAAAAAAAAAAAAAAAAAAw4l4AAAAAAAAAAAAAAAAAAAAAAAAAAAAYcS8AAAAAAAAAAAAAAAAAAAAAAAAAAACMuBcAAAAAAAAAAAAAAAAAAAAAAAAAAABG3AsAAAAAAAAAAAAAAAAAAAAAAAAAAAAj7gUAAAAAAAAAAAAAAAAAAAAAAAAAAIAR9wIAAAAAAAAAAAAAAAAAAAAAAAAAAMCIewEAAAAAAN8ed+MAACAASURBVAAAAAAAAAAAAAAAAAAAAGDEvQAAAAAAAAAAAAAAAAAAAAAAAAAAADDiXgAAAAAAAAAAAAAAAAAAAAAAAAAAABhxLwAAAAAAAAAAAAAAAAAAAAAAAAAAAIy4FwAAAAAAAAAAAAAAAAAAAAAAAAAAAEbcCwAAAAAAAAAAAAAAAAAAAAAAAAAAACPuBQAAAAAAAAAAAAAAAAAAAAAAAAAAgBH3AgAAAAAAAAAAAAAAAAAAAAAAAAAAwIh7AQAAAAAAAAAAAAAAAAAAAAAAAAAAYMS9AAAAAAAAAAAAAAAAAAAAAAAAAAAAMOJeAAAAAAAAAAAAAAAAAAAAAAAAAAAAGHEvAAAAAAAAAAAAAAAAAAAAAAAAAAAAjLgXAAAAAAAAAAAAAAAAAAAAAAAAAAAARtwLAAAAAAAAAAAAAAAAAAAAAAAAAAAAI+4FAAAAAAAAAAAAAAAAAAAAAAAAAACAEfcCAAAAAAAAAAAAAAAAAAAAAAAAAADAiHsBAAAAAAAAAAAAAAAAAAAAAAAAAABgxL0AAAAAAAAAAAAAAAAAAAAAAAAAAAAw4l4AAAAAAAAAAAAAAAAAAAAAAAAAAAAYcS8AAAAAAAAAAAAAAAAAAAAAAAAAAACMuBcAAAAAAAAAAAAAAAAAAAAAAAAAAABG3AsAAAAAAAAAAAAAAAAAAAAAAAAAAAAj7gUAAAAAAAAAAAAAAAAAAAAAAAAAAIAR9wIAAAAAAAAAAAAAAAAAAAAAAAAAAMCIewEAAAAAAAAAAAAAAAAAAAAAAAAAAGDEvQAAAAAAAAAAAAAAAAAAAAAAAAAAADDiXgAAAAAAAAAAAAAAAAAAAAAAAAAAABhxLwAAAAAAAAAAAAAAAAAAAAAAAAAAAIy4FwAAAAAAAAAAAAAAAAAAAAAAAAAAAEbcCwAAAAAAAAAAAAAAAAAAAAAAAAAAACPuBQAAAAAAAAAAAAAAAAAAAAAAAAAAgBH3AgAAAAAAAAAAAAAAAAAAAAAAAAAAwIh7AQAAAAAAAAAAAAAAAAAAAAAAAAAAYMS9AAAAAAAAAAAAAAAAAAAAAAAAAAAAMOJeAAAAAAAAAAAAAAAAAAAAAAAAAAAAGHEvAAAAAAAAAAAAAAAAAAAAAAAAAAAAjLgXAAAAAAAAAAAAAAAAAAAAAAAAAAAARtwLAAAAAAAAAAAAAAAAAAAAAAAAAAAAI+4FAAAAAAAAAAAAAAAAAAAAAAAAAACAEfcCAAAAAAAAAAAAAAAAAAAAAAAAAADAiHsBAAAAAAAAAAAAAAAAAAAAAAAAAABgxL0AAAAAAAAAAAAAAAAAAAAAAAAAAAAw4l4AAAAAAAAAAAAAAAAAAAAAAAAAAAAYcS8AAAAAAAAAAAAAAAAAAAAAAAAAAACMuBcAAAAAAAAAAAAAAAAAAAAAAAAAAABG3AsAAAAAAAAAAAAAAAAAAAAAAAAAAAAj7gUAAAAAAAAAAAAAAAAAAAAAAAAAAIAR9wIAAAAAAAAAAAAAAAAAAAAAAAAAAMCIewEAAAAAAAAAAAAAAAAAAAAAAAAAAGDEvQAAAAAAAAAAAAAAAAAAAAAAAAAAADDiXgAAAAAAAAAAAAAAAAAAAAAAAAAAABhxLwAAAAAAAAAAAAAAAAAAAAAAAAAAAIy4FwAAAAAAAAAAAAAAAAAAAAAAAAAAAEbcCwAAAAAAAAAAAAAAAAAAAAAAAAAAACPuBQAAAAAAAAAAAAAAAAAAAAAAAAAAgBH3AgAAAAAAAAAAAAAAAAAAAAAAAAAAwIh7AQAAAAAAAAAAAAAAAAAAAAAAAAAAYMS9AAAAAAAAAAAAAAAAAAAAAAAAAAAAMOJeAAAAAAAAAAAAAAAAAAAAAAAAAAAAGHEvAAAAAAAAAAAAAAAAAAAAAAAAAAAAjLgXAAAAAAAAAAAAAAAAAAAAAAAAAAAARtwLAAAAAAAAAAAAAAAAAAAAAAAAAAAAI+4FAAAAAAAAAAAAAAAAAAAAAAAAAACAEfcCAAAAAAAAAAAAAAAAAAAAAAAAAADAiHsBAAAAAAAAAAAAAAAAAAAAAAAAAABgxL0AAAAAAAAAAAAAAAAAAAAAAAAAAAAw4l4AAAAAAAAAAAAAAAAAAAAAAAAAAAAYcS8AAAAAAAAAAAAAAAAAAAAAAAAAAACMuBcAAAAAAAAAAAAAAAAAAAAAAAAAAABG3AsAAAAAAAAAAAAAAAAAAAAAAAAAAAAj7gUAAAAAAAAAAAAAAAAAAAAAAAAAAIAR9wIAAAAAAAAAAAAAAAAAAAAAAAAAAMCIewEAAAAAAAAAAAAAAAAAAAAAAAAAAGDEvQAAAAAAAAAAAAAAAAAAAAAAAAAAADDiXgAAAAAAAAAAAAAAAAAAAAAAAAAAABhxLwAAAAAAAAAAAAAAAAAAAAAAAAAAAIy4FwAAAAAAAAAAAAAAAAAAAAAAAAAAAEbcCwAAAAAAAAAAAAAAAAAAAAAAAAAAACPuBQAAAAAAAAAAAAAAAAAAAAAAAAAAgBH3AgAAAAAAAAAAAAAAAAAAAAAAAAAAwIh7AQAAAAAAAAAAAAAAAAAAAAAAAAAAYMS9AAAAAAAAAAAAAAAAAAAAAAAAAAAAMOJeAAAAAAAAAAAAAAAAAAAAAAAAAAAAGHEvAAAAAAAAAAAAAAAAAAAAAAAAAAAAjLgXAAAAAAAAAAAAAAAAAAAAAAAAAAAARtwLAAAAAAAAAAAAAAAAAAAAAAAAAAAAI+4FAAAAAAAAAAAAAAAAAAAAAAAAAACAEfcCAAAAAAAAAAAAAAAAAAAAAAAAAADAiHsBAAAAAAAAAAAAAAAAAAAAAAAAAABgxL0AAAAAAAAAAAAAAAAAAAAAAAAAAAAw4l4AAAAAAAAAAAAAAAAAAAAAAAAAAAAYcS8AAAAAAAAAAAAAAAAAAAAAAAAAAACMuBcAAAAAAAAAAAAAAAAAAAAAAAAAAABG3AsAAAAAAAAAAAAAAAAAAAAAAAAAAAAj7gUAAAAAAAAAAAAAAAAAAAAAAAAAAIAR9wIAAAAAAAAAAAAAAAAAAAAAAAAAAMCIewEAAAAAAAAAAAAAAAAAAAAAAAAAAGDEvQAAAAAAAAAAAAAAAAAAAAAAAAAAADDiXgAAAAAAAAAAAAAAAAAAAAAAAAAAABhxLwAAAAAAAAAAAAAAAAAAAAAAAAAAAIy4FwAAAAAAAAAAAAAAAAAAAAAAAAAAAEbcCwAAAAAAAAAAAAAAAAAAAAAAAAAAACPuBQAAAAAAAAAAAAAAAAAAAAAAAAAAgBH3AgAAAAAAAAAAAAAAAAAAAAAAAAAAwIh7AQAAAAAAAAAAAAAAAAAAAAAAAAAAYMS9AAAAAAAAAAAAAAAAAAAAAAAAAAAAMOJeAAAAAAAAAAAAAAAAAAAAAAAAAAAAGHEvAAAAAAAAAAAAAAAAAAAAAAAAAAAAjLgXAAAAAAAAAAAAAAAAAAAAAAAAAAAARtwLAAAAAAAAAAAAAAAAAAAAAAAAAAAAI+4FAAAAAAAAAAAAAAAAAAAAAAAAAACAEfcCAAAAAAAAAAAAAAAAAAAAAAAAAADAiHsBAAAAAAAAAAAAAAAAAAAAAAAAAABgxL0AAAAAAAAAAAAAAAAAAAAAAAAAAAAw4l4AAAAAAAAAAAAAAAAAAAAAAAAAAAAYcS8AAAAAAAAAAAAAAAAAAAAAAAAAAACMuBcAAAAAAAAAAAAAAAAAAAAAAAAAAABG3AsAAAAAAAAAAAAAAAAAAAAAAAAAAAAj7gUAAAAAAAAAAAAAAAAAAAAAAAAAAIAR9wIAAAAAAAAAAAAAAAAAAAAAAAAAAMCIewEAAAAAAAAAAAAAAAAAAAAAAAAAAGDEvQAAAAAAAAAAAAAAAAAAAAAAAAAAADDiXgAAAAAAAAAAAAAAAAAAAAAAAAAAABhxLwAAAAAAAAAAAAAAAAAAAAAAAAAAAIy4FwAAAAAAAAAAAAAAAAAAAAAAAAAAAEbcCwAAAAAAAAAAAAAAAAAAAAAAAAAAACPuBQAAAAAAAAAAAAAAAAAAAAAAAAAAgBH3AgAAAAAAAAAAAAAAAAAAAAAAAAAAwIh7AQAAAAAAAAAAAAAAAAAAAAAAAAAAYMS9AAAAAAAAAAAAAAAAAAAAAAAAAAAAMOJeAAAAAAAAAAAAAAAAAAAAAAAAAAAAGHEvAAAAAAAAAAAAAAAAAAAAAAAAAAAAjLgXAAAAAAAAAAAAAAAAAAAAAAAAAAAARtwLAAAAAAAAAAAAAAAAAAAAAAAAAAAAI+4FAAAAAAAAAAAAAAAAAAAAAAAAAACAEfcCAAAAAAAAAAAAAAAAAAAAAAAAAADAiHsBAAAAAAAAAAAAAAAAAAAAAAAAAABgxL0AAAAAAAAAAAAAAAAAAAAAAAAAAAAw4l4AAAAAAAAAAAAAAAAAAAAAAAAAAAAYcS8AAAAAAAAAAAAAAAAAAAAAAAAAAACMuBcAAAAAAAAAAAAAAAAAAAAAAAAAAABG3AsAAAAAAAAAAAAAAAAAAAAAAAAAAAAj7gUAAAAAAAAAAAAAAAAAAAAAAAAAAIAR9wIAAAAAAAAAAAAAAAAAAAAAAAAAAMCIewEAAAAAAAAAAAAAAAAAAAAAAAAAAGDEvQAAAAAAAAAAAAAAAAAAAAAAAAAAADDiXgAAAAAAAAAAAAAAAAAAAAAAAAAAABhxLwAAAAAAAAAAAAAAAAAAAAAAAAAAAIy4FwAAAAAAAAAAAAAAAAAAAAAAAAAAAEbcCwAAAAAAAAAAAAAAAAAAAAAAAAAAACPuBQAAAAAAAAAAAAAAAAAAAAAAAAAAgBH3AgAAAAAAAAAAAAAAAAAAAAAAAAAAwIh7AQAAAAAAAAAAAAAAAAAAAAAAAAAAYMS9AAAAAAAAAAAAAAAAAAAAAAAAAAAAMOJeAAAAAAAAAAAAAAAAAAAAAAAAAAAAGHEvAAAAAAAAAAAAAAAAAAAAAAAAAAAAjLgXAAAAAAAAAAAAYueOBQAAAAAG+VvvHUSBBAAAAAAAAAAAAAAAMOJeAAAAAAAAAAAAAAAAAAAAAAAAAAAAGHEvAAAAAAAAAAAAAAAAAAAAAAAAAAAAjLgXAAAAAAAAAAAAAAAAAAAAAAAAAAAARtwLAAAAAAAAAAAAAAAAAAAAAAAAAAAAI+4FAAAAAAAAAAAAAAAAAAAAAAAAAACAEfcCAAAAAAAAAAAAAAAAAAAAAAAAAADAiHsBAAAAAAAAAAAAAAAAAAAAAAAAAABgxL0AAAAAAAAAAAAAAAAAAAAAAAAAAAAw4l4AAAAAAAAAAAAAAAAAAAAAAAAAAAAYcS8AAAAAAAAAAAAAAAAAAAAAAAAAAACMuBcAAAAAAAAAAAAAAAAAAAAAAAAAAABG3AsAAAAAAAAAAAAAAAAAAAAAAAAAAAAj7gUAAAAAAAAAAAAAAAAAAAAAAAAAAIAR9wIAAAAAAAAAAAAAAAAAAAAAAAAAAMCIewEAAAAAAAAAAAAAAAAAAAAAAAAAAGDEvQAAAAAAAAAAAAAAAAAAAAAAAAAAADDiXgAAAAAAAAAAAAAAAAAAAAAAAAAAABhxLwAAAAAAAAAAAAAAAAAAAAAAAAAAAIy4FwAAAAAAAAAAAAAAAAAAAAAAAAAAAEbcCwAAAAAAAAAAAAAAAAAAAAAAAAAAACPuBQAAAAAAAAAAAAAAAAAAAAAAAAAAgBH3AgAAAAAAAAAAAAAAAAAAAAAAAAAAwIh7AQAAAAAAAAAAAAAAAAAAAAAAAAAAYMS9AAAAAAAAAAAAAAAAAAAAAAAAAAAAMOJeAAAAAAAAAAAAAAAAAAAAAAAAAAAAGHEvAAAAAAAAAAAAAAAAAAAAAAAAAAAAjLgXAAAAAAAAAAAAAAAAAAAAAAAAAAAARtwLAAAAAAAAAAAAAAAAAAAAAAAAAAAAI+4FAAAAAAAAAAAAAAAAAAAAAAAAAACAEfcCAAAAAAAAAAAAAAAAAAAAAAAAAADAiHsBAAAAAAAAAAAAAAAAAAAAAAAAAABgxL0AAAAAAAAAAAAAAAAAAAAAAAAAAAAw4l4AAAAAAAAAAAAAAAAAAAAAAAAAAAAYcS8AAAAAAAAAAAAAAAAAAAAAAAAAAACMuBcAAAAAAAAAAAAAAAAAAAAAAAAAAABG3AsAAAAAAAAAAAAAAAAAAAAAAAAAAAAj7gUAAAAAAAAAAAAAAAAAAAAAAAAAAIAR9wIAAAAAAAAAAAAAAAAAAAAAAAAAAMCIewEAAAAAAAAAAAAAAAAAAAAAAAAAAGDEvQAAAAAAAAAAAAAAAAAAAAAAAAAAADDiXgAAAAAAAAAAAAAAAAAAAAAAAAAAABhxLwAAAAAAAAAAAAAAAAAAAAAAAAAAAIy4FwAAAAAAAAAAAAAAAAAAAAAAAAAAAEbcCwAAAAAAAAAAAAAAAAAAAAAAAAAAACPuBQAAAAAAAAAAAAAAAAAAAAAAAAAAgBH3AgAAAAAAAAAAAAAAAAAAAAAAAAAAwIh7AQAAAAAAAAAAAAAAAAAAAAAAAAAAYMS9AAAAAAAAAAAAAAAAAAAAAAAAAAAAMOJeAAAAAAAAAAAAAAAAAAAAAAAAAAAAGHEvAAAAAAAAAAAAAAAAAAAAAAAAAAAAjLgXAAAAAAAAAAAAAAAAAAAAAAAAAAAARtwLAAAAAAAAAAAAAAAAAAAAAAAAAAAAI+4FAAAAAAAAAAAAAAAAAAAAAAAAAACAEfcCAAAAAAAAAAAAAAAAAAAAAAAAAADAiHsBAAAAAAAAAAAAAAAAAAAAAAAAAABgxL0AAAAAAAAAAAAAAAAAAAAAAAAAAAAw4l4AAAAAAAAAAAAAAAAAAAAAAAAAAAAYcS8AAAAAAAAAAAAAAAAAAAAAAAAAAACMuBcAAAAAAAAAAAAAAAAAAAAAAAAAAABG3AsAAAAAAAAAAAAAAAAAAAAAAAAAAAAj7gUAAAAAAAAAAAAAAAAAAAAAAAAAAIAR9wIAAAAAAAAAAAAAAAAAAAAAAAAAAMCIewEAAAAAAAAAAAAAAAAAAAAAAAAAAGDEvQAAAAAAAAAAAAAAAAAAAAAAAAAAADDiXgAAAAAAAAAAAAAAAAAAAAAAAAAAABhxLwAAAAAAAAAAAAAAAAAAAAAAAAAAAIy4FwAAAAAAAAAAAAAAAAAAAAAAAAAAAEbcCwAAAAAAAAAAAAAAAAAAAAAAAAAAACPuBQAAAAAAAAAAAAAAAAAAAAAAAAAAgBH3AgAAAAAAAAAAAAAAAAAAAAAAAAAAwIh7AQAAAAAAAAAAAAAAAAAAAAAAAAAAYMS9AAAAAAAAAAAAAAAAAAAAAAAAAAAAMOJeAAAAAAAAAAAAAAAAAAAAAAAAAAAAGHEvAAAAAAAAAAAAAAAAAAAAAAAAAAAAjLgXAAAAAAAAAAAAAAAAAAAAAAAAAAAARtwLAAAAAAAAAAAAAAAAAAAAAAAAAAAAI+4FAAAAAAAAAAAAAAAAAAAAAAAAAACAEfcCAAAAAAAAAAAAAAAAAAAAAAAAAADAiHsBAAAAAAAAAAAAAAAAAAAAAAAAAABgxL0AAAAAAAAAAAAAAAAAAAAAAAAAAAAw4l4AAAAAAAAAAAAAAAAAAAAAAAAAAAAYcS8AAAAAAAAAAAAAAAAAAAAAAAAAAACMuBcAAAAAAAAAAAAAAAAAAAAAAAAAAABG3AsAAAAAAAAAAAAAAAAAAAAAAAAAAAAj7gUAAAAAAAAAAAAAAAAAAAAAAAAAAIAR9wIAAAAAAAAAAAAAAAAAAAAAAAAAAMCIewEAAAAAAAAAAAAAAAAAAAAAAAAAAGDEvQAAAAAAAAAAAAAAAAAAAAAAAAAAADDiXgAAAAAAAAAAAAAAAAAAAAAAAAAAABhxLwAAAAAAAAAAAAAAAAAAAAAAAAAAAIy4FwAAAAAAAAAAAAAAAAAAAAAAAAAAAEbcCwAAAAAAAAAAAAAAAAAAAAAAAAAAACPuBQAAAAAAAAAAAAAAAAAAAAAAAAAAgBH3AgAAAAAAAAAAAAAAAAAAAAAAAAAAwIh7AQAAAAAAAAAAAAAAAAAAAAAAAAAAYMS9AAAAAAAAAAAAAAAAAAAAAAAAAAAAMOJeAAAAAAAAAAAAAAAAAAAAAAAAAAAAGHEvAAAAAAAAAAAAAAAAAAAAAAAAAAAAjLgXAAAAAAAAAAAAAAAAAAAAAAAAAAAARtwLAAAAAAAAAAAAAAAAAAAAAAAAAAAAI+4FAAAAAAAAAAAAAAAAAAAAAAAAAACAEfcCAAAAAAAAAAAAAAAAAAAAAAAAAADAiHsBAAAAAAAAAAAAAAAAAAAAAAAAAABgxL0AAAAAAAAAAAAAAAAAAAAAAAAAAAAw4l4AAAAAAAAAAAAAAAAAAAAAAAAAAAAYcS8AAAAAAAAAAAAAAAAAAAAAAAAAAACMuBcAAAAAAAAAAAAAAAAAAAAAAAAAAABG3AsAAAAAAAAAAAAAAAAAAAAAAAAAAAAj7gUAAAAAAAAAAAAAAAAAAAAAAAAAAIAR9wIAAAAAAAAAAAAAAAAAAAAAAAAAAMCIewEAAAAAAAAAAAAAAAAAAAAAAAAAAGDEvQAAAAAAAAAAAAAAAAAAAAAAAAAAADDiXgAAAAAAAAAAAAAAAAAAAAAAAAAAABhxLwAAAAAAAAAAAAAAAAAAAAAAAAAAAIy4FwAAAAAAAAAAAAAAAAAAAAAAAAAAAEbcCwAAAAAAAAAAAAAAAAAAAAAAAAAAACPuBQAAAAAAAAAAAAAAAAAAAAAAAAAAgBH3AgAAAAAAAAAAAAAAAAAAAAAAAAAAwIh7AQAAAAAAAAAAAAAAAAAAAAAAAAAAYMS9AAAAAAAAAAAAAAAAAAAAAAAAAAAAMOJeAAAAAAAAAAAAAAAAAAAAAAAAAAAAGHEvAAAAAAAAAAAAAAAAAAAAAAAAAAAAjLgXAAAAAAAAAAAAAAAAAAAAAAAAAAAARtwLAAAAAAAAAAAAAAAAAAAAAAAAAAAAI+4FAAAAAAAAAAAAAAAAAAAAAAAAAACAEfcCAAAAAAAAAAAAAAAAAAAAAAAAAADAiHsBAAAAAAAAAAAAAAAAAAAAAAAAAABgxL0AAAAAAAAAAAAAAAAAAAAAAAAAAAAw4l4AAAAAAAAAAAAAAAAAAAAAAAAAAAAYcS8AAAAAAAAAAAAAAAAAAAAAAAAAAACMuBcAAAAAAAAAAAAAAAAAAAAAAAAAAABG3AsAAAAAAAAAAAAAAAAAAAAAAAAAAAAj7gUAAAAAAAAAAAAAAAAAAAAAAAAAAIAR9wIAAAAAAAAAAAAAAAAAAAAAAAAAAMCIewEAAAAAAAAAAAAAAAAAAAAAAAAAAGDEvQAAAAAAAAAAAAAAAAAAAAAAAAAAADDiXgAAAAAAAAAAAAAAAAAAAAAAAAAAABhxLwAAAAAAAAAAAAAAAAAAAAAAAAAAAIy4FwAAAAAAAAAAAAAAAAAAAAAAAAAAAEbcCwAAAAAAAAAAAAAAAAAAAAAAAAAAACPuBQAAAAAAAAAAAAAAAAAAAAAAAAAAgBH3AgAAAAAAAAAAAAAAAAAAAAAAAAAAwIh7AQAAAAAAAAAAAAAAAAAAAAAAAAAAYMS9AAAAAAAAAAAAAAAAAAAAAAAAAAAAMOJeAAAAAAAAAAAAAAAAAAAAAAAAAAAAGHEvAAAAAAAAAAAAAAAAAAAAAAAAAAAAjLgXAAAAAAAAAAAAAAAAAAAAAAAAAAAARtwLAAAAAAAAAAAAAAAAAAAAAAAAAAAAI+4FAAAAAAAAAAAAAAAAAAAAAAAAAACAEfcCAAAAAAAAAAAAAAAAAAAAAAAAAADAiHsBAAAAAAAAAAAAAAAAAAAAAAAAAABgxL0AAAAAAAAAAAAAAAAAAAAAAAAAAAAw4l4AAAAAAAAAAAAAAAAAAAAAAAAAAAAYcS8AAAAAAAAAAAAAAAAAAAAAAAAAAACMuBcAAAAAAAAAAAAAAAAAAAAAAAAAAABG3AsAAAAAAAAAAAAAAAAAAAAAAAAAAAAj7gUAAAAAAAAAAAAAAAAAAAAAAAAAAIAR9wIAAAAAAAAAAAAAAAAAAAAAAAAAAMCIewEAAAAAAAAAAAAAAAAAAAAAAAAAAGDEvQAAAAAAAAAAAAAAAAAAAAAAAAAAADDiXgAAAAAAAAAAAAAAAAAAAAAAAAAAABhxLwAAAAAAAAAAAAAAAAAAAAAAAAAAAIy4FwAAAAAAAAAAAAAAAAAAAAAAAAAAAEbcCwAAAAAAAAAAAAAAAAAAAAAAAAAAACPuBQAAAAAAAAAAAAAAAAAAAAAAAAAAgBH3AgAAAAAAAAAAAAAAAAAAAAAAAAAAwIh7AQAAAAAAAAAAAAAAAAAAAAAAAAAAYMS9AAAAAAAAAAAAAAAAAAAAAAAAAAAAMOJeAAAAAAAAAAAAAAAAAAAAAAAAAAAAGHEvAAAAAAAAAAAAAAAAAAAAAAAAAAAAjLgXAAAAAAAAAAAAAAAAAAAAAAAAAAAARtwLAAAAAAAAAAAAAAAAAAAAAAAAAAAAI+4FAAAAAAAAAAAAAAAAAAAAAAAAAACAEfcCAAAAAAAAAAAAAAAAAAAAAAAAAADAiHsBAAAAAAAAAAAAAAAAAAAAAAAAAABgxL0AAAAAAAAAAAAAAAAAAAAAAAAAAAAw4l4AAAAAAAAAAAAAAAAAAAAAAAAAAAAYcS8AAAAAAAAAAAAAAAAAAAAAAAAAAACMuBcAAAAAAAAAAAAAAAAAAAAAAAAAAABG3AsAAAAAAAAAAAAAAAAAAAAAAAAAAAAj7gUAAAAAAAAAAAAAAAAAAAAAAAAAAIAR9wIAAAAAAAAAAAAAAAAAAAAAAAAAAMCIewEAAAAAAAAAAAAAAAAAAAAAAAAAAGDEvQAAAAAAAAAAAAAAAAAAAAAAAAAAADDiXgAAAAAAAAAAAAAAAAAAAAAAAAAAABhxLwAAAAAAAAAAAAAAAACxc8c2V17keAAAIABJREFUCQZgFEVFpNSeFeh0K9jBijiDO7mKG0gCtrf8YwwfIecs8N4EFwAAAAAAAACAEO4FAAAAAAAAAAAAAAAAAAAAAAAAAACAEO4FAAAAAAAAAAAAAAAAAAAAAAAAAACAEO4FAAAAAAAAAAAAAAAAAAAAAAAAAACAEO4FAAAAAAAAAAAAAAAAAAAAAAAAAACAEO4FAAAAAAAAAAAAAAAAAAAAAAAAAACAEO4FAAAAAAAAAAAAAAAAAAAAAAAAAACAEO4FAAAAAAAAAAAAAAAAAAAAAAAAAACAEO4FAAAAAAAAAAAAAAAAAAAAAAAAAACAEO4FAAAAAAAAAAAAAAAAAAAAAAAAAACAEO4FAAAAAAAAAAAAAAAAAAAAAAAAAACAEO4FAAAAAAAAAAAAAAAAAAAAAAAAAACAEO4FAAAAAAAAAAAAAAAAAAAAAAAAAACAEO4FAAAAAAAAAAAAAAAAAAAAAAAAAACAEO4FAAAAAAAAAAAAAAAAAAAAAAAAAACAEO4FAAAAAAAAAAAAAAAAAAAAAAAAAACAEO4FAAAAAAAAAAAAAAAAAAAAAAAAAACAEO4FAAAAAAAAAAAAAAAAAAAAAAAAAACAEO4FAAAAAAAAAAAAAAAAAAAAAAAAAACAEO4FAAAAAAAAAAAAAAAAAAAAAAAAAACAEO4FAAAAAAAAAAAAAAAAAAAAAAAAAACAEO4FAAAAAAAAAAAAAAAAAAAAAAAAAACAEO4FAAAAAAAAAAAAAAAAAAAAAAAAAACAEO4FAAAAAAAAAAAAAAAAAAAAAAAAAACAEO4FAAAAAAAAAAAAAAAAAAAAAAAAAACAEO4FAAAAAAAAAAAAAAAAAAAAAAAAAACAEO4FAAAAAAAAAAAAAAAAAAAAAAAAAACAEO4FAAAAAAAAAAAAAAAAAAAAAAAAAACAEO4FAAAAAAAAAAAAAAAAAAAAAAAAAACAEO4FAAAAAAAAAAAAAAAAAAAAAAAAAACAEO4FAAAAAAAAAAAAAAAAAAAAAAAAAACAEO4FAAAAAAAAAAAAAAAAAAAAAAAAAACAEO4FAAAAAAAAAAAAAAAAAAAAAAAAAACAEO4FAAAAAAAAAAAAAAAAAAAAAAAAAACAEO4FAAAAAAAAAAAAAAAAAAAAAAAAAACAEO4FAAAAAAAAAAAAAAAAAAAAAAAAAACAEO4FAAAAAAAAAAAAAAAAAAAAAAAAAACAEO4FAAAAAAAAAAAAAAAAAAAAAAAAAACAEO4FAAAAAAAAAAAAAAAAAAAAAAAAAACAEO4FAAAAAAAAAAAAAAAAAAAAAAAAAACAEO4FAAAAAAAAAAAAAAAAAAAAAAAAAACAEO4FAAAAAAAAAAAAAAAAAAAAAAAAAACAEO4FAAAAAAAAAAAAAAAAAAAAAAAAAACAEO4FAAAAAAAAAAAAAAAAAAAAAAAAAACAEO4FAAAAAAAAAAAAAAAAAAAAAAAAAACAEO4FAAAAAAAAAAAAAAAAAAAAAAAAAACAEO4FAAAAAAAAAAAAAAAAAAAAAAAAAACAEO4FAAAAAAAAAAAAAAAAAAAAAAAAAACAEO4FAAAAAAAAAAAAAAAAAAAAAAAAAACAEO4FAAAAAAAAAAAAAAAAAAAAAAAAAACAEO4FAAAAAAAAAAAAAAAAAAAAAAAAAACAEO4FAAAAAAAAAAAAAAAAAAAAAAAAAACAEO4FAAAAAAAAAAAAAAAAAAAAAAAAAACAEO4FAAAAAAAAAAAAAAAAAAAAAAAAAACAeLrm2G77/fD1/nnNSQD4k9ePw/QFAFjmMn0AAADgvlzW0w8AAADuz+o8/QAAljlvph8AwDJvx/30BQAAAABgyOl5NX0BABb5eZl+AAD/43H6AAAAAAAAAAAAAAAAAAAAAAAAAAAAANwS4V4AAAAAAAAAAAAAAAAAAAAAAAAAAAAI4V4AAAAAAAAAAAAAAAAAAAAAAAAAAAAI4V4AAAAAAAAAAAAAAAAAAAAAAAAAAAAI4V4AAAAAAAAAAAAAAAAAAAAAAAAAAAAI4V4AAAAAAAAAAAAAAAAAAAAAAAAAAAAI4V4AAAAAAAAAAAAAAAAAAAAAAAAAAAAI4V4AAAAAAAAAAAAAAAAAAAAAAAAAAAAI4V4AAAAAAAAAAAAAAAAAAAAAAAAAAAAI4V4AAAAAAAAAAAAAAAAAAAAAAAAAAAAI4V4AAAAAAAAAAAAAAAAAAAAAAAAAAAAI4V4AAAAAAAAAAAAAAAAAAAAAAAAAAAAI4V4AAAAAAAAAAAAAAAAAAAAAAAAAAAAI4V4AAAAAAAAAAAAAAAAAAAAAAAAAAAAI4V4AAAAAAAAAAAAAAAAAAAAAAAAAAAAI4V4AAAAAAAAAAAAAAAAAAAAAAAAAAAAI4V4AAAAAAAAAAAAAAAAAAAAAAAAAAAAI4V4AAAAAAAAAAAAAAAAAAAAAAAAAAAAI4V4AAAAAAAAAAAAAAAAAAAAAAAAAAAAI4V4AAAAAAAAAAAAAAAAAAAAAAAAAAAAI4V4AAAAAAAAAAAAAAAAAAAAAAAAAAAAI4V4AAAAAAAAAAAAAAAAAAAAAAAAAAAAI4V4AAAAAAAAAAAAAAAAAAAAAAAAAAAAI4V4AAAAAAAAAAAAAAAAAAAAAAAAAAAAI4V4AAAAAAAAAAAAAAAAAAAAAAAAAAAAI4V4AAAAAAAAAAAAAAAAAAAAAAAAAAAAI4V4AAAAAAAAAAAAAAAAAAAAAAAAAAAAI4V4AAAAAAAAAAAAAAAAAAAAAAAAAAAAI4V4AAAAAAAAAAAAAAAAAAAAAAAAAAAAI4V4AAAAAAAAAAAAAAAAAAAAAAAAAAAAI4V4AAAAAAAAAAAAAAAAAAAAAAAAAAAAI4V4AAAAAAAAAAAAAAAAAAAAAAAAAAAAI4V4AAAAAAAAAAAAAAAAAAAAAAAAAAAAI4V4AAAAAAAAAAAAAAAAAAAAAAAAAAAAI4V4AAAAAAAAAAAAAAAAAAAAAAAAAAAAI4V4AAAAAAAAAAAAAAAAAAAAAAAAAAAAI4V4AAAAAAAAAAAAAAAAAAAAAAAAAAAAI4V4AAAAAAAAAAAAAAAAAAAAAAAAAAAAI4V4AAAAAAAAAAAAAAAAAAAAAAAAAAAAI4V4AAAAAAAAAAAAAAAAAAAAAAAAAAAAI4V4AAAAAAAAAAAAAAAAAAAAAAAAAAAAI4V4AAAAAAAAAAAAAAAAAAAAAAAAAAAAI4V4AAAAAAAAAAAAAAAAAAAAAAAAAAAAI4V4AAAAAAAAAAAAAAAAAAAAAAAAAAAAI4V4AAAAAAAAAAAAAAAAAAAAAAAAAAAAI4V4AAAAAAAAAAAAAAAAAAAAAAAAAAAAI4V4AAAAAAAAAAAAAAAAAAAAAAAAAAAAI4V4AAAAAAAAAAAAAAAAAAAAAAAAAAAAI4V4AAAAAAAAAAAAAAAAAAAAAAAAAAAAI4V4AAAAAAAAAAAAAAAAAAAAAAAAAAAAI4V4AAAAAAAAAAAAAAAAAAAAAAAAAAAAI4V4AAAAAAAAAAAAAAAAAAAAAAAAAAAAI4V4AAAAAAAAAAAAAAAAAAAAAAAAAAAAI4V4AAAAAAAAAAAAAAAAAAAAAAAAAAAAI4V4AAAAAAAAAAAAAAAAAAAAAAAAAAAAI4V4AAAAAAAAAAAAAAAAAAAAAAAAAAAAI4V4AAAAAAAAAAAAAAAAAAAAAAAAAAAAI4V4AAAAAAAAAAAAAAAAAAAAAAAAAAAAI4V4AAAAAAAAAAAAAAAAAAAAAAAAAAAAI4V4AAAAAAAAAAAAAAAAAAAAAAAAAAAAI4V4AAAAAAAAAAAAAAAAAAAAAAAAAAAAI4V4AAAAAAAAAAAAAAAAAAAAAAAAAAAAI4V4AAAAAAAAAAAAAAAAAAAAAAAAAAAAI4V4AAAAAAAAAAAAAAAAAAAAAAAAAAAAI4V4AAAAAAAAAAAAAAAAAAAAAAAAAAAAI4V4AAAAAAAAAAAAAAAAAAAAAAAAAAAAI4V4AAAAAAAAAAAAAAAAAAAAAAAAAAAAI4V4AAAAAAAAAAAAAAAAAAAAAAAAAAAAI4V4AAAAAAAAAAAAAAAAAAAAAAAAAAAAI4V4AAAAAAAAAAAAAAAAAAAAAAAAAAAAI4V4AAAAAAAAAAAAAAAAAAAAAAAAAAAAI4V4AAAAAAAAAAAAAAAAAAAAAAAAAAAAI4V4AAAAAAAAAAAAAAAAAAAAAAAAAAAAI4V4AAAAAAAAAAAAAAAAAAAAAAAAAAAAI4V4AAAAAAAAAAAAAAAAAAAAAAAAAAAAI4V4AAAAAAAAAAAAAAAAAAAAAAAAAAAAI4V4AAAAAAAAAAAAAAAAAAAAAAAAAAAAI4V4AAAAAAAAAAAAAAAAAAAAAAAAAAAAI4V4AAAAAAAAAAAAAAAAAAAAAAAAAAAAI4V4AAAAAAAAAAAAAAAAAAAAAAAAAAAAI4V4AAAAAAAAAAAAAAAAAAAAAAAAAAAAI4V4AAAAAAAAAAAAAAAAAAAAAAAAAAAAI4V4AAAAAAAAAAAAAAAAAAAAAAAAAAAAI4V4AAAAAAAAAAAAAAAAAAAAAAAAAAAAI4V4AAAAAAAAAAAAAAAAAAAAAAAAAAAAI4V4AAAAAAAAAAAAAAAAAAAAAAAAAAAAI4V4AAAAAAAAAAAAAAAAAAAAAAAAAAAAI4V4AAAAAAAAAAAAAAAAAAAAAAAAAAAAI4V4AAAAAAAAAAAAAAAAAAAAAAAAAAAAI4V4AAAAAAAAAAAAAAAAAAAAAAAAAAAAI4V4AAAAAAAAAAAAAAAAAAAAAAAAAAAAI4V4AAAAAAAAAAAAAAAAAAAAAAAAAAAAI4V4AAAAAAAAAAAAAAAAAAAAAAAAAAAAI4V4AAAAAAAAAAAAAAAAAAAAAAAAAAAAI4V4AAAAAAAAAAAAAAAAAAAAAAAAAAAAI4V4AAAAAAAAAAAAAAAAAAAAAAAAAAAAI4V4AAAAAAAAAAAAAAAAAAAAAAAAAAAAI4V4AAAAAAAAAAAAAAAAAAAAAAAAAAAAI4V4AAAAAAAAAAAAAAAAAAAAAAAAAAAAI4V4AAAAAAAAAAAAAAAAAAAAAAAAAAAAI4V4AAAAAAAAAAAAAAAAAAAAAAAAAAAAI4V4AAAAAAAAAAAAAAAAAAAAAAAAAAAAI4V4AAAAAAAAAAAAAAAAAAAAAAAAAAAAI4V4AAAAAAAAAAAAAAAAAAAAAAAAAAAAI4V4AAAAAAAAAAAAAAAAAAAAAAAAAAAAI4V4AAAAAAAAAAAAAAAAAAAAAAAAAAAAI4V4AAAAAAAAAAAAAAAAAAAAAAAAAAAAI4V4AAAAAAAAAAAAAAAAAAAAAAAAAAAAI4V4AAAAAAAAAAAAAAAAAAAAAAAAAAAAI4V4AAAAAAAAAAAAAAAAAAAAAAAAAAAAI4V4AAAAAAAAAAAAAAAAAAAAAAAAAAAAI4V4AAAAAAAAAAAAAAAAAAAAAAAAAAAAI4V4AAAAAAAAAAAAAAAAAAAAAAAAAAAAI4V4AAAAAAAAAAAAAAAAAAAAAAAAAAAAI4V4AAAAAAAAAAAAAAAAAAAAAAAAAAAAI4V4AAAAAAAAAAAAAAAAAAAAAAAAAAAAI4V4AAAAAAAAAAAAAAAAAAAAAAAAAAAAI4V4AAAAAAAAAAAAAAAAAAAAAAAAAAAAI4V4AAAAAAAAAAAAAAAAAAAAAAAAAAAAI4V4AAAAAAAAAAAAAAAAAAAAAAAAAAAAI4V4AAAAAAAAAAAAAAAAAAAAAAAAAAAAI4V4AAAAAAAAAAAAAAAAAAAAAAAAAAAAI4V4AAAAAAAAAAAAAAAAAAAAAAAAAAAAI4V4AAAAAAAAAAAAAAAAAAAAAAAAAAAAI4V4AAAAAAAAAAAAAAAAAAAAAAAAAAAAI4V4AAAAAAAAAAAAAAAAAAAAAAAAAAAAI4V4AAAAAAAAAAAAAAAAAAAAAAAAAAAAI4V4AAAAAAAAAAAAAAAAAAAAAAAAAAAAI4V4AAAAAAAAAAAAAAAAAAAAAAAAAAAAI4V4AAAAAAAAAAAAAAAAAAAAAAAAAAAAI4V4AAAAAAAAAAAAAAAAAAAAAAAAAAAAI4V4AAAAAAAAA4JedO8a1AYrCMLqPZwaie4VBvE6nJWqFWquTmIValAoDUMsbAFFq1cQQONovGsm9lyuyVn2yzz+CDwAAAAAAAAAAAAAAAAAI4V4AAAAAAAAAAAAAAAAAAAAAAAAAAAAI4V4AAAAAAAAAAAAAAAAAAAAAAAAAAAAI4V4AAAAAAAAAAAAAAAAAAAAAAAAAAAAI4V4AAAAAAAAAAAAAAAAAAAAAAAAAAAAI4V4AAAAAAAAAAAAAAAAAAAAAAAAAAAAI4V4AAAAAAAAAAAAAAAAAAAAAAAAAAAAI4V4AAAAAAAAAAAAAAAAAAAAAAAAAAAAI4V4AAAAAAAAAAAAAAAAAAAAAAAAAAAAI4V4AAAAAAAAAAAAAAAAAAAAAAAAAAAAI4V4AAAAAAAAAAAAAAAAAAAAAAAAAAAAI4V4AAAAAAAAAAAAAAAAAAAAAAAAAAAAI4V4AAAAAAAAAAAAAAAAAAAAAAAAAAAAI4V4AAAAAAAAAAAAAAAAAAAAAAAAAAAAI4V4AAAAAAAAAAAAAAAAAAAAAAAAAAAAI4V4AAAAAAAAAAAAAAAAAAAAAAAAAAAAI4V4AAAAAAAAAAAAAAAAAAAAAAAAAAAAI4V4AAAAAAAAAAAAAAAAAAAAAAAAAAAAI4V4AAAAAAAAAAAAAAAAAAAAAAAAAAAAI4V4AAAAAAAAAAAAAAAAAAAAAAAAAAAAI4V4AAAAAAAAAAAAAAAAAAAAAAAAAAAAI4V4AAAAAAAAAAAAAAAAAAAAAAAAAAAAI4V4AAAAAAAAAAAAAAAAAAAAAAAAAAAAI4V4AAAAAAAAAAAAAAAAAAAAAAAAAAAAI4V4AAAAAAAAAAAAAAAAAAAAAAAAAAAAI4V4AAAAAAAAAAAAAAAAAAAAAAAAAAAAI4V4AAAAAAAAAAAAAAAAAAAAAAAAAAAAI4V4AAAAAAAAAAAAAAAAAAAAAAAAAAAAI4V4AAAAAAAAAAAAAAAAAAAAAAAAAAAAI4V4AAAAAAAAAAAAAAAAAAAAAAAAAAAAI4V4AAAAAAAAAAAAAAAAAAAAAAAAAAAAI4V4AAAAAAAAAAAAAAAAAAAAAAAAAAAAI4V4AAAAAAAAAAAAAAAAAAAAAAAAAAAAI4V4AAAAAAAAAAAAAAAAAAAAAAAAAAAAI4V4AAAAAAAAAAAAAAAAAAAAAAAAAAAAI4V4AAAAAAAAAAAAAAAAAAAAAAAAAAAAI4V4AAAAAAAAAAAAAAAAAAAAAAAAAAAAI4V4AAAAAAAAAAAAAAAAAAAAAAAAAAAAI4V4AAAAAAAAAAAAAAAAAAAAAAAAAAAAI4V4AAAAAAAAAAAAAAAAAAAAAAAAAAAAI4V4AAAAAAAAAAAAAAAAAAAAAAAAAAAAI4V4AAAAAAAAAAAAAAAAAAAAAAAAAAAAI4V4AAAAAAAAAAAAAAAAAAAAAAAAAAAAI4V4AAAAAAAAAAAAAAAAAAAAAAAAAAAAI4V4AAAAAAAAAAAAAAAAAAAAAAAAAAAAI4V4AAAAAAAAAAAAAAAAAAAAAAAAAAAAI4V4AAAAAAAAAAAAAAAAAAAAAAAAAAAAI4V4AAAAAAAAAAAAAAAAAAAAAAAAAAAAI4V4AAAAAAAAAAAAAAAAAAAAAAAAAAAAI4V4AAAAAAAAAAAAAAAAAAAAAAAAAAAAI4V4AAAAAAAAAAAAAAAAAAAAAAAAAAAAI4V4AAAAAAAAAAAAAAAAAAAAAAAAAAAAI4V4AAAAAAAAAAAAAAAAAAAAAAAAAAAAI4V4AAAAAAAAAAAAAAAAAAAAAAAAAAAAI4V4AAAAAAAAAAAAAAAAAAAAAAAAAAAAI4V4AAAAAAAAAAAAAAAAAAAAAAAAAAAAI4V4AAAAAAAAAAAAAAAAAAAAAAAAAAAAI4V4AAAAAAAAAAAAAAAAAAAAAAAAAAAAI4V4AAAAAAAAAAAAAAAAAAAAAAAAAAAAI4V4AAAAAAAAAAAAAAAAAAAAAAAAAAAAI4V4AAAAAAAAAAAAAAAAAAAAAAAAAAAAI4V4AAAAAAAAAAAAAAAAAAAAAAAAAAAAI4V4AAAAAAAAAAAAAAAAAAAAAAAAAAAAI4V4AAAAAAAAAAAAAAAAAAAAAAAAAAAAI4V4AAAAAAAAAAAAAAAAAAAAAAAAAAAAI4V4AAAAAAAAAAAAAAAAAAAAAAAAAAAAI4V4AAAAAAAAAAAAAAAAAAAAAAAAAAAAI4V4AAAAAAAAAAAAAAAAAAAAAAAAAAAAI4V4AAAAAAAAAAAAAAAAAAAAAAAAAAAAI4V4AAAAAAAAAAAAAAAAAAAAAAAAAAAAI4V4AAAAAAAAAAAAAAAAAAAAAAAAAAAAI4V4AAAAAAAAAAAAAAAAAAAAAAAAAAAAI4V4AAAAAAAAAAAAAAAAAAAAAAAAAAAAI4V4AAAAAAAAAAAAAAAAAAAAAAAAAAAAI4V4AAAAAAAAAAAAAAAAAAAAAAAAAAAAI4V4AAAAAAAAAAAAAAAAAAAAAAAAAAAAI4V4AAAAAAAAAAAAAAAAAAAAAAAAAAAAI4V4AAAAAAAAAAAAAAAAAAAAAAAAAAAAI4V4AAAAAAAAAAAAAAAAAAAAAAAAAAAAI4V4AAAAAAAAAAAAAAAAAAAAAAAAAAACIo8O9a62LtdbHtdbbUwwCAAAAAAAAAAAAAAAAAAAAAAAAAACAczo63DszT2fm0wnuAAAAAAAAAAAAAAAAAAAAAAAAAAAAwNkdFe5da13OzP2ZeXWaOQAAAAAAAAAAAAAAAAAAAAAAAAAAAHBeR4V7Z+bFzDybmR8n2AIAAAAAAAAAAAAAAAAAAAAAAAAAAABnd3C4d631YGa+7L0//Obdk7XW+7XW+6/fvh/6HQAAAAAAAAAAAAAAAAAAAAAAAAAAAPwVB4d7Z+buzDxca32emTczc2+t9frXR3vvl3vvq7331e1bF0d8BwAAAAAAAAAAAAAAAAAAAAAAAAAAAH/eweHevffzvffl3vvOzDyamXd778cnWwYAAAAAAAAAAAAAAAAAAAAAAAAAAABncHC4FwAAAAAAAAAAAAAAAAAAAAAAAAAAAP5HN09xZO99PTPXp7gFAAAAAAAAAAAAAAAAAAAAAAAAAAAA53Tj3AMAAAAAAAAAAAAAAAAAAAAAAAAAAADgXyLcCwAAAAAAAAAAAAAAAAAAAAAAAAAAACHcCwAAAAAAAAAAAAAAAAAAAAAAAAAAACHcCwAAAAAAAAAAAAAAAAAAAAAAAAAAACHcCwAAAAAAAAAAAAAAAAAAAAAAAAAAACHcCwAAAAAAAAAAAAAAAAAAAAAAAAAAACHcCwAAAAAAAAAAAAAAAAAAAAAAAAAAACHcCwAAAAAAAAAAAAAAAAAAAAAAAAAAACHcCwAAAAAAAAAAAAAAAAAAAAAAAAAAACHcCwAAAAAAAAAAAAAAAAAAAAAAAAAAACHcCwAAAAAAAAAAAAAAAAAAAAAAAAAAACHcCwAAAAAAAAAAAAAAAAAAAAAAAAAAACHcCwAAAAAAAAAAAAAAAAAAAAAAAAAAACHcCwAAAAAAAAAAAAAAAAAAAAAAAAAAACHcCwAAAAAAAAAAAAAAAAAAAAAAAAAAACHcCwAAAAAAAAAAAAAAAAAAAAAAAAAAACHcCwAAAAAAAAAAAAAAAAAAAAAAAAAAACHcCwAAAAAAAAAAAAAAAAAAAAAAAAAAACHcCwAAAAAAAAAAAAAAAAAAAAAAAAAAACHcCwAAAAAAAAAAAAAAAAAAAAAAAAAAACHcCwAAAAAAAAAAAAAAAAAAAAAAAAAAACHcCwAAAAAAAAAAAAAAAAAAAAAAAAAAACHcCwAAAAAAAAAAAAAAAAAAAAAAAAAAACHcCwAAAAAAAAAAAAAAAAAAAAAAAAAAACHcCwAAAAAAAAAAAAAAAAAAAAAAAAAAACHcCwAAAAAAAAAAAAAAAAAAAAAAAAAAACHcCwAAAAAAAAAAAAAAAAAAAAAAAAAAACHcCwAAAAAAAAAAAAAAAAAAAAAAAAAAACHcCwAAAAAAAAAAAAAAAAAAAAAAAAAAACHcCwAAAAAAAAAAAAAAAAAAAAAAAAAAACHcCwAAAAAAAAAAAAAAAAAAAAAAAAAAACHcCwAAAAAAAAAAAAAAAAAAAAAAAAAAACHcCwAAAAAAAAAAAAAAAAAAAAAAAAAAACHcCwAAAAAAAAAAAAAAAAAAAAAAAAAAACHcCwAAAAAAAAAAAAAAAAAAAAAAAAAAACHcCwAAAAAAAAAAAAAAAAAAAAAAAAAAACHcCwAAAAAAAAAAAAAAAAAAAAAAAAAAACHcCwAAAAAAAAAAAAAAAAAAAAAAAAAAACHcCwAAAAAAAAAAAAAAAAAAAAAAAAAAACHcCwAAAAAAAAAAAAAAAAAAAAAAAAAAACHcCwAAAAAAAAAAAAAAAAAAAAAAAAAAACHcCwAAAAAAAAAAAAAAAAAAAAAAAAAAACHcCwAAAAAAAAAAAAAAAAAAAAAAAAAAACHcCwAAAAAAAAAAAAAAAAAAAAAAAAAAACHcCwAAAAAAAAAAAAAAAAAAAAAAAAAAACHcCwAAAAAAAAAAAAAAAAAAAAAAAAAAACHcCwAAAAAAAAAAAAAAAAAAAAAAAAAAACHcCwAAAAAAAAAAAAAAAAAAAAAAAAAAACHcCwAAAAAAAAAAAAAAAAAAAAAAAAAAACHcCwAAAAAAAAAAAAAAAAAAAAAAAAAAACHcCwAAAAAAAAAAAAAAAAAAAAAAAAAAACHcCwAAAAAAAAAAAAAAAAAAAAAAAAAAACHcCwAAAAAAAAAAAAAAAAAAAAAAAAAAACHcCwAAAAAAAAAAAAAAAAAAAAAAAAAAACHcCwAAAAAAAAAAAABrK7AHAAAgAElEQVQAAAAAAAAAAAAAACHcCwAAAAAAAAAAAAAAAAAAAAAAAAAAACHcCwAAAAAAAAAAAAAAAAAAAAAAAAAAACHcCwAAAAAAAAAAAAAAAAAAAAAAAAAAACHcCwAAAAAAAAAAAAAAAAAAAAAAAAAAACHcCwAAAAAAAAAAAAAAAAAAAAAAAAAAACHcCwAAAAAAAAAAAAAAAAAAAAAAAAAAACHcCwAAAAAAAAAAAAAAAAAAAAAAAAAAACHcCwAAAAAAAAAAAAAAAAAAAAAAAAAAACHcCwAAAAAAAAAAAAAAAAAAAAAAAAAAACHcCwAAAAAAAAAAAAAAAAAAAAAAAAAAACHcCwAAAAAAAAAAAAAAAAAAAAAAAAAAACHcCwAAAAAAAAAAAAAAAAAAAAAAAAAAACHcCwAAAAAAAAAAAAAAAAAAAAAAAAAAACHcCwAAAAAAAAAAAAAAAAAAAAAAAAAAACHcCwAAAAAAAAAAAAAAAAAAAAAAAAAAACHcCwAAAAAAAAAAAAAAAAAAAAAAAAAAACHcCwAAAAAAAAAAAAAAAAAAAAAAAAAAACHcCwAAAAAAAAAAAAAAAAAAAAAAAAAAACHcCwAAAAAAAAAAAAAAAAAAAAAAAAAAACHcCwAAAAAAAAAAAAAAAAAAAAAAAAAAACHcCwAAAAAAAAAAAAAAAAAAAAAAAAAAACHcCwAAAAAAAAAAAAAAAAAAAAAAAAAAACHcCwAAAAAAAAAAAAAAAAAAAAAAAAAAACHcCwAAAAAAAAAAAAAAAAAAAAAAAAAAACHcCwAAAAAAAAAAAAAAAAAAAAAAAAAAACHcCwAAAAAAAAAAAAAAAAAAAAAAAAAAACHcCwAAAAAAAAAAAAAAAAAAAAAAAAAAACHcCwAAAAAAAAAAAAAAAAAAAAAAAAAAACHcCwAAAAAAAAAAAAAAAAAAAAAAAAAAACHcCwAAAAAAAAAAAAAAAAAAAAAAAAAAACHcCwAAAAAAAAAAAAAAAAAAAAAAAAAAACHcCwAAAAAAAAAAAAAAAAAAAAAAAAAAACHcCwAAAAAAAAAAAAAAAAAAAAAAAAAAACHcCwAAAAAAAAAAAAAAAAAAAAAAAAAAACHcCwAAAAAAAAAAAAAAAAAAAAAAAAAAACHcCwAAAAAAAAAAAAAAAAAAAAAAAAAAACHcCwAAAAAAAAAAAAAAAAAAAAAAAAAAACHcCwAAAAAAAAAAAAAAAAAAAAAAAAAAACHcCwAAAAAAAAAAAAAAAAAAAAAAAAAAACHcCwAAAAAAAAAAAAAAAAAAAAAAAAAAACHcCwAAAAAAAAAAAAAAAAAAAAAA/GTnjnEpiAIwjHpDYgUWYAeUNmEh9kApdmBVlBob0Gl08jzt10huROaa5Jx2ivnbubnzAQAAACHcCwAAAAAAAAAAAAAAAAAAAAAAAAAAACHcCwAAAAAAAAAAAAAAAAAAAAAAAAAAACHcCwAAAAAAAAAAAAAAAAAAAAAAAAAAACHcCwAAAAAAAAAAAAAAAAAAAAAAAAAAACHcCwAAAAAAAAAAAAAAAAAAAAAAAAAAACHcCwAAAAAAAAAAAAAAAAAAAAAAAAAAACHcCwAAAAAAAAAAAAAAAAAAAAAAAAAAACHcCwAAAAAAAAAAAAAAAAAAAAAAAAAAACHcCwAAAAAAAAAAAAAAAAAAAAAAAAAAACHcCwAAAAAAAAAAAAAAAAAAAAAAAAAAACHcCwAAAAAAAAAAAAAAAAAAAAAAAAAAACHcCwAAAAAAAAAAAAAAAAAAAAAAAAAAACHcCwAAAAAAAAAAAAAAAAAAAAAAAAAAACHcCwAAAAAAAAAAAAAAAAAAAAAAAAAAACHcCwAAAAAAAAAAAAAAAAAAAAAAAAAAACHcCwAAAAAAAAAAAAAAAAAAAAAAAAAAACHcCwAAAAAAAAAAAAAAAAAAAAAAAAAAACHcCwAAAAAAAAAAAAAAAAAAAAAAAAAAACHcCwAAAAAAAAAAAAAAAAAAAAAAAAAAACHcCwAAAAAAAAAAAAAAAAAAAAAAAAAAACHcCwAAAAAAAAAAAAAAAAAAAAAAAAAAACHcCwAAAAAAAAAAAAAAAAAAAAAAAAAAACHcCwAAAAAAAAAAAAAAAAAAAAAAAAAAACHcCwAAAAAAAAAAAAAAAAAAAAAAAAAAACHcCwAAAAAAAAAAAAAAAAAAAAAAAAAAACHcCwAAAAAAAAAAAAAAAAAAAAAAAAAAACHcCwAAAAAAAAAAAAAAAAAAAAAAAAAAACHcCwAAAAAAAAAAAAAAAAAAAAAAAAAAACHcCwAAAAAAAAAAAAAAAAAAAAAAAAAAACHcCwAAAAAAAAAAAAAAAAAAAAAAAAAAACHcCwAAAAAAAAAAAAAAAAAAAAAAAAAAACHcCwAAAAAAAAAAAAAAAAAAAAAAAAAAACHcCwAAAAAAAAAAAAAAAAAAAAAAAAAAACHcCwAAAAAAAAAAAAAAAAAAAAAAAAAAACHcCwAAAAAAAAAAAAAAAAAAAAAAAAAAACHcCwAAAAAAAAAAAAAAAAAAAAAAAAAAACHcCwAAAAAAAAAAAAAAAAAAAAAAAAAAACHcCwAAAAAAAAAAAAAAAAAAAAAAAAAAACHcCwAAAAAAAAAAAAAAAAAAAAAAAAAAACHcCwAAAAAAAAAAAAAAAAAAAAAAAAAAACHcCwAAAAAAAAAAAAAAAAAAAAAAAAAAACHcCwAAAAAAAAAAAAAAAAAAAAAAAAAAACHcCwAAAAAAAAAAAAAAAAAAAAAAAAAAACHcCwAAAAAAAAAAAAAAAAAAAAAAAAAAACHcCwAAAAAAAAAAAAAAAAAAAAAAAAAAACHcCwAAAAAAAAAAAAAAAAAAAAAAAAAAACHcCwAAAAAAAAAAAAAAAAAAAAAAAAAAACHcCwAAAAAAAAAAAAAAAAAAAAAAAAAAACHcCwAAAAAAAAAAAAAAAAAAAAAAAAAAACHcCwAAAAAAAAAAAAAAAAAAAAAAAAAAACHcCwAAAAAAAAAAAAAAAAAAAAAAAAAAACHcCwAAAAAAAAAAAAAAAAAAAAAAAAAAACHcCwAAAAAAAAAAAAAAAAAAAAAAAAAAACHcCwAAAAAAAAAAAAAAAAAAAAAAAAAAACHcCwAAAAAAAAAAAAAAAAAAAAAAAAAAACHcCwAAAAAAAAAAAAAAAAAAAAAAAAAAACHcCwAAAAAAAAAAAAAAAAAAAAAAAAAAACHcCwAAAAAAAAAAAAAAAAAAAAAAAAAAACHcCwAAAAAAAAAAAAAAAAAAAAAAAAAAACHcCwAAAAAAAAAAAAAAAAAAAAAAAAAAACHcCwAAAAAAAAAAAAAAAAAAAAAAAAAAACHcCwAAAAAAAAAAAAAAAAAAAAAAAAAAACHcCwAAAAAAAAAAAAAAAAAAAAAAAAAAACHcCwAAAAAAAAAAAAAAAAAAAAAAAAAAACHcCwAAAAAAAAAAAAAAAAAAAAAAAAAAACHcCwAAAAAAAAAAAAAAAAAAAAAAAAAAACHcCwAAAAAAAAAAAAAAAAAAAAAAAAAAACHcCwAAAAAAAAAAAAAAAAAAAAAAAAAAACHcCwAAAAAAAAAAAAAAAAAAAAAAAAAAACHcCwAAAAAAAAAAAAAAAAAAAAAAAAAAACHcCwAAAAAAAAAAAAAAAAAAAAAAAAAAACHcCwAAAAAAAAAAAAAAAAAAAAAAAAAAACHcCwAAAAAAAAAAAAAAAAAAAAAAAAAAACHcCwAAAAAAAAAAAAAAAAAAAAAAAAAAACHcCwAAAAAAAAAAAAAAAAAAAAAAAAAAACHcCwAAAAAAAAAAAAAAAAAAAAAAAAAAACHcCwAAAAAAAAAAAAAAAAAAAAAAAAAAACHcCwAAAAAAAAAAAAAAAAAAAAAAAAAAACHcCwAAAAAAAAAAAAAAAAAAAAAAAAAAACHcCwAAAAAAAAAAAAAAAAAAAAAAAAAAACHcCwAAAAAAAAAAAAAAAAAAAAAAAAAAACHcCwAAAAAAAAAAAAAAAAAAAAAAAAAAACHcCwAAAAAAAAAAAAAAAAAAAAAAAAAAACHcCwAAAAAAAAAAAAAAAAAAAAAAAAAAACHcCwAAAAAAAAAAAAAAAAAAAAAAAAAAACHcCwAAAAAAAAAAAAAAAAAAAAAAAAAAACHcCwAAAAAAAAAAAAAAAAAAAAAAAAAAACHcCwAAAAAAAAAAAAAAAAAAAAAAAAAAACHcCwAAAAAAAAAAAAAAAAAAAAAAAAAAACHcCwAAAAAAAAAAAAAAAAAAAAAAAAAAACHcCwAAAAAAAAAAAAAAAAAAAAAAAAAAACHcCwAAAAAAAAAAAAAAAAAAAAAAAAAAACHcCwAAAAAAAAAAAAAAAAAAAAAAAAAAACHcCwAAAAAAAAAAAAAAAAAAAAAAAAAAACHcCwAAAAAAAAAAAAAAAAAAAAAAAAAAACHcCwAAAAAAAAAAAAAAAAAAAAAAAAAAACHcCwAAAAAAAAAAAAAAAAAAAAAAAAAAACHcCwAAAAAAAAAAAAAAAAAAAAAAAAAAACHcCwAAAAAAAAAAAAAAAAAAAAAAAAAAACHcCwAAAAAAAAAAAAAAAAAAAAAAAAAAACHcCwAAAAAAAAAAAAAAAAAAAAAAAAAAACHcCwAAAAAAAAAAAAAAAAAAAAAAAAAAACHcCwAAAAAAAAAAAAAAAAAAAAAAAAAAACHcCwAAAAAAAAAAAAAAAAAAAAAAAAAAACHcCwAAAAAAAAAAAAAAAAAAAAAAAAAAACHcCwAAAAAAAAAAAAAAAAAAAAAAAAAAACHcCwAAAAAAAAAAAAAAAAAAAAAAAAAAACHcCwAAAAAAAAAAAAAAAAAAAAAAAAAAACHcCwAAAAAAAAAAAAAAAAAAAAAAAAAAACHcCwAAAAAAAAAAAAAAAAAAAAAAAAAAACHcCwAAAAAAAAAAAAAAAAAAAAAAAAAAACHcCwAAAAAAAAAAAAAAAAAAAAAAAAAAAHGy5ste3s6OLh5u1nwlAPzK8nWYPQEAhhyOd7MnAMCY/ewBADBm+XQ2CMB2PN8+zp4AAEMu790bBGAbTt+dDwKwDe4OArAlu71vLQAAgL/0ce5HLQC24frqafYEABj2evfzs2W9GQAAAAAAAAAAAAAAAAAAAAAAAAAAAPD/CfcCAAAAAAAAAAAAAAAAAAAAAAAAAABACPcCAAAAAAAAAAAAAAAAAAAAAAAAAABACPcCAAAAAAAAAAAAAAAAAAAAAAAAAABACPcCAAAAAAAAAAAAAAAAAAAAAAAAAABACPcCAAAAAAAAAAAAAAAAAAAAAAAAAABACPcCAAAAAAAAAAAAAAAAAAAAAAAAAABACPcCAAAAAAAAAAAAAAAAAAAAAAAAAABACPcCAAAAAAAAAAAAAAAAAAAAAAAAAABACPcCAAAAAAAAAAAAAAAAAAAAAAAAAABACPcCAAAAAAAAAAAAAAAAAAAAAAAAAABACPcCAAAAAAAAAAAAAAAAAAAAAAAAAABACPcCAAAAAAAAAAAAAAAAAAAAAAAAAABACPcCAAAAAAAAAAAAAAAAAAAAAAAAAABACPcCAAAAAAAAAAAAAAAAAAAAAAAAAABACPcCAAAAAAAAAAAAAAAAAAAAAAAAAABACPcCAAAAAAAAAAAAAAAAAAAAAAAAAABACPcCAAAAAAAAAAAAAAAAAAAAAAAAAABACPcCAAAAAAAAAAAAAAAAAAAAAAAAAABACPcCAAAAAAAAAAAAAAAAAAAAAAAAAABACPcCAAAAAAAAAAAAAAAAAAAAAAAAAABACPcCAAAAAAAAAAAAAAAAAAAAAAAAAABACPcCAAAAAAAAAAAAAAAAAAAAAAAAAABACPcCAAAAAAAAAAAAAAAAAAAAAAAAAABACPcCAAAAAAAAAAAAAAAAAAAAAAAAAABACPcCAAAAAAAAAAAAAAAAAAAAAAAAAABACPcCAAAAAAAAAAAAAAAAAAAAAAAAAABACPcCAAAAAAAAAAAAAAAAAAAAAAAAAABACPcCAAAAAAAAAAAAAAAAAAAAAAAAAABACPcCAAAAAAAAAAAAAAAAAAAAAAAAAABACPcCAAAAAAAAAAAAAAAAAAAAAAAAAABACPcCAAAAAAAAAAAAAAAAAAAAAAAAAABACPcCAAAAAAAAAAAAAAAAAAAAAAAAAABACPcCAAAAAAAAAAAAAAAAAAAAAAAAAABACPcCAAAAAAAAAAAAAAAAAAAAAAAAAABACPcCAAAAAAAAAAAAAAAAAAAAAAAAAABACPcCAAAAAAAAAAAAAAAAAAAAAAAAAABACPcCAAAAAAAAAAAAAAAAAAAAAAAAAABACPcCAAAAAAAAAAAAAAAAAAAAAAAAAABACPcCAAAAAAAAAAAAAAAAAAAAAAAAAABACPcCAAAAAAAAAAAAAAAAAAAAAAAAAABACPcCAAAAAAAAAAAAAAAAAAAAAAAAAABACPcCAAAAAAAAAAAAAAAAAAAAAAAAAABACPcCAAAAAAAAAAAAAAAAAAAAAAAAAABACPcCAAAAAAAAAAAAAAAAAAAAAAAAAABACPcCAAAAAAAAAAAAAAAAAAAAAAAAAABACPcCAAAAAAAAAAAAAAAAAAAAAAAAAABACPcCAAAAAAAAAAAAAAAAAAAAAAAAAABACPcCAAAAAAAAAAAAAAAAAAAAAAAAAABACPcCAAAAAAAAAAAAAAAAAAAAAAAAAABACPcCAAAAAAAAAAAAAAAAAAAAAAAAAABACPcCAAAAAAAAAAAAAAAAAAAAAAAAAABACPcCAAAAAAAAAAAAAAAAAAAAAAAAAABACPcCAAAAAAAAAAAAAAAAAAAAAAAAAABACPcCAAAAAAAAAAAAAAAAAAAAAAAAAABACPcCAAAAAAAAAAAAAAAAAAAAAAAAAABACPcCAAAAAAAAAAAAAAAAAAAAAAAAAABACPcCAAAAAAAAAAAAAAAAAAAAAAAAAABACPcCAAAAAAAAAAAAAAAAAAAAAAAAAABACPcCAAAAAAAAAAAAAAAAAAAAAAAAAABACPcCAAAAAAAAAAAAAAAAAAAAAAAAAABACPcCAAAAAAAAAAAAAAAAAAAAAAAAAABACPcCAAAAAAAAAAAAAAAAAAAAAAAAAABACPcCAAAAAAAAAAAAAAAAAAAAAAAAAABACPcCAAAAAAAAAAAAAAAAAAAAAAAAAABACPcCAAAAAAAAAAAAAAAAAAAAAAAAAABACPcCAAAAAAAAAAAAAAAAAAAAAAAAAABACPcCAAAAAAAAAAAAAAAAAAAAAAAAAABACPcCAAAAAAAAAAAAAAAAAAAAAAAAAABACPcCAAAAAAAAAAAAAAAAAAAAAAAAAABACPcCAAAAAAAAAAAAAAAAAAAAAAAAAABACPcCAAAAAAAAAAAAAAAAAAAAAAAAAABACPcCAAAAAAAAAAAA8M3OHQsAAAAADPK33juIAgkAAAAAAAAAAAAAgBH3AgAAAAAAAAAAAAAAAAAAAAAAAAAAwIh7AQAAAAAAAAAAAAAAAAAAAAAAAAAAYMS9AAAAAAAAAAAAAAAAAAAAAAAAAAAAMOJeAAAAAAAAAAAAAAAAAAAAAAAAAAAAGHEvAAAAAAAAAAAAAAAAAAAAAAAAAAAAjLgXAAAAAAAAAAAAAAAAAAAAAAAAAAAARtwLAAAAAAAAAAAAAAAAAAAAAAAAAAAAI+4FAAAAAAAAAAAAAAAAAAAAAAAAAACAEfcCAAAAAAAAAAAAAAAAAAAAAAAAAADAiHsBAAAAAAAAAAAAAAAAAAAAAAAAAABgxL0AAAAAAAAAAAAAAAAAAAAAAAAAAAAw4l4AAAAAAAAAAAAAAAAAAAAAAAAAAAAYcS8AAAAAAAAAAAAAAAAAAAAAAAAAAACMuBcAAAAAAAAAAAAAAAAAAAAAAAAAAABG3AsAAAAAAAAAAAAAAAAAAAAAAAAAAAAj7gUAAAAAAAAAAAAAAAAAAAAAAAAAAIAR9wIAAAAAAAAAAAAAAAAAAAAAAAAAAMCIewEAAAAAAAAAAAAAAAAAAAAAAAAAAGDEvQAAAAAAAAAAAAAAAAAAAAAAAAAAADDiXgAAAAAAAAAAAAAAAAAAAAAAAAAAABhxLwAAAAAAAAAAAAAAAAAAAAAAAAAAAIy4FwAAAAAAAAAAAAAAAAAAAAAAAAAAAEbcCwAAAAAAAAAAAAAAAAAAAAAAAAAAACPuBQAAAAAAAAAAAAAAAAAAAAAAAAAAgBH3AgAAAAAAAAAAAAAAAAAAAAAAAAAAwIh7AQAAAAAAAAAAAAAAAAAAAAAAAAAAYMS9AAAAAAAAAAAAAAAAAAAAAAAAAAAAMOJeAAAAAAAAAAAAAAAAAAAAAAAAAAAAGHEvAAAAAAAAAAAAAAAAAAAAAAAAAAAAjLgXAAAAAAAAAAAAAAAAAAAAAAAAAAAARtwLAAAAAAAAAAAAAAAAAAAAAAAAAAAAI+4FAAAAAAAAAAAAAAAAAAAAAAAAAACAEfcCAAAAAAAAAAAAAAAAAAAAAAAAAADAiHsBAAAAAAAAAAAAAAAAAAAAAAAAAABgxL0AAAAAAAAAAAAAAAAAAAAAAAAAAAAw4l4AAAAAAAAAAAAAAAAAAAAAAAAAAAAYcS8AAAAAAAAAAAAAAAAAAAAAAAAAAACMuBcAAAAAAAAAAAAAAAAAAAAAAAAAAABG3AsAAAAAAAAAAAAAAAAAAAAAAAAAAAAj7gUAAAAAAAAAAAAAAAAAAAAAAAAAAIAR9wIAAAAAAAAAAAAAAAAAAAAAAAAAAMCIewEAAAAAAAAAAAAAAAAAAAAAAAAAAGDEvQAAAAAAAAAAAAAAAAAAAAAAAAAAADDiXgAAAAAAAAAAAAAAAAAAAAAAAAAAABhxLwAAAAAAAAAAAAAAAAAAAAAAAAAAAIy4FwAAAAAAAAAAAAAAAAAAAAAAAAAAAEbcCwAAAAAAAAAAAAAAAAAAAAAAAAAAACPuBQAAAAAAAAAAAAAAAAAAAAAAAAAAgBH3AgAAAAAAAAAAAAAAAAAAAAAAAAAAwIh7AQAAAAAAAAAAAAAAAAAAAAAAAAAAYMS9AAAAAAAAAAAAAAAAAAAAAAAAAAAAMOJeAAAAAAAAAAAAAAAAAAAAAAAAAAAAGHEvAAAAAAAAAAAAAAAAAAAAAAAAAAAAjLgXAAAAAAAAAAAAAAAAAAAAAAAAAAAARtwLAAAAAAAAAAAAAAAAAAAAAAAAAAAAI+4FAAAAAAAAAAAAAAAAAAAAAAAAAACAEfcCAAAAAAAAAAAAAAAAAAAAAAAAAADAiHsBAAAAAAAAAAAAAAAAAAAAAAAAAABgxL0AAAAAAAAAAAAAAAAAAAAAAAAAAAAw4l4AAAAAAAAAAAAAAAAAAAAAAAAAAAAYcS8AAAAAAAAAAAAAAAAAAAAAAAAAAACMuBcAAAAAAAAAAAAAAAAAAAAAAAAAAABG3AsAAAAAAAAAAAAAAAAAAAAAAAAAAAAj7gUAAAAAAAAAAAAAAAAAAAAAAAAAAIAR9wIAAAAAAAAAAAAAAAAAAAAAAAAAAMCIewEAAAAAAAAAAAAAAAAAAAAAAAAAAGDEvQAAAAAAAAAAAAAAAAAAAAAAAAAAADDiXgAAAAAAAAAAAAAAAAAAAAAAAAAAABhxLwAAAAAAAAAAAAAAAAAAAAAAAAAAAIy4FwAAAAAAAAAAAAAAAAAAAAAAAAAAAEbcCwAAAAAAAAAAAAAAAAAAAAAAAAAAACPuBQAAAAAAAAAAAAAAAAAAAAAAAAAAgBH3AgAAAAAAAAAAAAAAAAAAAAAAAAAAwIh7AQAAAAAAAAAAAAAAAAAAAAAAAAAAYMS9AAAAAAAAAAAAAAAAAAAAAAAAAAAAMOJeAAAAAAAAAAAAAAAAAAAAAAAAAAAAGHEvAAAAAAAAAAAAAAAAAAAAAAAAAAAAjLgXAAAAAAAAAAAAAAAAAAAAAAAAAAAARtwLAAAAAAAAAAAAAAAAAAAAAAAAAAAAI+4FAAAAAAAAAAAAAAAAAAAAAAAAAACAEfcCAAAAAAAAAAAAAAAAAAAAAAAAAADAiHsBAAAAAAAAAAAAAAAAAAAAAAAAAABgxL0AAAAAAAAAAAAAAAAAAAAAAAAAAAAw4l4AAAAAAAAAAAAAAAAAAAAAAAAAAAAYcS8AAAAAAAAAAAAAAAAAAAAAAAAAAACMuBcAAAAAAAAAAAAAAAAAAAAAAAAAAABG3AsAAAAAAAAAAAAAAAAAAAAAAAAAAAAj7gUAAAAAAAAAAAAAAAAAAAAAAAAAAIAR9wIAAAAAAAAAAAAAAAAAAAAAAAAAAMCIewEAAAAAAAAAAAAAAAAAAAAAAAAAAGDEvQAAAAAAAAAAAAAAAAAAAAAAAAAAADDiXgAAAAAAAAAAAAAAAAAAAAAAAAAAABhxLwAAAAAAAAAAAAAAAAAAAAAAAAAAAIy4FwAAAAAAAAAAAAAAAAAAAAAAAAAAAEbcCwAAAAAAAAAAAAAAAAAAAAAAAAAAACPuBQAAAAAAAAAAAAAAAAAAAAAAAAAAgBH3AgAAAAAAAAAAAAAAAAAAAAAAAAAAwIh7AQAAAAAAAAAAAAAAAAAAAAAAAAAAYMS9AAAAAAAAAAAAAAAAAAAAAAAAAAAAMOJeAAAAAAAAAAAAAAAAAAAAAAAAAAAAGHEvAAAAAAAAAAAAAAAAAAAAAAAAAAAAjLgXAAAAAAAAAAAAAAAAAAAAAAAAAAAARtwLAAAAAAAAAAAAAAAAAAAAAAAAAAAAI+4FAAAAAAAAAAAAAAAAAAAAAAAAAACAEfcCAAAAAAAAAAAAAAAAAAAAAAAAAADAiHsBAAAAAAAAAAAAAAAAAAAAAAAAAABgxL0AAAAAAAAAAAAAAAAAAAAAAAAAAAAw4l4AAAAAAAAAAAAAAAAAAAAAAAAAAAAYcS8AAAAAAAAAALBDNH0AACAASURBVAAAAAAAAAAAAAAAAACMuBcAAAAAAAAAAAAAAAAAAAAAAAAAAABG3AsAAAAAAAAAAAAAAAAAAAAAAAAAAAAj7gUAAAAAAAAAAAAAAAAAAAAAAAAAAIAR9wIAAAAAAAAAAAAAAAAAAAAAAAAAAMCIewEAAAAAAAAAAAAAAAAAAAAAAAAAAGDEvQAAAAAAAAAAAAAAAAAAAAAAAAAAADDiXgAAAAAAAAAAAAAAAAAAAAAAAAAAABhxLwAAAAAAAAAAAAAAAAAAAAAAAAAAAIy4FwAAAAAAAAAAAAAAAAAAAAAAAAAAAEbcCwAAAAAAAAAAAAAAAAAAAAAAAAAAACPuBQAAAAAAAAAAAAAAAAAAAAAAAAAAgBH3AgAAAAAAAAAAAAAAAAAAAAAAAAAAwIh7AQAAAAAAAAAAAAAAAAAAAAAAAAAAYMS9AAAAAAAAAAAAAAAAAAAAAAAAAAAAMOJeAAAAAAAAAAAAAAAAAAAAAAAAAAAAGHEvAAAAAAAAAAAAAAAAAAAAAAAAAAAAjLgXAAAAAAAAAAAAAAAAAAAAAAAAAAAARtwLAAAAAAAAAAAAAAAAAAAAAAAAAAAAI+4FAAAAAAAAAAAAAAAAAAAAAAAAAACAEfcCAAAAAAAAAAAAAAAAAAAAAAAAAADAiHsBAAAAAAAAAAAAAAAAAAAAAAAAAABgxL0AAAAAAAAAAAAAAAAAAAAAAAAAAAAw4l4AAAAAAAAAAAAAAAAAAAAAAAAAAAAYcS8AAAAAAAAAAAAAAAAAAAAAAAAAAACMuBcAAAAAAAAAAAAAAAAAAAAAAAAAAABG3AsAAAAAAAAAAAAAAAAAAAAAAAAAAAAj7gUAAAAAAAAAAAAAAAAAAAAAAAAAAIAR9wIAAAAAAAAAAAAAAAAAAAAAAAAAAMCIewEAAAAAAAAAAAAAAAAAAAAAAAAAAGDEvQAAAAAAAAAAAAAAAAAAAAAAAAAAADDiXgAAAAAAAAAAAAAAAAAAAAAAAAAAABhxLwAAAAAAAAAAAAAAAAAAAAAAAAAAAIy4FwAAAAAAAAAAAAAAAAAAAAAAAAAAAEbcCwAAAAAAAAAAAAAAAAAAAAAAAAAAACPuBQAAAAAAAAAAAAAAAAAAAAAAAAAAgBH3AgAAAAAAAAAAAAAAAAAAAAAAAAAAwIh7AQAAAAAAAAAAAAAAAAAAAAAAAAAAYMS9AAAAAAAAAAAAAAAAAAAAAAAAAAAAMOJeAAAAAAAAAAAAAAAAAAAAAAAAAAAAGHEvAAAAAAAAAAAAAAAAAAAAAAAAAAAAjLgXAAAAAAAAAAAAAAAAAAAAAAAAAAAARtwLAAAAAAAAAAAAAAAAAAAAAAAAAAAAI+4FAAAAAAAAAAAAAAAAAAAAAAAAAACAEfcCAAAAAAAAAAAAAAAAAAAAAAAAAADAiHsBAAAAAAAAAAAAAAAAAAAAAAAAAABgxL0AAAAAAAAAAAAAAAAAAAAAAAAAAAAw4l4AAAAAAAAAAAAAAAAAAAAAAAAAAAAYcS8AAAAAAAAAAAAAAAAAAAAAAAAAAACMuBcAAAAAAAAAAAAAAAAAAAAAAAAAAABG3AsAAAAAAAAAAAAAAAAAAAAAAAAAAAAj7gUAAAAAAAAAAAAAAAAAAAAAAAAAAIAR9wIAAAAAAAAAAAAAAAAAAAAAAAAAAMCIewEAAAAAAAAAAAAAAAAAAAAAAAAAAGDEvQAAAAAAAAAAAAAAAAAAAAAAAAAAADDiXgAAAAAAAAAAAAAAAAAAAAAAAAAAABhxLwAAAAAAAAAAAAAAAAAAAAAAAAAAAIy4FwAAAAAAAAAAAAAAAAAAAAAAAAAAAEbcCwAAAAAAAAAAAAAAAAAAAAAAAAAAACPuBQAAAAAAAAAAAAAAAAAAAAAAAAAAgBH3AgAAAAAAAAAAAAAAAAAAAAAAAAAAwIh7AQAAAAAAAAAAAAAAAAAAAAAAAAAAYMS9AAAAAAAAAAAAAAAAAAAAAAAAAAAAMOJeAAAAAAAAAAAAAAAAAAAAAAAAAAAAGHEvAAAAAAAAAAAAAAAAAAAAAAAAAAAAjLgXAAAAAAAAAAAAAAAAAAAAAAAAAAAARtwLAAAAAAAAAAAAAAAAAAAAAAAAAAAAI+4FAAAAAAAAAAAAAAAAAAAAAAAAAACAEfcCAAAAAAAAAAAAAAAAAAAAAAAAAADAiHsBAAAAAAAAAAAAAAAAAAAAAAAAAABgxL0AAAAAAAAAAAAAAAAAAAAAAAAAAAAw4l4AAAAAAAAAAAAAAAAAAAAAAAAAAAAYcS8AAAAAAAAAAAAAAAAAAAAAAAAAAACMuBcAAAAAAAAAAAAAAAAAAAAAAAAAAABG3AsAAAAAAAAAAAAAAAAAAAAAAAAAAAAj7gUAAAAAAAAAAAAAAAAAAAAAAAAAAIAR9wIAAAAAAAAAAAAAAAAAAAAAAAAAAMCIewEAAAAAAAAAAAAAAAAAYudubSIKwjCM7l+CwFDLCnraFkhQ9EAN9EARq2gBjSebu/YxJAMhO7nJOXbEvPYzDwAAAAAAAACEcC8AAAAAAAAAAAAAAAAAAAAAAAAAAACEcC8AAAAAAAAAAAAAAAAAAAAAAAAAAACEcC8AAAAAAAAAAAAAAAAAAAAAAAAAAACEcC8AAAAAAAAAAAAAAAAAAAAAAAAAAACEcC8AAAAAAAAAAAAAAAAAAAAAAAAAAACEcC8AAAAAAAAAAAAAAAAAAAAAAAAAAACEcC8AAAAAAAAAAAAAAAAAAAAAAAAAAACEcC8AAAAAAAAAAAAAAAAAAAAAAAAAAACEcC8AAAAAAAAAAAAAAAAAAAAAAAAAAACEcC8AAAAAAAAAAAAAAAAAAAAAAAAAAACEcC8AAAAAAAAAAAAAAAAAAAAAAAAAAACEcC8AAAAAAAAAAAAAAAAAAAAAAAAAAACEcC8AAAAAAAAAAAAAAAAAAAAAAAAAAACEcC8AAAAAAAAAAAAAAAAAAAAAAAAAAACEcC8AAAAAAAAAAAAAAAAAAAAAAAAAAACEcC8AAAAAAAAAAAAAAAAAAAAAAAAAAACEcC8AAAAAAAAAAAAAAAAAAAAAAAAAAACEcC8AAAAAAAAAAAAAAAAAAAAAAAAAAACEcC8AAAAAAAAAAAAAAAAAAAAAAAAAAACEcC8AAAAAAAAAAAAAAAAAAAAAAAAAAACEcC8AAAAAAAAAAAAAAAAAAAAAAAAAAACEcC8AAAAAAAAAAAAAAAAAAAAAAAAAAACEcC8AAAAAAAAAAAAAAAAAAAAAAAAAAACEcC8AAAAAAAAAAAAAAAAAAAAAAAAAAACEcC8AAAAAAAAAAAAAAAAAAAAAAAAAAACEcC8AAAAAAAAAAAAAAAAAAAAAAAAAAACEcC8AAAAAAAAAAAAAAAAAAAAAAAAAAACEcC8AAAAAAAAAAAAAAAAAAAAAAAAAAACEcC8AAAAAAAAAAAAAAAAAAAAAAAAAAACEcC8AAAAAAAAAAAAAAAAAAAAAAAAAAACEcC8AAAAAAAAAAAAAAAAAAAAAAAAAAACEcC8AAAAAAAAAAAAAAAAAAAAAAAAAAACEcC8AAAAAAAAAAAAAAAAAAAAAAAAAAACEcC8AAAAAAAAAAAAAAAAAAAAAAAAAAACEcC8AAAAAAAAAAAAAAAAAAAAAAAAAAACEcC8AAAAAAAAAAAAAAAAAAAAAAAAAAACEcC8AAAAAAAAAAAAAAAAAAAAAAAAAAACEcC8AAAAAAAAAAAAAAAAAAAAAAAAAAACEcC8AAAAAAAAAAAAAAAAAAAAAAAAAAACEcC8AAAAAAAAAAAAAAAAAAAAAAAAAAACEcC8AAAAAAAAAAAAAAAAAAAAAAAAAAACEcC8AAAAAAAAAAAAAAAAAAAAAAAAAAACEcC8AAAAAAAAAAAAAAAAAAAAAAAAAAACEcC8AAAAAAAAAAAAAAAAAAAAAAAAAAACEcC8AAAAAAAAAAAAAAAAAAAAAAAAAAACEcC8AAAAAAAAAAAAAAAAAAAAAAAAAAACEcC8AAAAAAAAAAAAAAAAAAAAAAAAAAACEcC8AAAAAAAAAAAAAAAAAAAAAAAAAAACEcC8AAAAAAAAAAAAAAAAAAAAAAAAAAACEcC8AAAAAAAAAAAAAAAAAAAAAAAAAAACEcC8AAAAAAAAAAAAAAAAAAAAAAAAAAACEcC8AAAAAAAAAAAAAAAAAAAAAAAAAAACEcC8AAAAAAAAAAAAAAAAAAAAAAAAAAACEcC8AAAAAAAAAAAAAAAAAAAAAAAAAAACEcC8AAAAAAAAAAAAAAAAAAAAAAAAAAACEcC8AAAAAAAAAAAAAAAAAAAAAAAAAAACEcC8AAAAAAAAAAAAAAAAAAAAAAAAAAACEcC8AAAAAAAAAAAAAAAAAAAAAAAAAAACEcC8AAAAAAAAAAAAAAAAAAAAAAAAAAACEcC8AAAAAAAAAAAAAAAAAAAAAAAAAAACEcC8AAAAAAAAAAAAAAAAAAAAAAAAAAACEcC8AAAAAAAAAAAAAAAAAAAAAAAAAAACEcC8AAAAAAAAAAAAAAAAAAAAAAAAAAACEcC8AAAAAAAAAAAAAAAAAAAAAAAAAAACEcC8AAAAAAAAAAAAAAAAAAAAAAAAAAACEcC8AAAAAAAAAAAAAAAAAAAAAAAAAAACEcC8AAAAAAAAAAAAAAAAAAAAAAAAAAACEcC8AAAAAAAAAAAAAAAAAAAAAAAAAAACEcC8AAAAAAAAAAAAAAAAAAAAAAAAAAACEcC8AAAAAAAAAAAAAAAAAAAAAAAAAAACEcC8AAAAAAAAAAAAAAAAAAAAAAAAAAACEcC8AAAAAAAAAAAAAAAAAAAAAAAAAAACEcC8AAAAAAAAAAAAAAAAAAAAAAAAAAACEcC8AAAAAAAAAAAAAAAAAAAAAAAAAAACEcC8AAAAAAAAAAAAAAAAAAAAAAAAAAACEcC8AAAAAAAAAAAAAAAAAAAAAAAAAAACEcC8AAAAAAAAAAAAAAAAAAAAAAAAAAACEcC8AAAAAAAAAAAAAAAAAAAAAAAAAAACEcC8AAAAAAAAAAAAAAAAAAAAAAAAAAACEcC8AAAAAAAAAAAAAAAAAAAAAAAAAAACEcC8AAAAAAAAAAAAAAAAAAAAAAAAAAACEcC8AAAAAAAAAAAAAAAAAAAAAAAAAAACEcC8AAAAAAAAAAAAAAAAAAAAAAAAAAACEcC8AAAAAAAAAAAAAAAAAAAAAAAAAAACEcC8AAAAAAAAAAAAAAAAAAAAAAAAAAACEcC8AAAAAAAAAAAAAAAAAAAAAAAAAAACEcC8AAAAAAAAAAAAAAAAAAAAAAAAAAACEcC8AAAAAAAAAAAAAAAAAAAAAAAAAAACEcC8AAAAAAAAAAAAAAAAAAAAAAAAAAACEcC8AAAAAAAAAAAAAAAAAAAAAAAAAAACEcC8AAAAAAAAAAAAAAAAAAAAAAAAAAACEcC8AAAAAAAAAAAAAAAAAAAAAAAAAAACEcC8AAAAAAAAAAAAAAAAAAAAAAAAAAACEcC8AAAAAAAAAAAAAAAAAAAAAAAAAAACEcC8AAAAAAAAAAAAAAAAAAAAAAAAAAACEcC8AAAAAAAAAAAAAAAAAAAAAAAAAAACEcC8AAAAAAAAAAAAAAAAAAAAAAAAAAACEcC8AAAAAAAAAAAAAAAAAAAAAAAAAAACEcC8AAAAAAAAAAAAAAAAAAAAAAAAAAACEcC8AAAAAAAAAAAAAAAAAAAAAAAAAAACEcC8AAAAAAAAAAAAAAAAAAAAAAAAAAACEcC8AAAAAAAAAAAAAAAAAAAAAAAAAAACEcC8AAAAAAAAAAAAAAAAAAAAAAAAAAACEcC8AAAAAAAAAAAAAAAAAAAAAAAAAAACEcC8AAAAAAAAAAAAAAAAAAAAAAAAAAACEcC8AAAAAAAAAAAAAAAAAAAAAAAAAAACEcC8AAAAAAAAAAAAAAAAAAAAAAAAAAACEcC8AAAAAAAAAAAAAAAAAAAAAAAAAAACEcC8AAAAAAAAAAAAAAAAAAAAAAAAAAACEcC8AAAAAAAAAAAAAAAAAAAAAAAAAAACEcC8AAAAAAAAAAAAAAAAAAAAAAAAAAACEcC8AAAAAAAAAAAAAAAAAAAAAAAAAAACEcC8AAAAAAAAAAAAAAAAAAAAAAAAAAACEcC8AAAAAAAAAAAAAAAAAAAAAAAAAAACEcC8AAAAAAAAAAAAAAAAAAAAAAAAAAACEcC8AAAAAAAAAAAAAAAAAAAAAAAAAAACEcC8AAAAAAAAAAAAAAAAAAAAAAAAAAACEcC8AAAAAAAAAAAAAAAAAAAAAAAAAAACEcC8AAAAAAAAAAAAAAAAAAAAAAAAAAACEcC8AAAAAAAAAAAAAAAAAAAAAAAAAAACEcC8AAAAAAAAAAAAAAAAAAAAAAAAAAACEcC8AAAAAAAAAAAAAAAAAAAAAAAAAAACEcC8AAAAAAAAAAAAAAAAAAAAAAAAAAACEcC8AAAAAAAAAAAAAAAAAAAAAAAAAAACEcC8AAAAAAAAAAAAAAAAAAAAAAAAAAACEcC8AAAAAAAAAAAAAAAAAAAAAAAAAAACEcC8AAAAAAAAAAAAAAAAAAAAAAAAAAACEcC8AAAAAAAAAAAAAAAAAAAAAAAAAAACEcC8AAAAAAAAAAAAAAAAAAAAAAAAAAACEcC8AAAAAAAAAAAAAAAAAAAAAAAAAAACEcC8AAAAAAAAAAAAAAAAAAAAAAAAAAACEcC8AAAAAAAAAAAAAAAAAAAAAAAAAAACEcC8AAAAAAAAAAAAAAAAAAAAAAAAAAACEcC8AAAAAAAAAAAAAAAAAAAAAAAAAAACEcC8AAAAAAAAAAAAAAAAAAAAAAAAAAACEcC8AAAAAAAAAAAAAAAAAAAAAAAAAAACEcC8AAAAAAAAAAAAAAAAAAAAAAAAAAACEcC8AAAAAAAAAAAAAAAAAAAAAAAAAAACEcC8AAAAAAAAAAAAAAAAAAAAAAAAAAACEcC8AAAAAAAAAAAAAAAAAAAAAAAAAAACEcC8AAAAAAAAAAAAAAAAAAAAAAAAAAACEcC8AAAAAAAAAAAAAAAAAAAAAAAAAAACEcC8AAAAAAAAAAAAAAAAAAAAAAAAAAACEcC8AAAAAAAAAAAAAAAAAAAAAAAAAAACEcC8AAAAAAAAAAAAAAAAAAAAAAAAAAACEcC8AAAAAAAAAAAAAAAAAAAAAAAAAAACEcC8AAAAAAAAAAAAAAAAAAAAAAAAAAACEcC8AAAAAAAAAAAAAAAAAAAAAAAAAAACEcC8AAAAAAAAAAAAAAAAAAAAAAAAAAACEcC8AAAAAAAAAAAAAAAAAAAAAAAAAAACEcC8AAAAAAAAAAAAAAAAAAAAAAAAAAACEcC8AAAAAAAAAAAAAAAAAAAAAAAAAAACEcC8AAAAAAAAAAAAAAAAAAAAAAAAAAACEcC8AAAAAAAAAAAAAAAAAAAAAAAAAAACEcC8AAAAAAAAAAAAAAAAAAAAAAAAAAACEcC8AAAAAAAAAAAAAAAAAAAAAAAAAAACEcC8AAAAAAAAAAAAAAAAAAAAAAAAAAACEcC8AAAAAAAAAAAAAAAAAAAAAAAAAAACEcC8AAAAAAAAAAAAAAAAAAAAAAAAAAACEcC8AAAAAAAAAAAAAAAAAAAAAAAAAAACEcC8AAAAAAAAAAAAAAAAAAAAAAAAAAACEcC8AAAAAAAAAAAAAAAAAAAAAAAAAAACEcC8AAAAAAAAAAAAAAAAAAAAAAAAAAACEcC8AAAAAAAAAAAAAAAAAAAAAAAAAAACEcC8AAAAAAAAAAAAAAAAAAAAAAAAAAACEcC8AAAAAAAAAAAAAAAAAAAAAAAAAAACEcC8AAAAAAAAAAAAAAAAAAAAAAAAAAACEcC8AAAAAAAAAAAAAAAAAAAAAAAAAAACEcC8AAAAAAAAAAAAAAAAAAAAAAAAAAACEcC8AAAAAAAAAAAAAAAAAAAAAAAAAAADE4ZafLbvN5vv+lj8CwN/cfc1eAABjtpdl9gQAGLLst7MnAMAQdxYAa3J8Oc2eAABDzs+vsycAwBB3FgBrcX5yZwGwHm4tAACA//XwsZs9AQCGvH8+zp4AAL/w9uOLKwwAAAAAAAAAAAAAAAAAAAAAAAAAAABCuBcAAAAAAAAAAAAAAAAAAAAAAAAAAABCuBcAAAAAAAAAAAAAAAAAAAAAAAAAAABCuBcAAAAAAAAAAAAAAAAAAAAAAAAAAABCuBcAAAAAAAAAAAAAAAAAAAAAAAAAAABCuBcAAAAAAAAAAAAAAAAAAAAAAAAAAABCuBcAAAAAAAAAAAAAAAAAAAAAAAAAAABCuBcAAAAAAAAAAAAAAAAAAAAAAAAAAABCuBcAAAAAAAAAAAAAAAAAAAAAAAAAAABCuBcAAAAAAAAAAAAAAAAAAAAAAAAAAABCuBcAAAAAAAAAAAAAAAAAAAAAAAAAAABCuBcAAAAAAAAAAAAAAAAAAAAAAAAAAABCuBcAAAAAAAAAAAAAAAAAAAAAAAAAAABCuBcAAAAAAAAAAAAAAAAAAAAAAAAAAABCuBcAAAAAAADgys4dCwAAAAAM8rfeO4gCCQAAAAAAAAAAAAAAAAAARtwLAAAAAAAAAAAAAAAAAAAAAAAAAAAAI+4FAAAAAAAAAAAAAAAAAAAAAAAAAACAEfcCAAAAAAAAAAAAAAAAAAAAAAAAAADAiHsBAAAAAAAAAAAAAAAAAAAAAAAAAABgxL0AAAAAAAAAAAAAAAAAAAAAAAAAAAAw4l4AAAAAAAAAAAAAAAAAAAAAAAAAAAAYcS8AAAAAAAAAAAAAAAAAAAAAAAAAAACMuBcAAAAAAAAAAAAAAAAAAAAAAAAAAABG3AsAAAAAAAAAAAAAAAAAAAAAAAAAAAAj7gUAAAAAAAAAAAAAAAAAAAAAAAAAAIAR9wIAAAAAAAAAAAAAAAAAAAAAAAAAAMCIewEAAAAAAAAAAAAAAAAAAAAAAAAAAGDEvQAAAAAAAAAAAAAAAAAAAAAAAAAAADDiXgAAAAAAAAAAAAAAAAAAAAAAAAAAABhxLwAAAAAAAAAAAAAAAAAAAAAAAAAAAIy4FwAAAAAAAAAAAAAAAAAAAAAAAAAAAEbcCwAAAAAAAAAAAAAAAAAAAAAAAAAAACPuBQAAAAAAAAAAAAAAAAAAAAAAAAAAgBH3AgAAAAAAAAAAAAAAAAAAAAAAAAAAwIh7AQAAAAAAAAAAAAAAAAAAAAAAAAAAYMS9AAAAAAAAAAAAAAAAAAAAAAAAAAAAMOJeAAAAAAAAAAAAAAAAAAAAAAAAAAAAGHEvAAAAAAAAAAAAAAAAAAAAAAAAAAAAjLgXAAAAAAAAAAAAAAAAAAAAAAAAAAAARtwLAAAAAAAAAAAAAAAAAAAAAAAAAAAAI+4FAAAAAAAAAAAAAAAAAAAAAAAAAACAEfcCAAAAAAAAAAAAAAAAAAAAAAAAAADAiHsBAAAAAAAAAAAAAAAAAAAAAAAAAABgxL0AAAAAAAAAAAAAAAAAAAAAAAAAAAAw4l4AAAAAAAAAAAAAAAAAAAAAAAAAAAAYcS8AAAAAAAAAAAAAAAAAAAAAAAAAAACMuBcAAAAAAAAAAAAAAAAAAAAAAAAAAABG3AsAAAAAAAAAAAAAAAAAAAAAAAAAAAAj7gUAAAAAAAAAAAAAAAAAAAAAAAAAAIAR9wIAAAAAAAAAAAAAAAAAAAAAAAAAAMCIewEAAAAAAAAAAAAAAAAAAAAAAAAAAGDEvQAAAAAAAAAAAAAAAAAAAAAAAAAAADDiXgAAAAAAAAAAAAAAAAAAAAAAAAAAABhxLwAAAAAAAAAAAAAAAAAAAAAAAAAAAIy4FwAAAAAAAAAAAAAAAAAAAAAAAAAAAEbcCwAAAAAAAAAAAAAAAAAAAAAAAAAAACPuBQAAAAAAAAAAAAAAAAAAAAAAAAAAgBH3AgAAAAAAAAAAAAAAAAAAAAAAAAAAwIh7AQAAAAAAAAAAAAAAAAAAAAAAAAAAYMS9AAAAAAAAAAAAAAAAAAAAAAAAAAAAMOJeAAAAAAAAAAAAAAAAAAAAAAAAAAAAGHEvAAAAAAAAAAAAAAAAAAAAAAAAAAAAjLgXAAAAAAAAAAAAAAAAAAAAAAAAAAAARtwLAAAAAAAAAAAAAAAAAAAAAAAAAAAAI+4FAAAAAAAAAAAAAAAAAAAAAAAAAACAEfcCAAAAAAAAAAAAAAAAAAAAAAAAAADAiHsBAAAAAAAAAAAAAAAAAAAAAAAAAABgxL0AAAAAAAAAAAAAAAAAAAAAAAAAAAAw4l4AAAAAAAAAAAAAAAAAAAAAAAAAAAAYcS8AAAAAAAAAAAAAAAAAAAAAAAAAAACMuBcAAAAAAAAAAAAAAAAAAAAAAAAAAABG3AsAAAAAAAAAAAAAAAAAAAAAAAAAAAAj7gUAAAAAAAAAAAAAAAAAAAAAAAAAAIAR9wIAAAAAAAAAAAAAAAAAAAAAAAAAAMCIewEAAAAAAAAAAAAAAAAAAAAAAAAAAGDEvQAAAAAAAAAAAAAAAAAAAAAAAAAAADDiXgAAAAAAAAAAAAAAAAAAAAAAAAAAABhxLwAAAAAAAAAAAAAAAAAAAAAAAAAAAIy4FwAAAAAAAAAAAAAAAAAAAAAAAAAAAEbcCwAAAAAAAAAAAAAAAAAAAAAAAAAAACPuBQAAAAAAAAAAAAAAAAAAAAAAAAAAgBH3AgAAAAAAAAAAAAAAAAAAAAAAAAAAwIh7AQAAAAAAAAAAAAAAAAAAAAAAAAAAYMS9AAAAAAAAAAAAAAAAAAAAAAAAAAAAMOJeAAAAAAAAAAAAAAAAAAAAAAAAAAAAGHEvAAAAAAAAAAAAAAAAAAAAAAAAAAAAjLgXAAAAAAAAAAAAAAAAAAAAAAAAAAAARtwLAAAAAAAAAAAAAAAAAAAAAAAAAAAAe42vkwAAIABJREFUI+4FAAAAAAAAAAAAAAAAAAAAAAAAAACAEfcCAAAAAAAAAAAAAAAAAAAAAAAAAADAiHsBAAAAAAAAAAAAAAAAAAAAAAAAAABgxL0AAAAAAAAAAAAAAAAAAAAAAAAAAAAw4l4AAAAAAAAAAAAAAAAAAAAAAAAAAAAYcS8AAAAAAAAAAAAAAAAAAAAAAAAAAACMuBcAAAAAAAAAAAAAAAAAAAAAAAAAAABG3AsAAAAAAAAAAAAAAAAAAAAAAAAAAAAj7gUAAAAAAAAAAAAAAAAAAAAAAAAAAIAR9wIAAAAAAAAAAAAAAAAAAAAAAAAAAMCIewEAAAAAAAAAAAAAAAAAAAAAAAAAAGDEvQAAAAAAAAAAAAAAAAAAAAAAAAAAADDiXgAAAAAAAAAAAAAAAAAAAAAAAAAAABhxLwAAAAAAAAAAAAAAAAAAAAAAAAAAAIy4FwAAAAAAAAAAAAAAAAAAAAAAAAAAAEbcCwAAAAAAAAAAAAAAAAAAAAAAAAAAACPuBQAAAAAAAAAAAAAAAAAAAAAAAAAAgBH3AgAAAAAAAAAAAAAAAAAAAAAAAAAAwIh7AQAAAAAAAAAAAAAAAAAAAAAAAAAAYMS9AAAAAAAAAAAAAAAAAAAAAAAAAAAAMOJeAAAAAAAAAAAAAAAAAAAAAAAAAAAAGHEvAAAAAAAAAAAAAAAAAAAAAAAAAAAAjLgXAAAAAAAAAAAAAAAAAAAAAAAAAAAARtwLAAAAAAAAAAAAAAAAAAAAAAAAAAAAI+4FAAAAAAAAAAAAAAAAAAAAAAAAAACAEfcCAAAAAAAAAAAAAAAAAAAAAAAAAADAiHsBAAAAAAAAAAAAAAAAAAAAAAAAAABgxL0AAAAAAAAAAAAAAAAAAAAAAAAAAAAw4l4AAAAAAAAAAAAAAAAAAAAAAAAAAAAYcS8AAAAAAAAAAAAAAAAAAAAAAAAAAACMuBcAAAAAAAAAAAAAAAAAAAAAAAAAAABG3AsAAAAAAAAAAAAAAAAAAAAAAAAAAAAj7gUAAAAAAAAAAAAAAAAAAAAAAAAAAIAR9wIAAAAAAAAAAAAAAAAAAAAAAAAAAMCIewEAAAAAAAAAAAAAAAAAAAAAAAAAAGDEvQAAAAAAAAAAAAAAAAAAAAAAAAAAADDiXgAAAAAAAAAAAAAAAAAAAAAAAAAAABhxLwAAAAAAAAAAAAAAAAAAAAAAAAAAAIy4FwAAAAAAAAAAAAAAAAAAAAAAAAAAAEbcCwAAAAAAAAAAAAAAAAAAAAAAAAAAACPuBQAAAAAAAAAAAAAAAAAAAAAAAAAAgBH3AgAAAAAAAAAAAAAAAAAAAAAAAAAAwIh7AQAAAAAAAAAAAAAAAAAAAAAAAAAAYMS9AAAAAAAAAAAAAAAAAAAAAAAAAAAAMOJeAAAAAAAAAAAAAAAAAAAAAAAAAAAAGHEvAAAAAAAAAAAAAAAAAAAAAAAAAAAAjLgXAAAAAAAAAAAAAAAAAAAAAAAAAAAARtwLAAAAAAAAAAAAAAAAAAAAAAAAAAAAI+4FAAAAAAAAAAAAAAAAAAAAAAAAAACAEfcCAAAAAAAAAAAAAAAAAAAAAAAAAADAiHsBAAAAAAAAAAAAAAAAAAAAAAAAAABgxL0AAAAAAAAAAAAAAAAAAAAAAAAAAAAw4l4AAAAAAAAAAAAAAAAAAAAAAAAAAAAYcS8AAAAAAAAAAAAAAAAAAAAAAAAAAACMuBcAAAAAAAAAAAAAAAAAAAAAAAAAAABG3AsAAAAAAAAAAAAAAAAAAAAAAAAAAAAj7gUAAAAAAAAAAAAAAAAAAAAAAAAAAIAR9wIAAAAAAAAAAAAAAAAAAAAAAAAAAMCIewEAAAAAAAAAAAAAAAAAAAAAAAAAAGDEvQAAAAAAAAAAAAAAAAAAAAAAAAAAADDiXgAAAAAAAAAAAAAAAAAAAAAAAAAAABhxLwAAAAAAAAAAAAAAAAAAAAAAAAAAAIy4FwAAAAAAAAAAAAAAAAAAAAAAAAAAAEbcCwAAAAAAAAAAAAAAAAAAAAAAAAAAACPuBQAAAAAAAAAAAAAAAAAAAAAAAAAAgBH3AgAAAAAAAAAAAAAAAAAAAAAAAAAAwIh7AQAAAAAAAAAAAAAAAAAAAAAAAAAAYMS9AAAAAAAAAAAAAAAAAAAAAAAAAAAAMOJeAAAAAAAAAAAAAAAAAAAAAAAAAAAAGHEvAAAAAAAAAAAAAAAAAAAAAAAAAAAAjLgXAAAAAAAAAAAAAAAAAAAAAAAAAAAARtwLAAAAAAAAAAAAAAAAAAAAAAAAAAAAI+4FAAAAAAAAAAAAAAAAAAAAAAAAAACAEfcCAAAAAAAAAAAAAAAAAAAAAAAAAADAiHsBAAAAAAAAAAAAAAAAAAAAAAAAAABgxL0AAAAAAAAAAAAAAAAAAAAAAAAAAAAw4l4AAAAAAAAAAAAAAAAAAAAAAAAAAAAYcS8AAAAAAAAAAAAAAAAAAAAAAAAAAACMuBcAAAAAAAAAAAAAAAAAAAAAAAAAAABG3AsAAAAAAAAAAAAAAAAAAAAAAAAAAAAj7gUAAAAAAAAAAAAAAAAAAAAAAAAAAIAR9wIAAAAAAAAAAAAAAAAAAAAAAAAAAMCIewEAAAAAAAAAAAAAAAAAAAAAAAAAAGDEvQAAAAAAAAAAAAAAAAAAAAAAAAAAADDiXgAAAAAAAAAAAAAAAAAAAAAAAAAAABhxLwAAAAAAAAAAAAAAAAAAAAAAAAAAAIy4FwAAAAAAAAAAAAAAAAAAAAAAAAAAAEbcCwAAAAAAAAAAAAAAAAAAAAAAAAAAACPuBQAAAAAAAAAAAAAAAAAAAAAAAAAAgBH3AgAAAAAAAAAAAAAAAAAAAAAAAAAAwIh7AQAAAAAAAAAAAAAAAAAAAAAAAAAAYMS9AAAAAAAAAAAAAAAAAAAAAAAAAAAAMOJeAAAAAAAAAAAAAAAAAAAAAAAAAAAAGHEvAAAAAAAAAAAAAAAAAAAAAAAAAAAAjLgXAAAAAAAAAAAAAAAAAAAAAAAAAAAARtwLAAAAAAAAAAAAAAAAAAAAAAAAAAAAI+4FAAAAAAAAAAAAAAAAAAAAAAAAAACAEfcCAAAAAAAAAAAAAAAAAAAAAAAAAADAiHsBAAAAAAAAAAAAAAAAAAAAAAAAAABgxL0AAAAAAAAAAAAAAAAAAAAAAAAAAAAw4l4AAAAAAAAAAAAAAAAAAAAAAAAAAAAYcS8AAAAAAAAAAAAAAAAAAAAAAAAAAACMuBcAAAAAAAAAAAAAAAAAAAAAAAAAAABG3AsAAAAAAAAAAAAAAAAAAAAAAAAAAAAj7gUAAAAAAAAAAAAAAAAAAAAAAAAAAIAR9wIAAAAAAAAAAAAAAAAAAAAAAAAAAMCIewEAAAAAAAAAAAAAAAAAAAAAAAAAAGDEvQAAAAAAAAAAAAAAAAAAAAAAAAAAADDiXgAAAAAAAAAAAAAAAAAAAAAAAAAAABhxLwAAAAAAAAAAAAAAAAAAAAAAAAAAAIy4FwAAAAAAAAAAAAAAAAAAAAAAAAAAAEbcCwAAAAAAAAAAAAAAAAAAAAAAAAAAACPuBQAAAAAAAAAAAABi5w5x7qqiMAyv1fypaBPCGDBoyG8wGKbAAMDg8EwDRUJIULgOgCk0aQIKUBgqSNBFNCQbQcULsvc2F/E87pzsnf2N4AUAAAAAAAAAAAAAQrgXAAAAAAAAAAAAAAAAAAAAAAAAAAAAQrgXAAAAAAAAAAAAAAAAAAAAAAAAAAAAQrgXAAAAAAAAAAAAAAAAAAAAAAAAAAAAQrgXAAAAAAAAAAAAAAAAAAAAAAAAAAAAQrgXAAAAAAAAAAAAAAAAAAAAAAAAAAAAQrgXAAAAAAAAAAAAAAAAAAAAAAAAAAAAQrgXAAAAAAAAAAAAAAAAAAAAAAAAAAAAQrgXAAAAAAAAAAAAAAAAAAAAAAAAAAAAQrgXAAAAAAAAAAAAAAAAAAAAAAAAAAAA4qJw7+6+vbtPdveX3f15dz+41jAAAAAAAAAAAAAAAAAAAAAAAAAAAAC4hbsL7385M9+fcz7e3Ycz8+gKmwAAAAAAAAAAAAAAAAAAAAAAAAAAAOBmXjvcu7tvzcyHM/PJzMw55+XMvLzOLAAAAAAAAAAAAAAAAAAAAAAAAAAAALiNBxfcfWdm/piZb3f3h939ZncfX2kXAAAAAAAAAAAAAAAAAAAAAAAAAAAA3MQl4d67mXl/Zr4657w3My9m5ov/Htrdz3b32e4+++vPFxc8BwAAAAAAAAAAAAAAAAAAAAAAAAAAAG/eJeHe5zPz/Jzz9NX3k/kn5Psv55yvzzn355z7u0ePL3gOAAAAAAAAAAAAAAAAAAAAAAAAAAAA3rzXDveec36fmd92991Xvz6amZ+usgoAAAAAAAAAAAAAAAAAAAAAAAAAAABu5O7C+5/PzHe7+3Bmfp2ZTy+fBAAAAAAAAAAAAAAAAAAAAAAAAAAAALdzUbj3nPPjzNxfaQsAAAAAAAAAAAAAAAAAAAAAAAAAAADc3INbDwAAAAAAAAAAAAAAAAAAAAAAAAAAAID/E+FeAAAAAAAAAAAAAAAAAAAAAAAAAAAACOFeAAAAAAAAAAAAAAAAAAAAAAAAAAAACOFeAAAAAAAAAAAAAAAAAAAAAAAAAAAACOFeAAAAAAAAAAAAAAAAAAAAAAAAAAAACOFeAAAAAAAAAAAAAAAAAAAAAAAAAAAACOFeAAAAAAAAAAAAAAAAAAAAAAAAAAAACOFeAAAAAAAAAAAAAAAAAAAAAAAAAAAACOFeAAAAAAAAAAAAAAAAAAAAAAAAAAAACOFeAAAAAAAAAAAAAAAAAAAAAAAAAAAACOFeAAAAAAAAAAAAAAAAAAAAAAAAAAAACOFeAAAAAAAAAAAAAAAAAAAAAAAAAAAACOFeAAAAAAAAAAAAAAAAAAAAAAAAAAAACOFeAAAAAAAAAAAAAAAAAAAAAAAAAAAACOFeAAAAAAAAAAAAAAAAAAAAAAAAAAAACOFeAAAAAAAAAAAAAAAAAAAAAAAAAAAACOFeAAAAAAAAAAAAAAAAAAAAAAAAAAAACOFeAAAAAAAAAAAAAAAAAAAAAAAAAAAACOFeAAAAAAAAAAAAAAAAAAAAAAAAAAAACOFeAAAAAAAAAAAAAAAAAAAAAAAAAAAACOFeAAAAAAAAAAAAAAAAAAAAAAAAAAAACOFeAAAAAAAAAAAAAAAAAAAAAAAAAAAACOFeAAAAAAAAAAAAAAAAAAAAAAAAAAAACOFeAAAAAAAAAAAAAAAAAAAAAAAAAAAACOFeAAAAAAAAAAAAAAAAAAAAAAAAAAAACOFeAAAAAAAAAAAAAAAAAAAAAAAAAAAACOFeAAAAAAAAAAAAAAAAAAAAAAAAAAAACOFeAAAAAAAAAAAAAAAAAAAAAAAAAAAACOFeAAAAAAAAAAAAAAAAAAAAAAAAAAAACOFeAAAAAAAAAAAAAAAAAAAAAAAAAAAACOFeAAAAAAAAAAAAAAAAAAAAAAAAAAAACOFeAAAAAAAAAAAAAAAAAAAAAAAAAAAACOFeAAAAAAAAAAAAAAAAAAAAAAAAAAAACOFeAAAAAAAAAAAAAAAAAAAAAAAAAAAACOFeAAAAAAAAAAAAAAAAAAAAAAAAAAAACOFeAAAAAAAAAAAAAAAAAAAAAAAAAAAACOFeAAAAAAAAAAAAAAAAAAAAAAAAAAAACOFeAAAAAAAAAAAAAAAAAAAAAAAAAAAACOFeAAAAAAAAAAAAAAAAAAAAAAAAAAAACOFeAAAAAAAAAAAAAAAAAAAAAAAAAAAACOFeAAAAAAAAAAAAAAAAAAAAAAAAAAAACOFeAAAAAAAAAAAAAAAAAAAAAAAAAAAACOFeAAAAAAAAAAAAAAAAAAAAAAAAAAAACOFeAAAAAAAAAAAAAAAAAAAAAAAAAAAACOFeAAAAAAAAAAAAAAAAAAAAAAAAAAAACOFeAAAAAAAAAAAAAAAAAAAAAAAAAAAACOFeAAAAAAAAAAAAAAAAAAAAAAAAAAAACOFeAAAAAAAAAAAAAAAAAAAAAAAAAAAACOFeAAAAAAAAAAAAAAAAAAAAAAAAAAAACOFeAAAAAAAAAAAAAAAAAAAAAAAAAAAACOFeAAAAAAAAAAAAAAAAAAAAAAAAAAAACOFeAAAAAAAAAAAAAAAAAAAAAAAAAAAACOFeAAAAAAAAAAAAAAAAAAAAAAAAAAAACOFeAAAAAAAAAAAAAAAAAAAAAAAAAAAACOFeAAAAAAAAAAAAAAAAAAAAAAAAAAAACOFeAAAAAAAAAAAAAAAAAAAAAAAAAAAACOFeAAAAAAAAAAAAAAAAAAAAAAAAAAAACOFeAAAAAAAAAAAAAAAAAAAAAAAAAAAACOFeAAAAAAAAAAAAAAAAAAAAAAAAAAAACOFeAAAAAAAAAAAAAAAAAAAAAAAAAAAACOFeAAAAAAAAAAAAAAAAAAAAAAAAAAAACOFeAAAAAAAAAAAAAAAAAAAAAAAAAAAACOFeAAAAAAAAAAAAAAAAAAAAAAAAAAAACOFeAAAAAAAAAAAAAAAAAAAAAAAAAAAACOFeAAAAAAAAAAAAAAAAAAAAAAAAAAAACOFeAAAAAAAAAAAAAAAAAAAAAAAAAAAACOFeAAAAAAAAAAAAAAAAAAAAAAAAAAAACOFeAAAAAAAAAAAAAAAAAAAAAAAAAAAACOFeAAAAAAAAAAAAAAAAAAAAAAAAAAAACOFeAAAAAAAAAAAAAAAAAAAAAAAAAAAACOFeAAAAAAAAAAAAAAAAAAAAAAAAAAAACOFeAAAAAAAAAAAAAAAAAAAAAAAAAAAACOFeAAAAAAAAAAAAAAAAAAAAAAAAAAAACOFeAAAAAAAAAAAAAAAAAAAAAAAAAAAACOFeAAAAAAAAAAAAAAAAAAAAAAAAAAAACOFeAAAAAAAAAAAAAAAAAAAAAAAAAAAACOFeAAAAAAAAAAAAAAAAAAAAAAAAAAAACOFeAAAAAAAAAAAAAAAAAAAAAAAAAAAACOFeAAAAAAAAAAAAAAAAAAAAAAAAAAAACOFeAAAAAAAAAAAAAAAAAAAAAAAAAAAACOFeAAAAAAAAAAAAAAAAAAAAAAAAAAAACOFeAAAAAAAAAAAAAAAAAAAAAAAAAAAACOFeAAAAAAAAAAAAAAAAAAAAAAAAAAAACOFeAAAAAAAAAAAAAAAAAAAAAAAAAAAACOFeAAAAAAAAAAAAAAAAAAAAAAAAAAAACOFeAAAAAAAAAAAAAAAAAAAAAAAAAAAACOFeAAAAAAAAAAAAAAAAAAAAAAAAAAAACOFeAAAAAAAAAAAAAAAAAAAAAAAAAAAACOFeAAAAAAAAAAAAAAAAAAAAAAAAAAAACOFeAAAAAAAAAAAAAAAAAAAAAAAAAAAACOFeAAAAAAAAAAAAAAAAAAAAAAAAAAAACOFeAAAAAAAAAAAAAAAAAAAAAAAAAAAACOFeAAAAAAAAAAAAAAAAAAAAAAAAAAAACOFeAAAAAAAAAAAAAAAAAAAAAAAAAAAACOFeAAAAAAAAAAAAAAAAAAAAAAAAAAAACOFeAAAAAAAAAAAAAAAAAAAAAAAAAAAACOFeAAAAAAAAAAAAAAAAAAAAAAAAAAAACOFeAAAAAAAAAAAAAAAAAAAAAAAAAAAACOFeAAAAAAAAAAAAAAAAAAAAAAAAAAAACOFeAAAAAAAAAAAAAAAAAAAAAAAAAAAACOFeAAAAAAAAAAAAAAAAAAAAAAAAAAAACOFeAAAAAAAAAAAAAAAAAAAAAAAAAAAACOFeAAAAAAAAAAAAAAAAAAAAAAAAAAAACOFeAAAAAAAAAAAAAAAAAAAAAAAAAAAACOFeAAAAAAAAAAAAAAAAAAAAAAAAAAAACOFeAAAAAAAAAAAAAAAAAAAAAAAAAAAACOFeAAAAAAAAAAAAAAAAAAAAAAAAAAAACOFeAAAAAAAAAAAAAAAAAAAAAAAAAAAACOFeAAAAAAAAAAAAAAAAAAAAAAAAAAAACOFeAAAAAAAAAAAAAAAAAAAAAAAAAAAACOFeAAAAAAAAAAAAAAAAAAAAAAAAAAAACOFeAAAAAAAAAAAAAAAAAAAAAAAAAAAACOFeAAAAAAAAAAAAAAAAAAAAAAAAAAAACOFeAAAAAAAAAAAAAAAAAAAAAAAAAAAACOFeAAAAAAAAAAAAAAAAAAAAAAAAAAAACOFeAAAAAAAAAAAAAAAAAAAAAAAAAAAACOFeAAAAAAAAAAAAAAAAAAAAAAAAAAAACOFeAAAAAAAAAAAAAAAAAAAAAAAAAAAACOFeAAAAAAAAAAAAAAAAAAAAAAAAAAAACOFeAAAAAAAAAAAAAAAAAAAAAAAAAAAACOFeAAAAAAAAAAAAAAAAAAAAAAAAAAAACOFeAAAAAAAAAAAAAAAAAAAAAAAAAAAACOFeAAAAAAAAAAAAAAAAAAAAAAAAAAAACOFeAAAAAAAAAAAAAAAAAAAAAAAAAAAACOFeAAAAAAAAAAAAAAAAAAAAAAAAAAAACOFeAAAAAAAAAAAAAAAAAAAAAAAAAAAACOFeAAAAAAAAAAAAAAAAAAAAAAAAAAAACOFeAAAAAAAAAAAAAAAAAAAAAAAAAAAACOFeAAAAAAAAAAAAAAAAAAAAAAAAAAAACOFeAAAAAAAAAAAAAAAAAAAAAAAAAAAACOFeAAAAAAAAAAAAAAAAAAAAAAAAAAAACOFeAAAAAAAAAAAAAAAAAAAAAAAAAAAACOFeAAAAAAAAAAAAAAAAAAAAAAAAAAAACOFeAAAAAAAAAAAAAAAAAAAAAAAAAAAACOFeAAAAAAAAAAAAAAAAAAAAAAAAAAAACOFeAAAAAAAAAAAAAAAAAAAAAAAAAAAACOFeAAAAAAAAAAAAAAAAAAAAAAAAAAAACOFeAAAAAAAAAAAAAAAAAAAAAAAAAAAACOFeAAAAAAAAAAAAAAAAAAAAAAAAAAAACOFeAAAAAAAAAAAAAAAAAAAAAAAAAAAACOFeAAAAAAAAAAAAAAAAAAAAAAAAAAAACOFeAAAAAAAAAAAAAAAAAAAAAAAAAAAACOFeAAAAAAAAAAAAAAAAAAAAAAAAAAAACOFeAAAAAAAAAAAAAAAAAAAAAAAAAAAACOFeAAAAAAAAAAAAAAAAAAAAAAAAAAAACOFeAAAAAAAAAAAAAAAAAAAAAAAAAAAACOFeAAAAAAAAAAAAAAAAAAAAAAAAAAAACOFeAAAAAAAAAAAAAAAAAAAAAAAAAAAACOFeAAAAAAAAAAAAAAAAAAAAAAAAAAAACOFeAAAAAAAAAAAAAAAAAAAAAAAAAAAACOFeAAAAAAAAAAAAAAAAAAAAAAAAAAAACOFeAAAAAAAAAAAAAAAAAAAAAAAAAAAACOFeAAAAAAAAAAAAAAAAAAAAAAAAAAAACOFeAAAAAAAAAAAAAAAAAAAAAAAAAAAACOFeAAAAAAAAAAAAAAAAAAAAAAAAAAAACOFeAAAAAAAAAAAAAAAAAAAAAAAAAAAACOFeAAAAAAAAAAAAAAAAAAAAAAAAAAAACOFeAAAAAAAAAAAAAAAAAAAAAAAAAAAACOFeAAAAAAAAAAAAAAAAAAAAAAAAAAAACOFeAAAAAAAAAAAAAAAAAAAAAAAAAAAACOFeAAAAAAAAAAAAAAAAAAAAAAAAAAAACOFeAAAAAAAAAAAAAAAAAAAAAAAAAAAACOFeAAAAAAAAAAAAAAAAAAAAAAAAAAAACOFeAAAAAAAAAAAAAAAAAAAAAAAAAAAACOFeAAAAAAAAAAAAAAAAAAAAAAAAAAAACOFeAAAAAAAAAPibnTu2aSAIoCjoOyMR0QYFOHcFroQ6EN1RgMvAkQOwTPoSpBPBrcEz6Qb745X2AQAAAAAAAAAAAAAAAACEcC8AAAAAAAAAAAAAAAAAAAAAAAAAAACEcC8AAAAAAAAAAAAAAAAAAAAAAAAAAACEcC8AAAAAAAAAAAAAAAAAAAAAAAAAAACEcC8AAAAAAAAAAAAAAAAAAAAAAAAAAACEcC8AAAAAAAAAAAAAAAAAAAAAAAAAAACEcC8AAAAAAAAAAAAAAAAAAAAAAAAAAACEcC8AAAAAAAAAAAAAAAAAAAAAAAAAAACEcC8AAAAAAAAAAAAAAAAAAAAAAAAAAACEcC8AAAAAAAAAAAAAAAAAAAAAAAAAAACEcC8AAAAAAAAAAAAAAAAAAAAAAAAAAACEcC8AAAAAAAAAAAAAAAAAAAAAAAAAAACEcC8AAAAAAAAAAAAAAAAAAAAAAAAAAACEcC8AAAAAAAAAAAAAAAAAAAAAAAAAAACEcC8AAAAAAAAAAAAAAAAAAAAAAAAAAACEcC8AAAAAAAAAAAAAAAAAAAAAAAAAAACEcC8AAAAAAAAAAAAAAAAAAAAAAAAAAACEcC8AAAAAAAAAAAAAAAAAAAAAAAAAAACEcC8AAAAAAAAAAAAAAAAAAAAAAAAAAACEcC8AAAAAAAAAAAAAAAAAAAAAAAAAAACEcC8AAAAAAAAAAAAAAAAAAAAAAAAAAACEcC8AAAAAAAAAAAAAAAAAAAAAAAAAAACEcC8AAAAAAAAAAAAAAAAAAAAAAAAAAACEcC8AAAAAAAAAAAAAAAAAAAAAAAAAAACEcC8AAAAAAAAAAAAAAAAAAAAAAAAAAACEcC8AAAAAAAAAAAAAAAAAAAAAAAAAAACEcC8AAAAAAAAAAAAAAAAAAAAAAAAAAACEcC8AAAAAAAAAAAAAAAAAAAAAAAAAAACEcC8AAAAAAAAAAAAAAAAAAAAAAAAAAACEcC8AAAAAAAAAAAAAAAAAAAAAAAAAAACEcC8AAAAAAAAAAAAAAAAAAAAAAAAAAACEcC8AAAAAAAAAAAAAAAAAAAAAAAAAAACEcC8AAAAAAAAAAAAAAAAAAAAAAAAAAACEcC8jM0ZwAAAgAElEQVQAAAAAAAAAAAAAAAAAAAAAAAAAAACEcC8AAAAAAAAAAAAAAAAAAAAAAAAAAACEcC8AAAAAAAAAAAAAAAAAAAAAAAAAAACEcC8AAAAAAAAAAAAAAAAAAAAAAAAAAACEcC8AAAAAAAAAAAAAAAAAAAAAAAAAAACEcC8AAAAAAAAAAAAAAAAAAAAAAAAAAACEcC8AAAAAAAAAAAAAAAAAAAAAAAAAAACEcC8AAAAAAAAAAAAAAAAAAAAAAAAAAACEcC8AAAAAAAAAAAAAAAAAAAAAAAAAAACEcC8AAAAAAAAAAAAAAAAAAAAAAAAAAACEcC8AAAAAAAAAAAAAAAAAAAAAAAAAAADEw5qXTZfN5vHjuuaVAPArn0/T6AkAsMj2PHoBACwzf3kXBAAAAIB7tXt9GT0BAAAAAAAAAOBfOD37pwXA33DYv4+eAACLHd9+PpvXmwEAAAAAAAAAAAAAAAAAAAAAAAAAAAC3T7gXAAAAAAAAAAAAAAAAAAAAAAAAAAAAQrgXAAAAAAAAAAAAAAAAAAAAAAAAAAAAQrgXAAAAAAAAAAAAAAAAAAAAAAAAAAAAQrgXAAAAAAAAAAAAAAAAAAAAAAAAAAAAQrgXAAAAAAAAAAAAAAAAAAAAAAAAAAAAQrgXAAAAAAAAAAAAAAAAAAAAAAAAAAAAQrgXAAAAAAAAAAAAAAAAAAAAAAAAAAAAQrgXAAAAAAAAAAAAAAAAAAAAAAAAAAAAQrgXAAAAAAAAAAAAAAAAAAAAAAAAAAAAQrgXAAAAAAAAAAAAAAAAAAAAAAAAAAAAQrgXAAAAAAAAAAAAAAAAAAAAAAAAAAAAQrgXAAAAAAAAAAAAAAAAAAAAAAAAAAAAQrgXAAAAAAAAAAAAAAAAAAAAAAAAAAAAQrgXAAAAAAAAAAAAAAAAAAAAAAAAAAAAQrgXAAAAAAAAAAAAAAAAAAAAAAAAAAAAQrgXAAAAAAAAAAAAAAAAAAAAAAAAAAAAQrgXAAAAAAAAAAAAAAAAAAAAAAAAAAAAQrgXAAAAAAAAAAAAAAAAAAAAAAAAAAAAQrgXAAAAAAAAAAAAAAAAAAAAAAAAAAAAQrgXAAAAAAAAAAAAAAAAAAAAAAAAAAAAQrgXAAAAAAAAAAAAAAAAAAAAAAAAAAAAQrgXAAAAAAAAAAAAAAAAAAAAAAAAAAAAQrgXAAAAAAAAAAAAAAAAAAAAAAAAAAAAQrgXAAAAAAAAAAAAAAAAAAAAAAAAAAAAQrgXAAAAAAAAAAAAAAAAAAAAAAAAAAAAQrgXAAAAAAAAAAAAAAAAAAAAAAAAAAAAQrgXAAAAAAAAAAAAAAAAAAAAAAAAAAAAQrgXAAAAAAAAAAAAAAAAAAAAAAAAAAAAQrgXAAAAAAAAAAAAAAAAAAAAAAAAAAAAQrgXAAAAAAAAAAAAAAAAAAAAAAAAAAAAQrgXAAAAAAAAAAAAAAAAAAAAAAAAAAAAQrgXAAAAAAAAAAAAAAAAAAAAAAAAAAAAQrgXAAAAAAAAAAAAAAAAAAAAAAAAAAAAQrgXAAAAAAAAAAAAAAAAAAAAAAAAAAAAQrgXAAAAAAAAAAAAAAAAAAAAAAAAAAAAQrgXAAAAAAAAAAAAAAAAAAAAAAAAAAAAQrgXAAAAAAAAAAAAAAAAAAAAAAAAAAAAQrgXAAAAAAAAAAAAAAAAAAAAAAAAAAAAQrgXAAAAAAAAAAAAAAAAAAAAAAAAAAAAQrgXAAAAAAAAAAAAAAAAAAAAAAAAAAAAQrgXAAAAAAAAAAAAAAAAAAAAAAAAAAAAQrgXAAAAAAAAAAAAAAAAAAAAAAAAAAAAQrgXAAAAAAAAAAAAAAAAAAAAAAAAAAAAQrgXAAAAAAAAAAAAAAAAAAAAAAAAAAAAQrgXAAAAAAAAAAAAAAAAAAAAAAAAAAAAQrgXAAAAAAAAAAAAAAAAAAAAAAAAAAAAQrgXAAAAAAAAAAAAAAAAAAAAAAAAAAAAQrgXAAAAAAAAAAAAAAAAAAAAAAAAAAAAQrgXAAAAAAAAAAAAAAAAAAAAAAAAAAAAQrgXAAAAAAAAAAAAAAAAAAAAAAAAAAAAQrgXAAAAAAAAAAAAAAAAAAAAAAAAAAAAQrgXAAAAAAAAAAAAAAAAAAAAAAAAAAAAQrgXAAAAAAAAAAAAAAAAAAAAAAAAAAAAQrgXAAAAAAAAAAAAAAAAAAAAAAAAAAAAQrgXAAAAAAAAAAAAAAAAAAAAAAAAAAAAQrgXAAAAAAAAAAAAAAAAAAAAAAAAAAAAQrgXAAAAAAAAAAAAAAAAAAAAAAAAAAAAQrgXAAAAAAAAAAAAAAAAAAAAAAAAAAAAQrgXAAAAAAAAAAAAAAAAAAAAAAAAAAAAQrgXAAAAAAAAAAAAAAAAAAAAAAAAAAAAQrgXAAAAAAAAAAAAAAAAAAAAAAAAAAAAQrgXAAAAAAAAAAAAAAAAAAAAAAAAAAAAQrgXAAAAAAAAAAAAAAAAAAAAAAAAAAAAQrgXAAAAAAAAAAAAAAAAAAAAAAAAAAAAQrgXAAAAAAAAAAAAAAAAAAAAAAAAAAAAQrgXAAAAAAAAAAAAAAAAAAAAAAAAAAAAQrgXAAAAAAAAAAAAAAAAAAAAAAAAAAAAQrgXAAAAAAAAAAAAAAAAAAAAAAAAAAAAQrgXAAAAAAAAAAAAAAAAAAAAAAAAAAAAQrgXAAAAAAAAAAAAAAAAAAAAAAAAAAAAQrgXAAAAAAAAAAAAAAAAAAAAAAAAAAAAQrgXAAAAAAAAAAAAAAAAAAAAAAAAAAAAQrgXAAAAAAAAAAAAAAAAAAAAAAAAAAAAQrgXAAAAAAAAAAAAAAAAAAAAAAAAAAAAQrgXAAAAAAAAAAAAAAAAAAAAAAAAAAAAQrgXAAAAAAAAAAAAAAAAAAAAAAAAAAAAQrgXAAAAAAAAAAAAAAAAAAAAAAAAAAAAQrgXAAAAAAAAAAAAAAAAAAAAAAAAAAAAQrgXAAAAAAAAAAAAAAAAAAAAAAAAAAAAQrgXAAAAAAAAAAAAAAAAAAAAAAAAAAAAQrgXAAAAAAAAAAAAAAAAAAAAAAAAAAAAQrgXAAAAAAAAAAAAAAAAAAAAAAAAAAAAQrgXAAAAAAAAAAAAAAAAAAAAAAAAAAAAQrgXAAAAAAAAAAAAAAAAAAAAAAAAAAAAQrgXAAAAAAAAAAAAAAAAAAAAAAAAAAAAQrgXAAAAAAAAAAAAAAAAAAAAAAAAAAAAQrgXAAAAAAAAAAAAAAAAAAAAAAAAAAAAQrgXAAAAAAAAAAAAAAAAAAAAAAAAAAAAQrgXAAAAAAAAAAAAAAAAAAAAAAAAAAAAQrgXAAAAAAAAAAAAAAAAAAAAAAAAAAAAQrgXAAAAAAAAAAAAAAAAAAAAAAAAAAAAQrgXAAAAAAAAAAAAAAAAAAAAAAAAAAAAQrgXAAAAAAAAAAAAAAAAAAAAAAAAAAAAQrgXAAAAAAAAAAAAAAAAAAAAAAAAAAAAQrgXAAAAAAAAAAAAAAAAAAAAAAAAAAAAQrgXAAAAAAAAAAAAAAAAAAAAAAAAAAAAQrgXAAAAAAAAAAAAAAAAAAAAAAAAAAAAQrgXAAAAAAAAAAAAAAAAAAAAAAAAAAAAQrgXAAAAAAAAAAAAAAAAAAAAAAAAAAAAQrgXAAAAAAAAAAAAAAAAAAAAAAAAAAAAQrgXAAAAAAAAAAAAAAAAAAAAAAAAAAAAQrgXAAAAAAAAAAAAAAAAAAAAAAAAAAAAQrgXAAAAAAAAAAAAAAAAAAAAAAAAAAAAQrgXAAAAAAAAAAAAAAAAAAAAAAAAAAAAQrgXAAAAAAAAAAAAAAAAAAAAAAAAAAAAQrgXAAAAAAAAAAAAAAAAAAAAAAAAAAAAQrgXAAAAAAAAAAAAAAAAAAAAAAAAAAAAQrgXAAAAAAAAAAAAAAAAAAAAAAAAAAAAQrgXAAAAAAAAAAAAAAAAAAAAAAAAAAAAQrgXAAAAAAAAAAAAAAAAAAAAAAAAAAAAQrgXAAAAAAAAAAAAAAAAAAAAAAAAAAAAQrgXAAAAAAAAAAAAAAAAAAAAAAAAAAAAQrgXAAAAAAAAAAAAAAAAAAAAAAAAAAAAQrgXAAAAAAAAAAAAAAAAAAAAAAAAAAAAQrgXAAAAAAAAAAAAAAAAAAAAAAAAAAAAQrgXAAAAAAAAAAAAAAAAAAAAAAAAAAAAQrgXAAAAAAAAAAAAAAAAAAAAAAAAAAAAQrgXAAAAAAAAAAAAAAAAAAAAAAAAAAAAQrgXAAAAAAAAAAAAAAAAAAAAAAAAAAAAQrgXAAAAAAAAAAAAAAAAAAAAAAAAAAAAQrgXAAAAAAAAAAAAAAAAAAAAAAAAAAAAQrgXAAAAAAAAAAAAAAAAAAAAAAAAAAAAQrgXAAAAAAAAAAAAAAAAAAAAAAAAAAAAQrgXAAAAAAAAAAAAAAAAAAAAAAAAAAAAQrgXAAAAAAAAAAAAAAAAAAAAAAAAAAAAQrgXAAAAAAAAAAAAAAAAAAAAAAAAAAAAQrgXAAAAAAAAAAAAAAAAAAAAAAAAAAAAQrgXAAAAAAAAAAAAAAAAAAAAAAAAAAAAQrgXAAAAAAAAAAAAAAAAAAAAAAAAAAAAQrgXAAAAAAAAAAAAAAAAAAAAAAAAAAAAQrgXAAAAAAAAAAAAAAAAAAAAAAAAAAAAQrgXAAAAAAAAAAAAAAAAAAAAAAAAAAAAQrgXAAAAAAAAAAAAAAAAAAAAAAAAAAAAQrgXAAAAAAAAAAAAAAAAAAAAAAAAAAAAQrgXAAAAAAAAAAAAAAAAAAAAAAAAAAAAQrgXAAAAAAAAAAAAAAAAAAAAAAAAAAAAQrgXAAAAAAAAAAAAAAAAAAAAAAAAAAAAQrgXAAAAAAAAAAAAAAAAAAAAAAAAAAAAQrgXAAAAAAAAAAAAAAAAAAAAAAAAAAAAQrgXAAAAAAAAAAAAAAAAAAAAAAAAAAAAQrgXAADgm507FgAAAAAY5G+9dxAFEgAAAAAAAAAAAAAAAAAAAAAAAIy4FwAAAAAAAAAAAAAAAAAAAAAAAAAAAEbcCwAAAAAAAAAAAAAAAAAAAAAAAAAAACPuBQAAAAAAAAAAAAAAAAAAAAAAAAAAgBH3AgAAAAAAAAAAAAAAAAAAAAAAAAAAwIh7AQAAAAAAAAAAAAAAAAAAAAAAAAAAYMS9AAAAAAAAAAAAAAAAAAAAAAAAAAAAMOJeAAAAAAAAAAAAAAAAAAAAAAAAAAAAGHEvAAAAAAAAAAAAAAAAAAAAAAAAAAAAjLgXAAAAAAAAAAAAAAAAAAAAAAAAAAAARtwLAAAAAAAAAAAAAAAAAAAAAAAAAAAAI+4FAAAAAAAAAAAAAAAAAAAAAAAAAACAEfcCAAAAAAAAAAAAAAAAAAAAAAAAAADAiHsBAAAAAAAAAAAAAAAAAAAAAAAAAABgxL0AAAAAAAAAAAAAAAAAAAAAAAAAAAAw4l4AAAAAAAAAAAAAAAAAAAAAAAAAAAAYcS8AAAAAAAAAAAAAAAAAAAAAAAAAAACMuBcAAAAAAAAAAAAAAAAAAAAAAAAAAABG3AsAAAAAAAAAAAAAAAAAAAAAAAAAAAAj7gUAAAAAAAAAAAAAAAAAAAAAAAAAAIAR9wIAAAAAAAAAAAAAAAAAAAAAAAAAAMCIewEAAAAAAAAAAAAAAAAAAAAAAAAAAGDEvQAAAAAAAAAAAAAAAAAAAAAAAAAAADDiXgAAAAAAAAAAAAAAAAAAAAAAAAAAABhxLwAAAAAAAAAAAAAAAAAAAAAAAAAAAIy4FwAAAAAAAAAAAAAAAAAAAAAAAAAAAEbcCwAAAAAAAAAAAAAAAAAAAAAAAAAAACPuBQAAAAAAAAAAAAAAAAAAAAAAAAAAgBH3AgAAAAAAAAAAAAAAAAAAAAAAAAAAwIh7AQAAAAAAAAAAAAAAAAAAAAAAAAAAYMS9AAAAAAAAAAAAAAAAAAAAAAAAAAAAMOJeAAAAAAAAAAAAAAAAAAAAAAAAAAAAGHEvAAAAAAAAAAAAAAAAAAAAAAAAAAAAjLgXAAAAAAAAAAAAAAAAAAAAAAAAAAAARtwLAAAAAAAAAAAAAAAAAAAAAAAAAAAAI+4FAAAAAAAAAAAAAAAAAAAAAAAAAACAEfcCAAAAAAAAAAAAAAAAAAAAAAAAAADAiHsBAAAAAAAAAAAAAAAAAAAAAAAAAABgxL0AAAAAAAAAAAAAAAAAAAAAAAAAAAAw4l4AAAAAAAAAAAAAAAAAAAAAAAAAAAAYcS8AAAAAAAAAAAAAAAAAAAAAAAAAAACMuBcAAAAAAAAAAAAAAAAAAAAAAAAAAABG3AsAAAAAAAAAAAAAAAAAAAAAAAAAAAAj7gUAAAAAAAAAAAAAAAAAAAAAAAAAAIAR9wIAAAAAAAAAAAAAAAAAAAAAAAAAAMCIewEAAAAAAAAAAAAAAAAAAAAAAAAAAGDEvQAAAAAAAAAAAAAAAAAAAAAAAAAAADDiXgAAAAAAAAAAAAAAAAAAAAAAAAAAABhxLwAAAAAAAAAAAAAAAAAAAAAAAAAAAIy4FwAAAAAAAAAAAAAAAAAAAAAAAAAAAEbcCwAAAAAAAAAAAAAAAAAAAAAAAAAAACPuBQAAAAAAAAAAAAAAAAAAAAAAAAAAgBH3AgAAAAAAAAAAAAAAAAAAAAAAAAAAwIh7AQAAAAAAAAAAAAAAAAAAAAAAAAAAYMS9AAAAAAAAAAAAAAAAAAAAAAAAAAAAMOJeAAAAAAAAAAAAAAAAAAAAAAAAAAAAGHEvAAAAAAAAAAAAAAAAAAAAAAAAAAAAjLgXAAAAAAAAAAAAAAAAAAAAAAAAAAAARtwLAAAAAAAAAAAAAAAAAAAAAAAAAAAAI+4FAAAAAAAAAAAAAAAAAAAAAAAAAACAEfcCAAAAAAAAAAAAAAAAAAAAAAAAAADAiHsBAAAAAAAAAAAAAAAAAAAAAAAAAABgxL0AAAAAAAAAAAAAAAAAAAAAAAAAAAAw4l4AAAAAAAAAAAAAAAAAAAAAAAAAAAAYcS8AAAAAAAAAAAAAAAAAAAAAAAAAAACMuBcAAAAAAAAAAAAAAAAAAAAAAAAAAABG3AsAAAAAAAAAAAAAAAAAAAAAAAAAAAAj7gUAAAAAAAAAAAAAAAAAAAAAAAAAAIAR9wIAAAAAAAAAAAAAAAAAAAAAAAAAAMCIewEAAAAAAAAAAAAAAAAAAAAAAAAAAGDEvQAAAAAAAAAAAAAAAAAAAAAAAAAAADDiXgAAAAAAAAAAAAAAAAAAAAAAAAAAABhxLwAAAAAAAAAAAAAAAAAAAAAAAAAAAIy4FwAAAAAAAAAAAAAAAAAAAAAAAAAAAEbcCwAAAAAAAAAAAAAAAAAAAAAAAAAAACPuBQAAAAAAAAAAAAAAAAAAAAAAAAAAgBH3AgAAAAAAAAAAAAAAAAAAAAAAAAAAwIh7AQAAAAAAAAAAAAAAAAAAAAAAAAAAYMS9AAAAAAAAAAAAAAAAAAAAAAAAAAAAMOJeAAAAAAAAAAAAAAAAAAAAAAAAAAAAGHEvAAAAAAAAAAAAAAAAAAAAAAAAAAAAjLgXAAAAAAAAAAAAAAAAAAAAAAAAAAAARtwLAAAAAAAAAAAAAAAAAAAAAAAAAAAAI+4FAAAAAAAAAAAAAAAAAAAAAAAAAACAEfcCAAAAAAAAAAAAAAAAAAAAAAAAAADAiHsBAAAAAAAAAAAAAAAAAAAAAAAAAABgxL0AAAAAAAAAAAAAAAAAAAAAAAAAAAAw4l4AAAAAAAAAAAAAAAAAAAAAAAAAAAAYcS8AAAAAAAAAAAAAAAAAAAAAAAAAAACMuBcAAAAAAAAAAAAAAAAAAAAAAAAAAABG3AsAAAAAAAAAAAAAAAAAAAAAAAAAAAAj7gUAAAAAAAAAAAAAAAAAAAAAAAAAAIAR9wIAAAAAAAAAAAAAAAAAAAAAAAAAAMCIewEAAAAAAAAAAAAAAAAAAAAAAAAAAGDEvQAAAAAAAAAAAAAAAAAAAAAAAAAAADDiXgAAAAAAAAAAAAAAAAAAAAAAAAAAABhxLwAAAAAAAAAAAAAAAAAAAAAAAAAAAIy4FwAAAAAAAAAAAAAAAAAAAAAAAAAAAEbcCwAAAAAAAAAAAAAAAAAAAAAAAAAAACPuBQAAAAAAAAAAAAAAAAAAAAAAAAAAgBH3AgAAAAAAAAAAAAAAAAAAAAAAAAAAwIh7AQAAAAAAAAAAAAAAAAAAAAAAAAAAYMS9AAAAAAAAAAAAAAAAAAAAAAAAAAAAMOJeAAAAAAAAAAAAAAAAAAAAAAAAAAAAGHEvAAAAAAAAAAAAAAAAAAAAAAAAAAAAjLgXAAAAAAAAAAAAAAAAAAAAAAAAAAAARtwLAAAAAAAAAAAAAAAAAAAAAAAAAAAAI+4FAAAAAAAAAAAAAAAAAAAAAAAAAACAEfcCAAAAAAAAAAAAAAAAAAAAAAAAAADAiHsBAAAAAAAAAAAAAAAAAAAAAAAAAABgxL0AAAAAAAAAAAAAAAAAAAAAAAAAAAAw4l4AAAAAAAAAAAAAAAAAAAAAAAAAAAAYcS8AAAAAAAAAAAAAAAAAAAAAAAAAAACMuBcAAAAAAAAAAAAAAAAAAAAAAAAAAABG3AsAAAAAAAAAAAAAAAAAAAAAAAAAAAAj7gUAAAAAAAAAAAAAAAAAAAAAAAAAAIAR9wIAAAAAAAAAAAAAAAAAAAAAAAAAAMCIewEAAAAAAAAAAAAAAAAAAAAAAAAAAGDEvQAAAAAAAAAAAAAAAAAAAAAAAAAAADDiXgAAAAAAAAAAAAAAAAAAAAAAAAAAABhxLwAAAAAAAAAAAAAAAAAAAAAAAAAAAIy4FwAAAAAAAAAAAAAAAAAAAAAAAAAAAEbcCwAAAAAAAAAAAAAAAAAAAAAAAAAAACPuBQAAAAAAAAAAAAAAAAAAAAAAAAAAgBH3AgAAAAAAAAAAAAAAAAAAAAAAAAAAwIh7AQAAAAAAAAAAAAAAAAAAAAAAAAAAYMS9AAAAAAAAAAAAAAAAAAAAAAAAAAAAMOJeAAAAAAAAAAAAAAAAAAAAAAAAAAAAGHEvAAAAAAAAAAAAAAAAAAAAAAAAAAAAjLgXAAAAAAAAAAAAAAAAAAAAAAAAAAAARtwLAAAAAAAAAAAAAAAAAAAAAAAAAAAAI+4FAAAAAAAAAAAAAAAAAAAAAAAAAACAEfcCAAAAAAAAAAAAAAAAAAAAAAAAAADAiHsBAAAAAAAAAAAAAAAAAAAAAAAAAABgxL0AAAAAAAAAAAAAAAAAAAAAAAAAAAAw4l4AAAAAAAAAAAAAAAAAAAAAAAAAAAAYcS8AAAAAAAAAAAAAAAAAAAAAAAAAAACMuBcAAAAAAAAAAAAAAAAAAAAAAAAAAABG3AsAAAAAAAAAAAAAAAAAAAAAAAAAAAAj7gUAAAAAAAAAAAAAAAAAAAAAAAAAAIAR9wIAAAAAAAAAAAAAAAAAAAAAAAAAAMCIewEAAAAAAAAAAAAAAAAAAAAAAAAAAGDEvQAAAAAAAAAAAAAAAAAAAAAAAAAAADDiXgAAAAAAAAAAAAAAAAAAAAAAAAAAABhxLwAAAAAAAAAAAAAAAAAAAAAAAAAAAIy4FwAAAAAAAAAAAAAAAAAAAAAAAAAAAEbcCwAAAAAAAAAAAAAAAAAAAAAAAAAAACPuBQAAAAAAAAAAAAAAAAAAAAAAAAAAgBH3AgAAAAAAAAAAAAAAAAAAAAAAAAAAwIh7AQAAAAAAAAAAAAAAAAAAAAAAAAAAYMS9AAAAAAAAAAAAAAAAAAAAAAAAAAAAMOJeAAAAAAAAAAAAAAAAAAAAAAAAAAAAGHEvAAAAAAAAAAAAAAAAAAAAAAAAAAAAjLgXAAAAAAAAAAAAAAAAAAAAAAAAAAAARtwLAAAAAAAAAAAAAAAAAAAAAAAAAAAAI+4FAAAAAAAAAAAAAAAAAAAAAAAAAACAEfcCAAAAAAAAAAAAAAAAAAAAAAAAAADAiHsBAAAAAAAAAAAAAAAAAAAAAAAAAABgxL0AAAAAAAAAAAAAAAAAAAAAAAAAAAAw4l4AAAAAAAAAAAAAAAAAAAAAAAAAAAAYcS8AAAAAAAAAAAAAAAAAAAAAAAAAAACMuBcAAAAAAAAAAAAAAAAAAAAAAAAAAABG3AsAAAAAAAAAAAAAAAAAAAAAAAAAAAAj7gUAAAAAAAAAAAAAAAAAAAAAAAAAAIAR9wIAAAAAAAAAAAAAAAAAAAAAAAAAAMCIewEAAAAAAAAAAAAAAAAAAAAAAAAAAGDEvQAAAAAAAAAAAAAAAAAAAAAAAAAAADDiXgAAAAAAAAAAAAAAAAAAAAAAAAAAABhxLwAAAAAAAAAAAAAAAAAAAAAAAAAAAIy4FwAAAAAAAAAAAAAAAAAAAAAAAAAAAEbcCwAAAAAAAAAAAAAAAAAAAAAAAAAAACPuBQAAAAAAAAAAAAAAAAAAAAAAAAAAgBH3AgAAAAAAAAAAAAAAAAAAAAAAAAAAwIh7AQAAAAAAAAAAAAAAAAAAAAAAAAAAYMS9AAAAAAAAAAAAAAAAAAAAAAAAAAAAMOJeAAAAAAAAAAAAAAAAAAAAAAAAAAAAGHEvAAAAAAAAAAAAAAAAAAAAAAAAAAAAjLgXAAAAAAAAAAAAAAAAAAAAAAAAAAAARtwLAAAAAAAAAAAAAAAAAAAAAAAAAAAAI+4FAAAAAAAAAAAAAAAAAAAAAAAAAACAEfcCAAAAAAAAAAAAAAAAAAAAAAAAAADAiHsBAAAAAAAAAAAAAAAAAAAAAAAAAABgxL0AAAAAAAAAAAAAAAAAAAAAAAAAAAAw4l4AAAAAAAAAAAAAAAAAAAAAAAAAAAAYcS8AAAAAAAAAAAAAAAAAAAAAAAAAAACMuBcAAAAAAAAAAAAAAAAAAAAAAAAAAABG3AsAAAAAAADEzh3bNBCfE3oAACAASURBVBBEURRlAZE6dguEiKYogshFUIJbcA0uwS24AEerJb0JEjjYMdY56QTz8i9dAAAAAAAAAAAAAAAAAAAghHsBAAAAAAAAAAAAAAAAAAAAAAAAAAAghHsBAAAAAAAAAAAAAAAAAAAAAAAAAAAghHsBAAAAAAAAAAAAAAAAAAAAAAAAAAAghHsBAAAAAAAAAAAAAAAAAAAAAAAAAAAghHsBAAAAAAAAAAAAAAAAAAAAAAAAAAAghHsBAAAAAAAAAAAAAAAAAAAAAAAAAAAghHsBAAAAAAAAAAAAAAAAAAAAAAAAAAAghHsBAAAAAAAAAAAAAAAAAAAAAAAAAAAghHsBAAAAAAAAAAAAAAAAAAAAAAAAAAAghHsBAAAAAAAAAAAAAAAAAAAAAAAAAAAghHsBAAAAAAAAAAAAAAAAAAAAAAAAAAAghHsBAAAAAAAAAAAAAAAAAAAAAAAAAAAghHsBAAAAAAAAAAAAAAAAAAAAAAAAAAAghHsBAAAAAAAAAAAAAAAAAAAAAAAAAAAghHsBAAAAAAAAAAAAAAAAAAAAAAAAAAAghHsBAAAAAAAAAAAAAAAAAAAAAAAAAAAghHsBAAAAAAAAAAAAAAAAAAAAAAAAAAAghHsBAAAAAAAAAAAAAAAAAAAAAAAAAAAghHsBAAAAAAAAAAAAAAAAAAAAAAAAAAAghHsBAAAAAAAAAAAAAAAAAAAAAAAAAAAghHsBAAAAAAAAAAAAAAAAAAAAAAAAAAAghHsBAAAAAAAAAAAAAAAAAAAAAAAAAAAghHsBAAAAAAAAAAAAAAAAAAAAAAAAAAAghHsBAAAAAAAAAAAAAAAAAAAAAAAAAAAghHsBAAAAAAAAAAAAAAAAAAAAAAAAAAAghHsBAAAAAAAAAAAAAAAAAAAAAAAAAAAghHsBAAAAAAAAAAAAAAAAAAAAAAAAAAAghHsBAAAAAAAAAAAAAAAAAAAAAAAAAAAghHsBAAAAAAAAAAAAAAAAAAAAAAAAAAAghHsBAAAAAAAAAAAAAAAAAAAAAAAAAAAghHsBAAAAAAAAAAAAAAAAAAAAAAAAAAAghHsBAAAAAAAAAAAAAAAAAAAAAAAAAAAghHsBAAAAAAAAAAAAAAAAAAAAAAAAAAAghHsBAAAAAAAAAAAAAAAAAAAAAAAAAAAghHsBAAAAAAAAAAAAAAAAAAAAAAAAAAAghHsBAAAAAAAAAAAAAAAAAAAAAAAAAAAghHsBAAAAAAAAAAAAAAAAAAAAAAAAAAAghHsBAAAAAAAAAAAAAAAAAAAAAAAAAAAghHsBAAAAAAAAAAAAAAAAAAAAAAAAAAAghHsBAAAAAAAAAAAAAAAAAAAAAAAAAAAghHsBAAAAAAAAAAAAAAAAAAAAAAAAAAAghHsBAAAAAAAAAAAAAAAAAAAAAAAAAAAghHsBAAAAAAAAAAAAAAAAAAAAAAAAAAAghHsBAAAAAAAAAAAAAAAAAAAAAAAAAAAghHsBAAAAAAAAAAAAAAAAAAAAAAAAAAAghHsBAAAAAAAAAAAAAAAAAAAAAAAAAAAghHsBAAAAAAAAAAAAAAAAAAAAAAAAAAAghHsBAAAAAAAAAAAAAAAAAAAAAAAAAAAghHsBAAAAAAAAAAAAAAAAAAAAAAAAAAAghHsBAAAAAAAAAAAAAAAAAAAAAAAAAAAghHsBAAAAAAAAAAAAAAAAAAAAAAAAAAAghHsBAAAAAAAAAAAAAAAAAAAAAAAAAAAghHsBAAAAAAAAAAAAAAAAAAAAAAAAAAAghHsBAAAAAAAAAAAAAAAAAAAAAAAAAAAghHsBAAAAAAAAAAAAAAAAAAAAAAAAAAAghHsBAAAAAAAAAAAAAAAAAAAAAAAAAAAghHsBAAAAAAAAAAAAAAAAAAAAAAAAAAAghHsBAAAAAAAAAAAAAAAAAAAAAAAAAAAghHsBAAAAAAAAAAAAAAAAAAAAAAAAAAAghHsBAAAAAAAAAAAAAAAAAAAAAAAAAAAghHsBAAAAAAAAAAAAAAAAAAAAAAAAAAAghHsBAAAAAAAAAAAAAAAAAAAAAAAAAAAghHsBAAAAAAAAAAAAAAAAAAAAAAAAAAAghHsBAAAAAAAAAAAAAAAAAAAAAAAAAAAghHsBAAAAAAAAAAAAAAAAAAAAAAAAAAAghHsBAAAAAAAAAAAAAAAAAAAAAAAAAAAghHsBAAAAAAAAAAAAAAAAAAAAAAAAAAAghHsBAAAAAAAAAAAAAAAAAAAAAAAAAAAghHsBAAAAAAAAAAAAAAAAAAAAAAAAAAAghHsBAAAAAAAAAAAAAAAAAAAAAAAAAAAghHsBAAAAAAAAAAAAAAAAAAAAAAAAAAAghHsBAAAAAAAAAAAAAAAAAAAAAAAAAAAghHsBAAAAAAAAAAAAAAAAAAAAAAAAAAAghHsBAAAAAAAAAAAAAAAAAAAAAAAAAAAghHsBAAAAAAAAAAAAAAAAAAAAAAAAAAAghHsBAAAAAAAAAAAAAAAAAAAAAAAAAAAghHsBAAAAAAAAAAAAAAAAAAAAAAAAAAAghHsBAAAAAAAAAAAAAAAAAAAAAAAAAAAghHsBAAAAAAAAAAAAAAAAAAAAAAAAAAAghHsBAAAAAAAAAAAAAAAAAAAAAAAAAAAghHsBAAAAAAAAAAAAAAAAAAAAAAAAAAAghHsBAAAAAAAAAAAAAAAAAAAAAAAAAAAghHsBAAAAAAAAAAAAAAAAAAAAAAAAAAAghHsBAAAAAAAAAAAAAAAAAAAAAAAAAAAghHsBAAAAAAAAAAAAAAAAAAAAAAAAAAAghHsBAAAAAAAAAAAAAAAAAAAAAAAAAAAghHsBAAAAAAAAAAAAAAAAAAAAAAAAAAAghHsBAAAAAAAAAAAAAAAAAAAAAAAAAAAghHsBAAAAAAAAAAAAAAAAAAAAAAAAAAAghHsBAAAAAAAAAAAAAAAAAAAAAAAAAAAghHsBAAAAAAAAAAAAAAAAAAAAAAAAAAAghHsBAAAAAAAAAAAAAAAAAAAAAAAAAAAghHsBAAAAAAAAAAAAAAAAAAAAAAAAAAAghHsBAAAAAAAAAAAAAAAAAAAAAAAAAAAghHsBAAAAAAAAAAAAAAAAAAAAAAAAAAAghHsBAAAAAAAAAAAAAAAAAAAAAAAAAAAghHsBAAAAAAAAAAAAAAAAAAAAAAAAAAAghHsBAAAAAAAAAAAAAAAAAAAAAAAAAAAghHsBAAAAAAAAAAAAAAAAAAAAAAAAAAAghHsBAAAAAAAAAAAAAAAAAAAAAAAAAAAgntf87HV7fjh+fq35JQBc5W33MXoCAADAXVmeptETAOBXpnkZPQEAAAAAGGR+cdMCAAAAAADgtm1ObloA/A+Hy/voCQDwB/sfXx5XXAEAAAAAAAAAAAAAAAAAAAAAAAAAAAA3T7gXAAAAAAAAAAAAAAAAAAAAAAAAAAAAQrgXAAAAAAAAAAAAAAAAAAAAAAAAAAAAQrgXAAAAAAAAAAAAAAAAAAAAAAAAAAAAQrgXAAAAAAAAAAAAAAAAAAAAAAAAAAAAQrgXAAAAAAAAAAAAAAAAAAAAAAAAAAAAQrgXAAAAAAAAAAAAAAAAAAAAAAAAAAAAQrgXAAAAAAAAAAAAAAAAAAAAAAAAAAAAQrgXAAAAAAAAAAAAAAAAAAAAAAAAAAAAQrgXAAAAAAAAAAAAAAAAAAAAAAAAAAAAQrgXAAAAAAAAAAAAAAAAAAAAAAAAAAAAQrgXAAAAAAAAAAAAAAAAAAAAAAAAAAAAQrgXAAAAAAAAAAAAAAAAAAAAAAAAAAAAQrgXAAAAAAAAAAAAAAAAAAAAAAAAAAAAQrgXAAAAAAAAAAAAAAAAAAAAAAAAAAAAQrgXAAAAAAAAAAAAAAAAAAAAAAAAAAAAQrgXAAAAAAAAAAAAAAAAAAAAAAAAAAAAQrgXAAAAAAAAAAAAAAAAAAAAAAAAAAAAQrgXAAAAAAAAAAAAAAAAAAAAAAAAAAAAQrgXAAAAAAAAAAAAAAAAAAAAAAAAAAAAQrgXAAAAAAAAAAAAAAAAAAAAAAAAAAAAQrgXAAAAAAAAAAAAAAAAAAAAAAAAAAAAQrgXAAAAAAAAAAAAAAAAAAAAAAAAAAAAQrgXAAAAAAAAAAAAAAAAAAAAAAAAAAAAQrgXAAAAAAAAAAAAAAAAAAAAAAAAAAAAQrgXAAAAAAAAAAAAAAAAAAAAAAAAAAAAQrgXAAAAAAAAAAAAAAAAAAAAAAAAAAAAQrgXAAAAAAAAAAAAAAAAAAAAAAAAAAAAQrgXAAAAAAAAAAAAAAAAAAAAAAAAAAAAQrgXAAAAAAAAAAAAAAAAAAAAAAAAAAAAQrgXAAAAAAAAAAAAAAAAAAAAAAAAAAAAQrgXAAAAAAAAAAAAAAAAAAAAAAAAAAAAQrgXAAAAAAAAAAAAAAAAAAAAAAAAAAAAQrgXAAAAAAAAAAAAAAAAAAAAAAAAAAAAQrgXAAAAAAAAAAAAAAAAAAAAAAAAAAAAQrgXAAAAAAAAAAAAAAAAAAAAAAAAAAAAQrgXAAAAAAAAAAAAAAAAAAAAAAAAAAAAQrgXAAAAAAAAAAAAAAAAAAAAAAAAAAAAQrgXAAAAAAAAAAAAAAAAAAAAAAAAAAAAQrgXAAAAAAAAAAAAAAAAAAAAAAAAAAAAQrgXAAAAAAAAAAAAAAAAAAAAAAAAAAAAQrgXAAAAAAAAAAAAAAAAAAAAAAAAAAAAQrgXAAAAAAAAAAAAAAAAAAAAAAAAAAAAQrgXAAAAAAAAAAAAAAAAAAAAAAAAAAAAQrgXAAAAAAAAAAAAAAAAAAAAAAAAAAAAQrgXAAAAAAAAAAAAAAAAAAAAAAAAAAAAQrgXAAAAAAAAAAAAAAAAAAAAAAAAAAAAQrgXAAAAAAAAAAAAAAAAAAAAAAAAAAAAQrgXAAAAAAAAAAAAAAAAAAAAAAAAAAAAQrgXAAAAAAAAAAAAAAAAAAAAAAAAAAAAQrgXAAAAAAAAAAAAAAAAAAAAAAAAAAAAQrgXAAAAAAAAAAAAAAAAAAAAAAAAAAAAQrgXAAAAAAAAAAAAAAAAAAAAAAAAAAAAQrgXAAAAAAAAAAAAAAAAAAAAAAAAAAAAQrgXAAAAAAAAAAAAAAAAAAAAAAAAAAAAQrgXAAAAAAAAAAAAAAAAAAAAAAAAAAAAQrgXAAAAAAAAAAAAAAAAAAAAAAAAAAAAQrgXAAAAAAAAAAAAAAAAAAAAAAAAAAAAQrgXAAAAAAAAAAAAAAAAAAAAAAAAAAAAQrgXAAAAAAAAAAAAAAAAAAAAAAAAAAAAQrgXAAAAAAAAAAAAAAAAAAAAAAAAAAAAQrgXAAAAAAAAAAAAAAAAAAAAAAAAAAAAQrgXAAAAAAAAAAAAAAAAAAAAAAAAAAAAQrgXAAAAAAAAAAAAAAAAAAAAAAAAAAAAQrgXAAAAAAAAAAAAAAAAAAAAAAAAAAAAQrgXAAAAAAAAAAAAAAAAAAAAAAAAAAAAQrgXAAAAAAAAAAAAAAAAAAAAAAAAAAAAQrgXAAAAAAAAAAAAAAAAAAAAAAAAAAAAQrgXAAAAAAAAAAAAAAAAAAAAAAAAAAAAQrgXAAAAAAAAAAAAAAAAAAAAAAAAAAAAQrgXAAAAAAAAAAAAAAAAAAAAAAAAAAAAQrgXAAAAAAAAAAAAAAAAAAAAAAAAAAAAQrgXAAAAAAAAAAAAAAAAAAAAAAAAAAAAQrgXAAAAAAAAAAAAAAAAAAAAAAAAAAAAQrgXAAAAAAAAAAAAAAAAAAAAAAAAAAAAQrgXAAAAAAAAAAAAAAAAAAAAAAAAAAAAQrgXAAAAAAAAAAAAAAAAAAAAAAAAAAAAQrgXAAAAAAAAAAAAAAAAAAAAAAAAAAAAQrgXAAAAAAAAAAAAAAAAAAAAAAAAAAAAQrgXAAAAAAAAAAAAAAAAAAAAAAAAAAAAQrgXAAAAAAAAAAAAAAAAAAAAAAAAAAAAQrgXAAAAAAAAAAAAAAAAAAAAAAAAAAAAQrgXAAAAAAAAAAAAAAAAAAAAAAAAAAAAQrgXAAAAAAAAAAAAAAAAAAAAAAAAAAAAQrgXAIBvdu4Q1w4qCsPo3rQCiiIEAwqPfIJgwWMRaCQJI+gEGEEngCEMgBmQNBggSJImgGgQaEIOpuJL5X03vYi19D4n/wg+AAAAAAAAAAAAAAAAAAAAAAAAAEK4FwAAAAAAAAAAAAAAAAAAAAAAAAAAAEK4FwAAAAAAAAAAAAAAAAAAAAAAAAAAAEK4FwAAAAAAAAAAAAAAAAAAAAAAAAAAAEK4FwAAAAAAAAAAAAAAAAAAAAAAAAAAAEK4FwAAAAAAAAAAAAAAAAAAAAAAAAAAAEK4FwAAAAAAAAAAAAAAAAAAAAAAAAAAAEK4FwAAAAAAAAAAAAAAAAAAAAAAAAAAAEK4FwAAAAAAAAAAAAAAAAAAAAAAAAAAAEK4FwAAAAAAAAAAAAAAAAAAAAAAAAAAAEK4FwAAAAAAAAAAAAAAAAAAAAAAAAAAAEK4FwAAAAAAAAAAAAAAAAAAAAAAAAAAAEK4FwAAAAAAAAAAAAAAAAAAAAAAAAAAAEK4FwAAAAAAAAAAAAAAAAAAAAAAAAAAAEK4FwAAAAAAAAAAAAAAAAAAAAAAAAAAAEK4FwAAAAAAAAAAAAAAAAAAAAAAAAAAAEK4FwAAAAAAAAAAAAAAAAAAAAAAAAAAAEK4FwAAAAAAAAAAAAAAAAAAAAAAAAAAAEK4FwAAAAAAAAAAAAAAAAAAAAAAAAAAAEK4FwAAAAAAAAAAAAAAAAAAAAAAAAAAAEK4FwAAAAAAAAAAAAAAAAAAAAAAAAAAAEK4FwAAAAAAAAAAAAAAAAAAAAAAAAAAAEK4FwAAAAAAAAAAAAAAAAAAAAAAAAAAAEK4FwAAAAAAAAAAAAAAAAAAAAAAAAAAAEK4FwAAAAAAAAAAAAAAAAAAAAAAAAAAAEK4FwAAAAAAAAAAAAAAAAAAAAAAAAAAAEK4FwAAAAAAAAAAAAAAAAAAAAAAAAAAAEK4FwAAAAAAAAAAAAAAAAAAAAAAAAAAAEK4FwAAAAAAAAAAAAAAAAAAAAAAAAAAAEK4FwAAAAAAAAAAAAAAAAAAAAAAAAAAAEK4FwAAAAAAAAAAAAAAAAAAAAAAAAAAAEK4FwAAAAAAAAAAAAAAAAAAAAAAAAAAAEK4FwAAAAAAAAAAAAAAAAAAAAAAAAAAAEK4FwAAAAAAAAAAAAAAAAAAAAAAAAAAAEK4FwAAAAAAAAAAAAAAAAAAAAAAAAAAAEK4FwAAAAAAAAAAAAAAAAAAAAAAAAAAAEK4FwAAAAAAAAAAAAAAAAAAAAAAAAAAAEK4FwAAAAAAAAAAAAAAAAAAAAAAAAAAAEK4FwAAAAAAAAAAAAAAAAAAAAAAAAAAAEK4FwAAAAAAAAAAAAAAAAAAAAAAAAAAAEK4FwAAAAAAAAAAAAAAAAAAAAAAAAAAAEK4FwAAAAAAAAAAAAAAAAAAAAAAAAAAAEK4FwAAAAAAAAAAAAAAAAAAAAAAAAAAAEK4FwAAAAAAAAAAAAAAAAAAAAAAAAAAAEK4FwAAAAAAAAAAAAAAAAAAAAAAAAAAAEK4FwAAAAAAAAAAAAAAAAAAAAAAAAAAAEK4FwAAAAAAAAAAAAAAAAAAAAAAAAAAAEK4FwAAAAAAAAAAAAAAAAAAAAAAAAAAAEK4FwAAAAAAAAAAAAAAAAAAAAAAAAAAAEK4FwAAAAAAAAAAAAAAAAAAAAAAAAAAAEK4FwAAAAAAAAAAAAAAAAAAAAAAAAAAAEK4FwAAAAAAAAAAAAAAAAAAAAAAAAAAAEK4FwAAAAAAAAAAAAAAAAAAAAAAAAAAAEK4FwAAAAAAAAAAAAAAAAAAAAAAAAAAAEK4FwAAAAAAAAAAAAAAAAAAAAAAAAAAAEK4FwAAAAAAAAAAAAAAAAAAAAAAAAAAAEK4FwAAAAAAAAAAAAAAAAAAAAAAAAAAAEK4FwAAAAAAAAAAAAAAAAAAAAAAAAAAAEK4FwAAAAAAAAAAAAAAAAAAAAAAAAAAAEK4FwAAAAAAAAAAAAAAAAAAAAAAAAAAAEK4FwAAAAAAAAAAAAAAAAAAAAAAAAAAAEK4FwAAAAAAAAAAAAAAAAAAAAAAAAAAAEK4FwAAAAAAAAAAAAAAAAAAAAAAAAAAAEK4FwAAAAAAAAAAAAAAAAAAAAAAAAAAAEK4FwAAAAAAAAAAAAAAAAAAAAAAAAAAAEK4FwAAAAAAAAAAAAAAAAAAAAAAAAAAAEK4FwAAAAAAAAAAAAAAAAAAAAAAAAAAAEK4FwAAAAAAAAAAAAAAAAAAAAAAAAAAAEK4FwAAAAAAAAAAAAAAAAAAAAAAAAAAAEK4FwAAAAAAAAAAAAAAAAAAAAAAAAAAAEK4FwAAAAAAAAAAAAAAAAAAAAAAAAAAAEK4FwAAAAAAAAAAAAAAAAAAAAAAAAAAAEK4FwAAAAAAAAAAAAAAAAAAAAAAAAAAAEK4FwAAAAAAAAAAAAAAAAAAAAAAAAAAAEK4FwAAAAAAAAAAAAAAAAAAAAAAAAAAAEK4FwAAAAAAAAAAAAAAAAAAAAAAAAAAAEK4FwAAAAAAAAAAAAAAAAAAAAAAAAAAAEK4FwAAAAAAAAAAAAAAAAAAAAAAAAAAAEK4FwAAAAAAAAAAAAAAAAAAAAAAAAAAAEK4FwAAAAAAAAAAAAAAAAAAAAAAAAAAAEK4FwAAAAAAAAAAAAAAAAAAAAAAAAAAAEK4FwAAAAAAAAAAAAAAAAAAAAAAAAAAAEK4FwAAAAAAAAAAAAAAAAAAAAAAAAAAAEK4FwAAAAAAAAAAAAAAAAAAAAAAAAAAAEK4FwAAAAAAAAAAAAAAAAAAAAAAAAAAAEK4FwAAAAAAAAAAAAAAAAAAAAAAAAAAAEK4FwAAAAAAAAAAAAAAAAAAAAAAAAAAAEK4FwAAAAAAAAAAAAAAAAAAAAAAAAAAAEK4FwAAAAAAAAAAAAAAAAAAAAAAAAAAAEK4FwAAAAAAAAAAAAAAAAAAAAAAAAAAAEK4FwAAAAAAAAAAAAAAAAAAAAAAAAAAAEK4FwAAAAAAAAAAAAAAAAAAAAAAAAAAAEK4FwAAAAAAAAAAAAAAAAAAAAAAAAAAAEK4FwAAAAAAAAAAAAAAAAAAAAAAAAAAAEK4FwAAAAAAAAAAAAAAAAAAAAAAAAAAAEK4FwAAAAAAAAAAAAAAAAAAAAAAAAAAAEK4FwAAAAAAAAAAAAAAAAAAAAAAAAAAAEK4FwAAAAAAAAAAAAAAAAAAAAAAAAAAAEK4FwAAAAAAAAAAAAAAAAAAAAAAAAAAAEK4FwAAAAAAAAAAAAAAAAAAAAAAAAAAAEK4FwAAAAAAAAAAAAAAAAAAAAAAAAAAAEK4FwAAAAAAAAAAAAAAAAAAAAAAAAAAAEK4FwAAAAAAAAAAAAAAAAAAAAAAAAAAAEK4FwAAAAAAAAAAAAAAAAAAAAAAAAAAAEK4FwAAAAAAAAAAAAAAAAAAAAAAAAAAAEK4FwAAAAAAAAAAAAAAAAAAAAAAAAAAAEK4FwAAAAAAAAAAAAAAAAAAAAAAAAAAAEK4FwAAAAAAAAAAAAAAAAAAAAAAAAAAAEK4FwAAAAAAAAAAAAAAAAAAAAAAAAAAAEK4FwAAAAAAAAAAAAAAAAAAAAAAAAAAAEK4FwAAAAAAAAAAAAAAAAAAAAAAAAAAAEK4FwAAAAAAAAAAAAAAAAAAAAAAAAAAAEK4FwAAAAAAAAAAAAAAAAAAAAAAAAAAAEK4FwAAAAAAAAAAAAAAAAAAAAAAAAAAAEK4FwAAAAAAAAAAAAAAAAAAAAAAAAAAAEK4FwAAAAAAAAAAAAAAAAAAAAAAAAAAAEK4FwAAAAAAAAAAAAAAAAAAAAAAAAAAAEK4FwAAAAAAAAAAAAAAAAAAAAAAAAAAAEK4FwAAAAAAAAAAAAAAAAAAAAAAAAAAAEK4FwAAAAAAAAAAAAAAAAAAAAAAAAAAAEK4FwAAAAAAAAAAAAAAAAAAAAAAAAAAAEK4FwAAAAAAAAAAAAAAAAAAAAAAAAAAAEK4FwAAAAAAAAAAAAAAAAAAAAAAAAAAAEK4FwAAAAAAAAAAAAAAAAAAAAAAAAAAAEK4FwAAAAAAAAAAAAAAAAAAAAAAAAAAAEK4FwAAAAAAAAAAAAAAAAAAAAAAAAAAAEK4FwAAAAAAAAAAAAAAAAAAAAAAAAAAAOJe4d7d/Wp3f9ndn3f3m919/VrDAAAAAAAAAAAAAAAAAAAAAAAAAAAA4BYuDvfu7nsz8+XM3J1zPpiZBzPz2bWGAQAAAAAAAAAAAAAAAAAAAAAAAAAAwC1cHO594eHMvLG7D2fm0cz8cf9JAAAAAAAAAAAAAAAAAAAAAAAAAAAAcDsXh3vPOb/PzNcz82xm/pyZv8853798t7tf7O7T3X36/K9/L18KAAAAAAAAAAAAAAAAAAAAAAAAAAAAr8DF4d7dfWtmPp2Z92fm3Zl5c3c/f/nunPPknHN3zrl75+0Hly8FAAAAAAAAAAAAAAAAAAAAAAAAAACAV+DicO/MfDIzv51znp9z/pmZ72bmo+vMAgAAAAAAAAAAAAAAAAAAAAAAAAAAgNu4T7j32cx8uLuPdndn5uOZ+fU6swAAAAAAAAAAAAAAAAAAAAAAAAAAAOA2Lg73nnN+mJlvZ+bHmfnpxV9PrrQLAAAAAAAAAAAAAAAAAAAAAAAAAAAAbuLhfR6fcx7PzOMrbQEAAAAAAAAAAAAAAAAAAAAAAAAAAICbe+3WAwAAAAAAAAAAAAAAAAAAAAAAAAAAAOD/RLgXAAAAAAAAAAAAAAAAAAAAAAAAAAAAQrgXAAAAAAAAAAAAAAAAAAAAAAAAAAAAQrgXAAAAAAAAAAAAAAAAAAAAAAAAAAAAQrgXAAAAAAAAAAAAl36YWAAAIABJREFUAAAAAAAAAAAAAAAAQrgXAAAAAAAAAAAAAAAAAAAAAAAAAAAAQrgXAAAAAAAAAAAAAAAAAAAAAAAAAAAAQrgXAAAAAAAAAAAAAAAAAAAAAAAAAAAAQrgXAAAAAAAAAAAAAAAAAAAAAAAAAAAAQrgXAAAAAAAAAAAAAAAAAAAAAAAAAAAAQrgXAAAAAAAAAAAAAAAAAAAAAAAAAAAAQrgXAAAAAAAAAAAAAAAAAAAAAAAAAAAAQrgXAAAAAAAAAAAAAAAAAAAAAAAAAAAAQrgXAAAAAAAAAAAAAAAAAAAAAAAAAAAAQrgXAAAAAAAAAAAAAAAAAAAAAAAAAAAAQrgXAAAAAAAAAAAAAAAAAAAAAAAAAAAAQrgXAAAAAAAAAAAAAAAAAAAAAAAAAAAAQrgXAAAAAAAAAAAAAAAAAAAAAAAAAAAAQrgXAAAAAAAAAAAAAAAAAAAAAAAAAAAAQrgXAAAAAAAAAAAAAAAAAAAAAAAAAAAAQrgXAAAAAAAAAAAAAAAAAAAAAAAAAAAAQrgXAAAAAAAAAAAAAAAAAAAAAAAAAAAAQrgXAAAAAAAAAAAAAAAAAAAAAAAAAAAAQrgXAAAAAAAAAAAAAAAAAAAAAAAAAAAAQrgXAAAAAAAAAAAAAAAAAAAAAAAAAAAAQrgXAAAAAAAAAAAAAAAAAAAAAAAAAAAAQrgXAAAAAAAAAAAAAAAAAAAAAAAAAAAAQrgXAAAAAAAAAAAAAAAAAAAAAAAAAAAAQrgXAAAAAAAAAAAAAAAAAAAAAAAAAAAAQrgXAAAAAAAAAAAAAAAAAAAAAAAAAAAAQrgXAAAAAAAAAAAAAAAAAAAAAAAAAAAAQrgXAAAAAAAAAAAAAAAAAAAAAAAAAAAAQrgXAAAAAAAAAAAAAAAAAAAAAAAAAAAAQrgXAAAAAAAAAAAAAAAAAAAAAAAAAAAAQrgXAAAAAAAAAAAAAAAAAAAAAAAAAAAAQrgXAAAAAAAAAAAAAAAAAAAAAAAAAAAAQrgXAAAAAAAAAAAAAAAAAAAAAAAAAAAAQrgXAAAAAAAAAAAAAAAAAAAAAAAAAAAAQrgXAAAAAAAAAAAAAAAAAAAAAAAAAAAAQrgXAAAAAAAAAAAAAAAAAAAAAAAAAAAAQrgXAAAAAAAAAAAAAAAAAAAAAAAAAAAAQrgXAAAAAAAAAAAAAAAAAAAAAAAAAAAAQrgXAAAAAAAAAAAAAAAAAAAAAAAAAAAAQrgXAAAAAAAAAAAAAAAAAAAAAAAAAAAAQrgXAAAAAAAAAAAAAAAAAAAAAAAAAAAAQrgXAAAAAAAAAAAAAAAAAAAAAAAAAAAAQrgXAAAAAAAAAAAAAAAAAAAAAAAAAAAAQrgXAAAAAAAAAAAAAAAAAAAA4D927t7YwCAAw+h1aUGmCl0pQqQIXQm1oAbGX/qEX2As45wG9o13dx4AAAAAAAjhXgAAAAAAAAAAAAAAAAAAAAAAAAAAAAjhXgAAAAAAAAAAAAAAAAAAAAAAAAAAAAjhXgAAAAAAAAAAAAAAAAAAAAAAAAAAAAjhXgAAAAAAAAAAAAAAAAAAAAAAAAAAAAjhXgAAAAAAAAAAAAAAAAAAAAAAAAAAAAjhXgAAAAAAAAAAAAAAAAAAAAAAAAAAAAjhXgAAAAAAAAAAAAAAAAAAAAAAAAAAAAjhXgAAAAAAAAAAAAAAAAAAAAAAAAAAAAjhXgAAAAAAAAAAAAAAAAAAAAAAAAAAAAjhXgAAAAAAAAAAAAAAAAAAAAAAAAAAAAjhXgAAAAAAAAAAAAAAAAAAAAAAAAAAAAjhXgAAAAAAAAAAAAAAAAAAAAAAAAAAAAjhXgAAAAAAAAAAAAAAAAAAAAAAAAAAAAjhXgAAAAAAAAAAAAAAAAAAAAAAAAAAAAjhXgAAAAAAAAAAAAAAAAAAAAAAAAAAAAjhXgAAAAAAAAAAAAAAAAAAAAAAAAAAAAjhXgAAAAAAAAAAAAAAAAAAAAAAAAAAAAjhXgAAAAAAAAAAAAAAAAAAAAAAAAAAAAjhXgAAAAAAAAAAAAAAAAAAAAAAAAAAAAjhXgAAAAAAAAAAAAAAAAAAAAAAAAAAAAjhXgAAAAAAAAAAAAAAAAAAAAAAAAAAAAjhXgAAAAAAAAAAAAAAAAAAAAAAAAAAAAjhXgAAAAAAAAAAAAAAAAAAAAAAAAAAAAjhXgAAAAAAAAAAAAAAAAAAAAAAAAAAAAjhXgAAAAAAAAAAAAAAAAAAAAAAAAAAAAjhXgAAAAAAAAAAAAAAAAAAAAAAAAAAAAjhXgAAAAAAAAAAAAAAAAAAAAAAAAAAAAjhXgAAAAAAAAAAAAAAAAAAAAAAAAAAAAjhXgAAAAAAAAAAAAAAAAAAAAAAAAAAAAjhXgAAAAAAAAAAAAAAAAAAAAAAAAAAAAjhXgAAAAAAAAAAAAAAAAAAAAAAAAAAAAjhXgAAAAAAAAAAAAAAAAAAAAAAAAAAAAjhXgAAAAAAAAAAAAAAAAAAAAAAAAAAAAjhXgAAAAAAAAAAAAAAAAAAAAAAAAAAAAjhXgAAAAAAAAAAAAAAAAAAAAAAAAAAAAjhXgAAAAAAAAAAAAAAAAAAAAAAAAAAAAjhXgAAAAAAAAAAAAAAAAAAAAAAAAAAAAjhXgAAAAAAAAAAAAAAAAAAAAAAAAAAAAjhXgAAAAAAAAAAAAAAAAAAAAAAAAAAAAjhXgAAAAAAAAAAAAAAAAAAAAAAAAAAAAjhXgAAAAAAAAAAAAAAAAAAAAAAAAAAAAjhXgAAAAAAAAAAAAAAAAAAAAAAAAAAAAjhXgAAAAAAAAAAAAAAAAAAAAAAAAAAAAjhXgAAAAAAAAAAAAAAAAAAAAAAAAAAAAjhXgAAAAAAAAAAAAAAAAAAAAAAAAAAAAjhXgAAAAAAAAAAAAAAAAAAAAAAAAAAAAjhXgAAAAAAAAAAAAAAAAAAAAAAAAAAAAjhXgAAAAAAAAAAAAAAAAAAAAAAAAAAAAjhXgAAAAAAAAAAAAAAAAAAAAAAAAAAAAjhXgAAAAAAAAAAAAAAAAAAAAAAAAAAAAjhXgAAAAAAAAAAAAAAAAAAAAAAAAAAAAjhXgAAAAAAAAAAAAAAAAAAAAAAAAAAAAjhXgAAAAAAAAAAAAAAAAAAAAAAAAAAAAjhXgAAAAAAAAAAAAAAAAAAAAAAAAAAAAjhXgAAAAAAAAAAAAAAAAAAAAAAAAAAAAjhXgAAAAAAAAAAAAAAAAAAAAAAAAAAAAjhXgAAAAAAAAAAAAAAAAAAAAAAAAAAAAjhXgAAAAAAAAAAAAAAAAAAAAAAAAAAAAjhXgAAAAAAAAAAAAAAAAAAAAAAAAAAAAjhXgAAAAAAAAAAAAAAAAAAAAAAAAAAAAjhXgAAAAAAAAAAAAAAAAAAAAAAAAAAAAjhXgAAAAAAAAAAAAAAAAAAAAAAAAAAAAjhXgAAAAAAAAAAAAAAAAAAAAAAAAAAAAjhXgAAAAAAAAAAAAAAAAAAAAAAAAAAAAjhXgAAAAAAAAAAAAAAAAAAAAAAAAAAAAjhXgAAAAAAAAAAAAAAAAAAAAAAAAAAAAjhXgAAAAAAAAAAAAAAAAAAAAAAAAAAAAjhXgAAAAAAAAAAAAAAAAAAAAAAAAAAAAjhXgAAAAAAAAAAAAAAAAAAAAAAAAAAAAjhXgAAAAAAAAAAAAAAAAAAAAAAAAAAAAjhXgAAAAAAAAAAAAAAAAAAAAAAAAAAAAjhXgAAAAAAAAAAAAAAAAAAAAAAAAAAAAjhXgAAAAAAAAAAAAAAAAAAAAAAAAAAAAjhXgAAAAAAAAAAAAAAAAAAAAAAAAAAAAjhXgAAAAAAAAAAAAAAAAAAAAAAAAAAAAjhXgAAAAAAAAAAAAAAAAAAAAAAAAAAAAjhXgAAAAAAAAAAAAAAAAAAAAAAAAAAAAjhXgAAAAAAAAAAAAAAAAAAAAAAAAAAAAjhXgAAAAAAAAAAAAAAAAAAAAAAAAAAAAjhXgAAAAAAAAAAAAAAAAAAAAAAAAAAAAjhXgAAAAAAAAAAAAAAAAAAAAAAAAAAAAjhXgAAAAAAAAAAAAAAAAAAAAAAAAAAAAjhXgAAAAAAAAAAAAAAAAAAAAAAAAAAAAjhXgAAAAAAAAAAAAAAAAAAAAAAAAAAAAjhXgAAAAAAAAAAAAAAAAAAAAAAAAAAAAjhXgAAAAAAAAAAAAAAAAAAAAAAAAAAAAjhXgAAAAAAAAAAAAAAAAAAAAAAAAAAAAjhXgAAAAAAAAAAAAAAAAAAAAAAAAAAAAjhXgAAAAAAAAAAAAAAAAAAAAAAAAAAAAjhXgAAAAAAAAAAAAAAAAAAAAAAAAAAAAjhXgAAAAAAAAAAAAAAAAAAAAAAAAAAAAjhXgAAAAAAAAAAAAAAAAAAAAAAAAAAAAjhXgAAAAAAAAAAAAAAAAAAAAAAAAAAAAjhXgAAAAAAAAAAAAAAAAAAAAAAAAAAAAjhXgAAAAAAAAAAAAAAAAAAAAAAAAAAAAjhXgAAAAAAAAAAAAAAAAAAAAAAAAAAAAjhXgAAAAAAAAAAAAAAAAAAAAAAAAAAAAjhXgAAAAAAAAAAAAAAAAAAAAAAAAAAAAjhXgAAAAAAAAAAAAAAAAAAAAAAAAAAAAjhXgAAAAAAAAAAAAAAAAAAAAAAAAAAAAjhXgAAAAAAAAAAAAAAAAAAAAAAAAAAAAjhXgAAAAAAAAAAAAAAAAAAAAAAAAAAAAjhXgAAAAAAAAAAAAAAAAAAAAAAAAAAAAjhXgAAAAAAAAAAAAAAAAAAAAAAAAAAAAjhXgAAAAAAAAAAAAAAAAAAAAAAAAAAAAjhXgAAAAAAAAAAAAAAAAAAAAAAAAAAAAjhXgAAAAAAAAAAAAAAAAAAAAAAAAAAAAjhXgAAAAAAAAAAAAAAAAAAAAAAAAAAAAjhXgAAAAAAAAAAAAAAAAAAAAAAAAAAAAjhXgAAAAAAAAAAAAAAAAAAAAAAAAAAAAjhXgAAAAAAAAAAAAAAAAAAAAAAAAAAAAjhXgAAAAAAAAAAAAAAAAAAAAAAAAAAAAjhXgAAAAAAAAAAAAAAAAAAAAAAAAAAAAjhXgAAAAAAAAAAAAAAAAAAAAAAAAAAAAjhXgAAAAAAAAAAAAAAAAAAAAAAAAAAAAjhXgAAAAAAAAAAAAAAAAAAAAAAAAAAAAjhXgAAAAAAAAAAAAAAAAAAAAAAAAAAAAjhXgAAAAAAAAAAAAAAAAAAAAAAAAAAAAjhXgAAAAAAAAAAAAAAAAAAAAAAAAAAAAjhXgAAAAAAAAAAAAAAAAAAAAAAAAAAAAjhXgAAAAAAAAAAAAAAAAAAAAAAAAAAAAjhXgAAAAAAAAAAAAAAAAAAAAAAAAAAAAjhXgAAAAAAAAAAAAAAAAAAAAAAAAAAAAjhXgAAAAAAAAAAAAAAAAAAAAAAAAAAAAjhXgAAAAAAAAAAAAAAAAAAAAAAAAAAAAjhXgAAAAAAAAAAAAAAAAAAAAAAAAAAAAjhXgAAAAAAAAAAAAAAAAAAAAAAAAAAAAjhXgAAAAAAAAAAAAAAAAAAAAAAAAAAAAjhXgAAAAAAAAAAAAAAAAAAAAAAAAAAAAjhXgAAAAAAAAAAAAAAAAAAAAAAAAAAAAjhXgAAAAAAAAAAAAAAAAAAAAAAAAAAAAjhXgAAAAAAAAAAAAAAAAAAAAAAAAAAAAjhXgAAAAAAAAAAAAAAAAAAAAAAAAAAAAjhXgAAAAAAAAAAAAAAAAAAAAAAAAAAAAjhXgAAAAAAAAAAAAAAAAAAAAAAAAAAAAjhXgAAAAAAAAAAAAAAAAAAAAAAAAAAAAjhXgAAAAAAAAAAAAAAAAAAAAAAAAAAAAjhXgAAAAAAAAAAAAAAAAAAAAAAAAAAAAjhXgAAAAAAAAAAAAAAAAAAAAAAAAAAAAjhXgAAAAAAAAAAAAAAAAAAAAAAAAAAAAjhXgAAAAAAAAAAAAAAAAAAAAAAAAAAAAjhXgAAAAAAAAAAAAAAAAAAAAAAAAAAAAjhXgAAAAAAAAAAAAAAAAAAAAAAAAAAAAjhXgAAAAAAAAAAAAAAAAAAAAAAAAAAAAjhXgAAAAAAAAAAAAAAAAAAAAAAAAAAAAjhXgAAAAAAAAAAAAAAAAAAAAAAAAAAAAjhXgAAAAAAAAAAAAAAAAAAAAAAAAAAAAjhXgAAAAAAAAAAAAAAAAAAAAAAAAAAAAjhXgAAAAAAAAAAAAAAAAAAAAAAAAAAAAjhXgAAAAAAAAAAAAAAAAAAAAAAAAAAAAjhXgAAAAAAAAAAAAAAAAAAAAAAAAAAAAjhXgAAAAAAAAAAAAAAAAAAAAAAAAAAAAjhXgAAAAAAAAAAAAAAAAAAAAAAAAAAAAjhXgAAAAAAAAAAAAAAAAAAAAAAAAAAAAjhXgAAAAAAAAAAAAAAAAAAAAAAAAAAAAjhXgAAAAAAAAAAAAAAAAAAAAAAAAAAAAjhXgAAAAAAAAAAAAAAAAAAAAAAAAAAAAjhXgAAAAAAAAAAAAAAAAAAAAAAAAAAAAjhXgAAAAAAAAAAAAAAAAAAAAAAAAAAAAjhXgAAAAAAAAAAAAAAAAAAAAAAAAAAAIjFOw87npZ/693mnUcCAAAAAB9gdnuMngAAkxy2+9ETAGAyfzAAAABea37xpgXAd3A3CAAAAAC/a3YfvQAAprmuzqMnAMBL/I8eAAAAAAAAAAAAAAAAAAAAAAAAAAAAAJ9EuBcAAAAAAAAAAAAAAAAAAAAAAAAAAABCuBcAAAAAAAAAAAAAAAAAAAAAAAAAAABCuBcAAAAAAAAAAAAAAAAAAAAAAAAAAABCuBcAAAAAAAAAAAAAAAAAAAAAAAAAAABCuBcAAAAAAAAAAAAAAAAAAAAAAAAAAABCuBcAAAAAAAAAAAAAAAAAAAAAAAAAAABCuBcAAAAAAAAAAAAAAAAAAAAAAAAAAABCuBcAAAAAAAAAAAAAAAAAAAAAAAAAAABCuBcAAAAAAAAAAAAAAAAAAAAAAAAAAABCuBcAAAAAAAAAAAAAAAAAAAAAAAAAAABCuBcAAAAAAAAAAAAAAAAAAAAAAAAAAABCuBcAAAAAAAAAAAAAAAAAAAAAAAAAAABCuBcAAAAAAAAAAAAAAAAAAAAAAAAAAABCuBcAAAAAAAAAAAAAAAAAAAAAAAAAAABCuBcAAAAAAAAAAAAAAAAAAAAAAAAAAABCuBcAAAAAAAAAAAAAAAAAAAAAAAAAAABCuBcAAAAAAAAAAAAAAAAAAAAAAAAAAABCuBcAAAAAAAAAAAAAAAAAAAAAAAAAAABCuBcAAAAAAAAAAAAAAAAAAAAAAAAAAABCuBcAAAAAAAAAAAAAAAAAAAAAAAAAAABCuBcAAAAAAAAAAAAAAAAAAAAAAAAAAABCuBcAAAAAAAAAAAAAAAAAAAAAAAAAAABCuBcAAAAAAAAAAAAAAAAAAAAAAAAAAABCuBcAAAAAAAAAAAAAAACe7NyxAAAAAMAgf+u9gyiQAAAAAAAAAAAARtwLAAAAAAAAAAAAAAAAAAAAAAAAAAAAI+4FAAAAAAAAAAAAAAAAAAAAAAAAAACAEfcCAAAAAAAAAAAAAAAAAAAAAAAAAADAiHsBAAAAAAAAAAAAAAAAAAAAAAAAAABgxL0AAAAAAAAAAAAAAAAAAAAAAAAAAAAw4l4AAAAAAAAAAAAAAAAAAAAAAAAAAAAYcS8AAAAAAAAAAAAAAAAAAAAAAAAAAACMuBcAAAAAAAAAAAAAAAAAAAAAAAAAAABG3AsAAAAAAAAAAAAAAAAAAAAAAAAAAAAj7gUAAAAAAAAAAAAAAAAAAAAAAAAAAIAR9wIAAAAAAAAAAAAAAAAAAAAAAAAAAMCIewEAAAAAAAAAAAAAAAAAAAAAAAAAAGDEvQAAAAAAAAAAAAAAAAAAAAAAAAAAADDiXgAAAAAAAAAAAAAAAAAAAAAAAAAAABhxLwAAAAAAAAAAAAAAAAAAAAAAAAAAAIy4FwAAAAAAAAAAAAAAAAAAAAAAAAAAAEbcCwAAAAAAAAAAAAAAAAAAAAAAAAAAACPuBQAAAAAAAAAAAAAAAAAAAAAAAAAAgBH3AgAAAAAAAAAAAAAAAAAAAAAAAAAAwIh7AQAAAAAAAAAAAAAAAAAAAAAAAAAAYMS9AAAAAAAAAAAAAAAAAAAAAAAAAAAAMOJeAAAAAAAAAAAAAAAAAAAAAAAAAAAAGHEvAAAAAAAAAAAAAAAAAAAAAAAAAAAAjLgXAAAAAAAAAAAAAAAAAAAAAAAAAAAARtwLAAAAAAAAAAAAAAAAAAAAAAAAAAAAI+4FAAAAAAAAAAAAAAAAAAAAAAAAAACAEfcCAAAAAAAAAAAAAAAAAAAAAAAAAADAiHsBAAAAAAAAAAAAAAAAAAAAAAAAAABgxL0AAAAAAAAAAAAAAAAAAAAAAAAAAAAw4l4AAAAAAAAAAAAAAAAAAAAAAAAAAAAYcS8AAAAAAAAAAAAAAAAAAAAAAAAAAACMuBcAAAAAAAAAAAAAAAAAAAAAAAAAAABG3AsAAAAAAAAAAAAAAAAAAAAAAAAAAAAj7gUAAAAAAAAAAAAAAAAAAAAAAAAAAIAR9wIAAAAAAAAAAAAAAAAAAAAAAAAAAMCIewEAAAAAAAAAAAAAAAAAAAAAAAAAAGDEvQAAAAAAAAAAAAAAAAAAAAAAAAAAADDiXgAAAAAAAAAAAAAAAAAAAAAAAAAAABhxLwAAAAAAAAAAAAAAAAAAAAAAAAAAAIy4FwAAAAAAAAAAAAAAAAAAAAAAAAAAAEbcCwAAAAAAAAAAAAAAAAAAAAAAAAAAACPuBQAAAAAAAAAAAAAAAAAAAAAAAAAAgBH3AgAAAAAAAAAAAAAAAAAAAAAAAAAAwIh7AQAAAAAAAAAAAAAAAAAAAAAAAAAAYMS9AAAAAAAAAAAAAAAAAAAAAAAAAAAAMOJeAAAAAAAAAAAAAAAAAAAAAAAAAAAAGHEvAAAAAAAAAAAAAAAAAAAAAAAAAAAAjLgXAAAAAAAAAAAAAAAAAAAAAAAAAAAARtwLAAAAAAAAAAAAAAAAAAAAAAAAAAAAI+4FAAAAAAAAAAAAAAAAAAAAAAAAAACAEfcCAAAAAAAAAAAAAAAAAAAAAAAAAADAiHsBAAAAAAAAAAAAAAAAAAAAAAAAAABgxL0AAAAAAAAAAAAAAAAAAAAAAAAAAAAw4l4AAAAAAAAAAAAAAAAAAAAAAAAAAAAYcS8AAAAAAAAAAAAAAAAAAAAAAAAAAACMuBcAAAAAAAAAAAAAAAAAAAAAAAAAAABG3AsAAAAAAAAAAAAAAAAAAAAAAAAAAAAj7gUAAAAAAAAAAAAAAAAAAAAAAAAAAIAR9wIAAAAAAAAAAAAAAAAAAAAAAAAAAMCIewEAAAAAAAAAAAAAAAAAAAAAAAAAAGDEvQAAAAAAAAAAAAAAAAAAAAAAAAAAADDiXgAAAAAAAAAAAAAAAAAAAAAAAAAAABhxLwAAAAAAAAAAAAAAAAAAAAAAAAAAAIy4FwAAAAAAAAAAAAAAAAAAAAAAAAAAAEbcCwAAAAAAAAAAAAAAAAAAAAAAAAAAACPuBQAAAAAAAAAAAAAAAAAAAAAAAAAAgBH3AgAAAAAAAAAAAAAAAAAAAAAAAAAAwIh7AQAAAAAAAAAAAAAAAAAAAAAAAAAAYMS9AAAAAAAAAAAAAAAAAAAAAAAAAAAAMOJeAAAAAAAAAAAAAAAAAAAAAAAAAAAAGHEvAAAAAAAAAAAAAAAAAAAAAAAAAAAAjLgXAAAAAAAAAAAAAAAAAAAAAAAAAAAARtwLAAAAAAAAAAAAAAAAAAAAAAAAAAAAI+4FAAAAAAAAAAAAAAAAAAAAAAAAAACAEfcCAAAAAAAAAAAAAAAAAAAAAAAAAADAiHsBAAAAAAAAAAAAAAAAAAAAAAAAAABgxL0AAAAAAAAAAAAAAAAAAAAAAAAAAAAw4l4AAAAAAAAAAAAAAAAAAAAAAAAAAAAYcS8AAAAAAAAAAAAAAAAAAAAAAAAAAACMuBcAAAAAAAAAAAAAAAAAAAAAAAAAAABG3AsAAAAAAAAAAAAAAAAAAAAAAAAAAAAj7gUAAAAAAAAAAAAAAAAAAAAAAAAAAIAR9wIAAAAAAAAAAAAAAAAAAAAAAAAAAMCIewEAAAAAAAAAAAAAAAAAAAAAAAAAAGDEvQAAAAAAAAAAAAAAAAAAAAAAAAAAADDiXgAAAAAAAAAAAAAAAAAAAAAAAAAAABhxLwAAAAAAAAAAAAAAAAAAAAAAAAAAAIy4FwAAAAAAAAAAAAAAAAAAAAAAAAAAAEbcCwAAAAAAAAAAAAAAAAAAAAAAAAAAACPuBQAAAAAAAAAAAAAAAAAAAAAAAAAAgBH3AgAAAAAAAAAAAAAAAAAAAAAAAAAAwIh7AQAAAAAAAAAAAAAAAAAAAAAAAAAAYMS9AAAAAAAAAAAAAAAAAAAAAAAAAAAAMOJeAAAAAAAAAAAAAAAAAAAAAAAAAAAAGHEvAAAAAAAAAAAAAAAAAAAAAAAAAAAAjLgXAAAAAAAAAAAAAAAAAAAAAAAAAAAARtwLAAAAAAAAAAAAAAAAAAAAAAAAAAAAI+4FAAAAAAAAAAAAAAAAAAAAAAAAAACAEfcCAAAAAAAAAAAAAAAAAAAAAAAAAADAiHsBAAAAAAAAAAAAAAAAAAAAAAAAAABgxL0AAAAAAAAAAAAAAAAAAAAAAAAAAAAw4l4AAAAAAAAAAAAAAAAAAAAAAAAAAAAYcS8AAAAAAAAAAAAAAAAAAAAAAAAAAACMuBcAAAAAAAAAAAAAAAAAAAAAAAAAAABG3AsAAAAAAAAAAAAAAAAAAAAAAAAAAAAj7gUAAAAAAAAAAAAAAAAAAAAAAAAAAIAR9wIAAAAAAAAAAAAAAAAAAAAAAAAAAMCIewEAAAAAAAAAAAAAAAAAAAAAAAAAAGBXZbU7AAAgAElEQVTEvQAAAAAAAAAAAAAAAAAAAAAAAAAAADDiXgAAAAAAAAAAAAAAAAAAAAAAAAAAABhxLwAAAAAAAAAAAAAAAAAAAAAAAAAAAIy4FwAAAAAAAAAAAAAAAAAAAAAAAAAAAEbcCwAAAAAAAAAAAAAAAAAAAAAAAAAAACPuBQAAAAAAAAAAAAAAAAAAAAAAAAAAgBH3AgAAAAAAAAAAAAAAAAAAAAAAAAAAwIh7AQAAAAAAAAAAAAAAAAAAAAAAAAAAYMS9AAAAAAAAAAAAAAAAAAAAAAAAAAAAMOJeAAAAAAAAAAAAAAAAAAAAAAAAAAAAGHEvAAAAAAAAAAAAAAAAAAAAAAAAAAAAjLgXAAAAAAAAAAAAAAAAAAAAAAAAAAAARtwLAAAAAAAAAAAAAAAAAAAAAAAAAAAAI+4FAAAAAAAAAAAAAAAAAAAAAAAAAACAEfcCAAAAAAAAAAAAAAAAAAAAAAAAAADAiHsBAAAAAAAAAAAAAAAAAAAAAAAAAABgxL0AAAAAAAAAAAAAAAAAAAAAAAAAAAAw4l4AAAAAAAAAAAAAAAAAAAAAAAAAAAAYcS8AAAAAAAAAAAAAAAAAAAAAAAAAAACMuBcAAAAAAAAAAAAAAAAAAAAAAAAAAABG3AsAAAAAAAAAAAAAAAAAAAAAAAAAAAAj7gUAAAAAAAAAAAAAAAAAAAAAAAAAAIAR9wIAAAAAAAAAAAAAAAAAAAAAAAAAAMCIewEAAAAAAAAAAAAAAAAAAAAAAAAAAGDEvQAAAAAAAAAAAAAAAAAAAAAAAAAAADDiXgAAAAAAAAAAAAAAAAAAAAAAAAAAABhxLwAAAAAAAAAAAAAAAAAAAAAAAAAAAIy4FwAAAAAAAAAAAAAAAAAAAAAAAAAAAEbcCwAAAAAAAAAAAAAAAAAAAAAAAAAAACPuBQAAAAAAAAAAAAAAAAAAAAAAAAAAgBH3AgAAAAAAAAAAAAAAAAAAAAAAAAAAwIh7AQAAAAAAAAAAAAAAAAAAAAAAAAAAYMS9AAAAAAAAAAAAAAAAAAAAAAAAAAAAMOJeAAAAAAAAAAAAAAAAAAAAAAAAAAAAGHEvAAAAAAAAAAAAAAAAAAAAAAAAAAAAjLgXAAAAAAAAAAAAAAAAAAAAAAAAAAAARtwLAAAAAAAAAAAAAAAAAAAAAAAAAAAAI+4FAAAAAAAAAAAAAAAAAAAAAAAAAACAEfcCAAAAAAAAAAAAAAAAAAAAAAAAAADAiHsBAAAAAAAAAAAAAAAAAAAAAAAAAABgxL0AAAAAAAAAAAAAAAAAAAAAAAAAAAAw4l4AAAAAAAAAAAAAAAAAAAAAAAAAAAAYcS8AAAAAAAAAAAAAAAAAAAAAAAAAAACMuBcAAAAAAAAAAAAAAAAAAAAAAAAAAABG3AsAAAAAAAAAAAAAAAAAAAAAAAAAAAAj7gUAAAAAAAAAAAAAAAAAAAAAAAAAAIAR9wIAAAAAAAAAAAAAAAAAAAAAAAAAAMCIewEAAAAAAAAAAAAAAAAAAAAAAAAAAGDEvQAAAAAAAAAAAAAAAAAAAAAAAAAAADDiXgAAAAAAAAAAAAAAAAAAAAAAAAAAABhxLwAAAAAAAAAAAAAAAAAAAAAAAAAAAIy4FwAAAAAAAAAAAAAAAAAAAAAAAAAAAEbcCwAAAAAAAAAAAAAAAAAAAAAAAAAAACPuBQAAAAAAAAAAAAAAAAAAAAAAAAAAgBH3AgAAAAAAAAAAAAAAAAAAAAAAAAAAwIh7AQAAAAAAAAAAAAAAAAAAAAAAAAAAYMS9AAAAAAAAAAAAAAAAAAAAAAAAAAAAMOJeAAAAAAAAAAAAAAAAAAAAAAAAAAAAGHEvAAAAAAAAAAAAAAAAAAAAAAAAAAAAjLgXAAAAAAAAAAAAAAAAAAAAAAAAAAAARtwLAAAAAAAAAAAAAAAAAAAAAAAAAAAAI+4FAAAAAAAAAAAAAAAAAAAAAAAAAACAEfcCAAAAAAAAAAAAAAAAAAAAAAAAAADAiHsBAAAAAAAAAAAAAAAAAAAAAAAAAABgxL0AAAAAAAAAAAAAAAAAAAAAAAAAAAAw4l4AAAAAAAAAAAAAAAAAAAAAAAAAAAAYcS8AAAAAAAAAAAAAAAAAAAAAAAAAAACMuBcAAAAAAAAAAAAAAAAAAAAAAAAAAABG3AsAAAAAAAAAAAAAAAAAAAAAAAAAAAAj7gUAAAAAAAAAAAAAAAAAAAAAAAAAAIAR9wIAAAAAAAAAAAAAAAAAAAAAAAAAAMCIewEAAAAAAAAAAAAAAAAAAAAAAAAAAGDEvQAAAAAAAAAAAAAAAAAAAAAAAAAAADDiXgAAAAAAAAAAAAAAAAAAAAAAAAAAABhxLwAAAAAAAAAAAAAAAAAAAAAAAAAAAIy4FwAAAAAAAAAAAAAAAAAAAAAAAAAAAEbcCwAAAAAAAAAAAAAAAAAAAAAAAAAAACPuBQAAAAAAAAAAAAAAAAAAACB27lgAAAAAYJC/9d5BFEgAAAAAAIy4FwAAAAAAAAAAAAAAAAAAAAAAAAAAAEbcCwAAAAAAAAAAAAAAAAAAAAAAAAAAACPuBQAAAAAAAAAAAAAAAAAAAAAAAAAAgBH3AgAAAAAAAAAAAAAAAAAAAAAAAAAAwIh7AQAAAAAAAAAAAAAAAAAAAAAAAAAAYMS9AAAAAAAAAAAAAAAAAAAAAAAAAAAAMOJeAAAAAAAAAAAAAAAAAAAAAAAAAAAAGHEvAAAAAAAAAAAAAAAAAAAAAAAAAAAAjLgXAAAAAAAAAAAAAAAAAAAAAAAAAAAARtwLAAAAAAAAAAAAAAAAAAAAAAAAAAAAI+4FAAAAAAAAAAAAAAAAAAAAAAAAAACAEfcCAAAAAAAAAAAAAAAAAAAAAAAAAADAiHsBAAAAAAAAAAAAAAAAAAAAAAAAAABgxL0AAAAAAAAAAAAAAAAAAAAAAAAAAAAw4l4AAAAAAAAAAAAAAAAAAAAAAAAAAAAYcS8AAAAAAAAAAAAAAAAAAAAAAAAAAACMuBcAAAAAAAAAAAAAAAAAAAAAAAAAAABG3AsAAAAAAAAAAAAAAAAAAAAAAAAAAAAj7gUAAAAAAAAAAAAAAAAAAAAAAAAAAIAR9wIAAAAAAAAAAAAAAAAAAAAAAAAAAMCIewEAAAAAAAAAAAAAAAAAAAAAAAAAAGDEvQAAAAAAAAAAAAAAAAAAAAAAAAAAADDiXgAAAAAAAAAAAAAAAAAAAAAAAAAAABhxLwAAAAAAAAAAAAAAAAAAAAAAAAAAAIy4FwAAAAAAAAAAAAAAAAAAAAAAAAAAAEbcCwAAAAAAAAAAAAAAAAAAAAAAAAAAACPuBQAAAAAAAAAAAAAAAAAAAAAAAAAAgBH3AgAAAAAAAAAAAAAAAAAAAAAAAAAAwIh7AQAAAAAAAAAAAAAAAAAAAAAAAAAAYMS9AAAAAAAAAAAAAAAAAAAAAAAAAAAAMOJeAAAAAAAAAAAAAAAAAAAAAAAAAAAAGHEvAAAAAAAAAAAAAAAAAAAAAAAAAAAAjLgXAAAAAAAAAAAAAAAAAAAAAAAAAAAARtwLAAAAAAAAAAAAAAAAAAAAAAAAAAAAI+4FAAAAAAAAAAAAAAAAAAAAAAAAAACAEfcCAAAAAAAAAAAAAAAAAAAAAAAAAADAiHsBAAAAAAAAAAAAAAAAAAAAAAAAAABgxL0AAAAAAAAAAAAAAAAAAAAAAAAAAAAw4l4AAAAAAAAAAAAAAAAAAAAAAAAAAAAYcS8AAAAAAAAAAAAAAAAAAAAAAAAAAACMuBcAAAAAAAAAAAAAAAAAAAAAAAAAAABG3AsAAAAAAAAAAAAAAAAAAAAAAAAAAAAj7gUAAAAAAAAAAAAAAAAAAAAAAAAAAIAR9wIAAAAAAAAAAAAAAAAAAAAAAAAAAMCIewEAAAAAAAAAAAAAAAAAAAAAAAAAAGDEvQAAAAAAAAAAAAAAAAAAAAAAAAAAADDiXgAAAAAAAAAAAAAAAAAAAAAAAAAAABhxLwAAAAAAAAAAAAAAAAAAAAAAAAAAAIy4FwAAAAAAAAAAAAAAAAAAAAAAAAAAAEbcCwAAAAAAAAAAAAAAAAAAAAAAAAAAACPuBQAAAAAAAAAAAAAAAAAAAAAAAAAAgBH3AgAAAAAAAAAAAAAAAAAAAAAAAAAAwIh7AQAAAAAAAAAAAAAAAAAAAAAAAAAAYMS9AAAAAAAAAAAAAAAAAAAAAAAAAAAAMOJeAAAAAAAAAAAAAAAAAAAAAAAAAAAAGHEvAAAAAAAAAAAAAAAAAAAAAAAAAAAAjLgXAAAAAAAAAAAAAAAAAAAAAAAAAAAARtwLAAAAAAAAAAAAAAAAAAAAAAAAAAAAI+4FAAAAAAAAAAAAAAAAAAAAAAAAAACAEfcCAAAAAAAAAAAAAAAAAAAAAAAAAADAiHsBAAAAAAAAAAAAAAAAAAAAAAAAAABgxL0AAAAAAAAAAAAAAAAAAAAAAAAAAAAw4l4AAAAAAAAAAAAAAAAAAAAAAAAAAAAYcS8AAAAAAAAAAAAAAAAAAAAAAAAAAACMuBcAAAAAAAAAAAAAAAAAAAAAAAAAAABG3AsAAAAAAAAAAAAAAAAAAAAAAAAAAAAj7gUAAAAAAAAAAAAAAAAAAAAAAAAAAIAR9wIAAAAAAAAAAAAAAAAAAAAAAAAAAMCIewEAAAAAAAAAAAAAAAAAAAAAAAAAAGDEvQAAAAAAAAAAAAAAAAAAAAAAAAAAADDiXgAAAAAAAAAAAAAAAAAAAAAAAAAAABhxLwAAAAAAAAAAAAAAAAAAAAAAAAAAAIy4FwAAAAAAAAAAAAAAAAAAAAAAAAAAAEbcCwAAAAAAAAAAAAAAAAAAAAAAAAAAACPuBQAAAAAAAAAAAAAAAAAAAAAAAAAAgBH3AgAAAAAAAAAAAAAAAAAAAAAAAAAAwIh7AQAAAAAAAAAAAAAAAAAAAAAAAAAAYMS9AAAAAAAAAAAAAAAAAAAAAAAAAAAAMOJeAAAAAAAAAAAAAAAAAAAAAAAAAAAAGHEvAAAAAAAAAAAAAAAAAAAAAAAAAAAAjLgXAAAAAAAAAAAAAAAAAAAAAAAAAAAARtwLAAAAAAAAAAAAAAAAAAAAAAAAAAAAI+4FAAAAAAAAAAAAAAAAAAAAAAAAAACAEfcCAAAAAAAAAAAAAAAAAAAAAAAAAADAiHsBAAAAAAAAAAAAAAAAAAAAAAAAAABgxL0AAAAAAAAAAAAAAAAAAAAAAAAAAAAw4l4AAAAAAAAAAAAAAAAAAAAAAAAAAAAYcS8AAAAAAAAAAAAAAAAAAAAAAAAAAACMuBcAAAAAAAAAAAAAAAAAAAAAAAAAAABG3AsAAAAAAAAAAAAAAAAAAAAAAAAAAAAj7gUAAAAAAAAAAAAAAAAAAAAAAAAAAIAR9wIAAAAAAAAAAAAAAAAAAAAAAAAAAMCIewEAAAAAAAAAAAAAAAAAAAAAAAAAAGDEvQAAAAAAAAAAAAAAAAAAAAAAAAAAADDiXgAAAAAAAAAAAAAAAAAAAAAAAAAAABhxLwAAAAAAAAAAAAAAAAAAAAAAAAAAAIy4FwAAAAAAAAAAAAAAAAAAAAAAAAAAAEbcCwAAAAAAAAAAAAAAAAAAAAAAAAAAACPuBQAAAAAAAAAAAAAAAAAAAAAAAAAAgBH3AgAAAAAAAAAAAAAAAAAAAAAAAAAAwIh7AQAAAAAAAAAAAAAAAAAAAAAAAAAAYMS9AAAAAAAAAAAAAAAAAAAAAAAAAAAAMOJeAAAAAAAAAAAAAAAAAAAAAAAAAAAAGHEvAAAAAAAAAAAAAAAAAAAAAAAAAAAAjLgXAAAAAAAAAAAAAAAAAAAAAAAAAAAARtwLAAAAAAAAAAAAAAAAAAAAAAAAAAAAI+4FAAAAAAAAAAAAAAAAAAAAAAAAAACAEfcCAAAAAAAAAAAAAAAAAAAAAAAAAADAiHsBAAAAAAAAAAAAAAAAAAAAAAAAAABgxL0AAAAAAAAAAAAAAAAAAAAAAAAAAAAw4l4AAAAAAAAAAAAAAAAAAAAAAAAAAAAYcS8AAAAAAAAAAAAAAAAAAAAAAAAAAACMuBcAAAAAAAAAAAAAAAAAAAAAAAAAAABG3AsAAAAAAAAAAAAAAAAAAAAAAAAAAAAj7gUAAAAAAAAAAAAAAAAAAAAAAAAAAIAR9wIAAAAAAAAAAAAAAAAAAAAAAAAAAMCIewEAAAAAAAAAAAAAAAAAAAAAAAAAAGDEvQAAAAAAAAAAAAAAAAAAAAAAAAAAADDiXgAAAAAAAAAAAAAAAAAAAAAAAAAAABhxLwAAAAAAAAAAAAAAAAAAAAAAAAAAAIy4FwAAAAAAAAAAAAAAAAAAAAAAAAAAAEbcCwAAAAAAAAAAAAAAAAAAAAAAAAAAACPuBQAAAAAAAAAAAAAAAAAAAAAAAAAAgBH3AgAAAAAAAAAAAAAAAAAAAAAAAAAAwIh7AQAAAAAAAAAAAAAAAAAAAAAAAAAAYMS9AAAAAAAAAAAAAAAAAAAAAAAAAAAAMOJeAAAAAAAAAAAAAAAAAAAAAAAAAAAAGHEvAAAAAAAAAAAAAAAAAAAAAAAAAAAAjLgXAAAAAAAAAAAAAAAAAAAAAAAAAAAARtwLAAAAAAAAAAAAAAAAAAAAAAAAAAAAI+4FAAAAAAAAAAAAAAAAAAAAAAAAAACAEfcCAAAAAAAAAAAAAAAAAAAAAAAAAADAiHsBAAAAAAAAAAAAAAAAAAAAAAAAAABgxL0AAAAAAAAAAAAAAAAAAAAAAAAAAAAw4l4AAAAAAAAAAAAAAAAAAAAAAAAAAAAYcS8AAAAAAAAAAAAAAAAAAAAAAAAAAACMuBcAAAAAAAAAAAAAAAAAAAAAAAAAAABG3AsAAAAAAAAAAAAAAAAAAAAAAAAAAAAj7gUAAAAAAAAAAAAAAAAAAAAAAAAAAIAR9wIAAAAAAAAAAAAAAAAAAAAAAAAAAMCIewEAAAAAAAAAAAAAAAAAAAAAAAAAAGDEvQAAAAAAAAAAAAAAAAAAAAAAAAAAADDiXgAAAAAAAAAAAAAAAAAAAAAAAAAAABhxLwAAAAAAAAAAAAAAAAAAAAAAAAAAAIy4FwAAAAAAAAAAAAAAAAAAAAAAAAAAAEbcCwAAAAAAAAAAAAAAAAAAAAAAAAAAACPuBQAAAAAAAAAAAAAAAAAAAAAAAAAAgBH3AgAAAAAAAAAAAAAAAAAAAAAAAAAAwIh7AQAAAAAAAAAAAAAAAAAAAAAAAAAAYMS9AAAAAAAAAAAAAAAAAAAAAAAAAAAAMOJeAAAAAAAAAAAAAAAAAAAAAAAAAAAAGHEvAAAAAAAAAAAAAAAAAAAAAAAAAAAAjLgXAAAAAAAAAAAAAAAAAAAAAAAAAAAARtwLAAAAAAAAAAAAAAAAAAAAAAAAAAAAI+4FAAAAAAAAAAAAAAAAAAAAAAAAAACAEfcCAAAAAAAAAAAAAAAAAAAAAAAAAADAiHsBAAAAAAAAAAAAAAAAAAAAAAAAAABgxL0AAAAAAAAAAAAAAAAAAAAAAAAAAAAw4l4AAAAAAAAAAAAAAAAAAAAAAAAAAAAYcS8AAAAAAAAAAAAAAAAAAAAAAAAAAACMuBcAAAAAAAAAAAAAAAAAAAAAAAAAAABG3AsAAAAAAAAAAAAAAAAAAAAAAAAAAAAj7gUAAAAAAAAAAAAAAAAAAAAAAAAAAIAR9wIAAAAAAAAAAAAAAAAAAAAAAAAAAMCIewEAAAAAAAAAAAAAAAAAAAAAAAAAAGDEvQAAAAAAAAAAAAAAAAAAAAAAAAAAADDiXgAAAAAAAAAAAAAAAAAAAAAAAAAAABhxLwAAAAAAAAAAAAAAAAAAAAAAAAAAAIy4FwAAAAAAAAAAAAAAAAAAAAAAAAAAAEbcCwAAAAAAAAAAAAAAAAAAAAAAAAAAACPuBQAAAAAAAAAAAAAAAAAAAAAAAAAAgBH3AgAAAAAAAAAAAAAAAAAAAAAAAAAAwIh7AQAAAAAAAAAAAAAAAAAAAAAAAAAAYMS9AAAAAAAAAAAAAAAAAAAAAAAAAAAAMOJeAAAAAAAAAAAAAAAAAAAAAAAAAAAAGHEvAAAAAAAAAAAAAAAAAAAAAAAAAAAAjLgXAAAAAAAAAAAAAAAAAAAAAAAAAAAARtwLAAAAAAAAAAAAAAAAAAAAAAAAAAAAI+4FAAAAAAAAAAAAAAAAAAAAAAAAAACAEfcCAAAAAAAAAAAAAAAAAAAAAAAAAADAiHsBAAAAAAAAAAAAAAAAAAAAAAAAAABgxL0AAAAAAAAAAAAAAAAAAAAAAAAAAAAw4l4AAAAAAAAAAAAAAAAAAAAAAAAAAAAYcS8AAAAAAAAAAAAAAAAAAAAAAAAAAACMuBcAAAAAAAAAAAAAAAAAAAAAAAAAAABG3AsAAAAAAAAAAAAAAAAAAAAAAAAAEDt3bJNgFIZhFH+NNCQWdk5hnMfQwwIOYMFQjOIElhY2YILtU/4xhCvJOQvcd4DvPgAQwr0AAAAAAAAAAAAAAAAAAAAAAAAAAAAQwr0AAAAAAAAAAAAAAAAAAAAAAAAAAAAQwr0AAAAAAAAAAAAAAAAAAAAAAAAAAAAQwr0AAAAAAAAAAAAAAAAAAAAAAAAAAAAQwr0AAAAAAAAAAAAAAAAAAAAAAAAAAAAQwr0AAAAAAAAAAAAAAAAAAAAAAAAAAAAQwr0AAAAAAAAAAAAAAAAAAAAAAAAAAAAQwr0AAAAAAAAAAAAAAAAAAAAAAAAAAAAQwr0AAAAAAAAAAAAAAAAAAAAAAAAAAAAQwr0AAAAAAAAAAAAAAAAAAAAAAAAAAAAQwr0AAAAAAAAAAAAAAAAAAAAAAAAAAAAQwr0AAAAAAAAAAAAAAAAAAAAAAAAAAAAQwr0AAAAAAAAAAAAAAAAAAAAAAAAAAAAQwr0AAAAAAAAAAAAAAAAAAAAAAAAAAAAQwr0AAAAAAAAAAAAAAAAAAAAAAAAAAAAQwr0AAAAAAAAAAAAAAAAAAAAAAAAAAAAQwr0AAAAAAAAAAAAAAAAAAAAAAAAAAAAQwr0AAAAAAAAAAAAAAAAAAAAAAAAAAAAQwr0AAAAAAAAAAAAAAAAAAAAAAAAAAAAQwr0AAAAAAAAAAAAAAAAAAAAAAAAAAAAQwr0AAAAAAAAAAAAAAAAAAAAAAAAAAAAQwr0AAAAAAAAAAAAAAAAAAAAAAAAAAAAQwr0AAAAAAAAAAAAAAAAAAAAAAAAAAAAQwr0AAAAAAAAAAAAAAAAAAAAAAAAAAAAQwr0AAAAAAAAAAAAAAAAAAAAAAAAAAAAQwr0AAAAAAAAAAAAAAAAAAAAAAAAAAAAQwr0AAAAAAAAAAAAAAAAAAAAAAAAAAAAQwr0AAAAAAAAAAAAAAAAAAAAAAAAAAAAQwr0AAAAAAAAAAAAAAAAAAAAAAAAAAAAQwr0AAAAAAAAAAAAAAAAAAAAAAAAAAAAQwr0AAAAAAAAAAAAAAAAAAAAAAAAAAAAQwr0AAAAAAAAAAAAAAAAAAAAAAAAAAAAQd5d87HS7WBwebi75JAD8yf3XafQEAAAAAGCAl/fN6AkAMNtx5QYDgOvwut6PngAAs7w9foyeAACzPO+2oycAwGzTj39aAAAA5/T95HYQgOswfS5HTwCAs5hGDwAAAAAAAAAAAAAAAAAAAAAAAAAAAID/RLgXAAAAAAAAAAAAAAAAAAAAAAAAAAAAQrgXAAAAAAAAAAAAAAAAAAAAAAAAAAAAQrgXAAAAAAAAAAAAAAAAAAAAAAAAAAAAQrgXAAAAAAAAAAAAAAAAAAAAAAAAAAAAQrgXAAAAAAAAAAAAAAAAAAAAAAAAAAAAQrgXAAAAAAAAAAAAAAAAAAAAAAAAAAAAQrgXAAAAAAAAAAAAAAAAAAAAAAAAAAAAQrgXAAAAAAAAAAAAAAAAAAAAAAAAAAAAQrgXAAAAAAAAAAAAAAAAAAAAAAAAAAAAQrgXAAAAAAAAAAAAAAAAAAAAAAAAAAAAQrgXAAAAAAAAAAAAAAAAAAAAAAAAAAAAQrgXAAAAAAAAAAAAAAAAAAAAAAAAAAAAQrgXAAAAAAAAAAAAAAAAAAAAAAAAAAAAQrgXAAAAAAAAAAAAAAAAAAAAAAAAAAAAQrgXAAAAAAAAAAAAAAAAAAAAAAAAAAAAQrgXAAAAAAAAAAAAAAAAAAAAAAAAAAAAQrgXAAAAAAAAAAAAAAAAAAAAAAAAAAAAQrgXAAAAAAAAAAAAAAAAAAAAAAAAAAAAQrgXAAAAAAAAAAAAAAAAAAAAAAAAAAAAQrgXAAAAAAAAAAAAAAAAAAAAAAAAAAAAQrgXAAAAAAAAAAAAAAAAAAAAAAAAAAAAQrgXAAAAAAAAAAAAAAAAAAAAAAAAAAAAQrgXAAAAAAAAAAAAAAAAAAAAAAAAAAAAQrgXAAAAAAAAAAAAAAAAAAAAAAAAAAAAQrgXAAAAAAAAAAAAAAAAAAAAAAAAAAAAQrgXAAAAAAAAAAAAAAAAAAAAAAAAAAAAQrgXAAAAAAAAAAAAAAAAAAAAAAAAAAAAQrgXAAAAAAAAAAAAAAAAAAAAAAAAAAAAQrgXAAAAAAAAAAAAAAAAAAAAAAAAAAAAQrgXAAAAAAAAAAAAAAAAAAAAAAAAAAAAQrgXAAAAAAAAAAAAAAAAAAAAAAAAAAAAQrgXAAAAAAAAAAAAAAAAAAAAAAAAAAAAQrgXAAAAAAAAAAAAAAAAAAAAAAAAAAAAQrgXAAAAAAAAAAAAAAAAAAAAAAAAAAAAQrgXAAAAAAAAAAAAAAAAAAAAAAAAAAAAQrgXAAAAAAAAAAAAAAAAAAAAAAAAAAAAQrgXAAAAAAAAAAAAAAAAAAAAAAAAAAAAQrgXAAAAAAAAAAAAAAAAAAAAAAAAAAAAQrgXAAAAAAAAAAAAAAAAAAAAAAAAAAAAQrgXAAAAAPh4ExQAACAASURBVAAAAAAAAAAAAAAAAAAAAAAAQrgXAAAAAAAAAAAAAAAAAAAAAAAAAAAAQrgXAAAAAAAAAAAAAAAAAAAAAAAAAAAAQrgXAAAAAAAAAAAAAAAAAAAAAAAAAAAAQrgXAAAAAAAAAAAAAAAAAAAAAAAAAAAAQrgXAAAAAAAAAAAAAAAAAAAAAAAAAAAAQrgXAAAAAAAAAAAAAAAAAAAAAAAAAAAAQrgXAAAAAAAAAAAAAAAAAAAAAAAAAAAAQrgXAAAAAAAAAAAAAAAAAAAAAAAAAAAAQrgXAAAAAAAAAAAAAAAAAAAAAAAAAAAAQrgXAAAAAAAAAAAAAAAAAAAAAAAAAAAAQrgXAAAAAAAAAAAAAAAAAAAAAAAAAAAAQrgXAAAAAAAAAAAAAAAAAAAAAAAAAAAAQrgXAAAAAAAAAAAAAAAAAAAAAAAAAAAAQrgXAAAAAAAAAAAAAAAAAAAAAAAAAAAAQrgXAAAAAAAAAAAAAAAAAAAAAAAAAAAAQrgXAAAAAAAAAAAAAAAAAAAAAAAAAAAAQrgXAAAAAAAAAAAAAAAAAAAAAAAAAAAAQrgXAAAAAAAAAAAAAAAAAAAAAAAAAAAAQrgXAAAAAAAAAAAAAAAAAAAAAAAAAAAAQrgXAAAAAAAAAAAAAAAAAAAAAAAAAAAAQrgXAAAAAAAAAAAAAAAAAAAAAAAAAAAAQrgXAAAAAAAAAAAAAAAAAAAAAAAAAAAAQrgXAAAAAAAAAAAAAAAAAAAAAAAAAAAAQrgXAAAAAAAAAAAAAAAAAAAAAAAAAAAAQrgXAAAAAAAAAAAAAAAAAAAAAAAAAAAAQrgXAAAAAAAAAAAAAAAAAAAAAAAAAAAAQrgXAAAAAAAAAAAAAAAAAAAAAAAAAAAAQrgXAAAAAAAAAAAAAAAAAAAAAAAAAAAAQrgXAAAAAAAAAAAAAAAAAAAAAAAAAAAAQrgXAAAAAAAAAAAAAAAAAAAAAAAAAAAAQrgXAAAAAAAAAAAAAAAAAAAAAAAAAAAAQrgXAAAAAAAAAAAAAAAAAAAAAAAAAAAAQrgXAAAAAAAAAAAAAAAAAAAAAAAAAAAAQrgXAAAAAAAAAAAAAAAAAAAAAAAAAAAAQrgXAAAAAAAAAAAAAAAAAAAAAAAAAAAAQrgXAAAAAAAAAAAAAAAAAAAAAAAAAAAAQrgXAAAAAAAAAAAAAAAAAAAAAAAAAAAAQrgXAAAAAAAAAAAAAAAAAAAAAAAAAAAAQrgXAAAAAAAAAAAAAAAAAAAAAAAAAAAAQrgXAAAAAAAAAAAAAAAAAAAAAAAAAAAAQrgXAAAAAAAAAAAAAAAAAAAAAAAAAAAAQrgXAAAAAAAAAAAAAAAAAAAAAAAAAAAAQrgXAAAAAAAAAAAAAAAAAAAAAAAAAAAAQrgXAAAAAAAAAAAAAAAAAAAAAAAAAAAAQrgXAAAAAAAAAAAAAAAAAAAAAAAAAAAAQrgXAAAAAAAAAAAAAAAAAAAAAAAAAAAAQrgXAAAAAAAAAAAAAAAAAAAAAAAAAAAAQrgXAAAAAAAAAAAAAAAAAAAAAAAAAAAAQrgXAAAAAAAAAAAAAAAAAAAAAAAAAAAAQrgXAAAAAAAAAAAAAAAAAAAAAAAAAAAAQrgXAAAAAAAAAAAAAAAAAAAAAAAAAAAAQrgXAAAAAAAAAAAAAAAAAAAAAAAAAAAAQrgXAAAAAAAAAAAAAAAAAAAAAAAAAAAAQrgXAAAAAAAAAAAAAAAAAAAAAAAAAAAAQrgXAAAAAAAAAAAAAAAAAAAAAAAAAAAAQrgXAAAAAAAAAAAAAAAAAAAAAAAAAAAAQrgXAAAAAAAAAAAAAAAAAAAAAAAAAAAAQrgXAAAAAAAAAAAAAAAAAAAAAAAAAAAAQrgXAAAAAAAAAAAAAAAAAAAAAAAAAAAAQrgXAAAAAAAAAAAAAAAAAAAAAAAAAAAAQrgXAAAAAAAAAAAAAAAAAAAAAAAAAAAAQrgXAAAAAAAAAAAAAAAAAAAAAAAAAAAAQrgXAAAAAAAAAAAAAAAAAAAAAAAAAAAAQrgXAAAAAAAAAAAAAAAAAAAAAAAAAAAAQrgXAAAAAAAAAAAAAAAAAAAAAAAAAAAAQrgXAAAAAAAAAAAAAAAAAAAAAAAAAAAAQrgXAAAAAAAAAAAAAAAAAAAAAAAAAAAAQrgXAAAAAAAAAAAAAAAAAAAAAAAAAAAAQrgXAAAAAAAAAAAAAAAAAAAAAAAAAAAAQrgXAAAAAAAAAAAAAAAAAAAAAAAAAAAAQrgXAAAAAAAAAAAAAAAAAAAAAAAAAAAAQrgXAAAAAAAAAAAAAAAAAAAAAAAAAAAAQrgXAAAAAAAAAAAAAAAAAAAAAAAAAAAAQrgXAAAAAAAAAAAAAAAAAAAAAAAAAAAAQrgXAAAAAAAAAAAAAAAAAAAAAAAAAAAAQrgXAAAAAAAAAAAAAAAAAAAAAAAAAAAAQrgXAAAAAAAAAAAAAAAAAAAAAAAAAAAAQrgXAAAAAAAAAAAAAAAAAAAAAAAAAAAAQrgXAAAAAAAAAAAAAAAAAAAAAAAAAAAAQrgXAAAAAAAAAAAAAAAAAAAAAAAAAAAAQrgXAAAAAAAAAAAAAAAAAAAAAAAAAAAAQrgXAAAAAAAAAAAAAAAAAAAAAAAAAAAAQrgXAAAAAAAAAAAAAAAAAAAAAAAAAAAAQrgXAAAAAAAAAAAAAAAAAAAAAAAAAAAAQrgXAAAAAAAAAAAAAAAAAAAAAAAAAAAAQrgXAAAAAAAAAAAAAAAAAAAAAAAAAAAAQrgXAAAAAAAAAAAAAAAAAAAAAAAAAAAAQrgXAAAAAAAAAAAAAAAAAAAAAAAAAAAAQrgXAAAAAAAAAAAAAAAAAAAAAAAAAAAAQrgXAAAAAAAAAAAAAAAAAAAAAAAAAAAAQrgXAAAAAAAAAAAAAAAAAAAAAAAAAAAAQrgXAAAAAAAAAAAAAAAAAAAAAAAAAAAAQrgXAAAAAAAAAAAAAAAAAAAAAAAAAAAAQrgXAAAAAAAAAAAAAAAAAAAAAAAAAAAAQrgXAAAAAAAAAAAAAAAAAAAAAAAAAAAAQrgXAAAAAAAAAAAAAAAAAAAAAAAAAAAAQrgXAAAAAAAAAAAAAAAAAAAAAAAAAAAAQrgXAAAAAAAAAAAAAAAAAAAAAAAAAAAAQrgXAAAAAAAAAAAAAAAAAAAAAAAAAAAAQrgXAAAAAAAAAAAAAAAAAAAAAAAAAAAAQrgXAAAAAAAAAAAAAAAAAAAAAAAAAAAAQrgXAAAAAAAAAAAAAAAAAAAAAAAAAAAAQrgXAAAAAAAAAAAAAAAAAAAAAAAAAAAAQrgXAAAAAAAAAAAAAAAAAAAAAAAAAAAAQrgXAAAAAAAAAAAAAAAAAAAAAAAAAAAAQrgXAAAAAAAAAAAAAAAAAAAAAAAAAAAAQrgXAAAAAAAAAAAAAAAAAAAAAAAAAAAAQrgXAAAAAAAAAAAAAAAAAAAAAAAAAAAAQrgXAAAAAAAAAAAAAAAAAAAAAAAAAAAAQrgXAAAAAAAAAAAAAAAAAAAAAAAAAAAAQrgXAAAAAAAAAAAAAAAAAAAAAAAAAAAAQrgXAAAAAAAAAAAAAAAA4Jedu0fVs4oCMLq3pNJKC8UBiBPIDCRgp61VCsExOATHYCGmstZW0tjYpLRLK4gp7LQSjs1XPATCJ9ebXANrNefnfeHsETwAAAAAAAAAABDCvQAAAAAAAAAAAAAAAAAAAAAAAAAAABDCvQAAAAAAAAAAAAAAAAAAAAAAAAAAABDCvQAAAAAAAAAAAAAAAAAAAAAAAAAAABDCvQAAAAAAAAAAAAAAAAAAAAAAAAAAABDCvQAAAAAAAAAAAAAAAAAAAAAAAAAAABDCvQAAAAAAAAAAAAAAAAAAAAAAAAAAABDCvQAAAAAAAAAAAAAAAAAAAAAAAAAAABDCvQAAAAAAAAAAAAAAAAAAAAAAAAAAABDCvQAAAAAAAAAAAAAAAAAAAAAAAAAAABDCvQAAAAAAAAAAAAAAAAAAAAAAAAAAABDCvQAAAAAAAAAAAAAAAAAAAAAAAAAAABDCvQAAAAAAAAAAAAAAAAAAAAAAAAAAABDCvQAAAAAAAAAAAAAAAAAAAAAAAAAAABDCvQAAAAAAAAAAAAAAAAAAAAAAAAAAABDCvQAAAAAAAAAAAAAAAAAAAAAAAAAAABDCvQAAAAAAAAAAAAAAAAAAAAAAAAAAABDCvQAAAAAAAAAAAAAAAAAAAAAAAAAAABDCvQAAAAAAAAAAAAAAAAAAAAAAAAAAABDCvQAAAAAAAAAAAAAAAAAAAAAAAAAAABDCvQAAAAAAAAAAAAAAAAAAAAAAAAAAABDCvQAAAAAAAAAAAAAAAAAAAAAAAAAAABDCvQAAAAAAAAAAAAAAAAAAAAAAAAAAABDCvQAAAAAAAAAAAAAAAAAAAAAAAAAAABDCvQAAAAAAAAAAAAAAAAAAAAAAAAAAABDCvQAAAAAAAAAAAAAAAAAAAAAAAAAAABDCvQAAAAAAAAAAAAAAAAAAAAAAAAAAABDCvQAAAAAAAAAAAAAAAAAAAAAAAAAAABDCvQAAAAAAAAAAAAAAAAAAAAAAAAAAABDCvQAAAAAAAAAAAAAAAAAAAAAAAAAAABDCvQAAAAAAAAAAAAAAAAAAAAAAAAAAABDCvQAAAAAAAAAAAAAAAAAAAAAAAAAAABDCvQAAAAAAAAAAAAAAAAAAAAAAAAAAABDCvQAAAAAAAAAAAAAAAAAAAAAAAAAAABDCvQAAAAAAAAAAAAAAAAAAAAAAAAAAABDCvQAAAAAAAAAAAAAAAAAAAAAAAAAAABDCvQAAAAAAAAAAAAAAAAAAAAAAAAAAABDCvQAAAAAAAAAAAAAAAAAAAAAAAAAAABDCvQAAAAAAAAAAAAAAAAAAAAAAAAAAABDCvQAAAAAAAAAAAAAAAAAAAAAAAAAAABDCvQAAAAAAAAAAAAAAAAAAAAAAAAAAABDCvQAAAAAAAAAAAAAAAAAAAAAAAAAAABDCvQAAAAAAAAAAAAAAAAAAAAAAAAAAABDCvQAAAAAAAAAAAAAAAAAAAAAAAAAAABDCvQAAAAAAAAAAAAAAAAAAAAAAAAAAABDCvQAAAAAAAAAAAAAAAAAAAAAAAAAAABDCvQAAAAAAAAAAAAAAAAAAAAAAAAAAABDCvQAAAAAAAAAAAAAAAAAAAAAAAAAAABDCvQAAAAAAAAAAAAAAAAAAAAAAAAAAABDCvQAAAAAAAAAAAAAAAAAAAAAAAAAAABDCvQAAAAAAAAAAAAAAAAAAAAAAAAAAABDCvQAAAAAAAAAAAAAAAAAAAAAAAAAAABDCvQAAAAAAAAAAAAAAAAAAAAAAAAAAABDCvQAAAAAAAAAAAAAAAAAAAAAAAAAAABDCvQAAAAAAAAAAAAAAAAAAAAAAAAAAABDCvQAAAAAAAAAAAAAAAAAAAAAAAAAAABDCvQAAAAAAAAAAAAAAAAAAAAAAAAAAABDCvQAAAAAAAAAAAAAAAAAAAAAAAAAAABBXw727+83uPtvdX3L3zu7+uLtPL+vbL3dMAAAAAAAAAAAAAAAAAAAAAAAAAAAAeDWuhntn5tuZ+fi5uy9n5vE554OZeXw5AwAAAAAAAAAAAAAAAAAAAAAAAAAAwGvvarj3nPPTzPzx3PUnM/Posn80M5/e8lwAAAAAAAAAAAAAAAAAAAAAAAAAAABwJ66Ge1/gvXPObzMzl/Xd2xsJAAAAAAAAAAAAAAAAAAAAAAAAAAAA7s5Nw73/2u5+sbtPdvfJ33/9+bKfAwAAAAAAAAAAAAAAAAAAAAAAAAAAgP/kpuHe33f3/ZmZy/rsRT+ec74+59w/59y/9+ZbN3wOAAAAAAAAAAAAAAAAAAAAAAAAAAAAXo2bhnt/mJmHl/3Dmfn+dsYBAAAAAAAAAAAAAAAAAAAAAAAAAACAu3U13Lu7383MzzPz4e7+urufz8xXM/Ngd5/OzIPLGQAAAAAAAAAAAAAAAAAAAAAAAAAAAF579679cM757AWfPrrlWQAAAAAAAAAAAAAAAAAAAAAAAAAAAODOvXHXAwAAAAAAAAAAAAAAAAAAAAAAAAAAAMD/iXAvAAAAAAAAAAAAAAAAAAAAAAAAAAAAhHAvAAAAAAAAAAAAAAAAAAAAAAAAAAAAhHAvAAAAAAAAAAAAAAAAAAAAAAAAAAAAhHAvAAAAAAAAAAAAAAAAAAAAAAAAAAAAhHAvAAAAAAAAAAAAAAAAAAAAAAAAAAAAhHAvAAAAAAAAAAAAAAAAAAAAAAAAAAAAhHAvAAAAAAAAAAAAAAAAAAAAAAAAAAAAhHAvAAAAAAAAAAAAAAAAAAAAAAAAAAAAhHAvAAAAAAAAAAAAAAAAAAAAAAAAAAAAhHAvAAAAAAAAAAAAAAAAAAAAAAAAAAAAhHAvAAAAAAAAAAAAAAAAAAAAAAAAAAAAhHAvAAAAAAAAAAAAAAAAAAAAAAAAAAAAhHAvAAAAAAAAAAAAAAAAAAAAAAAAAAAAhHAvAAAAAAAAAAAAAAAAAAAAAAAAAAAAhHAvAAAAAAAAAAAAAAAAAAAAAAAAAAAAhHAvAAAAAAAAAAAAAAAAAAAAAAAAAAAAhHAvAAAAAAAAAAAAAAAAAAAAAAAAAAAAhHAvAAAAAAAAAAAAAAAAAAAAAAAAAAAAhHAvAAAAAAAAAAAAAAAAAAAAAAAAAAAAhHAvAAAAAAAAAAAAAAAAAAAAAAAAAAAAhHAvAAAAAAAAAAAAAAAAAAAAAAAAAAAAhHAvAAAAAAAAAAAAAAAAAAAAAAAAAAAAhHAvAAAAAAAAAAAAAAAAAAAAAAAAAAAAhHAvAAAAAAAAAAAAAAAAAAAAAAAAAAAAhHAvAAAAAAAAAAAAAAAAAAAAAAAAAAAAhHAvAAAAAAAAAAAAAAAAAAAAAAAAAAAAhHAvAAAAAAAAAAAAAAAAAAAAAAAAAAAAhHAvAAAAAAAAAAAAAAAAAAAAAAAAAAAAhHAvAAAAAAAAAAAAAAAAAAAAAAAAAAAAhHAvAAAAAAAAAAAAAAAAAAAAAAAAAAAAhHAvAAAAAAAAAAAAAAAAAAAAAAAAAAAAhHAvAAAAAAAAAAAAAAAAAAAAAAAAAAAAhHAvAAAAAAAAAAAAAAAAAAAAAAAAAAAAhHAvAAAAAAAAAAAAAAAAAAAAAAAAAAAAhHAvAAAAAAAAAAAAAAAAAAAAAAAAAAAAhHAvAAAAAAAAAAAAAAAAAAAAAAAAAAAAhHAvAAAAAAAAAAAAAAAAAAAAAAAAAAAAhHAvAAAAAAAAAAAAAAAAAAAAAAAAAAAAhHAvAAAAAAAAAAAAAAAAAAAAAAAAAAAAhHAvAAAAAAAAAAAAAAAAAAAAAAAAAAAAhHAvAAAAAAAAAAAAAAAAAAAAAAAAAAAAhHAvAAAAAAAAAAAAAAAAAAAAAAAAAAAAhHAvAAAAAAAAAAAAAAAAAAAAAAAAAAAAhHAvAAAAAAAAAAAAAAAAAAAAAAAAAAAAhHAvAAAAAAAAAAAAAAAAAAAAAAAAAAAAhHAvAAAAAAAAAAAAAAAAAAAAAAAAAAAAhHAvAAAAAAAAAAAAAAAAAAAAAAAAAAAAhHAvAAAAAAAAAAAAAAAAAAAAAAAAAAAAhHAvAAAAAAAAAAAAAAAAAAAAAAAAAAAAhHAvAAAAAAAAAAAAAAAAAAAAAAAAAAAAhHAvAAAAAAAAAAAAAAAAAAAAAAAAAAAAhHAvAAAAAAAAAAAAAAAAAAAAAAAAAAAAhHAvAAAAAAAAAAAAAAAAAAAAAAAAAAAAhHAvAAAAAAAAAAAAAAAAAAAAAAAAAAAAhHAvAAAAAAAAAAAAAAAAAAAAAAAAAAAAhHAvAAAAAAAAAAAAAAAAAAAAAAAAAAAAhHAvAAAAAAAAAAAAAAAAAAAAAAAAAAAAhHAvAAAAAAAAAAAAAAAAAAAAAAAAAAAAhHAvAAAAAAAAAAAAAAAAAAAAAAAAAAAAhHAvAAAAAAAAAAAAAAAAAAAAAAAAAAAAhHAvAAAAAAAAAAAAAAAAAAAAAAAAAAAAhHAvAAAAAAAAAAAAAAAAAAAAAAAAAAAAhHAvAAAAAAAAAAAAAAAAAAAAAAAAAAAAhHAvAAAAAAAAAAAAAAAAAAAAAAAAAAAAhHAvAAAAAAAAAAAAAAAAAAAAAAAAAAAAhHAvAAAAAAAAAAAAAAAAAAAAAAAAAAAAhHAvAAAAAAAAAAAAAAAAAAAAAAAAAAAAhHAvAAAAAAAAAAAAAAAAAAAAAAAAAAAAhHAvAAAAAAAAAAAAAAAAAAAAAAAAAAAAhHAvAAAAAAAAAAAAAAAAAAAAAAAAAAAAhHAvAAAAAAAAAAAAAAAAAAAAAAAAAAAAhHAvAAAAAAAAAAAAAAAAAAAAAAAAAAAAhHAvAAAAAAAAAAAAAAAAAAAAAAAAAAAAhHAvAAAAAAAAAAAAAAAAAAAAAAAAAAAAhHAvAAAAAAAAAAAAAAAAAAAAAAAAAAAAhHAvAAAAAAAAAAAAAAAAAAAAAAAAAAAAhHAvAAAAAAAAAAAAAAAAAAAAAAAAAAAAhHAvAAAAAAAAAAAAAAAAAAAAAAAAAAAAhHAvAAAAAAAAAAAAAAAAAAAAAAAAAAAAhHAvAAAAAAAAAAAAAAAAAAAAAAAAAAAAhHAvAAAAAAAAAAAAAAAAAAAAAAAAAAAAhHAvAAAAAAAAAAAAAAAAAAAAAAAAAAAAhHAvAAAAAAAAAAAAAAAAAAAAAAAAAAAAhHAvAAAAAAAAAAAAAAAAAAAAAAAAAAAAhHAvAAAAAAAAAAAAAAAAAAAAAAAAAAAAhHAvAAAAAAAAAAAAAAAAAAAAAAAAAAAAhHAvAAAAAAAAAAAAAAAAAAAAAAAAAAAAhHAvAAAAAAAAAAAAAAAAAAAAAAAAAAAAhHAvAAAAAAAAAAAAAAAAAAAAAAAAAAAAhHAvAAAAAAAAAAAAAAAAAAAAAAAAAAAAhHAvAAAAAAAAAAAAAAAAAAAAAAAAAAAAhHAvAAAAAAAAAAAAAAAAAAAAAAAAAAAAhHAvAAAAAAAAAAAAAAAAAAAAAAAAAAAAhHAvAAAAAAAAAAAAAAAAAAAAAAAAAAAAhHAvAAAAAAAAAAAAAAAAAAAAAAAAAAAAhHAvAAAAAAAAAAAAAAAAAAAAAAAAAAAAhHAvAAAAAAAAAAAAAAAAAAAAAAAAAAAAhHAvAAAAAAAAAAAAAAAAAAAAAAAAAAAAhHAvAAAAAAAAAAAAAAAAAAAAAAAAAAAAhHAvAAAAAAAAAAAAAAAAAAAAAAAAAAAAhHAvAAAAAAAAAAAAAAAAAAAAAAAAAAAAhHAvAAAAAAAAAAAAAAAAAAAAAAAAAAAAhHAvAAAAAAAAAAAAAAAAAAAAAAAAAAAAhHAvAAAAAAAAAAAAAAAAAAAAAAAAAAAAhHAvAAAAAAAAAAAAAAAAAAAAAAAAAAAAhHAvAAAAAAAAAAAAAAAAAAAAAAAAAAAAhHAvAAAAAAAAAAAAAAAAAAAAAAAAAAAAhHAvAAAAAAAAAAAAAAAAAAAAAAAAAAAAhHAvAAAAAAAAAAAAAAAAAAAAAAAAAAAAhHAvAAAAAAAAAAAAAAAAAAAAAAAAAAAAhHAvAAAAAAAAAAAAAAAAAAAAAAAAAAAAhHAvAAAAAAAAAAAAAAAAAAAAAAAAAAAAhHAvAAAAAAAAAAAAAAAAAAAAAAAAAAAAhHAvAAAAAAAAAAAAAAAAAAAAAAAAAAAAhHAvAAAAAAAAAAAAAAAAAAAAAAAAAAAAhHAvAAAAAAAAAAAAAAAAAAAAAAAAAAAAhHAvAAAAAAAAAAAAAAAAAAD8w84dnEQMBGAYzYakAi9bh11ZgQVYpmUoLMKS9fodg8gOA+81MP8tJGQ+AAAAAAAAgBDuBQAAAAAAAAAAAAAAAAAAAAAAAAAAgBDuBQAAAAAAAAAAAAAAAAAAAAAAAAAAgBDuBQAAAAAAAAAAAAAAAAAAAAAAAAAAgBDuBQAAAAAAAAAAAAAAAAAAAAAAAAAAgBDuBQAAAAAAAAAAAAAAAAAAAAAAAAAAgBDuBQAAAAAAAAAAAAAAAAAAAAAAAAAAgBDuBQAAAAAAAAAAAAAAAAAAAAAAAAAAgBDuBQAAAAAAAAAAAAAAAAAAAAAAAAAAgBDuBQAAAAAAAAAAAAAAAAAAAAAAAAAAgBDuBQAAAAAAAAAAAAAAAAAAAAAAAAAAgBDuBQAAAAAAAAAAAAAAAAAAAAAAAAAAgBDuBQAAAAAAAAAAAAAAAAAAAAAAAAAAgBDuBQAAAAAAAAAAAAAAAAAAAAAAAAAAgBDuBQAAAAAAAAAAAAAAAAAAAAAAAAAAgBDuBQAAAAAAAAAAAAAAAAAAAAAAAAAAgBDuBQAAAAAAAAAAAAAAAAAAAAAAAAAAgBDuBQAAAAAAAAAAAAAAAAAAAAAAAAAAgBDuBQAAAAAAAAAAAAAAAAAAAAAAAAAAgBDuBQAAAAAAAAAAAAAAAAAAAAAAAAAAgBDuBQAAAAAAAAAAAAAAAAAAAAAAAAAAgBDuBQAAAAAAAAAAAAAAAAAAAAAAAAAAgBDuBQAAAAAAAAAAAAAAAAAAAAAAAAAAgBDuBQAAAAAAAAAAAAAAAAAAAAAAAAAAgBDuBQAAAAAAAAAAAAAAAAAAAAAAAAAAgBDuBQAAAAAAAAAAAAAAAAAAAAAAAAAAgBDuBQAAAAAAAAAAAAAAAAAAAAAAAAAAgBDuBQAAAAAAAAAAAAAAAAAAAAAAAAAAgBDuBQAAAAAAAAAAAAAAAAAAAAAAAAAAgBDuBQAAAAAAAAAAAAAAAAAAAAAAAAAAgBDuBQAAAAAAAAAAAAAAAAAAAAAAAAAAgBDuBQAAAAAAAAAAAAAAAAAAAAAAAAAAgBDuBQAAAAAAAAAAAAAAAAAAAAAAAAAAyOtELgAAIABJREFUgBDuBQAAAAAAAAAAAAAAAAAAAAAAAAAAgBDuBQAAAAAAAAAAAAAAAAAAAAAAAAAAgBDuBQAAAAAAAAAAAAAAAAAAAAAAAAAAgBDuBQAAAAAAAAAAAAAAAAAAAAAAAAAAgBDuBQAAAAAAAAAAAAAAAAAAAAAAAAAAgBDuBQAAAAAAAAAAAAAAAAAAAAAAAAAAgBDuBQAAAAAAAAAAAAAAAAAAAAAAAAAAgBDuBQAAAAAAAAAAAAAAAAAAAAAAAAAAgBDuBQAAAAAAAAAAAAAAAAAAAAAAAAAAgBDuBQAAAAAAAAAAAAAAAAAAAAAAAAAAgBDuBQAAAAAAAAAAAAAAAAAAAAAAAAAAgBDuBQAAAAAAAAAAAAAAAAAAAAAAAAAAgBDuBQAAAAAAAAAAAAAAAAAAAAAAAAAAgBDuBQAAAAAAAAAAAAAAAAAAAAAAAAAAgBDuBQAAAAAAAAAAAAAAAAAAAAAAAAAAgBDuBQAAAAAAAAAAAAAAAAAAAAAAAAAAgBDuBQAAAAAAAAAAAAAAAAAAAAAAAAAAgBDuBQAAAAAAAAAAAAAAAAAAAAAAAAAAgBDuBQAAAAAAAAAAAAAAAAAAAAAAAAAAgBDuBQAAAAAAAAAAAAAAAAAAAAAAAAAAgBDuBQAAAAAAAAAAAAAAAAAAAAAAAAAAgBDuBQAAAAAAAAAAAAAAAAAAAAAAAAAAgBDuBQAAAAAAAAAAAAAAAAAAAAAAAAAAgBDuBQAAAAAAAAAAAAAAAAAAAAAAAAAAgBDuBQAAAAAAAAAAAAAAAAAAAAAAAAAAgBDuBQAAAAAAAAAAAAAAAAAAAAAAAAAAgBDuBQAAAAAAAAAAAAAAAAAAAAAAAAAAgBDuBQAAAAAAAAAAAAAAAAAAAAAAAAAAgBDuBQAAAAAAAAAAAAAAAAAAAAAAAAAAgBDuBQAAAAAAAAAAAAAAAAAAAAAAAAAAgBDuBQAAAAAAAAAAAAAAAAAAAAAAAAAAgBDuBQAAAAAAAAAAAAAAAAAAAAAAAAAAgBDuBQAAAAAAAAAAAAAAAAAAAAAAAAAAgBDuBQAAAAAAAAAAAAAAAAAAAAAAAAAAgBDuBQAAAAAAAAAAAAAAAAAAAAAAAAAAgBDuBQAAAAAAAAAAAAAAAAAAAAAAAAAAgBDuBQAAAAAAAAAAAAAAAAAAAAAAAAAAgBDuBQAAAAAAAAAAAAAAAAAAAAAAAAAAgBDuBQAAAAAAAAAAAAAAAAAAAAAAAAAAgBDuBQAAAAAAAAAAAAAAAAAAAAAAAAAAgBDuBQAAAAAAAAAAAAAAAAAAAAAAAAAAgBDuBQAAAAAAAAAAAAAAAAAAAAAAAAAAgBDuBQAAAAAAAAAAAAAAAAAAAAAAAAAAgBDuBQAAAAAAAAAAAAAAAAAAAAAAAAAAgBDuBQAAAAAAAAAAAAAAAAAAAAAAAAAAgBDuBQAAAAAAAAAAAAAAAAAAAAAAAAAAgBDuBQAAAAAAAAAAAAAAAAAAAAAAAAAAgBDuBQAAAAAAAAAAAAAAAAAAAAAAAAAAgBDuBQAAAAAAAAAAAAAAAAAAAAAAAAAAgBDuBQAAAAAAAAAAAAAAAAAAAAAAAAAAgBDuBQAAAAAAAAAAAAAAAAAAAAAAAAAAgBDuBQAAAAAAAAAAAAAAAAAAAAAAAAAAgBDuBQAAAAAAAAAAAAAAAAAAAAAAAAAAgBDuBQAAAAAAAAAAAAAAAAAAAAAAAAAAgBDuBQAAAAAAAAAAAAAAAAAAAAAAAAAAgBDuBQAAAAAAAAAAAAAAAAAAAAAAAAAAgBDuBQAAAAAAAAAAAAAAAAAAAAAAAAAAgBDuBQAAAAAAAAAAAAAAAAAAAAAAAAAAgBDuBQAAAAAAAAAAAAAAAAAAAAAAAAAAgNieedixL8vtejzzSAD4k/1L2x6AOVyOx+gJAHDKsV1GTwCAU9a79ywA5rF/e24BMIf3l8/REwDglNePt9ETAOCUdfFtEIB5PFb/DwIwB/e0AJjFdhu9AADO+bneR08AgH+hSggAAAAAAAAAAAAAAAAAAAAAAAAAAAAh3AsAAAAAAAAAAAAAAAAAAAAAAAAAAAAh3AsAAAAAAAAAAAAAAAAAAAAAAAAAAAAh3AsAAAAAAAAAAAAAAAAAAAAAAAAAAAAh3AsAAAAAAAAAAAAAAAAAAAAAAAAAAAAh3AsAAAAAAAAAAAAAAAAAAAAAAAAAAAAh3AsAAAAAAAAAAAAAAAAAAAAAAAAAAAAh3AsAAAAAAAAAAAAAAAAAAAAAAAAAAAAh3AsAAAAAAAAAAAAAAAAAAAAAAAAAAAAh3AsAAAAAAAAAAAAAAAAAAAAAAAAAAAAh3AsAAAAAAAAAAAAAAAAAAAAAAAAAAAAh3AsAAAAAAAAAAAAAAAAAAAAAAAAAAAAh3AsAAAAAAAAAAAAAAAAAAAAAAAAAAAAh3AsAAAAAAAAAAAAAAAAAAAAAAAAAAAAh3AsAAAAAAAAAAAAAAAAAAAAAAAAAAAAh3AsAAAAAAAAAAAAAAAAAAAAAAAAAAAAh3AsAAAAAAAAAAAAAAAAAAAAAAAAAAAAh3AsAAAAAAAAAAAAAAAAAAAAAAAAAAAAh3AsAAAAAAAAAAAAAAAAAAAAAAAAAAAAh3AsAAAAAAAAAAAAAAAAAAAAAAAAAAAAh3AsAAAAAAAAAAAAAAAAAAAAAAAAAAAAh3AsAAAAAAAAAAAAAAAAAAAAAAAAAAAAh3AsAAAAAAAAAAAAAAAAAAAAAAAAAAAAh3AsAAAAAAAAAAAAAAAAAAAAAAAAAAAAh3AsAAAAAAAAAAAAAAAAAAAAAAAAAAAAh3AsAAAAAAAAAAAAAAAAAAAAAAAAAAAAh3AsAAAAAAAAAAAAAAAAAAAAAAAAAAAAh3AsAAAAAAAAAAAAAAAAAAAAAAAAAAAAh3AsAAAAAAAAAAAAAAAAAAAAAAAAAAAAh3AsAAAAAAAAAAAAAAAAAAAAAAAAAAAAh3AsAAAAAAAAAAAAAAAAAAAAAAAAAAAAh3AsAAAAAAAAAAAAAAAAAAAAAAAAAAAAh3AsAAAAAAAAAAAAAAAAAAAAAAAAAAAAh3AsAAAAAAAAAAAAAAAAAAAAAAAAAAAAh3AsAAAAAAAAAAAAAAAAAAAAAAAAAAAAh3AsAAAAAAAAAAAAAAAAAAAAAAAAAAAAh3AsAAAAAAAAAAAAAAAAAAAAAAAAAAAAh3AsAAAAAAAAAAAAAAAAAAAAAAAAAAAAh3AsAAAAAAAAAAAAAAAAAAAAAAAAAAAAh3AsAAAAAAAAAAAAAAAAAAAAAAAAAAAAh3AsAAAAAAAAAAAAAAAAAAAAAAAAAAAAh3AsAAAAAAAAAAAAAAAAAAAAAAAAAAAAh3AsAAAAAAAAAAAAAAAAAAAAAAAAAAAAh3AsAAAAAAAAAAAAAAAAAAAAAAAAAAAAh3AsAAAAAAAAAAAAAAAAAAAAAAAAAAAAh3AsAAAAAAAAAAAAAAAAAAAAAAAAAAAAh3AsAAAAAAAAAAAAAAAAAAAAAAAAAAAAh3AsAAAAAAAAAAAAAAAAAAAAAAAAAAAAh3AsAAAAAAAAAAAAAAAAAAAAAAAAAAAAh3AsAAAAAAAAAAAAAAAAAAAAAAAAAAAAh3AsAAAAAAAAAAAAAAAAAAAAAAAAAAAAh3AsAAAAAAAAAAAAAAAAAAAAAAAAAAAAh3AsAAAAAAAAAAAAAAAAAAAAAAAAAAAAh3AsAAAAAAAAAAAAAAAAAAAAAAAAAAAAh3AsAAAAAAAAAAAAAAAAAAAAAAAAAAAAh3AsAAAAAAAAAAAAAAAAAAAAAAAAAAAAh3AsAAAAAAAAAAAAAAAAAAAAAAAAAAAAh3AsAAAAAAAAAAAAAAAAAAAAAAAAAAAAh3AsAAAAAAAAAAAAAAAAAAAAAAAAAAAAh3AsAAAAAAAAAAAAAAAAAAAAAAAAAAAAh3AsAAAAAAAAAAAAAAAAAAAAAAAAAAAAh3AsAAAAAAAAAAAAAAAAAAAAAAAAAAAAh3AsAAAAAAAAAAAAAAAAAAAAAAAAAAAAh3AsAAAAAAAAAAAAAAAAAAAAAAAAAAAAh3AsAAAAAAAAAAAAAAAAAAAAAAAAAAAAh3AsAAAAAAAAAAAAAAAAAAAAAAAAAAAAh3AsAAAAAAAAAAAAAAAAAAAAAAAAAAAAh3AsAAAAAAAAAAAAAAAAAAAAAAAAAAAAh3AsAAAAAAAAAAAAAAAAAAAAAAAAAAAAh3AsAAAAAAAAAAAAAAAAAAAAAAAAAAAAh3AsAAAAAAAAAAAAAAAAAAAAAAAAAAAAh3AsAAAAAAAAAAAAAAAAAAAAAAAAAAAAh3AsAAAAAAAAAAAAAAAAAAAAAAAAAAAAh3AsAAAAAAAAAAAAAAAAAAAAAAAAAAAAh3AsAAAAAAAAAAAAAAAAAAAAAAAAAAAAh3AsAAAAAAAAAAAAAAAAAAAAAAAAAAAAh3AsAAAAAAAAAAAAAAAAAAAAAAAAAAAAh3AsAAAAAAAAAAAAAAAAAAAAAAAAAAAAh3AsAAAAAAAAAAAAAAAAAAAAAAAAAAAAh3AsAAAAAAAAAAAAAAAAAAAAAAAAAAAAh3AsAAAAAAAAAAAAAAAAAAAAAAAAAAAAh3AsAAAAAAAAAAAAAAAAAAAAAAAAAAAAh3AsAAAAAAAAAAAAAAAAAAAAAAAAAAAAh3AsAAAAAAAAAAAAAAAAAAAAAAAAAAAAh3AsAAAAAAAAAAAAAAAAAAAAAAAAAAAAh3AsAAAAAAAAAAAAAAAAAAAAAAAAAAAAh3AsAAAAAAAAAAAAAAAAAAAAAAAAAAAAh3AsAAAAAAAAAAAAAAAAAAAAAAAAAAAAh3AsAAAAAAAAAAAAAAAAAAAAAAAAAAAAh3AsAAAAAAAAAAAAAAAAAAAAAAAAAAAAh3AsAAAAAAAAAAAAAAAAAAAAAAAAAAAAh3AsAAAAAAAAAAAAAAAAAAAAAAAAAAAAh3AsAAAAAAAAAAAAAAAAAAAAAAAAAAAAh3AsAAAAAAAD8snPHAgAAAACD/K33DqJAAgAAAAAAAAAAAAAAAAAARtwLAAAAAAAAAAAAAAAAAAAAAAAAAAAAI+4FAAAAAAAAAAAAAAAAAAAAAAAAAACAEfcCAAAAAAAAAAAAAAAAAAAAAAAAAADAiHsBAAAAAAAAAAAAAAAAAAAAAAAAAABgxL0AAAAAAAAAAAAAAAAAAAAAAAAAAAAw4l4AAAAAAAAAAAAAAAAAAAAAAAAAAAAYcS8AAAAAAAAAAAAAAAAAAAAAAAAAAACMuBcAAAAAAAAAAAAAAAAAAAAAAAAAAABG3AsAAAAAAAAAAAAAAAAAAAAAAAAAAAAj7gUAAAAAAAAAAAAAAAAAAAAAAAAAAIAR9wIAAAAAAAAAAAAAAAAAAAAAAAAAAMCIewEAAAAAAAAAAAAAAAAAAAAAAAAAAGDEvQAAAAAAAAAAAAAAAAAAAAAAAAAAADDiXgAAAAAAAAAAAAAAAAAAAAAAAAAAABhxLwAAAAAAAAAAAAAAAAAAAAAAAAAAAIy4FwAAAAAAAAAAAAAAAAAAAAAAAAAAAEbcCwAAAAAAAAAAAAAAAAAAAAAAAAAAACPuBQAAAAAAAAAAAAAAAAAAAAAAAAAAgBH3AgAAAAAAAAAAAAAAAAAAAAAAAAAAwIh7AQAAAAAAAAAAAAAAAAAAAAAAAAAAYMS9AAAAAAAAAAAAAAAAAAAAAAAAAAAAMOJeAAAAAAAAAAAAAAAAAAAAAAAAAAAAGHEvAAAAAAAAAAAAAAAAAAAAAAAAAAAAjLgXAAAAAAAAAAAAAAAAAAAAAAAAAAAARtwLAAAAAAAAAAAAAAAAAAAAAAAAAAAAI+4FAAAAAAAAAAAAAAAAAAAAAAAAAACAEfcCAAAAAAAAAAAAAAAAAAAAAAAAAADAiHsBAAAAAAAAAAAAAAAAAAAAAAAAAABgxL0AAAAAAAAAAAAAAAAAAAAAAAAAAAAw4l4AAAAAAAAAAAAAAAAAAAAAAAAAAAAYcS8AAAAAAAAAAAAAAAAAAAAAAAAAAACMuBcAAAAAAAAAAAAAAAAAAAAAAAAAAABG3AsAAAAAAAAAAAAAAAAAAAAAAAAAAAAj7gUAAAAAAAAAAAAAAAAAAAAAAAAAAIAR9wIAAAAAAAAAAAAAAAAAAAAAAAAAAMCIewEAAAAAAAAAAAAAAAAAAAAAAAAAAGDEvQAAAAAAAAAAAAAAAAAAAAAAAAAAADDiXgAAAAAAAAAAAAAAAAAAAAAAAAAAABhxLwAAAAAAAAAAAAAAAAAAAAAAAAAAAIy4FwAAAAAAAAAAAAAAAAAAAAAAAAAAAEbcCwAAAAAAAAAAAAAAAAAAAAAAAAAAACPuBQAAAAAAAAAAAAAAAAAAAAAAAAAAgBH3AgAAAAAAAAAAAAAAAAAAAAAAAAAAwIh7AQAAAAAAAAAAAAAAAAAAAAAAAAAAYMS9AAAAAAAAAAAAAAAAAAAAAAAAAAAAMOJeAAAAAAAAAAAAAAAAAAAAAAAAAAAAGHEvAAAAAAAAAAAAAAAAAAAAAAAAAAAAjLgXAAAAAAAAAAAAAAAAAAAAAAAAAAAARtwLAAAAAAAAAAAAAAAAAAAAAAAAAAAAI+4FAAAAAAAAAAAAAAAAAAAAAAAAAACAEfcCAAAAAAAAAAAAAAAAAAAAAAAAAADAiHsBAAAAAAAAAAAAAAAAAAAAAAAAAABgxL0AAAAAAAAAAAAAAAAAAAAAAAAAAAAw4l4AAAAAAAAAAAAAAAAAAAAAAAAAAAAYcS8AAAAAAAAAAAAAAAAAAAAAAAAAAACMuBcAAAAAAAAAAAAAAAAAAAAAAAAAAABG3AsAAAAAAAAAAAAAAAAAAAAAAAAAAAAj7gUAAAAAAAAAAAAAAAAAAAAAAAAAAIAR9wIAAAAAAAAAAAAAAAAAAAAAAAAAAMCIewEAAAAAAAAAAAAAAAAAAAAAAAAAAGDEvQAAAAAAAAAAAAAAAAAAAAAAAAAAADDiXgAAAAAAAAAAAAAAAAAAAAAAAAAAABhxLwAAAAAAAAAAAAAAAAAAAAAAAAAAAIy4FwAAAAAAAAAAAAAAAAAAAAAAAAAAAEbcCwAAAAAAAAAAAAAAAAAAAAAAAAAAACPuBQAAAAAAAAAAAAAAAAAAAAAAAAAAgBH3AgAAAAAAAAAAAAAAAAAAAAAAAAAAwIh7AQAAAAAAAAAAAAAAAAAAAAAAAAAAYMS9AAAAAAAAAAAAAAAAAAAAAAAAAAAAMOJeAAAAAAAAAAAAAAAAAAAAAAAAAAAAGHEvAAAAAAAAAAAAAAAAAAAAAAAAAAAAjLgXAAAAAAAAAAAAAAAAAAAAAAAAAAAARtwLAAAAAAAAAAAAAAAAAAAAAAAAAAAAI+4FAAAAAAAAAAAAAAAAAAAAAAAAAACAEfcCAAAAAAAAAAAAAAAAAAAAAAAAAADAiHsBAAAAAAAAAAAAAAAAAAAAAAAAAABgxL0AAAAAAAAAAAAAAAAAAAAAAAAAAAAw4l4AAAAAAAAAAAAAAAAAAAAAAAAAAAAYcS8AAAAAAAAAAAAAAAAAAAAAAAAAAACMuBcAAAAAAAAAAAAAAAAAAAAAAAAAAABG3AsAAAAAAAAAAAAAAAAAAAAAAAAAAAAj7gUAAAAAAAAAAAAAAAAAAAAAAAAAAIAR9wIAAAAAAAAAAAAAAAAAAAAAAAAAAMCIewEAAAAAAAAAAAAAAAAAAAAAAAAAAGDEvQAAAAAAAAAAAAAAAAAAAAAAAAAAADDiXgAAAAAAAAAAAAAAAAAAAAAAAAAAABhxLwAAAAAAAAAAAAAAAAAAAAAAAAAAAIy4FwAAAAAAAAAAAAAAAAAAAAAAAAAAAEbcCwAAAAAAAAAAAAAAAAAAAAAAAAAAACPuBQAAAAAAAAAAAAAAAAAAAAAAAAAAgBH3AgAAAAAAAAAAAAAAAAAAAAAAAAAAwIh7AQAAAAAAAAAAAAAAAAAAAAAAAAAAYMS9AAAAAAAAAAAAAAAAAAAAAAAAAAAAMOJeAAAAAAAAAAAAAAAAAAAAAAAAAAAAGHEvAAAAAAAAAAAAAAAAAAAAAAAAAAAAjLgXAAAAAAAAAAAAAAAAAAAAAAAAAAAARtwLAAAAAAAAAAAAAAAAAAAAAAAAAAAAI+4FAAAAAAAAAAAAAAAAAAAAAAAAAACAEfcCAAAAAAAAAAAAAAAAAAAAAAAAAADAiHsBAAAAAAAAAAAAAAAAAAAAAAAAAABgxL0AAAAAAAAAAAAAAAAAAAAAAAAAAAAw4l4AAAAAAAAAAAAAAAAAAAAAAAAAAAAYcS8AAAAAAAAAAAAAAAAAAAAAAAAAAACMuBcAAAAAAAAAAAAAAAAAAAAAAAAAAABG3AsAAAAAAAAAAAAAAAAAAAAAAAAAAAAj7gUAAAAAAAAAAAAAAAAAAAAAAAAAAIAR9wIAAAAAAAAAAAAAAAAAAAAAAAAAAMCIewEAAAAAAAAAAAAAAAAAAAAAAAAAAGDEvQAAAAAAAAAAAAAAAAAAAAAAAAAAADDiXgAAAAAAAAAAAAAAAAAAAAAAAAAAABhxLwAAAAAAAAAAAAAAAAAAAAAAAAAAAIy4FwAAAAAAAAAAAAAAAAAAAAAAAAAAAEbcCwAAAAAAAAAAAAAAAAAAAAAAAAAAACPuBQAAAAAAAAAAAAAAAAAAAAAAAAAAgBH3AgAAAAAAAAAAAAAAAAAAAAAAAAAAwIh7AQAAAAAAAAAAAAAAAAAAAAAAAAAAYMS9AAAAAAAAAAAAAAAAAAAAAAAAAAAAMOJeAAAAAAAAAAAAAAAAAAAAAAAAAAAAGHEvAAAAAAAAAAAAAAAAAAAAAAAAAAAAjLgXAAAAAAAAAAAAAAAAAAAAAAAAAAAARtwLAAAAAAAAAAAAAAAAAAAAAAAAAAAAI+4FAAAAAAAAAAAAAAAAAAAAAAAAAACAEfcCAAAAAAAAAAAAAAAAAAAAAAAAAADAiHsBAAAAAAAAAAAAAAAAAAAAAAAAAABgxL0AAAAAAAAAAAAAAAAAAAAAAAAAAAAw4l4AAAAAAAAAAAAAAAAAAAAAAAAAAAAYcS8AAAAAAAAAAAAAAAAAAAAAAAAAAACMuBcAAAAAAAAAAAAAAAAAAAAAAAAAAABG3AsAAAAAAAAAAAAAAAAAAAAAAAAAAAAj7gUAAAAAAAAAAAAAAAAAAAAAAAAAAIAR9wIAAAAAAAAAAAAAAAAAAAAAAAAAAMCIewEAAAAAAAAAAAAAAAAAAAAAAAAAAGDEvQAAAAAAAAAAAAAAAAAAAAAAAAAAADDiXgAAAAAAAAAAAAAAAAAAAAAAAAAAABhxLwAAAAAAAAAAAAAAAAAAAAAAAAAAAIy4FwAAAAAAAAAAAAAAAAAAAAAAAAAAAEbcCwAAAAAAAAAAAAAAAAAAAAAAAAAAACPuBQAAAAAAAAAAAAAAAAAAAAAAAAAAgBH3AgAAAAAAAAAAAAAAAAAAAAAAAAAAwIh7AQAAAAAAAAAAAAAAAAAAAAAAAAAAYMS9AAAAAAAAAAAAAAAAAAAAAAAAAAAAMOJeAAAAAAAAAAAAAAAAAAAAAAAAAAAAGHEvAAAAAAAAAAAAAAAAAAAAAAAAAAAAjLgXAAAAAAAAAAAAAAAAAAAAAAAAAAAARtwLAAAAAAAAAAAAAAAAAAAAAAAAAAAAI+4FAAAAAAAAAAAAAAAAAAAAAAAAAACAEfcCAAAAAAAAAAAAAAAAAAAAAAAAAADAiHsBAAAAAAAAAAAAAAAAAAAAAAAAAABgxL0AAAAAAAAAAAAAAAAAAAAAAAAAAAAw4l4AAAAAAAAAAAAAAAAAAAAAAAAAAAAYcS8AAAAAAAAAAAAAAAAAAAAAAAAAAACMuBcAAAAAAAAAAAAAAAAAAAAAAAAAAABG3AsAAAAAAAAAAAAAAAAAAAAAAAAAAAAj7gUAAAAAAAAAAAAAAAAAAAAAAAAAAIAR9wIAAAAAAAAAAAAAAAAAAAAAAAAAAMCIewEAAAAAAAAAAAAAAAAAAAAAAAAAAGDEvQAAAAAAAAAAAAAAAAAAAAAAAAAAADDiXgAAAAAAAAAAAAAAAAAAAAAAAAAAABhxLwAAAAAAAAAAAAAAAAAAAAAAAAAAAIy4FwAAAAAAAAAAAAAAAAAAAAAAAAAAAEbcCwAAAAAAAAAAAAAAAAAAAAAAAAAAACPuBQAAAAAAAAAAAAAAAAAAAAAAAAAAgBH3AgAAAAAAAAAAAAAAAAAAAAAAAAAAwIh7AQAAAAAAAAAAAAAAAAAAAAAAAAAAYMS9AAAAAAAAAAAAAAAAAAAAAAAAAAAAMOJeAAAAAAAAAAAAAAAAAAAAAAAAAAAAGHEvAAAAAAAAAAAAAAAAAAAAAAAAAAAAjLgXAAAAAAAAAAAAAAAAAAAAAAAAAAAARtwLAAAAAAAAAAAAAAAAAAAAAAAAAAAAI+4FAAAAAAAAAAAAAAAAAAAAAAAAAACAEfcCAAAAAAAAAAAAAAAAAAAAAAAAAADAiHsBAAAAAAAAAAAAAAAAAAAAAAAAAABgxL0AAAAAAAAAAAAAAAAAAAAAAAAAAAAw4l4AAAAAAAAAAAAAAAAAAAAAAAAAAAAYcS8AAAAAAAAAAAAAAAAAAAAAAAAAAACMuBcAAAAAAAAAAAAAAAAAAAAAAAAAAABG3AsAAAAAAAAAAAAAAAAAAAAAAAAAAAAj7gUAAAAAAAAAAAAAAAAAAAAAAAAAAIAR9wIAAAAAAAAAAAAAAAAAAAAAAAAAAMCIewEAAAAAAAAAAAAAAAAAAAAAAAAAAGDEvQAAAAAAAAAAAAAAAAAAAAAAAAAAADDiXgAAAAAAAAAAAAAAAAAAAAAAAAAAABhxLwAAAAAAAAAAAAAAAAAAAAAAAAAAAIy4FwAAAAAAAAAAAAAAAAAAAAAAAAAAAEbcCwAAAAAAAAAAAADe7EzIAAAUtUlEQVQAAAAAAAAAAAAAACPuBQAAAAAAAAAAAIDauZuQSwsyjOPXrRalFRp9UI6kgVgilSFhCS00wUq0pZEh1LIPi6CU9hEUUVAUoqWQKGFGElQOFrQpqTRMm0rpQyctjeiDWtjQ3WLO4sYUpE7vM8+Z3w+Gc54zi/fa3rzn/QMAAAAAAAAAAAAADMK9AAAAAAAAAAAAAAAAAAAAAAAAAAAAMAj3AgAAAAAAAAAAAAAAAAAAAAAAAAAAwCDcCwAAAAAAAAAAAAAAAAAAAAAAAAAAAINwLwAAAAAAAAAAAAAAAAAAAAAAAAAAAAzCvQAAAAAAAAAAAAAAAAAAAAAAAAAAADAI9wIAAAAAAAAAAAAAAAAAAAAAAAAAAMAg3AsAAAAAAAAAAAAAAAAAAAAAAAAAAACDcC8AAAAAAAAAAAAAAAAAAAAAAAAAAAAMwr0AAAAAAAAAAAAAAAAAAAAAAAAAAAAwCPcCAAAAAAAAAAAAAAAAAAAAAAAAAADAINwLAAAAAAAAAAAAAAAAAAAAAAAAAAAAg3AvAAAAAAAAAAAAAAAAAAAAAAAAAAAADMK9AAAAAAAAAAAAAAAAAAAAAAAAAAAAMAj3AgAAAAAAAAAAAAAAAAAAAAAAAAAAwCDcCwAAAAAAAAAAAAAAAAAAAAAAAAAAAINwLwAAAAAAAAAAAAAAAAAAAAAAAAAAAAzCvQAAAAAAAAAAAAAAAAAAAAAAAAAAADAI9wIAAAAAAAAAAAAAAAAAAAAAAAAAAMAg3AsAAAAAAAAAAAAAAAAAAAAAAAAAAACDcC8AAAAAAAAAAAAAAAAAAAAAAAAAAAAMwr0AAAAAAAAAAAAAAAAAAAAAAAAAAAAwCPcCAAAAAAAAAAAAAAAAAAAAAAAAAADAINwLAAAAAAAAAAAAAAAAAAAAAAAAAAAAg3AvAAAAAAAAAAAAAAAAAAAAAAAAAAAADMK9AAAAAAAAAAAAAAAAAAAAAAAAAAAAMAj3AgAAAAAAAAAAAAAAAAAAAAAAAAAAwCDcCwAAAAAAAAAAAAAAAAAAAAAAAAAAAINwLwAAAAAAAAAAAAAAAAAAAAAAAAAAAAzCvQAAAAAAAAAAAAAAAAAAAAAAAAAAADAI9wIAAAAAAAAAAAAAAAAAAAAAAAAAAMAg3AsAAAAAAAAAAAAAAAAAAAAAAAAAAACDcC8AAAAAAAAAAAAAAAAAAAAAAAAAAAAMwr0AAAAAAAAAAAAAAAAAAAAAAAAAAAAwCPcCAAAAAAAAAAAAAAAAAAAAAAAAAADAINwLAAAAAAAAAAAAAAAAAAAAAAAAAAAAg3AvAAAAAAAAAAAAAAAAAAAAAAAAAAAADMK9AAAAAAAAAAAAAAAAAAAAAAAAAAAAMAj3AgAAAAAAAAAAAAAAAAAAAAAAAAAAwCDcCwAAAAAAAAAAAAAAAAAAAAAAAAAAAINwLwAAAAAAAAAAAAAAAAAAAAAAAAAAAAzCvQAAAAAAAAAAAAAAAAAAAAAAAAAAADAI9wIAAAAAAAAAAAAAAAAAAAAAAAAAAMAg3AsAAAAAAAAAAAAAAAAAAAAAAAAAAACDcC8AAAAAAAAAAAAAAAAAAAAAAAAAAAAMwr0AAAAAAAAAAAAAAAAAAAAAAAAAAAAwCPcCAAAAAAAAAAAAAAAAAAAAAAAAAADAINwLAAAAAAAAAAAAAAAAAAAAAAAAAAAAg3AvAAAAAAAAAAAAAAAAAAAAAAAAAAAADMK9AAAAAAAAAAAAAAAAAAAAAAAAAAAAMAj3AgAAAAAAAAAAAAAAAAAAAAAAAAAAwCDcCwAAAAAAAAAAAAAAAAAAAAAAAAAAAINwLwAAAAAAAAAAAAAAAAAAAAAAAAAAAAzCvQAAAAAAAAAAAAAAAAAAAAAAAAAAADAI9wIAAAAAAAAAAAAAAAAAAAAAAAAAAMAg3AsAAAAAAAAAAAAAAAAAAAAAAAAAAACDcC8AAAAAAAAAAAAAAAAAAAAAAAAAAAAMwr0AAAAAAAAAAAAAAAAAAAAAAAAAAAAwCPcCAAAAAAAAAAAAAAAAAAAAAAAAAADAINwLAAAAAAAAAAAAAAAAAAAAAAAAAAAAg3AvAAAAAAAAAAAAAAAAAAAAAAAAAAAADMK9AAAAAAAAAAAAAAAAAAAAAAAAAAAAMAj3AgAAAAAAAAAAAAAAAAAAAAAAAAAAwCDcCwAAAAAAAAAAAAAAAAAAAAAAAAAAAINwLwAAAAAAAAAAAAAAAAAAAAAAAAAAAAzCvQAAAAAAAAAAAAAAAAAAAAAAAAAAADAI9wIAAAAAAAAAAAAAAAAAAAAAAAAAAMAg3AsAAAAAAAAAAAAAAAAAAAAAAAAAAACDcC8AAAAAAAAAAAAAAAAAAAAAAAAAAAAMwr0AAAAAAAAAAAAAAAAAAAAAAAAAAAAwCPcCAAAAAAAAAAAAAAAAAAAAAAAAAADAINwLAAAAAAAAAAAAAAAAAAAAAAAAAAAAg3AvAAAAAAAAAAAAAAAAAAAAAAAAAAAADMK9AAAAAAAAAAAAAAAAAAAAAAAAAAAAMAj3AgAAAAAAAAAAAAAAAAAAAAAAAAAAwCDcCwAAAAAAAAAAAAAAAAAAAAAAAAAAAINwLwAAAAAAAAAAAAAAAAAAAAAAAAAAAAzCvQAAAAAAAAAAAAAAAAAAAAAAAAAAADAI9wIAAAAAAAAAAAAAAAAAAAAAAAAAAMAg3AsAAAAAAAAAAAAAAAAAAAAAAAAAAACDcC8AAAAAAAAAAAAAAAAAAAAAAAAAAAAMwr0AAAAAAAAAAAAAAAAAAAAAAAAAAAAwCPcCAAAAAAAAAAAAAAAAAAAAAAAAAADAINwLAAAAAAAAAAAAAAAAAAAAAAAAAAAAg3AvAAAAAAAAAAAAAAAAAAAAAAAAAAAADMK9AAAAAAAAAAAAAAAAAAAAAAAAAAAAMAj3AgAAAAAAAAAAAAAAAAAAAAAAAAAAwCDcCwAAAAAAAAAAAAAAAAAAAAAAAAAAAINwLwAAAAAAAAAAAAAAAAAAAAAAAAAAAAzCvQAAAAAAAAAAAAAAAAAAAAAAAAAAADAI9wIAAAAAAAAAAAAAAAAAAAAAAAAAAMAg3AsAAAAAAAAAAAAAAAAAAAAAAAAAAACDcC8AAAAAAAAAAAAAAAAAAAAAAAAAAAAMwr0AAAAAAAAAAAAAAAAAAAAAAAAAAAAwCPcCAAAAAAAAAAAAAAAAAAAAAAAAAADAINwLAAAAAAAAAAAAAAAAAAAAAAAAAAAAg3AvAAAAAAAAAAAAAAAAAAAAAAAAAAAADMK9AAAAAAAAAAAAAAAAAAAAAAAAAAAAMAj3AgAAAAAAAAAAAAAAAAAAAAAAAAAAwCDcCwAAAAAAAAAAAAAAAAAAAAAAAAAAAINwLwAAAAAAAAAAAAAAAAAAAAAAAAAAAAzCvQAAAAAAAAAAAAAAAAAAAAAAAAAAADAI9wIAAAAAAAAAAAAAAAAAAAAAAAAAAMAg3AsAAAAAAAAAAAAAAAAAAAAAAAAAAACDcC8AAAAAAAAAAAAAAAAAAAAAAAAAAAAMwr0AAAAAAAAAAAAAAAAAAAAAAAAAAAAwCPcCAAAAAAAAAAAAAAAAAAAAAAAAAADAINwLAAAAAAAAAAAAAAAAAAAAAAAAAAAAg3AvAAAAAAAAAAAAAAAAAAAAAAAAAAAADMK9AAAAAAAAAAAAAAAAAAAAAAAAAAAAMAj3AgAAAAAAAAAAAAAAAAAAAAAAAAAAwCDcCwAAAAAAAAAAAAAAAAAAAAAAAAAAAINwLwAAAAAAAAAAAAAAAAAAAAAAAAAAAAzCvQAAAAAAAAAAAAAAAAAAAAAAAAAAADAI9wIAAAAAAAAAAAAAAAAAAAAAAAAAAMAg3AsAAAAAAAAAAAAAAAAAAAAAAAAAAACDcC8AAAAAAAAAAAAAAAAAAAAAAAAAAAAMwr0AAAAAAAAAAAAAAAAAAAAAAAAAAAAwCPcCAAAAAAAAAAAAAAAAAAAAAAAAAADAINwLAAAAAAAAAAAAAAAAAAAAAAAAAAAAg3AvAAAAAAAAAAAAAAAAAAAAAAAAAAAADMK9AAAAAAAAAAAAAAAAAAAAAAAAAAAAMAj3AgAAAAAAAAAAAAAAAAAAAAAAAAAAwCDcCwAAAAAAAAAAAAAAAAAAAAAAAAAAAINwLwAAAAAAAAAAAAAAAAAAAAAAAAAAAAzCvQAAAAAAAAAAAAAAAAAAAAAAAAAAADAI9wIAAAAAAAAAAAAAAAAAAAAAAAAAAMAg3AsAAAAAAAAAAAAAAAAAAAAAAAAAAACDcC8AAAAAAAAAAAAAAAAAAAAAAAAAAAAMwr0AAAAAAAAAAAAAAAAAAAAAAAAAAAAwCPcCAAAAAAAAAAAAAAAAAAAAAAAAAADAINwLAAAAAAAAAAAAAAAAAAAAAAAAAAAAg3AvAAAAAAAAAAAAAAAAAAAAAAAAAAAADMK9AAAAAAAAAAAAAAAAAAAAAAAAAAAAMAj3AgAAAAAAAAAAAAAAAAAAAAAAAAAAwCDcCwAAAAAAAAAAAAAAAAAAAAAAAAAAAINwLwAAAAAAAAAAAAAAAAAAAAAAAAAAAAzCvQAAAAAAAAAAAAAAAAAAAAAAAAAAADAI9wIAAAAAAAAAAAAAAAAAAAAAAAAAAMAg3AsAAAAAAAAAAAAAAAAAAAAAAAAAAACDcC8AAAAAAAAAAAAAAAAAAAAAAAAAAAAMwr0AAAAAAAAAAAAAAAAAAAAAAAAAAAAwCPcCAAAAAAAAAAAAAAAAAAAAAAAAAADAINwLAAAAAAAAAAAAAAAAAAAAAAAAAAAAg3AvAAAAAAAAAAAAAAAAAAAAAAAAAAAADMK9AAAAAAAAAAAAAAAAAAAAAAAAAAAAMAj3AgAAAAAAAAAAAAAAAAAAAAAAAAAAwCDcCwAAAAAAAAAAAAAAAAAAAAAAAAAAAINwLwAAAAAAAAAAAAAAAAAAAAAAAAAAAAzCvQAAAAAAAAAAAAAAAAAAAAAAAAAAADBUd+/dD6t6LMlv9+wHwtHhBUn+uPQIAACAHePWAgAA2C53FgAAwPa5tQAAALbLnQUAALB9bi0AAIDtcmfB/8fLuvuFT/YfexruBbavqn7U3ecsvQMAAGCXuLUAAAC2y50FAACwfW4tAACA7XJnAQAAbJ9bCwAAYLvcWbD3jll6AAAAAAAAAAAAAAAAAAAAAAAAAAAAABxJhHsBAAAAAAAAAAAAAAAAAAAAAAAAAABgEO6F9btm6QEAAAA7yK0FAACwXe4sAACA7XNrAQAAbJc7CwAAYPvcWgAAANvlzoI9Vt299AYAAAAAAAAAAAAAAAAAAAAAAAAAAAA4Yhyz9AAAAAAAAAAAAAAAAAAAAAAAAAAAAAA4kgj3wopV1UVV9YuqeqCqrlp6DwAAwJpV1SlV9d2qOlBV91XVlUtvAgAA2BVVdWxV3V1V31h6CwAAwNpV1YlVdUtV/Xzzu63XL70JAABg7arqg5vvDt5bVTdV1bOW3gQAALA2VfXFqnq0qu4dnz2/qvZX1f2b15OW3AgAALAmT3FnfWLz/cF7quprVXXikhvhaCDcCytVVccm+VySNyc5M8nbq+rMZVcBAACs2qEkH+ruVyY5N8l73FkAAABbc2WSA0uPAAAA2BGfSfKt7n5FklfHvQUAAPA/qaqTk7w/yTndfVaSY5NctuwqAACAVbo+yUVP+OyqJHd09+lJ7tg8AwAA8PRcn/+8s/YnOau7X5Xkl0mu3utRcLQR7oX1el2SB7r7V939eJKbk1y68CYAAIDV6u5Huvuuzfu/5fAfOJ+87CoAAID1q6p9Sd6a5NqltwAAAKxdVT0vyRuTXJck3f14d/952VUAAAA74bgkz66q45Icn+ThhfcAAACsTnd/L8mfnvDxpUlu2Ly/Icnb9nQUAADAij3ZndXdt3f3oc3jD5Ls2/NhcJQR7oX1OjnJQ+P5YASlAAAAtqKqTk1ydpI7l10CAACwEz6d5MNJ/rX0EAAAgB3w8iSPJflSVd1dVddW1QlLjwIAAFiz7v5dkk8meTDJI0n+0t23L7sKAABgZ7y4ux9Jks3rixbeAwAAsEveleSbS4+AXSfcC+tVT/JZ7/kKAACAHVNVz0ny1SQf6O6/Lr0HAABgzarq4iSPdvePl94CAACwI45L8tokn+/us5P8PclVy04CAABYt6o6KcmlSU5L8tIkJ1TV5cuuAgAAAAAAgKdWVR9NcijJjUtvgV0n3AvrdTDJKeN5X5KHF9oCAACwE6rqGTkc7b2xu29deg8AAMAOOC/JJVX1myQ3Jzm/qr687CQAAIBVO5jkYHffuXm+JYdDvgAAAPz33pTk1939WHf/M8mtSd6w8CYAAIBd8YeqekmSbF4fXXgPAADA6lXVFUkuTvKO7u6l98CuE+6F9fphktOr6rSqemaSy5LctvAmAACA1aqqSnJdkgPd/aml9wAAAOyC7r66u/d196k5/Pus73T35QvPAgAAWK3u/n2Sh6rqjM1HFyT52YKTAAAAdsGDSc6tquM33yW8IMmBhTcBAADsituSXLF5f0WSry+4BQAAYPWq6qIkH0lySXf/Y+k9cDQQ7oWV6u5DSd6b5Ns5/EWQr3T3fcuuAgAAWLXzkrwzyflV9ZPNv7csPQoAAAAAAACe4H1Jbqyqe5K8JsnHFt4DAACwat19Z5JbktyV5Kc5/HeX1yw6CgAAYIWq6qYk309yRlUdrKp3J/l4kgur6v4kF26eAQAAeBqe4s76bJLnJtm/6WJ8YdGRcBSo7l56AwAAAAAAAAAAAAAAAAAAAAAAAAAAABwxjll6AAAAAAAAAAAAAAAAAAAAAAAAAAAAABxJhHsBAAAAAAAAAAAAAAAAAAAAAAAAAABgEO4FAAAAAAAAAAAAAAAAAAAAAAAAAACAQbgXAAAAAAAAAAAAAAAAAAAAAAAAAAAABuFeAAAAAAAAAAAAAAAAAAAAAAAAAAAAGIR7AQAAAAAAAAAAAAAAAAAAAAAAAAAAYBDuBQAAAAAAAAAAAAAAAAAAAAAAAAAAgEG4FwAAAAAAAAAAAAAAAAAAAAAAAAAAAIZ/A/yUaLWWeJq0AAAAAElFTkSuQmCC\n",
      "text/plain": [
       "<Figure size 7200x7200 with 1 Axes>"
      ]
     },
     "metadata": {
      "needs_background": "light"
     },
     "output_type": "display_data"
    }
   ],
   "source": [
    "# Still hard to see\n",
    "plt.figure(figsize=(100,100))\n",
    "# plt.imshow(data_results)\n",
    "plt.imshow(df)\n"
   ]
  },
  {
   "cell_type": "code",
   "execution_count": 43,
   "metadata": {},
   "outputs": [
    {
     "data": {
      "text/plain": [
       "<matplotlib.image.AxesImage at 0x1a2bb40b10>"
      ]
     },
     "execution_count": 43,
     "metadata": {},
     "output_type": "execute_result"
    },
    {
     "data": {
      "image/png": "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\n",
      "text/plain": [
       "<Figure size 432x288 with 1 Axes>"
      ]
     },
     "metadata": {
      "needs_background": "light"
     },
     "output_type": "display_data"
    }
   ],
   "source": [
    "plt.imshow(df)\n"
   ]
  },
  {
   "cell_type": "code",
   "execution_count": null,
   "metadata": {},
   "outputs": [],
   "source": [
    "# MAKE ANOTHER DATAFRAME WITH NRC \n",
    "\n",
    "    #JOY, ANGER, \n",
    "    \n",
    "    # IF WE ARE USING NRC IN OUR FINAL DF WE MUST HAVE A COMPOSITE SCORE\n",
    "    \n",
    "    # THE TWEETS HAVE MULTIPLE WORDS AND / OR SCORE IN MULTIPLE CATEGORIES\n",
    "    \n",
    "    # "
   ]
  },
  {
   "cell_type": "code",
   "execution_count": null,
   "metadata": {},
   "outputs": [],
   "source": [
    "# Is there better features that will evaluate the clustering data? \n",
    "\n",
    "    # What features? \n",
    "    # Scores over binary\n",
    "    # "
   ]
  },
  {
   "cell_type": "code",
   "execution_count": 41,
   "metadata": {},
   "outputs": [],
   "source": [
    "# ONCE THE K-MEAN ANALYSIS HAS BEEN PERFORMED, INTRODUCE DECISION TREE\n",
    "\n",
    "# DECISION TREE"
   ]
  },
  {
   "cell_type": "code",
   "execution_count": null,
   "metadata": {},
   "outputs": [],
   "source": []
  }
 ],
 "metadata": {
  "kernelspec": {
   "display_name": "Python 3",
   "language": "python",
   "name": "python3"
  },
  "language_info": {
   "codemirror_mode": {
    "name": "ipython",
    "version": 3
   },
   "file_extension": ".py",
   "mimetype": "text/x-python",
   "name": "python",
   "nbconvert_exporter": "python",
   "pygments_lexer": "ipython3",
   "version": "3.7.4"
  }
 },
 "nbformat": 4,
 "nbformat_minor": 2
}
