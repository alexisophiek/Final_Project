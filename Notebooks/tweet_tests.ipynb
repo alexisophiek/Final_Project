{
 "cells": [
  {
   "cell_type": "code",
   "execution_count": 47,
   "metadata": {},
   "outputs": [],
   "source": [
    "import psycopg2\n",
    "import json\n",
    "from datetime import datetime as dt\n",
    "import pandas as pd\n",
    "import re \n",
    "from textblob import TextBlob "
   ]
  },
  {
   "cell_type": "code",
   "execution_count": 16,
   "metadata": {},
   "outputs": [],
   "source": [
    "p=\"datasucks\""
   ]
  },
  {
   "cell_type": "code",
   "execution_count": 17,
   "metadata": {},
   "outputs": [],
   "source": [
    "conn = psycopg2.connect(user = \"alexis\",\n",
    "                                  password = f\"{p}\",\n",
    "                                  host = \"127.0.0.1\",\n",
    "                                  port = \"3306\",\n",
    "                                  database = \"postgres\")"
   ]
  },
  {
   "cell_type": "code",
   "execution_count": 18,
   "metadata": {},
   "outputs": [],
   "source": [
    "cursor = conn.cursor()"
   ]
  },
  {
   "cell_type": "code",
   "execution_count": 39,
   "metadata": {},
   "outputs": [],
   "source": [
    "tweet = []\n",
    "followers = []\n",
    "cursor.execute(\"select * from tweets\")\n",
    "tweets = cursor.fetchall()\n",
    "if not tweets:\n",
    "    print(\"empty\")\n",
    "for row in tweets:\n",
    "    for col in row:\n",
    "        if type(col) is dict:\n",
    "            tweet.append(col['text'])\n",
    "            followers.append(col['user']['followers_count'])"
   ]
  },
  {
   "cell_type": "code",
   "execution_count": 106,
   "metadata": {},
   "outputs": [
    {
     "data": {
      "text/html": [
       "<div>\n",
       "<style scoped>\n",
       "    .dataframe tbody tr th:only-of-type {\n",
       "        vertical-align: middle;\n",
       "    }\n",
       "\n",
       "    .dataframe tbody tr th {\n",
       "        vertical-align: top;\n",
       "    }\n",
       "\n",
       "    .dataframe thead th {\n",
       "        text-align: right;\n",
       "    }\n",
       "</style>\n",
       "<table border=\"1\" class=\"dataframe\">\n",
       "  <thead>\n",
       "    <tr style=\"text-align: right;\">\n",
       "      <th></th>\n",
       "      <th>tweets</th>\n",
       "    </tr>\n",
       "  </thead>\n",
       "  <tbody>\n",
       "    <tr>\n",
       "      <th>0</th>\n",
       "      <td>RT @BbyDmplng403: @LouiseLowrey There are so m...</td>\n",
       "    </tr>\n",
       "    <tr>\n",
       "      <th>1</th>\n",
       "      <td>RT @DanRodimer: Democrat frontrunner Michael B...</td>\n",
       "    </tr>\n",
       "    <tr>\n",
       "      <th>2</th>\n",
       "      <td>The latest COACH! https://t.co/Sz1NOFbZmK #ele...</td>\n",
       "    </tr>\n",
       "    <tr>\n",
       "      <th>3</th>\n",
       "      <td>THERE IS NO ONE TO VOTE FOR! \\nCentrists deman...</td>\n",
       "    </tr>\n",
       "    <tr>\n",
       "      <th>4</th>\n",
       "      <td>RT @K_JeanPierre: Calling all voters!! Are you...</td>\n",
       "    </tr>\n",
       "  </tbody>\n",
       "</table>\n",
       "</div>"
      ],
      "text/plain": [
       "                                              tweets\n",
       "0  RT @BbyDmplng403: @LouiseLowrey There are so m...\n",
       "1  RT @DanRodimer: Democrat frontrunner Michael B...\n",
       "2  The latest COACH! https://t.co/Sz1NOFbZmK #ele...\n",
       "3  THERE IS NO ONE TO VOTE FOR! \\nCentrists deman...\n",
       "4  RT @K_JeanPierre: Calling all voters!! Are you..."
      ]
     },
     "execution_count": 106,
     "metadata": {},
     "output_type": "execute_result"
    }
   ],
   "source": [
    "sentiment = int(\"0\")\n",
    "tweet_text = pd.DataFrame(tweet)\n",
    "tweet_text.rename(columns = {0: \"tweets\"}, inplace = True)\n",
    "# tweet_text[\"sentiment_test\"] = sentiment\n",
    "tweet_text.head()"
   ]
  },
  {
   "cell_type": "code",
   "execution_count": 107,
   "metadata": {},
   "outputs": [],
   "source": [
    "from itertools import islice\n",
    "\n",
    "LIMIT = 50\n",
    "for i,row in islice(tweet_text.iterrows(),LIMIT):\n",
    "    tweet_text.tweets[i] = re.sub(r'@[A-Za-z0-9]+','',tweet_text.tweets[i])\n",
    "    tweet_text.tweets[i] =  re.sub('https?://[A-Za-z0-9./]+','',tweet_text.tweets[i])\n",
    "    tweet_text.tweets[i] =  re.sub('\\n','',tweet_text.tweets[i])\n",
    "    tweet_text.tweets[i] =  re.sub('RT :','',tweet_text.tweets[i])\n",
    "    tweet_text.tweets[i] =  re.sub('RT:','',tweet_text.tweets[i])\n",
    "    tweet_text.tweets[i] =  re.sub(r'_[A-Za-z0-9]+','',tweet_text.tweets[i])"
   ]
  },
  {
   "cell_type": "code",
   "execution_count": 108,
   "metadata": {},
   "outputs": [
    {
     "data": {
      "text/html": [
       "<div>\n",
       "<style scoped>\n",
       "    .dataframe tbody tr th:only-of-type {\n",
       "        vertical-align: middle;\n",
       "    }\n",
       "\n",
       "    .dataframe tbody tr th {\n",
       "        vertical-align: top;\n",
       "    }\n",
       "\n",
       "    .dataframe thead th {\n",
       "        text-align: right;\n",
       "    }\n",
       "</style>\n",
       "<table border=\"1\" class=\"dataframe\">\n",
       "  <thead>\n",
       "    <tr style=\"text-align: right;\">\n",
       "      <th></th>\n",
       "      <th>tweets</th>\n",
       "    </tr>\n",
       "  </thead>\n",
       "  <tbody>\n",
       "    <tr>\n",
       "      <th>0</th>\n",
       "      <td>There are so many hilarious comments in You ...</td>\n",
       "    </tr>\n",
       "    <tr>\n",
       "      <th>1</th>\n",
       "      <td>Democrat frontrunner Michael Bloomberg says h...</td>\n",
       "    </tr>\n",
       "    <tr>\n",
       "      <th>2</th>\n",
       "      <td>The latest COACH!  #election2020 #misleadingtw...</td>\n",
       "    </tr>\n",
       "    <tr>\n",
       "      <th>3</th>\n",
       "      <td>THERE IS NO ONE TO VOTE FOR! Centrists demand ...</td>\n",
       "    </tr>\n",
       "    <tr>\n",
       "      <th>4</th>\n",
       "      <td>RT : Calling all voters!! Are you ready for No...</td>\n",
       "    </tr>\n",
       "  </tbody>\n",
       "</table>\n",
       "</div>"
      ],
      "text/plain": [
       "                                              tweets\n",
       "0    There are so many hilarious comments in You ...\n",
       "1   Democrat frontrunner Michael Bloomberg says h...\n",
       "2  The latest COACH!  #election2020 #misleadingtw...\n",
       "3  THERE IS NO ONE TO VOTE FOR! Centrists demand ...\n",
       "4  RT : Calling all voters!! Are you ready for No..."
      ]
     },
     "execution_count": 108,
     "metadata": {},
     "output_type": "execute_result"
    }
   ],
   "source": [
    "tweet_text.head()"
   ]
  },
  {
   "cell_type": "code",
   "execution_count": null,
   "metadata": {},
   "outputs": [],
   "source": [
    "sentiment_objects = [TextBlob(tweet) for tweet in tweets_no_urls]\n"
   ]
  },
  {
   "cell_type": "code",
   "execution_count": null,
   "metadata": {},
   "outputs": [],
   "source": []
  },
  {
   "cell_type": "code",
   "execution_count": null,
   "metadata": {},
   "outputs": [],
   "source": []
  },
  {
   "cell_type": "code",
   "execution_count": null,
   "metadata": {},
   "outputs": [],
   "source": []
  },
  {
   "cell_type": "code",
   "execution_count": null,
   "metadata": {},
   "outputs": [],
   "source": []
  },
  {
   "cell_type": "code",
   "execution_count": 35,
   "metadata": {},
   "outputs": [],
   "source": [
    "# NRC\n",
    "filepath = \"NRC-Sentiment-Emotion-Lexicons/NRC-Emotion-Lexicon-v0.92/NRC-Emotion-Lexicon-Wordlevel-v0.92.txt\"\n",
    "emolex_df = pd.read_csv(filepath,  names=[\"word\", \"emotion\", \"association\"], skiprows=45, sep='\\t')"
   ]
  },
  {
   "cell_type": "code",
   "execution_count": 14,
   "metadata": {},
   "outputs": [
    {
     "data": {
      "text/plain": [
       "array(['joy', 'negative', 'positive', 'sadness', 'surprise', 'trust',\n",
       "       'anger', 'anticipation', 'disgust', 'fear'], dtype=object)"
      ]
     },
     "execution_count": 14,
     "metadata": {},
     "output_type": "execute_result"
    }
   ],
   "source": [
    "emolex_df.emotion.unique()"
   ]
  },
  {
   "cell_type": "code",
   "execution_count": 46,
   "metadata": {},
   "outputs": [],
   "source": [
    "# def get_candidate(row):\n",
    "#     candidates = []\n",
    "#     text = row[\"text\"].lower()\n",
    "#     if \"clinton\" in text or \"hillary\" in text:\n",
    "#         candidates.append(\"clinton\")\n",
    "#     if \"trump\" in text or \"donald\" in text:\n",
    "#         candidates.append(\"trump\")\n",
    "#     if \"sanders\" in text or \"bernie\" in text:\n",
    "#         candidates.append(\"sanders\")\n",
    "#     return \",\".join(candidates)\n",
    "# tweets[\"candidate\"] = tweets.apply(get_candidate,axis=1)"
   ]
  },
  {
   "cell_type": "code",
   "execution_count": null,
   "metadata": {},
   "outputs": [],
   "source": []
  },
  {
   "cell_type": "code",
   "execution_count": null,
   "metadata": {},
   "outputs": [],
   "source": []
  },
  {
   "cell_type": "code",
   "execution_count": null,
   "metadata": {},
   "outputs": [],
   "source": []
  },
  {
   "cell_type": "code",
   "execution_count": null,
   "metadata": {},
   "outputs": [],
   "source": []
  },
  {
   "cell_type": "code",
   "execution_count": null,
   "metadata": {},
   "outputs": [],
   "source": []
  },
  {
   "cell_type": "code",
   "execution_count": null,
   "metadata": {},
   "outputs": [],
   "source": []
  },
  {
   "cell_type": "code",
   "execution_count": null,
   "metadata": {},
   "outputs": [],
   "source": []
  }
 ],
 "metadata": {
  "kernelspec": {
   "display_name": "Python 3",
   "language": "python",
   "name": "python3"
  },
  "language_info": {
   "codemirror_mode": {
    "name": "ipython",
    "version": 3
   },
   "file_extension": ".py",
   "mimetype": "text/x-python",
   "name": "python",
   "nbconvert_exporter": "python",
   "pygments_lexer": "ipython3",
   "version": "3.7.3"
  }
 },
 "nbformat": 4,
 "nbformat_minor": 2
}
