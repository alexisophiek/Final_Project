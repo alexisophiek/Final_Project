{
 "cells": [
  {
   "cell_type": "code",
   "execution_count": 1,
   "metadata": {},
   "outputs": [],
   "source": [
    "import tweepy\n",
    "from econfig import *\n",
    "import datetime as dt\n",
    "import json\n",
    "import psycopg2"
   ]
  },
  {
   "cell_type": "code",
   "execution_count": 21,
   "metadata": {},
   "outputs": [],
   "source": [
    "conn = psycopg2.connect(user = \"postgres\",\n",
    "                                  password = \"dataisgreat\",\n",
    "                                  host = \"127.0.0.1\",\n",
    "                                  port = \"3306\",\n",
    "                                  database = \"postgres\")\n",
    "cursor = conn.cursor()"
   ]
  },
  {
   "cell_type": "code",
   "execution_count": 22,
   "metadata": {},
   "outputs": [
    {
     "name": "stdout",
     "output_type": "stream",
     "text": [
      "Authentication Complete\n"
     ]
    }
   ],
   "source": [
    "auth = tweepy.OAuthHandler(consumer_key, consumer_secret)\n",
    "auth.set_access_token(access_token, access_token_secret)\n",
    "api = tweepy.API(auth, wait_on_rate_limit=True, wait_on_rate_limit_notify=True)\n",
    "\n",
    "try:\n",
    "    api.verify_credentials()\n",
    "    print(\"Authentication Complete\")\n",
    "except:\n",
    "    print(\"Authentication Unable to Complete\")\n",
    "    \n",
    "two_days = (dt.datetime.now() - dt.timedelta(days=8)).strftime(\"%Y-%m-%d\")\n",
    "one_day = (dt.datetime.now() - dt.timedelta(days=7)).strftime(\"%Y-%m-%d\")\n",
    "\n",
    "# startDate = datetime.datetime(2014, 6, 1, 0, 0, 0)\n",
    "# endDate =   datetime.datetime(2015, 1, 1, 0, 0, 0)\n",
    "MAX_TWEETS = 5\n",
    "tweets = tweepy.Cursor(api.search, q='#election2020', rpp=100, since=two_days, until=one_day).items(MAX_TWEETS)"
   ]
  },
  {
   "cell_type": "code",
   "execution_count": 23,
   "metadata": {},
   "outputs": [
    {
     "name": "stdout",
     "output_type": "stream",
     "text": [
      "Tweet Added\n",
      "Tweet Added\n",
      "Tweet Added\n",
      "Tweet Added\n",
      "Tweet Added\n"
     ]
    }
   ],
   "source": [
    "\n",
    "for tweet in tweets:\n",
    "    followers = tweet.user.followers_count\n",
    "    tweet_id = tweet.id\n",
    "    user_id = tweet.user.id\n",
    "    statuses = tweet.user.statuses_count\n",
    "    entities = tweet.entities\n",
    "    sn = tweet.user.screen_name\n",
    "    date = tweet.created_at.strftime('%Y-%m-%d %H:%M:%S')\n",
    "    text = tweet.text\n",
    "    \n",
    "#     CREATE TABLE new_tweets (date date, tweet_id bigint, user_id bigint, username text, statuses_count int, follower_count int, entities text, tweet_text text);\n",
    "    cursor.execute(\"INSERT INTO new_tweets (date, tweet_id, user_id, username, statuses_count, follower_count, entities, tweet_text)\\\n",
    "        VALUES (%s, %s, %s, %s, %s, %s, %s, %s);\", (tweet.created_at.strftime('%Y-%m-%d %H:%M:%S'), tweet_id, user_id, sn, statuses, followers,json.dumps(entities), text))\n",
    "    \n",
    "    conn.commit();\n",
    "    print(\"Tweet Added\")\n"
   ]
  },
  {
   "cell_type": "code",
   "execution_count": 24,
   "metadata": {
    "scrolled": true
   },
   "outputs": [
    {
     "name": "stdout",
     "output_type": "stream",
     "text": [
      "[(datetime.date(2020, 2, 22), 1231368047019122688, 17041374, 'wgbhnews', 81883, 31639, '{\"hashtags\": [], \"symbols\": [], \"user_mentions\": [], \"urls\": [{\"url\": \"https://t.co/Tp4H2KyARe\", \"expanded_url\": \"https://twitter.com/i/web/status/1231368047019122688\", \"display_url\": \"twitter.com/i/web/status/1\\\\u2026\", \"indices\": [117, 140]}]}', 'After being pummeled in his first debate, former NYC Mayor Mike Bloomberg told Boston business leaders that his nex… https://t.co/Tp4H2KyARe'), (datetime.date(2020, 2, 22), 1231368017889681408, 233374516, 'loveletters2007', 170515, 5053, '{\"hashtags\": [], \"symbols\": [], \"user_mentions\": [{\"screen_name\": \"indictmentduck\", \"name\": \"Indictment Duck #TrumpIsOJ #WorkGiveVoteBlue\", \"id\": 1090642487268524032, \"id_str\": \"1090642487268524032\", \"indices\": [3, 18]}, {\"screen_name\": \"ewarren\", \"name\": \"Elizabeth Warren\", \"id\": 357606935, \"id_str\": \"357606935\", \"indices\": [73, 81]}], \"urls\": []}', 'RT @indictmentduck: POLL TIME!!! Please Vote, Comment, &amp; Retweet\\n\\nIF @ewarren gets the nomination, who would be the best running mate to bo…'), (datetime.date(2020, 2, 22), 1231367989926100992, 19244765, 'capnmike', 3191, 63, '{\"hashtags\": [{\"text\": \"Election2020\", \"indices\": [71, 84]}], \"symbols\": [], \"user_mentions\": [{\"screen_name\": \"WarRoom2020\", \"name\": \"The War Room\", \"id\": 1189952636788731904, \"id_str\": \"1189952636788731904\", \"indices\": [3, 15]}], \"urls\": [{\"url\": \"https://t.co/QBRgV54tGo\", \"expanded_url\": \"https://warroom.org/ep-11-malpractice-magnifies-mini-mikes-shortcomings/?utm_source=twitter&utm_medium=social&utm_campaign=ReviveOldPost\", \"display_url\": \"warroom.org/ep-11-malpract\\\\u2026\", \"indices\": [85, 108]}]}', 'RT @WarRoom2020: Ep 11: Malpractice Magnifies Mini Mike’s Shortcomings #Election2020 https://t.co/QBRgV54tGo'), (datetime.date(2020, 2, 22), 1231367963284058113, 1045573767668404224, 'DgenXer', 15200, 3292, '{\"hashtags\": [{\"text\": \"DemocraticPrimary\", \"indices\": [65, 83]}, {\"text\": \"Election2020\", \"indices\": [85, 98]}, {\"text\": \"Bernie2020\", \"indices\": [100, 111]}, {\"text\": \"OnlyBernie\", \"indices\": [112, 123]}, {\"text\": \"BernieBros\", \"indices\": [125, 136]}], \"symbols\": [], \"user_mentions\": [{\"screen_name\": \"blysx\", \"name\": \"The Bernie Zone \\\\ud83c\\\\udfaf\\\\ud83c\\\\udf39\", \"id\": 59241915, \"id_str\": \"59241915\", \"indices\": [3, 9]}], \"urls\": []}', 'RT @blysx: The reason(s) you should all be voting for Bernie...\\n\\n#DemocraticPrimary \\n#Election2020 \\n#Bernie2020\\n#OnlyBernie \\n#BernieBros…'), (datetime.date(2020, 2, 22), 1231367947626610688, 59314269, 'mayduca', 2241, 70, '{\"hashtags\": [], \"symbols\": [], \"user_mentions\": [{\"screen_name\": \"MSN\", \"name\": \"MSN\", \"id\": 15856435, \"id_str\": \"15856435\", \"indices\": [3, 7]}], \"urls\": []}', \"RT @MSN: Bernie Sanders continues to lead Nevada's presidential caucuses based on early returns. Catch the complete results as they come in…\")]\n"
     ]
    }
   ],
   "source": [
    "cursor.execute(\"select * from new_tweets;\")\n",
    "fetch = cursor.fetchall()\n",
    "print(fetch)"
   ]
  },
  {
   "cell_type": "code",
   "execution_count": 25,
   "metadata": {},
   "outputs": [
    {
     "name": "stdout",
     "output_type": "stream",
     "text": [
      "2020-02-22 23:59:31\n"
     ]
    }
   ],
   "source": [
    "print(date)"
   ]
  },
  {
   "cell_type": "code",
   "execution_count": 26,
   "metadata": {},
   "outputs": [],
   "source": [
    "cursor.close()\n",
    "conn.close()"
   ]
  },
  {
   "cell_type": "code",
   "execution_count": null,
   "metadata": {},
   "outputs": [],
   "source": []
  }
 ],
 "metadata": {
  "kernelspec": {
   "display_name": "Python 3",
   "language": "python",
   "name": "python3"
  },
  "language_info": {
   "codemirror_mode": {
    "name": "ipython",
    "version": 3
   },
   "file_extension": ".py",
   "mimetype": "text/x-python",
   "name": "python",
   "nbconvert_exporter": "python",
   "pygments_lexer": "ipython3",
   "version": "3.7.4"
  }
 },
 "nbformat": 4,
 "nbformat_minor": 2
}
