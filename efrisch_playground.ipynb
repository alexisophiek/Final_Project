{
 "cells": [
  {
   "cell_type": "code",
   "execution_count": 14,
   "metadata": {},
   "outputs": [],
   "source": [
    "import tweepy\n",
    "from econfig import *\n",
    "import datetime as dt\n",
    "import json\n"
   ]
  },
  {
   "cell_type": "code",
   "execution_count": 15,
   "metadata": {},
   "outputs": [
    {
     "name": "stdout",
     "output_type": "stream",
     "text": [
      "Authentication Complete\n"
     ]
    }
   ],
   "source": [
    "auth = tweepy.OAuthHandler(consumer_key, consumer_secret)\n",
    "auth.set_access_token(access_token, access_token_secret)\n",
    "api = tweepy.API(auth, wait_on_rate_limit=True, wait_on_rate_limit_notify=True)\n",
    "\n",
    "try:\n",
    "    api.verify_credentials()\n",
    "    print(\"Authentication Complete\")\n",
    "except:\n",
    "    print(\"Authentication Unable to Complete\")\n",
    "    \n",
    "two_days = (dt.datetime.now() - dt.timedelta(days=3)).strftime(\"%Y-%m-%d\")\n",
    "one_day = (dt.datetime.now() - dt.timedelta(days=2)).strftime(\"%Y-%m-%d\")\n",
    "\n",
    "# startDate = datetime.datetime(2014, 6, 1, 0, 0, 0)\n",
    "# endDate =   datetime.datetime(2015, 1, 1, 0, 0, 0)\n",
    "MAX_TWEETS = 5\n",
    "tweets = tweepy.Cursor(api.search, q='#election2020', rpp=100, since=two_days, until=one_day).items(MAX_TWEETS)\n"
   ]
  },
  {
   "cell_type": "code",
   "execution_count": 20,
   "metadata": {},
   "outputs": [],
   "source": [
    "id_list = []\n",
    "username = []\n",
    "followers_count = []\n",
    "date_created = []\n",
    "tweet_text = []\n",
    "for tweet in tweets:\n",
    "#     print(json.dumps(tweet.__json))\n",
    "    followers = tweet.user.followers_count\n",
    "    followers_count.append(followers)\n",
    "    id = tweet.id\n",
    "    id_list.append(id)\n",
    "    sn = tweet.user.screen_name\n",
    "    username.append(sn)\n",
    "    date = tweet.created_at.strftime('%Y-%m-%d %H:%M:%S')\n",
    "    date_created.append(date)\n",
    "    text = tweet.text\n",
    "    tweet_text.append(text)\n",
    "    cursor.execute(\"INSERT INTO new_tweets (date, id, username, follower_count, text)\\\n",
    "        VALUES (%s, %s, %s, %s, %s);\", date, id, sn, followers, text)\n",
    "    pass\n"
   ]
  },
  {
   "cell_type": "code",
   "execution_count": 35,
   "metadata": {},
   "outputs": [
    {
     "name": "stdout",
     "output_type": "stream",
     "text": [
      "{\n",
      "    \"created_at\": \"Thu Feb 27 23:59:45 +0000 2020\",\n",
      "    \"id\": 1233179948875210754,\n",
      "    \"id_str\": \"1233179948875210754\",\n",
      "    \"text\": \"RT @LauraGreanias: We asked all 67 #Florida #elections supervisors how they're protecting against #hacking. Got mostly crickets. Then @jeff\\u2026\",\n",
      "    \"truncated\": false,\n",
      "    \"entities\": {\n",
      "        \"hashtags\": [\n",
      "            {\n",
      "                \"text\": \"Florida\",\n",
      "                \"indices\": [\n",
      "                    35,\n",
      "                    43\n",
      "                ]\n",
      "            },\n",
      "            {\n",
      "                \"text\": \"elections\",\n",
      "                \"indices\": [\n",
      "                    44,\n",
      "                    54\n",
      "                ]\n",
      "            },\n",
      "            {\n",
      "                \"text\": \"hacking\",\n",
      "                \"indices\": [\n",
      "                    98,\n",
      "                    106\n",
      "                ]\n",
      "            }\n",
      "        ],\n",
      "        \"symbols\": [],\n",
      "        \"user_mentions\": [\n",
      "            {\n",
      "                \"screen_name\": \"LauraGreanias\",\n",
      "                \"name\": \"Laura Greanias\",\n",
      "                \"id\": 2170554026,\n",
      "                \"id_str\": \"2170554026\",\n",
      "                \"indices\": [\n",
      "                    3,\n",
      "                    17\n",
      "                ]\n",
      "            }\n",
      "        ],\n",
      "        \"urls\": []\n",
      "    },\n",
      "    \"metadata\": {\n",
      "        \"iso_language_code\": \"en\",\n",
      "        \"result_type\": \"recent\"\n",
      "    },\n",
      "    \"source\": \"<a href=\\\"http://twitter.com/download/android\\\" rel=\\\"nofollow\\\">Twitter for Android</a>\",\n",
      "    \"in_reply_to_status_id\": null,\n",
      "    \"in_reply_to_status_id_str\": null,\n",
      "    \"in_reply_to_user_id\": null,\n",
      "    \"in_reply_to_user_id_str\": null,\n",
      "    \"in_reply_to_screen_name\": null,\n",
      "    \"user\": {\n",
      "        \"id\": 220100766,\n",
      "        \"id_str\": \"220100766\",\n",
      "        \"name\": \"Mark\",\n",
      "        \"screen_name\": \"MarkJustMarkOK\",\n",
      "        \"location\": \"\",\n",
      "        \"description\": \"Welcome to the occupation\",\n",
      "        \"url\": null,\n",
      "        \"entities\": {\n",
      "            \"description\": {\n",
      "                \"urls\": []\n",
      "            }\n",
      "        },\n",
      "        \"protected\": false,\n",
      "        \"followers_count\": 202,\n",
      "        \"friends_count\": 577,\n",
      "        \"listed_count\": 7,\n",
      "        \"created_at\": \"Fri Nov 26 19:51:30 +0000 2010\",\n",
      "        \"favourites_count\": 61675,\n",
      "        \"utc_offset\": null,\n",
      "        \"time_zone\": null,\n",
      "        \"geo_enabled\": false,\n",
      "        \"verified\": false,\n",
      "        \"statuses_count\": 6637,\n",
      "        \"lang\": null,\n",
      "        \"contributors_enabled\": false,\n",
      "        \"is_translator\": false,\n",
      "        \"is_translation_enabled\": false,\n",
      "        \"profile_background_color\": \"352726\",\n",
      "        \"profile_background_image_url\": \"http://abs.twimg.com/images/themes/theme5/bg.gif\",\n",
      "        \"profile_background_image_url_https\": \"https://abs.twimg.com/images/themes/theme5/bg.gif\",\n",
      "        \"profile_background_tile\": true,\n",
      "        \"profile_image_url\": \"http://pbs.twimg.com/profile_images/1020059373727559682/1E42uc43_normal.jpg\",\n",
      "        \"profile_image_url_https\": \"https://pbs.twimg.com/profile_images/1020059373727559682/1E42uc43_normal.jpg\",\n",
      "        \"profile_banner_url\": \"https://pbs.twimg.com/profile_banners/220100766/1536264166\",\n",
      "        \"profile_link_color\": \"D02B55\",\n",
      "        \"profile_sidebar_border_color\": \"FFFFFF\",\n",
      "        \"profile_sidebar_fill_color\": \"99CC33\",\n",
      "        \"profile_text_color\": \"3E4415\",\n",
      "        \"profile_use_background_image\": true,\n",
      "        \"has_extended_profile\": false,\n",
      "        \"default_profile\": false,\n",
      "        \"default_profile_image\": false,\n",
      "        \"following\": false,\n",
      "        \"follow_request_sent\": false,\n",
      "        \"notifications\": false,\n",
      "        \"translator_type\": \"none\"\n",
      "    },\n",
      "    \"geo\": null,\n",
      "    \"coordinates\": null,\n",
      "    \"place\": null,\n",
      "    \"contributors\": null,\n",
      "    \"retweeted_status\": {\n",
      "        \"created_at\": \"Tue Feb 25 20:19:59 +0000 2020\",\n",
      "        \"id\": 1232399865008750594,\n",
      "        \"id_str\": \"1232399865008750594\",\n",
      "        \"text\": \"We asked all 67 #Florida #elections supervisors how they're protecting against #hacking. Got mostly crickets. Then\\u2026 https://t.co/Fw3p2GbQPS\",\n",
      "        \"truncated\": true,\n",
      "        \"entities\": {\n",
      "            \"hashtags\": [\n",
      "                {\n",
      "                    \"text\": \"Florida\",\n",
      "                    \"indices\": [\n",
      "                        16,\n",
      "                        24\n",
      "                    ]\n",
      "                },\n",
      "                {\n",
      "                    \"text\": \"elections\",\n",
      "                    \"indices\": [\n",
      "                        25,\n",
      "                        35\n",
      "                    ]\n",
      "                },\n",
      "                {\n",
      "                    \"text\": \"hacking\",\n",
      "                    \"indices\": [\n",
      "                        79,\n",
      "                        87\n",
      "                    ]\n",
      "                }\n",
      "            ],\n",
      "            \"symbols\": [],\n",
      "            \"user_mentions\": [],\n",
      "            \"urls\": [\n",
      "                {\n",
      "                    \"url\": \"https://t.co/Fw3p2GbQPS\",\n",
      "                    \"expanded_url\": \"https://twitter.com/i/web/status/1232399865008750594\",\n",
      "                    \"display_url\": \"twitter.com/i/web/status/1\\u2026\",\n",
      "                    \"indices\": [\n",
      "                        116,\n",
      "                        139\n",
      "                    ]\n",
      "                }\n",
      "            ]\n",
      "        },\n",
      "        \"metadata\": {\n",
      "            \"iso_language_code\": \"en\",\n",
      "            \"result_type\": \"recent\"\n",
      "        },\n",
      "        \"source\": \"<a href=\\\"https://mobile.twitter.com\\\" rel=\\\"nofollow\\\">Twitter Web App</a>\",\n",
      "        \"in_reply_to_status_id\": null,\n",
      "        \"in_reply_to_status_id_str\": null,\n",
      "        \"in_reply_to_user_id\": null,\n",
      "        \"in_reply_to_user_id_str\": null,\n",
      "        \"in_reply_to_screen_name\": null,\n",
      "        \"user\": {\n",
      "            \"id\": 2170554026,\n",
      "            \"id_str\": \"2170554026\",\n",
      "            \"name\": \"Laura Greanias\",\n",
      "            \"screen_name\": \"LauraGreanias\",\n",
      "            \"location\": \"Naples, FL\",\n",
      "            \"description\": \"Investigations editor USA TODAY Network TN & FLA. Prev @laschoolreport, @ladailynews, @latimes. Loves great reads and those who write them.\",\n",
      "            \"url\": null,\n",
      "            \"entities\": {\n",
      "                \"description\": {\n",
      "                    \"urls\": []\n",
      "                }\n",
      "            },\n",
      "            \"protected\": false,\n",
      "            \"followers_count\": 1447,\n",
      "            \"friends_count\": 1091,\n",
      "            \"listed_count\": 68,\n",
      "            \"created_at\": \"Sat Nov 02 16:39:55 +0000 2013\",\n",
      "            \"favourites_count\": 225,\n",
      "            \"utc_offset\": null,\n",
      "            \"time_zone\": null,\n",
      "            \"geo_enabled\": false,\n",
      "            \"verified\": true,\n",
      "            \"statuses_count\": 5654,\n",
      "            \"lang\": null,\n",
      "            \"contributors_enabled\": false,\n",
      "            \"is_translator\": false,\n",
      "            \"is_translation_enabled\": false,\n",
      "            \"profile_background_color\": \"C0DEED\",\n",
      "            \"profile_background_image_url\": \"http://abs.twimg.com/images/themes/theme1/bg.png\",\n",
      "            \"profile_background_image_url_https\": \"https://abs.twimg.com/images/themes/theme1/bg.png\",\n",
      "            \"profile_background_tile\": false,\n",
      "            \"profile_image_url\": \"http://pbs.twimg.com/profile_images/1160733524510556160/b8OjhCPy_normal.jpg\",\n",
      "            \"profile_image_url_https\": \"https://pbs.twimg.com/profile_images/1160733524510556160/b8OjhCPy_normal.jpg\",\n",
      "            \"profile_banner_url\": \"https://pbs.twimg.com/profile_banners/2170554026/1565575413\",\n",
      "            \"profile_link_color\": \"B30F00\",\n",
      "            \"profile_sidebar_border_color\": \"C0DEED\",\n",
      "            \"profile_sidebar_fill_color\": \"DDEEF6\",\n",
      "            \"profile_text_color\": \"333333\",\n",
      "            \"profile_use_background_image\": true,\n",
      "            \"has_extended_profile\": false,\n",
      "            \"default_profile\": false,\n",
      "            \"default_profile_image\": false,\n",
      "            \"following\": false,\n",
      "            \"follow_request_sent\": false,\n",
      "            \"notifications\": false,\n",
      "            \"translator_type\": \"none\"\n",
      "        },\n",
      "        \"geo\": null,\n",
      "        \"coordinates\": null,\n",
      "        \"place\": null,\n",
      "        \"contributors\": null,\n",
      "        \"is_quote_status\": false,\n",
      "        \"retweet_count\": 1909,\n",
      "        \"favorite_count\": 1684,\n",
      "        \"favorited\": false,\n",
      "        \"retweeted\": false,\n",
      "        \"possibly_sensitive\": false,\n",
      "        \"lang\": \"en\"\n",
      "    },\n",
      "    \"is_quote_status\": false,\n",
      "    \"retweet_count\": 1909,\n",
      "    \"favorite_count\": 0,\n",
      "    \"favorited\": false,\n",
      "    \"retweeted\": false,\n",
      "    \"lang\": \"en\"\n",
      "}\n"
     ]
    }
   ],
   "source": [
    "print(json.dumps(tweet._json,indent=4))"
   ]
  },
  {
   "cell_type": "code",
   "execution_count": 37,
   "metadata": {},
   "outputs": [
    {
     "data": {
      "text/plain": [
       "{'id': 220100766,\n",
       " 'id_str': '220100766',\n",
       " 'name': 'Mark',\n",
       " 'screen_name': 'MarkJustMarkOK',\n",
       " 'location': '',\n",
       " 'description': 'Welcome to the occupation',\n",
       " 'url': None,\n",
       " 'entities': {'description': {'urls': []}},\n",
       " 'protected': False,\n",
       " 'followers_count': 202,\n",
       " 'friends_count': 577,\n",
       " 'listed_count': 7,\n",
       " 'created_at': 'Fri Nov 26 19:51:30 +0000 2010',\n",
       " 'favourites_count': 61675,\n",
       " 'utc_offset': None,\n",
       " 'time_zone': None,\n",
       " 'geo_enabled': False,\n",
       " 'verified': False,\n",
       " 'statuses_count': 6637,\n",
       " 'lang': None,\n",
       " 'contributors_enabled': False,\n",
       " 'is_translator': False,\n",
       " 'is_translation_enabled': False,\n",
       " 'profile_background_color': '352726',\n",
       " 'profile_background_image_url': 'http://abs.twimg.com/images/themes/theme5/bg.gif',\n",
       " 'profile_background_image_url_https': 'https://abs.twimg.com/images/themes/theme5/bg.gif',\n",
       " 'profile_background_tile': True,\n",
       " 'profile_image_url': 'http://pbs.twimg.com/profile_images/1020059373727559682/1E42uc43_normal.jpg',\n",
       " 'profile_image_url_https': 'https://pbs.twimg.com/profile_images/1020059373727559682/1E42uc43_normal.jpg',\n",
       " 'profile_banner_url': 'https://pbs.twimg.com/profile_banners/220100766/1536264166',\n",
       " 'profile_link_color': 'D02B55',\n",
       " 'profile_sidebar_border_color': 'FFFFFF',\n",
       " 'profile_sidebar_fill_color': '99CC33',\n",
       " 'profile_text_color': '3E4415',\n",
       " 'profile_use_background_image': True,\n",
       " 'has_extended_profile': False,\n",
       " 'default_profile': False,\n",
       " 'default_profile_image': False,\n",
       " 'following': False,\n",
       " 'follow_request_sent': False,\n",
       " 'notifications': False,\n",
       " 'translator_type': 'none'}"
      ]
     },
     "execution_count": 37,
     "metadata": {},
     "output_type": "execute_result"
    }
   ],
   "source": [
    "tweet.user.statuses_count._json\n",
    "# tweet.created_at.strftime('%Y-%m-%d %H:%M:%S')"
   ]
  },
  {
   "cell_type": "code",
   "execution_count": 13,
   "metadata": {},
   "outputs": [],
   "source": [
    "rows = zip(id,username,followers_count,interaction_count)"
   ]
  },
  {
   "cell_type": "code",
   "execution_count": 16,
   "metadata": {},
   "outputs": [
    {
     "name": "stdout",
     "output_type": "stream",
     "text": [
      "(1230643261712322565, 'JohnVetsResist1', 6691, 0)\n",
      "(1230643138756255744, 'Cant_Be_Passive', 55, 0)\n",
      "(1230643029125607429, 'SheilaCreates', 1112, 0)\n",
      "(1230642998670774275, 'AngeloJohnGage', 32155, 3)\n",
      "(1230642936804773889, 'KVERNVOLLEN', 252, 0)\n"
     ]
    }
   ],
   "source": [
    "rows = zip(id,username,followers_count,interaction_count)\n",
    "for row in rows:\n",
    "    print(row)"
   ]
  },
  {
   "cell_type": "code",
   "execution_count": 17,
   "metadata": {},
   "outputs": [
    {
     "data": {
      "text/plain": [
       "zip"
      ]
     },
     "execution_count": 17,
     "metadata": {},
     "output_type": "execute_result"
    }
   ],
   "source": [
    "type(rows)"
   ]
  },
  {
   "cell_type": "code",
   "execution_count": 18,
   "metadata": {},
   "outputs": [
    {
     "data": {
      "text/plain": [
       "tuple"
      ]
     },
     "execution_count": 18,
     "metadata": {},
     "output_type": "execute_result"
    }
   ],
   "source": [
    "type(row)\n"
   ]
  },
  {
   "cell_type": "code",
   "execution_count": 4,
   "metadata": {},
   "outputs": [],
   "source": [
    "import psycopg2\n",
    "import pandas as pd\n",
    "from sklearn.model_selection import train_test_split\n",
    "from sklearn.preprocessing import LabelEncoder, MinMaxScaler\n",
    "from sklearn.linear_model import LinearRegression\n",
    "import matplotlib.pyplot as plt\n",
    "import numpy as np"
   ]
  },
  {
   "cell_type": "code",
   "execution_count": 5,
   "metadata": {},
   "outputs": [
    {
     "name": "stdout",
     "output_type": "stream",
     "text": [
      "(4842, 1) (4842, 1)\n"
     ]
    }
   ],
   "source": [
    "# Testing Linear Regression using followers to predict interactions (retweets and favorited tweets)\n",
    "X = np.array(followers_count).reshape(-1,1)\n",
    "y = np.array(interaction_count).reshape(-1,1)\n",
    "print(X.shape,y.shape)"
   ]
  },
  {
   "cell_type": "code",
   "execution_count": 6,
   "metadata": {},
   "outputs": [],
   "source": [
    "X_train, X_test, y_train, y_test = train_test_split(X,y,random_state=42)"
   ]
  },
  {
   "cell_type": "code",
   "execution_count": 7,
   "metadata": {},
   "outputs": [
    {
     "data": {
      "text/plain": [
       "LinearRegression(copy_X=True, fit_intercept=True, n_jobs=None, normalize=False)"
      ]
     },
     "execution_count": 7,
     "metadata": {},
     "output_type": "execute_result"
    }
   ],
   "source": [
    "model = LinearRegression()\n",
    "model"
   ]
  },
  {
   "cell_type": "code",
   "execution_count": 8,
   "metadata": {},
   "outputs": [
    {
     "data": {
      "text/plain": [
       "LinearRegression(copy_X=True, fit_intercept=True, n_jobs=None, normalize=False)"
      ]
     },
     "execution_count": 8,
     "metadata": {},
     "output_type": "execute_result"
    }
   ],
   "source": [
    "model.fit(X_train,y_train)\n"
   ]
  },
  {
   "cell_type": "code",
   "execution_count": 9,
   "metadata": {},
   "outputs": [
    {
     "name": "stdout",
     "output_type": "stream",
     "text": [
      "Training Data: 0.002680052859205473\n",
      "Testing Data: 0.003263146545191664\n"
     ]
    }
   ],
   "source": [
    "print(f\"Training Data: {model.score(X_train,y_train)}\")\n",
    "print(f\"Testing Data: {model.score(X_test,y_test)}\")"
   ]
  },
  {
   "cell_type": "code",
   "execution_count": 12,
   "metadata": {},
   "outputs": [
    {
     "data": {
      "text/plain": [
       "Text(0, 0.5, 'Interactions')"
      ]
     },
     "execution_count": 12,
     "metadata": {},
     "output_type": "execute_result"
    },
    {
     "data": {
      "image/png": "[encoded data removed]",
      "text/plain": [
       "<Figure size 432x288 with 1 Axes>"
      ]
     },
     "metadata": {
      "needs_background": "light"
     },
     "output_type": "display_data"
    }
   ],
   "source": [
    "plt.scatter(X,y)\n",
    "plt.xlabel(\"Follower Counts\")\n",
    "plt.ylabel(\"Interactions\")"
   ]
  },
  {
   "cell_type": "code",
   "execution_count": 11,
   "metadata": {},
   "outputs": [
    {
     "data": {
      "text/plain": [
       "3631"
      ]
     },
     "execution_count": 11,
     "metadata": {},
     "output_type": "execute_result"
    }
   ],
   "source": [
    "len(X_train)"
   ]
  },
  {
   "cell_type": "code",
   "execution_count": 21,
   "metadata": {},
   "outputs": [],
   "source": []
  },
  {
   "cell_type": "code",
   "execution_count": 33,
   "metadata": {},
   "outputs": [],
   "source": [
    "def insert_impressions(id,username,followers_cout,interaction_count):\n",
    "    p = 'dataisgreat'\n",
    "\n",
    "    conn = psycopg2.connect(user = \"postgres\",\n",
    "                                  password = f\"{p}\",\n",
    "                                  host = \"127.0.0.1\",\n",
    "                                  port = \"3306\",\n",
    "                                  database = \"postgres\")\n",
    "\n",
    "    cursor = conn.cursor()\n",
    "    \n",
    "    for i in range(len(id[10:])):\n",
    "        cursor.execute('INSERT INTO tweet_impressions (id, username, followers, interactions)\\\n",
    "        VALUES (%s,%s,%s,%s);', (id[i],username[i],followers_count[i],interaction_count[i]))\n",
    "        conn.commit()\n"
   ]
  },
  {
   "cell_type": "code",
   "execution_count": 34,
   "metadata": {},
   "outputs": [],
   "source": [
    "insert_impressions(id,username,followers_count,interaction_count)"
   ]
  },
  {
   "cell_type": "code",
   "execution_count": 6,
   "metadata": {},
   "outputs": [],
   "source": [
    "tweet_list = []\n",
    "for each in tweets:\n",
    "    tweet_list.append(each)"
   ]
  },
  {
   "cell_type": "code",
   "execution_count": 19,
   "metadata": {
    "scrolled": false
   },
   "outputs": [
    {
     "name": "stdout",
     "output_type": "stream",
     "text": [
      "{\n",
      "    \"created_at\": \"Fri Feb 21 23:59:59 +0000 2020\",\n",
      "    \"id\": 1231005678443122691,\n",
      "    \"id_str\": \"1231005678443122691\",\n",
      "    \"text\": \"RT @thewebbix: THIS IS MY JAM! So excited to see this browsing this morning. THIS is how we beat Trump! THIS is how we flip the Senate!\\n\\nOv\\u2026\",\n",
      "    \"truncated\": false,\n",
      "    \"entities\": {\n",
      "        \"hashtags\": [],\n",
      "        \"symbols\": [],\n",
      "        \"user_mentions\": [\n",
      "            {\n",
      "                \"screen_name\": \"thewebbix\",\n",
      "                \"name\": \"W\\u1d36E\\u1d3cB\\u1d31B \\u270c\\ud83c\\udffc\",\n",
      "                \"id\": 32399655,\n",
      "                \"id_str\": \"32399655\",\n",
      "                \"indices\": [\n",
      "                    3,\n",
      "                    13\n",
      "                ]\n",
      "            }\n",
      "        ],\n",
      "        \"urls\": []\n",
      "    },\n",
      "    \"metadata\": {\n",
      "        \"iso_language_code\": \"en\",\n",
      "        \"result_type\": \"recent\"\n",
      "    },\n",
      "    \"source\": \"<a href=\\\"http://twitter.com/download/iphone\\\" rel=\\\"nofollow\\\">Twitter for iPhone</a>\",\n",
      "    \"in_reply_to_status_id\": null,\n",
      "    \"in_reply_to_status_id_str\": null,\n",
      "    \"in_reply_to_user_id\": null,\n",
      "    \"in_reply_to_user_id_str\": null,\n",
      "    \"in_reply_to_screen_name\": null,\n",
      "    \"user\": {\n",
      "        \"id\": 2286129811,\n",
      "        \"id_str\": \"2286129811\",\n",
      "        \"name\": \"\\ud83c\\uddfa\\ud83c\\uddf8Brian\\ud83c\\uddfa\\ud83c\\uddf8\",\n",
      "        \"screen_name\": \"titanbm2010\",\n",
      "        \"location\": \"Texas, USA\",\n",
      "        \"description\": \"rapist tRump's words have consequences. tRump is the #EnemyofThePeople\",\n",
      "        \"url\": null,\n",
      "        \"entities\": {\n",
      "            \"description\": {\n",
      "                \"urls\": []\n",
      "            }\n",
      "        },\n",
      "        \"protected\": false,\n",
      "        \"followers_count\": 1953,\n",
      "        \"friends_count\": 2245,\n",
      "        \"listed_count\": 4,\n",
      "        \"created_at\": \"Sat Jan 11 05:14:57 +0000 2014\",\n",
      "        \"favourites_count\": 46206,\n",
      "        \"utc_offset\": null,\n",
      "        \"time_zone\": null,\n",
      "        \"geo_enabled\": false,\n",
      "        \"verified\": false,\n",
      "        \"statuses_count\": 25265,\n",
      "        \"lang\": null,\n",
      "        \"contributors_enabled\": false,\n",
      "        \"is_translator\": false,\n",
      "        \"is_translation_enabled\": false,\n",
      "        \"profile_background_color\": \"000000\",\n",
      "        \"profile_background_image_url\": \"http://abs.twimg.com/images/themes/theme1/bg.png\",\n",
      "        \"profile_background_image_url_https\": \"https://abs.twimg.com/images/themes/theme1/bg.png\",\n",
      "        \"profile_background_tile\": false,\n",
      "        \"profile_image_url\": \"http://pbs.twimg.com/profile_images/975053073608511489/4e6VT4NG_normal.jpg\",\n",
      "        \"profile_image_url_https\": \"https://pbs.twimg.com/profile_images/975053073608511489/4e6VT4NG_normal.jpg\",\n",
      "        \"profile_banner_url\": \"https://pbs.twimg.com/profile_banners/2286129811/1571272868\",\n",
      "        \"profile_link_color\": \"1B95E0\",\n",
      "        \"profile_sidebar_border_color\": \"000000\",\n",
      "        \"profile_sidebar_fill_color\": \"000000\",\n",
      "        \"profile_text_color\": \"000000\",\n",
      "        \"profile_use_background_image\": false,\n",
      "        \"has_extended_profile\": false,\n",
      "        \"default_profile\": false,\n",
      "        \"default_profile_image\": false,\n",
      "        \"following\": false,\n",
      "        \"follow_request_sent\": false,\n",
      "        \"notifications\": false,\n",
      "        \"translator_type\": \"none\"\n",
      "    },\n",
      "    \"geo\": null,\n",
      "    \"coordinates\": null,\n",
      "    \"place\": null,\n",
      "    \"contributors\": null,\n",
      "    \"retweeted_status\": {\n",
      "        \"created_at\": \"Fri Feb 21 10:50:05 +0000 2020\",\n",
      "        \"id\": 1230806894597541889,\n",
      "        \"id_str\": \"1230806894597541889\",\n",
      "        \"text\": \"THIS IS MY JAM! So excited to see this browsing this morning. THIS is how we beat Trump! THIS is how we flip the Se\\u2026 https://t.co/W5A8tgHalz\",\n",
      "        \"truncated\": true,\n",
      "        \"entities\": {\n",
      "            \"hashtags\": [],\n",
      "            \"symbols\": [],\n",
      "            \"user_mentions\": [],\n",
      "            \"urls\": [\n",
      "                {\n",
      "                    \"url\": \"https://t.co/W5A8tgHalz\",\n",
      "                    \"expanded_url\": \"https://twitter.com/i/web/status/1230806894597541889\",\n",
      "                    \"display_url\": \"twitter.com/i/web/status/1\\u2026\",\n",
      "                    \"indices\": [\n",
      "                        117,\n",
      "                        140\n",
      "                    ]\n",
      "                }\n",
      "            ]\n",
      "        },\n",
      "        \"metadata\": {\n",
      "            \"iso_language_code\": \"en\",\n",
      "            \"result_type\": \"recent\"\n",
      "        },\n",
      "        \"source\": \"<a href=\\\"http://twitter.com/download/iphone\\\" rel=\\\"nofollow\\\">Twitter for iPhone</a>\",\n",
      "        \"in_reply_to_status_id\": null,\n",
      "        \"in_reply_to_status_id_str\": null,\n",
      "        \"in_reply_to_user_id\": null,\n",
      "        \"in_reply_to_user_id_str\": null,\n",
      "        \"in_reply_to_screen_name\": null,\n",
      "        \"user\": {\n",
      "            \"id\": 32399655,\n",
      "            \"id_str\": \"32399655\",\n",
      "            \"name\": \"W\\u1d36E\\u1d3cB\\u1d31B \\u270c\\ud83c\\udffc\",\n",
      "            \"screen_name\": \"thewebbix\",\n",
      "            \"location\": \"Lakeland, FL\",\n",
      "            \"description\": \"Beach/RV life \\u2022 Hippie \\u2022 Love People \\u2022 Love Music \\u2022 Every day I wake is a good day, no worry if I don\\u2019t. \\u2022 I LIVE BY: It is what it is. \\u2022 View #NewDayNewChance\",\n",
      "            \"url\": \"https://t.co/c5VM9j6Ncp\",\n",
      "            \"entities\": {\n",
      "                \"url\": {\n",
      "                    \"urls\": [\n",
      "                        {\n",
      "                            \"url\": \"https://t.co/c5VM9j6Ncp\",\n",
      "                            \"expanded_url\": \"https://twitter.com/search/from:thewebbix%20NewDayNewChance\",\n",
      "                            \"display_url\": \"twitter.com/search/from:th\\u2026\",\n",
      "                            \"indices\": [\n",
      "                                0,\n",
      "                                23\n",
      "                            ]\n",
      "                        }\n",
      "                    ]\n",
      "                },\n",
      "                \"description\": {\n",
      "                    \"urls\": []\n",
      "                }\n",
      "            },\n",
      "            \"protected\": false,\n",
      "            \"followers_count\": 22639,\n",
      "            \"friends_count\": 22479,\n",
      "            \"listed_count\": 130,\n",
      "            \"created_at\": \"Fri Apr 17 13:17:11 +0000 2009\",\n",
      "            \"favourites_count\": 65072,\n",
      "            \"utc_offset\": null,\n",
      "            \"time_zone\": null,\n",
      "            \"geo_enabled\": true,\n",
      "            \"verified\": false,\n",
      "            \"statuses_count\": 103064,\n",
      "            \"lang\": null,\n",
      "            \"contributors_enabled\": false,\n",
      "            \"is_translator\": false,\n",
      "            \"is_translation_enabled\": true,\n",
      "            \"profile_background_color\": \"022330\",\n",
      "            \"profile_background_image_url\": \"http://abs.twimg.com/images/themes/theme15/bg.png\",\n",
      "            \"profile_background_image_url_https\": \"https://abs.twimg.com/images/themes/theme15/bg.png\",\n",
      "            \"profile_background_tile\": true,\n",
      "            \"profile_image_url\": \"http://pbs.twimg.com/profile_images/2599680382/093D5102-740F-4502-B0C9-2837819E1623_normal\",\n",
      "            \"profile_image_url_https\": \"https://pbs.twimg.com/profile_images/2599680382/093D5102-740F-4502-B0C9-2837819E1623_normal\",\n",
      "            \"profile_banner_url\": \"https://pbs.twimg.com/profile_banners/32399655/1565561713\",\n",
      "            \"profile_link_color\": \"0084B4\",\n",
      "            \"profile_sidebar_border_color\": \"A8C7F7\",\n",
      "            \"profile_sidebar_fill_color\": \"C0DFEC\",\n",
      "            \"profile_text_color\": \"333333\",\n",
      "            \"profile_use_background_image\": true,\n",
      "            \"has_extended_profile\": false,\n",
      "            \"default_profile\": false,\n",
      "            \"default_profile_image\": false,\n",
      "            \"following\": false,\n",
      "            \"follow_request_sent\": false,\n",
      "            \"notifications\": false,\n",
      "            \"translator_type\": \"none\"\n",
      "        },\n",
      "        \"geo\": null,\n",
      "        \"coordinates\": null,\n",
      "        \"place\": null,\n",
      "        \"contributors\": null,\n",
      "        \"is_quote_status\": false,\n",
      "        \"retweet_count\": 11,\n",
      "        \"favorite_count\": 23,\n",
      "        \"favorited\": false,\n",
      "        \"retweeted\": false,\n",
      "        \"possibly_sensitive\": false,\n",
      "        \"lang\": \"en\"\n",
      "    },\n",
      "    \"is_quote_status\": false,\n",
      "    \"retweet_count\": 11,\n",
      "    \"favorite_count\": 0,\n",
      "    \"favorited\": false,\n",
      "    \"retweeted\": false,\n",
      "    \"lang\": \"en\"\n",
      "}\n"
     ]
    }
   ],
   "source": [
    "print(json.dumps(tweet_list[0]._json,indent=4))"
   ]
  },
  {
   "cell_type": "code",
   "execution_count": null,
   "metadata": {},
   "outputs": [],
   "source": []
  }
 ],
 "metadata": {
  "kernelspec": {
   "display_name": "Python 3.6.9 64-bit ('PythonData': conda)",
   "language": "python",
   "name": "python36964bitpythondataconda387ec7e747ec49fcae7849ccd8da23ce"
  },
  "language_info": {
   "codemirror_mode": {
    "name": "ipython",
    "version": 3
   },
   "file_extension": ".py",
   "mimetype": "text/x-python",
   "name": "python",
   "nbconvert_exporter": "python",
   "pygments_lexer": "ipython3",
   "version": "3.6.9"
  }
 },
 "nbformat": 4,
 "nbformat_minor": 2
}
