{
 "cells": [
  {
   "cell_type": "code",
   "execution_count": 6,
   "metadata": {},
   "outputs": [],
   "source": [
    "import tweepy\n",
    "from econfig import *\n",
    "import datetime as dt"
   ]
  },
  {
   "cell_type": "code",
   "execution_count": 7,
   "metadata": {},
   "outputs": [
    {
     "name": "stdout",
     "output_type": "stream",
     "text": [
      "Authentication Complete\n"
     ]
    }
   ],
   "source": [
    "auth = tweepy.OAuthHandler(consumer_key, consumer_secret)\n",
    "auth.set_access_token(access_token, access_token_secret)\n",
    "api = tweepy.API(auth, wait_on_rate_limit=True, wait_on_rate_limit_notify=True)\n",
    "\n",
    "try:\n",
    "    api.verify_credentials()\n",
    "    print(\"Authentication Complete\")\n",
    "except:\n",
    "    print(\"Authentication Unable to Complete\")\n",
    "    \n",
    "two_days = (dt.datetime.now() - dt.timedelta(days=2)).strftime(\"%Y-%m-%d\")\n",
    "one_day = (dt.datetime.now() - dt.timedelta(days=1)).strftime(\"%Y-%m-%d\")\n",
    "\n",
    "# startDate = datetime.datetime(2014, 6, 1, 0, 0, 0)\n",
    "# endDate =   datetime.datetime(2015, 1, 1, 0, 0, 0)\n",
    "MAX_TWEETS = 5\n",
    "tweets = tweepy.Cursor(api.search, q='#election2020', rpp=100, since='2020-02-20', until='2020-02-21').items(MAX_TWEETS)\n"
   ]
  },
  {
   "cell_type": "code",
   "execution_count": 8,
   "metadata": {},
   "outputs": [],
   "source": [
    "id = []\n",
    "username = []\n",
    "followers_count = []\n",
    "interaction_count = []\n",
    "for tweet in tweets:\n",
    "    interaction = tweet.retweet_count + tweet.favorite_count\n",
    "    interaction_count.append(interaction)\n",
    "    followers_count.append(tweet.user.followers_count)\n",
    "    id.append(tweet.id)\n",
    "    username.append(tweet.user.screen_name)\n",
    "    pass\n"
   ]
  },
  {
   "cell_type": "code",
   "execution_count": 10,
   "metadata": {},
   "outputs": [
    {
     "name": "stdout",
     "output_type": "stream",
     "text": [
      "<class 'int'>\n"
     ]
    }
   ],
   "source": [
    "print(type(id[0]))"
   ]
  },
  {
   "cell_type": "code",
   "execution_count": 13,
   "metadata": {},
   "outputs": [],
   "source": [
    "rows = zip(id,username,followers_count,interaction_count)"
   ]
  },
  {
   "cell_type": "code",
   "execution_count": 16,
   "metadata": {},
   "outputs": [
    {
     "name": "stdout",
     "output_type": "stream",
     "text": [
      "(1230643261712322565, 'JohnVetsResist1', 6691, 0)\n",
      "(1230643138756255744, 'Cant_Be_Passive', 55, 0)\n",
      "(1230643029125607429, 'SheilaCreates', 1112, 0)\n",
      "(1230642998670774275, 'AngeloJohnGage', 32155, 3)\n",
      "(1230642936804773889, 'KVERNVOLLEN', 252, 0)\n"
     ]
    }
   ],
   "source": [
    "rows = zip(id,username,followers_count,interaction_count)\n",
    "for row in rows:\n",
    "    print(row)"
   ]
  },
  {
   "cell_type": "code",
   "execution_count": 17,
   "metadata": {},
   "outputs": [
    {
     "data": {
      "text/plain": [
       "zip"
      ]
     },
     "execution_count": 17,
     "metadata": {},
     "output_type": "execute_result"
    }
   ],
   "source": [
    "type(rows)"
   ]
  },
  {
   "cell_type": "code",
   "execution_count": 18,
   "metadata": {},
   "outputs": [
    {
     "data": {
      "text/plain": [
       "tuple"
      ]
     },
     "execution_count": 18,
     "metadata": {},
     "output_type": "execute_result"
    }
   ],
   "source": [
    "type(row)\n"
   ]
  },
  {
   "cell_type": "code",
   "execution_count": null,
   "metadata": {},
   "outputs": [],
   "source": []
  }
 ],
 "metadata": {
  "kernelspec": {
   "display_name": "Python 3.6.9 64-bit ('PythonData': conda)",
   "language": "python",
   "name": "python36964bitpythondataconda387ec7e747ec49fcae7849ccd8da23ce"
  },
  "language_info": {
   "codemirror_mode": {
    "name": "ipython",
    "version": 3
   },
   "file_extension": ".py",
   "mimetype": "text/x-python",
   "name": "python",
   "nbconvert_exporter": "python",
   "pygments_lexer": "ipython3",
   "version": "3.6.9"
  }
 },
 "nbformat": 4,
 "nbformat_minor": 2
}
