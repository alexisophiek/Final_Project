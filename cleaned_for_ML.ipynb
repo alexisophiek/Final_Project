{
 "cells": [
  {
   "cell_type": "code",
   "execution_count": 1,
   "metadata": {},
   "outputs": [],
   "source": [
    "import psycopg2\n",
    "import json\n",
    "from datetime import datetime as dt\n",
    "import pandas as pd\n",
    "import re \n",
    "from textblob import TextBlob "
   ]
  },
  {
   "cell_type": "code",
   "execution_count": 2,
   "metadata": {},
   "outputs": [],
   "source": [
    "p=\"dataisgreat\""
   ]
  },
  {
   "cell_type": "code",
   "execution_count": 3,
   "metadata": {},
   "outputs": [],
   "source": [
    "conn = psycopg2.connect(user = \"postgres\",\n",
    "                                  password = f\"{p}\",\n",
    "                                  host = \"127.0.0.1\",\n",
    "                                  port = \"3306\",\n",
    "                                  database = \"postgres\")"
   ]
  },
  {
   "cell_type": "code",
   "execution_count": 4,
   "metadata": {},
   "outputs": [],
   "source": [
    "cursor = conn.cursor()"
   ]
  },
  {
   "cell_type": "code",
   "execution_count": null,
   "metadata": {},
   "outputs": [],
   "source": []
  },
  {
   "cell_type": "code",
   "execution_count": 5,
   "metadata": {},
   "outputs": [],
   "source": [
    "tweet_list = []\n",
    "followers = []\n",
    "cursor.execute(\"select * from tweets\")\n",
    "tweets = cursor.fetchall()\n",
    "if not tweets:\n",
    "    print(\"empty\")\n",
    "for row in tweets:\n",
    "    for col in row:\n",
    "        if type(col) is dict:\n",
    "            tweet_list.append(col['text'])\n",
    "            followers.append(col['user']['followers_count'])"
   ]
  },
  {
   "cell_type": "code",
   "execution_count": 6,
   "metadata": {},
   "outputs": [],
   "source": [
    "remove_list = [r'@[A-Za-z0-9]+','https?://[A-Za-z0-9./]+','\\n','RT :',r'_[A-Za-z0-9]+','  ']"
   ]
  },
  {
   "cell_type": "code",
   "execution_count": 7,
   "metadata": {},
   "outputs": [],
   "source": [
    "def clean_tweets(remove_list,tweet_list):\n",
    "    for item in remove_list:\n",
    "        tweet_list = [re.sub(item,'',tweet) for tweet in tweet_list]\n",
    "    return tweet_list"
   ]
  },
  {
   "cell_type": "code",
   "execution_count": 9,
   "metadata": {},
   "outputs": [
    {
     "data": {
      "text/plain": [
       "['There are so many hilarious comments in You Tubechat on @ show tonight.',\n",
       " ' Democrat frontrunner Michael Bloomberg says he wants to make the whole country \"behave\" while dressed as Mary Poppins.Wel…',\n",
       " 'The latest COACH!#election2020 #misleadingtweets',\n",
       " 'THERE IS NO ONE TO VOTE FOR! Centrists demand Valium to get them through #Election2020',\n",
       " 'RT : Calling all voters!! Are you ready for November?👉🏿RT to spread the word. 🗳️ #Election2020 http…']"
      ]
     },
     "execution_count": 9,
     "metadata": {},
     "output_type": "execute_result"
    }
   ],
   "source": [
    "cleaned = clean_tweets(remove_list,tweet_list)\n",
    "cleaned[:5]"
   ]
  },
  {
   "cell_type": "code",
   "execution_count": 146,
   "metadata": {},
   "outputs": [],
   "source": [
    "# tweet_text = pd.DataFrame(tweet)\n",
    "# tweet_text.rename(columns = {0: \"tweets\"}, inplace = True)\n",
    "# tweet_text.head()"
   ]
  },
  {
   "cell_type": "code",
   "execution_count": 11,
   "metadata": {},
   "outputs": [
    {
     "name": "stdout",
     "output_type": "stream",
     "text": [
      "[0.5, 0.2, 0.5, 0.0, 0.2, 0.0, 0.0, 0.4, 0.5, 0.0]\n"
     ]
    }
   ],
   "source": [
    "sentiment_objects = []\n",
    "sentiments = []\n",
    "for each in cleaned:\n",
    "    sentiments.append(TextBlob(each).polarity)\n",
    "\n",
    "    \n",
    "# sentiment_objects.polarity, sentiment_objects\n",
    "# print(sentiment_objects[0])\n",
    "    \n",
    "print(sentiments[:10])"
   ]
  },
  {
   "cell_type": "code",
   "execution_count": 12,
   "metadata": {},
   "outputs": [],
   "source": [
    "from sklearn.feature_extraction.text import CountVectorizer\n",
    "vectorizer = CountVectorizer(\n",
    "    analyzer = 'word',\n",
    "    lowercase = False,\n",
    ")\n",
    "features = vectorizer.fit_transform(\n",
    "    cleaned\n",
    ")\n",
    "features_nd = features.toarray() # for easy usage"
   ]
  },
  {
   "cell_type": "code",
   "execution_count": 28,
   "metadata": {},
   "outputs": [],
   "source": [
    "from sklearn.model_selection import train_test_split\n",
    "\n",
    "X_train, X_test, y_train, y_test  = train_test_split(\n",
    "        cleaned, \n",
    "        sentiments,\n",
    "        train_size=0.80, \n",
    "        random_state=42)"
   ]
  },
  {
   "cell_type": "code",
   "execution_count": 29,
   "metadata": {},
   "outputs": [],
   "source": [
    "from sklearn.linear_model import LinearRegression\n",
    "model = LinearRegression()"
   ]
  },
  {
   "cell_type": "code",
   "execution_count": 30,
   "metadata": {},
   "outputs": [
    {
     "ename": "ValueError",
     "evalue": "Expected 2D array, got 1D array instead:\narray=[\" Don't take your vote with you!Check your vote and put your vote in the ballot box!You can be a Texas voter with…\"\n ' Ok Christians!We are not ashamed of the gospel and boldly proclaim our Lord and Savior Jesus.Let’s flip this poll.Ple…'\n \"Let's go Ohio! // I’m attending Pete for America’s event, “Debate &amp; Post Card Party in Cleveland!” – sign up now to… \"\n ... 'Translation:#NYTimes wants #Buttigieg in #Election2020 '\n ' The truth that #msnbc n #CNN won’t show you!#socialism #socialismsucks #berniesanders #bernie2020 #bernie #medicaid #medica…'\n ' we live in a country that seems to care more about cheating in baseball than cheating in elections. #America #Election2020'].\nReshape your data either using array.reshape(-1, 1) if your data has a single feature or array.reshape(1, -1) if it contains a single sample.",
     "output_type": "error",
     "traceback": [
      "\u001b[1;31m---------------------------------------------------------------------------\u001b[0m",
      "\u001b[1;31mValueError\u001b[0m                                Traceback (most recent call last)",
      "\u001b[1;32m<ipython-input-30-b7a8c64777c1>\u001b[0m in \u001b[0;36m<module>\u001b[1;34m\u001b[0m\n\u001b[1;32m----> 1\u001b[1;33m \u001b[0mmodel\u001b[0m\u001b[1;33m.\u001b[0m\u001b[0mfit\u001b[0m\u001b[1;33m(\u001b[0m\u001b[0mX_train\u001b[0m\u001b[1;33m,\u001b[0m\u001b[0my_train\u001b[0m\u001b[1;33m)\u001b[0m\u001b[1;33m\u001b[0m\u001b[1;33m\u001b[0m\u001b[0m\n\u001b[0m",
      "\u001b[1;32mC:\\ProgramData\\Anaconda3\\lib\\site-packages\\sklearn\\linear_model\\base.py\u001b[0m in \u001b[0;36mfit\u001b[1;34m(self, X, y, sample_weight)\u001b[0m\n\u001b[0;32m    461\u001b[0m         \u001b[0mn_jobs_\u001b[0m \u001b[1;33m=\u001b[0m \u001b[0mself\u001b[0m\u001b[1;33m.\u001b[0m\u001b[0mn_jobs\u001b[0m\u001b[1;33m\u001b[0m\u001b[1;33m\u001b[0m\u001b[0m\n\u001b[0;32m    462\u001b[0m         X, y = check_X_y(X, y, accept_sparse=['csr', 'csc', 'coo'],\n\u001b[1;32m--> 463\u001b[1;33m                          y_numeric=True, multi_output=True)\n\u001b[0m\u001b[0;32m    464\u001b[0m \u001b[1;33m\u001b[0m\u001b[0m\n\u001b[0;32m    465\u001b[0m         \u001b[1;32mif\u001b[0m \u001b[0msample_weight\u001b[0m \u001b[1;32mis\u001b[0m \u001b[1;32mnot\u001b[0m \u001b[1;32mNone\u001b[0m \u001b[1;32mand\u001b[0m \u001b[0mnp\u001b[0m\u001b[1;33m.\u001b[0m\u001b[0matleast_1d\u001b[0m\u001b[1;33m(\u001b[0m\u001b[0msample_weight\u001b[0m\u001b[1;33m)\u001b[0m\u001b[1;33m.\u001b[0m\u001b[0mndim\u001b[0m \u001b[1;33m>\u001b[0m \u001b[1;36m1\u001b[0m\u001b[1;33m:\u001b[0m\u001b[1;33m\u001b[0m\u001b[1;33m\u001b[0m\u001b[0m\n",
      "\u001b[1;32mC:\\ProgramData\\Anaconda3\\lib\\site-packages\\sklearn\\utils\\validation.py\u001b[0m in \u001b[0;36mcheck_X_y\u001b[1;34m(X, y, accept_sparse, accept_large_sparse, dtype, order, copy, force_all_finite, ensure_2d, allow_nd, multi_output, ensure_min_samples, ensure_min_features, y_numeric, warn_on_dtype, estimator)\u001b[0m\n\u001b[0;32m    717\u001b[0m                     \u001b[0mensure_min_features\u001b[0m\u001b[1;33m=\u001b[0m\u001b[0mensure_min_features\u001b[0m\u001b[1;33m,\u001b[0m\u001b[1;33m\u001b[0m\u001b[1;33m\u001b[0m\u001b[0m\n\u001b[0;32m    718\u001b[0m                     \u001b[0mwarn_on_dtype\u001b[0m\u001b[1;33m=\u001b[0m\u001b[0mwarn_on_dtype\u001b[0m\u001b[1;33m,\u001b[0m\u001b[1;33m\u001b[0m\u001b[1;33m\u001b[0m\u001b[0m\n\u001b[1;32m--> 719\u001b[1;33m                     estimator=estimator)\n\u001b[0m\u001b[0;32m    720\u001b[0m     \u001b[1;32mif\u001b[0m \u001b[0mmulti_output\u001b[0m\u001b[1;33m:\u001b[0m\u001b[1;33m\u001b[0m\u001b[1;33m\u001b[0m\u001b[0m\n\u001b[0;32m    721\u001b[0m         y = check_array(y, 'csr', force_all_finite=True, ensure_2d=False,\n",
      "\u001b[1;32mC:\\ProgramData\\Anaconda3\\lib\\site-packages\\sklearn\\utils\\validation.py\u001b[0m in \u001b[0;36mcheck_array\u001b[1;34m(array, accept_sparse, accept_large_sparse, dtype, order, copy, force_all_finite, ensure_2d, allow_nd, ensure_min_samples, ensure_min_features, warn_on_dtype, estimator)\u001b[0m\n\u001b[0;32m    519\u001b[0m                     \u001b[1;34m\"Reshape your data either using array.reshape(-1, 1) if \"\u001b[0m\u001b[1;33m\u001b[0m\u001b[1;33m\u001b[0m\u001b[0m\n\u001b[0;32m    520\u001b[0m                     \u001b[1;34m\"your data has a single feature or array.reshape(1, -1) \"\u001b[0m\u001b[1;33m\u001b[0m\u001b[1;33m\u001b[0m\u001b[0m\n\u001b[1;32m--> 521\u001b[1;33m                     \"if it contains a single sample.\".format(array))\n\u001b[0m\u001b[0;32m    522\u001b[0m \u001b[1;33m\u001b[0m\u001b[0m\n\u001b[0;32m    523\u001b[0m         \u001b[1;31m# in the future np.flexible dtypes will be handled like object dtypes\u001b[0m\u001b[1;33m\u001b[0m\u001b[1;33m\u001b[0m\u001b[1;33m\u001b[0m\u001b[0m\n",
      "\u001b[1;31mValueError\u001b[0m: Expected 2D array, got 1D array instead:\narray=[\" Don't take your vote with you!Check your vote and put your vote in the ballot box!You can be a Texas voter with…\"\n ' Ok Christians!We are not ashamed of the gospel and boldly proclaim our Lord and Savior Jesus.Let’s flip this poll.Ple…'\n \"Let's go Ohio! // I’m attending Pete for America’s event, “Debate &amp; Post Card Party in Cleveland!” – sign up now to… \"\n ... 'Translation:#NYTimes wants #Buttigieg in #Election2020 '\n ' The truth that #msnbc n #CNN won’t show you!#socialism #socialismsucks #berniesanders #bernie2020 #bernie #medicaid #medica…'\n ' we live in a country that seems to care more about cheating in baseball than cheating in elections. #America #Election2020'].\nReshape your data either using array.reshape(-1, 1) if your data has a single feature or array.reshape(1, -1) if it contains a single sample."
     ]
    }
   ],
   "source": [
    "model.fit(X_train,y_train)"
   ]
  },
  {
   "cell_type": "code",
   "execution_count": 20,
   "metadata": {},
   "outputs": [
    {
     "name": "stdout",
     "output_type": "stream",
     "text": [
      "Training score: 0.9999921190032599\n",
      "Testing score: -1.9049635333050607e+20\n"
     ]
    }
   ],
   "source": [
    "print(f\"Training score: {model.score(X_train,y_train)}\")\n",
    "print(f\"Testing score: {model.score(X_test,y_test)}\")"
   ]
  },
  {
   "cell_type": "code",
   "execution_count": 31,
   "metadata": {},
   "outputs": [
    {
     "name": "stdout",
     "output_type": "stream",
     "text": [
      "[' Floridais requiring that all persons seeking employment in the State be confirmed e-verified legal resi…', 'This is legitimately what a Russian oligarch does. #BloombergIsAnOligarch #Election2020 #PsyOps', ' So the #DNC knows they have a losing ticket. Time to bring out Russia, Russia, Russia?? #FridayThoughts #Election2020 #VoteRe…', ' Wait!Russian collusion, oh my. Wrong guy! This is not how it was scripted by the DNC! Gee, why would Russia want Bernie…', \"RT : Trump Rallygoers in Phoenix: 18 Percent Were Democrats and About a Quarter Didn't Vote in 2016 …\", ' Do you believe America would be better off if more Christians served in elected office?#Retweet #Poll #Election2020 #…', ' Looks like...less than 3 weeks!👌🏻🤣👍🏻 Never stop being you, ...with each shovel load of #RussianCollusion you heap…', ' Attn #California!NPP ballots are being sent to registered Dems. DO NOT CAST THAT BALLOT. There are no presidential candid…', 'The stakes in #Election2020 are escalating every minute trump is in office. Let’s get this right, voters.… ', ' Come on ! This is UNBELIEVABLE ! Conservative Christians please help flip this Poll ! 🙏🙏#CCOT', '#PresidentSanders#BernieWonIowa #BernieWonNewHampshire#BernieBeatsTrump#BerniesGonnaWin#NevadaCaucus… ', \" Don't take your vote with you!Check your vote and put your vote in the ballot box!You can be a Texas voter with…\", ' Your thoughts?', \" Don't take your vote with you!Check your vote and put your vote in the ballot box!You can be a Texas voter with…\", ' Ok Christians!We are not ashamed of the gospel and boldly proclaim our Lord and Savior Jesus.Let’s flip this poll.Ple…', ' Do you believe America would be better off if more Christians served in elected office?#Retweet #Poll #Election2020 #…', '#CNN - 2/21/2020 -interviewingtalking about the leak of the story that Russia is trying to… ', \" Attention #YangGang! is running on the #MathMovement platform.Let's help him win. Donate if you can donate, or s…\", ' Yes. This.', \"Cast my vote in Texas today. In good faith, I cannot support a frontrunner who's ideals I fundamentally disagree wi… \", ' Attn #California!NPP ballots are being sent to registered Dems. DO NOT CAST THAT BALLOT. There are no presidential candid…', 'With #Trump at the helm, #Election2020 will be outright #rigged &amp; bought. #TheEndOfDemocracy #BillionairesRUs… ', 'Polls in WE-3 and ZA-2 are now closed in Special Elections held today to replace two former Assemblymen who resigne… ', '', 'RT _: Dominican Republic is fighting for fair elections. The electronic voting system was rigged to have only one party appea…', 'RIGHT THE F**K ON!#WarrenForALLTheMarbles#WarrenForTheWin #Election2020', 'Always a treat to hearspeak and explain things so clearly and eloquently. If you want understand what… ', \"RT : Bernie Bros never fail to miss the point. They think only progressives matter in this race. While they're boasting large…\", ' Do you believe America would be better off if more Christians served in elected office?#Retweet #Poll #Election2020 #…', 'Shameful', 'IMHO — I don’t think the public can be so easily manipulated. This is just the artful work… ', '', ' Do you believe America would be better off if more Christians served in elected office?#Retweet #Poll #Election2020 #…', ' Ok Christians!We are not ashamed of the gospel and boldly proclaim our Lord and Savior Jesus.Let’s flip this poll.Ple…', ' Calling on Christians to FLIP THIS POLL!! Please &amp; Thank you I hope you have a blessed day. ', ' Universal child care would have such a huge impact on our equality in the workplace.', ' Do you believe America would be better off if more Christians served in elected office?#Retweet #Poll #Election2020 #…', ' Sometimes, tech is a force for good. #TruthBot is a worthy project started by my friend . Let’s make it happe…', 'I cannot believe I actually tweeted about replacing elections with a lottery system - I guess I’m really getting to… ', ' Can we all just agree that Harris is the future Vice President in 2020?#ImpeachTrumpAgain #Election2020 #BlueWave', ' Now now now Rudy ... you really think MSM + Deep State Cabal would investigate one of their own ? 🤔😂… ', ' Polls in WE-3 and ZA-2 are now closed in Special Elections held today to replace two former Assemblymen who resigned t…', ' Here we go... flip this switch!', 'Boo hoo..', ' Attn #California!NPP ballots are being sent to registered Dems. DO NOT CAST THAT BALLOT. There are no presidential candid…', 'Russia is helping Trump and Bernie. Why? They want Trump to win and want Bernie to be the opposing candidate becaus… ', 'Political Podcasts That Will Keep You Sane 🎙 #politics #Election2020', ' Nevada Independent: While A Sanders Victory Seems Likely, no One Knows How Nevada’s Democratic Caucus Will go Otherwise #E…', 'Trump says Obama lied 28 times for ACA &amp; no one called for his impeachment, yet “crazy Democrats #impeached him. Tr… ', 'U.S. Officials Inform Sanders That Russia Is Trying to Help His Campaign#Election2020 via ', ' Fact-Checkingwas 100% accurate in telling voters that Democrat Sean Casten called for impeachment before the…', \"RT : I'm so sick and tired of Trump &amp; Republicans. Any candidate is better than this trainwreck we are in. I pledge to put coun…\", ' Do you believe America would be better off if more Christians served in elected office?#Retweet #Poll #Election2020 #…', ' Trump2020 ❤❤#Election2020 GO TRUMP ', '#PresidentSanders#BernieWonIowa #BernieWonNewHampshire#BernieBeatsTrump#BerniesGonnaWin#NevadaCaucus… ', ' Ok Christians!We are not ashamed of the gospel and boldly proclaim our Lord and Savior Jesus.Let’s flip this poll.Ple…', \" This is why we won't vote for you.\", 'California Voters Read This!😱👇👇👇👇', ' Attn #California!NPP ballots are being sent to registered Dems. DO NOT CAST THAT BALLOT. There are no presidential candid…', '#dumptrump #antitrump #nevertrump #notrump #trump #maga #trumptrain #election2020 #deplorables #donaldtrump… ', \"He's not ahead cause of bots you morons...he's ahead cause of his diligent grassroots campaigning, oh and his 40+ y… \", ' Do you believe America would be better off if more Christians served in elected office?#Retweet #Poll #Election2020 #…', 'Som om inte tidigare #FakeNews räckte, Putin är nu ute efter att infiltrera #Election2020 och ge sitt stöd till båd… ', '#Kentucky… ', ' Here we go... flip this switch!', 'Michael #Bloomberg to release female employees from gag orders to \"address complaints about comments they said I ha… ', 'Smart Woman', ' Here it is: probably the most important news event between now and November.The Government cannot deprive you of your ri…', ' Do you believe America would be better off if more Christians served in elected office?#Retweet #Poll #Election2020 #…', 'Just stop it Now!!!! God loves everyone!! ', ' \"Socialists don’t like people to do things for themselves. Socialists like to get people dependent on the state. You never build a…', ' this is what a pathetic attempt to playgame plan. All the GOP candidates tried and… ', ' Floridais requiring that all persons seeking employment in the State be confirmed e-verified legal resi…', ' Attn #California!NPP ballots are being sent to registered Dems. DO NOT CAST THAT BALLOT. There are no presidential candid…', \"Great to watchdestroy , but doesn't mean she can do it to . Trump lacks the… \", ' Calling on Christians to FLIP THIS POLL!! Please &amp; Thank you I hope you have a blessed day.', '2020 Presidential Election News Update🗞:Roger Stone asks to disqualify judge from his case#Election2020 #News', ' Our nonpartisan Election Protection team () makes sure nothing stands in the way of Americans’ freedom to vote.…', ' Bernie Sanders is a complete whack job as is his followers!Get ur cameras ready for the #Election2020 meltdowns after …', 'According to intelligence officials, Russia is attempting to meddle in #Election2020. Anyone else feeling déjà vu?… ', ' The results of this poll so far are NOT indicative of any community I’ve ever lived in, or even visited 🤔🙄 Let’s vote!', ' Make sure you vote and share :)', ' The truth that #msnbc n #CNN won’t show you!#socialism #socialismsucks #berniesanders #bernie2020 #bernie #medicaid #medica…', 'Make your plans to be a voter in the Texas primaries.It is easy withor… ', \" What a weak petty stoogehas become.The majority of #American voters don't like or trust you!You can'…\", 'To end this #CrimeMinisters #MurderousReign, concentrate on the #SoCalled #Independents that are #Aiding &amp; #Abeting… ', \" You're in fantasyland, .\", ' Do you believe America would be better off if more Christians served in elected office?#Retweet #Poll #Election2020 #…', ' Let’s flip this poll, patriots. More Christians, less ANTI American Muslims in our Congress 🙏🇺🇸❤️🐾 …', 'While favoring #Trump re-election think hard about this...#Election2020 ', ' . is voting for . Here’s why. #Election2020 ', ' California Voters Read This!😱👇👇👇👇', '#Election2020 #Elections2020 #Democrats #DemocraticPrimary #Nevada #Bloombefg #Bloomberg #Bloomberg2020', ' Super Tuesday campaign swings: Mayorandwill stump in North Carolina this week. #ncpol #Elec…', 'Saw a comment that stayed with meIf you have the luxury of not getting political, it is because you havent been a… ', ' The best #tweets money can buy:Those pro- tweets are likely bought and paid for:\"Multimillion-dollar-a-…', ' Do you believe America would be better off if more Christians served in elected office?#Retweet #Poll #Election2020 #…', ' During a game atthis week, political ads showingwithplayed repeatedly on dis…', \" Russia commits a brutal cyberattack against the country of Georgia. Putin's Puppet DJT responds b…\", \" Shouldn't that should scare you? They will take Bernie? How does #Putin feel ab… \", 'Please take a moment to respond to this poll a… ', ' Quite the crappy flash overall USfor February.Partly due to #coronavirus disruptions, but also linked to…', ' Come on ! This is UNBELIEVABLE ! Conservative Christians please help flip this Poll ! 🙏🙏#CCOT', ' Do you believe America would be better off if more Christians served in elected office?#Retweet #Poll #Election2020 #…', \"RT : Trump Rallygoers in Phoenix: 18 Percent Were Democrats and About a Quarter Didn't Vote in 2016 …\", ' Here we go... flip this switch!', 'Glad to see Twitter cracking5 down on fake followers, especially in #Election2020. Robo ax hits ; who… ', 'This 👇🏾is the BEST election thread! #Election2020', ' Wait!Russian collusion, oh my. Wrong guy! This is not how it was scripted by the DNC! Gee, why would Russia want Bernie…', 'True! #BernieKnew but he could not violate security clearance rules to know and tell! #BernieIsTheAntiPutin Bernie… ', ' Do you believe America would be better off if more Christians served in elected office?#Retweet #Poll #Election2020 #…', 'Vote Trump, get Trump.Vote , get #Trump.What #Russia wants, Russia gets. can…', ' Let’s flip this poll, patriots. More Christians, less ANTI American Muslims in our Congress 🙏🇺🇸❤️🐾', ' The establishment through whose eyesreports on politics refuses to acknowledge the basis of Sanders’ support becau…', ' Congrats tofor this launch! ', ' Floridais requiring that all persons seeking employment in the State be confirmed e-verified legal resi…', \"The democratic Party isn't Democratic. The Democratic nominee won't be democratically chosen. The Democratic Establ… \", ' Do you believe America would be better off if more Christians served in elected office?#Retweet #Poll #Election2020 #…', ' Floridais requiring that all persons seeking employment in the State be confirmed e-verified legal resi…', 'Putin: Feeling cute...watering my plant.__ #MEMES #memesdaily #voting #conservatives… ', ' #AOC #Election2020 #BernieSanders #Bernie2020 #Bernie #DemDebates #NevadaAll public functions, including #healthcare…', \" Damn, I've been had! Praising #Mike2020 daily4free! I must be #Patriot! Don't want2lose #Election2020! #Russians helping #B…\", ' Trump has the wrong idea about who the enemy is. Always has. #Trump #Russia #Election…', ' Thank you 🙏 . With Maine voting 🗳 on #SuperTuesday this is wonderful news! #TulsiforPresident', 'THIS. THIS. THIS.', ' WOW.. 😱😱🚨 👉American flag is REMOVED before debate begins. 💥This is a slap in the face to every soldier who died defending thi…', ' #BeATexsVoter #FortBendVotes #Election2020 #SuperTuesday #DefendindDemocracy #EmpoweringVoters ', ' Let’s flip this poll, patriots. More Christians, less ANTI American Muslims in our Congress 🙏🇺🇸❤️🐾', ' Do you believe America would be better off if more Christians served in elected office?#Retweet #Poll #Election2020 #…', 'This is entirely inappropriate for someone running on the Democratic Party ticket and cant get above 30% in the nat… ', '', '#PresidentSanders#BernieWonIowa #BernieWonNewHampshire#BernieBeatsTrump#BerniesGonnaWin#NevadaCaucus… ', 'Attn #California!NPP ballots are being sent to registered Dems. DO NOT CAST THAT BALLOT. There are no presidentia… ', \"The 1860 election was a lot like this one. And there's really only a 50/50 chance the… \", ' Let’s flip this poll, patriots. More Christians, less ANTI American Muslims in our Congress 🙏🇺🇸❤️🐾 …', '#BlackPeopleTwitter who you voting for:\"Stop \\'n Frisk\" Bloomberg?\"Lock em and Throw Away The Key\" Klobuchar?\"… ', 'Nice Krowd, May-O-Naise. #pettysburgaddress #Election2020', ' AP fact checks the #DemDebate. The candidates who lied to millions of voters: , , and .…', \" Trump Rallygoers in Phoenix: 18 Percent Were Democrats and About a Quarter Didn't Vote in 2016#El…\", ' Ok Christians!We are not ashamed of the gospel and boldly proclaim our Lord and Savior Jesus.Let’s flip this poll.Ple…', ' The 2020 primary election is coming up. Make sure your voter registration information is correct and up-to-date before you…', \"US election 2020: Sanders 'told of Russian effort to aid his campaign'#US #Election2020… \", ' Come on ! This is UNBELIEVABLE ! Conservative Christians please help flip this Poll ! 🙏🙏#CCOT', \" South Bend Residents Have a Message for America: Don't Elect Pete Buttigieg#Election2020 via …\", ' Which #JasonJohnson? THIS Jason Johnson? The one Yvette Carnell eviscerated a while back? 😏 #ados #reparations #election2…', ' #WakeUpAmericaAre DemocRats Mathematically Challenged?Do they really think life will be better under Socialism?Dupe…', ' Do you believe America would be better off if more Christians served in elected office?#Retweet #Poll #Election2020 #…', 'HOW PUTIN CONTROLSInside The #Moscow Hotel Where Reports Claim Trump Entertained Prostitutes… ', 'RT : The intent of #TruthBot is to use #CivicTech to create a white hat #bot brigade that will protect underrepresented ppl fro…', ' Attn #California!NPP ballots are being sent to registered Dems. DO NOT CAST THAT BALLOT. There are no presidential candid…', 'STOP IT-! YOU LIE BIG TIME!WE KNOW RUSSIA HAS HELPED BERNIEOBAMA PPL WERE IN UKRAINE! TO BRING DOWN TRUMP?STO… ', 'DID marry her brother and said she would \\'do what she had to do to get him \"papers\" …', ' Great to see Ralph Nader doing so great in the polls in 2020. Oh, sorry, I meant Bernie Sanders.… ', ' An invasive species of turtle presents a serious threat to #Kentucky and the rest of the country by dumping on the #Rul…', ' And the award for \"Most Ironic tweet of 2020 so far\" goes to...#TrumpsBrigade #MAGAmillions #CC2020C #TWGRP #akgop #El…', ' Unbelievable. 😡 ', ' Floridais requiring that all persons seeking employment in the State be confirmed e-verified legal resi…', ' Ok Christians!We are not ashamed of the gospel and boldly proclaim our Lord and Savior Jesus.Let’s flip this poll.Ple…', ' From a post on this date in 2016 — nine months later, America virtually said “hold my beer” — Trump happened.This humorous…', ' Do you believe America would be better off if more Christians served in elected office?#Retweet #Poll #Election2020 #…', '“I don’t know what you been told... but we’re gonna ride with Scranton Joe!!” Ready to work the #NVCaucus for… ', ' #AOC #Election2020 #BernieSanders #Bernie2020 #Bernie #DemDebates #NevadaAll public functions, including #healthcare…', ' Do you believe America would be better off if more Christians served in elected office?#Retweet #Poll #Election2020 #…', ' Do you believe America would be better off if more Christians served in elected office?#Retweet #Poll #Election2020 #…', 'Bernie Sanders’ surge has party elders rattled, as Nevada poised to boost momentum#FoxNews #Election2020', 'Now do American’s being Russian agents... start with every member of the#DOJ #IntelligenceCommunity… ', ' How about for every documentwants released she provides another DNA test.🤔___#Trump2020Landslide #MEMES #me…', ' WOW.. 😱😱🚨 👉American flag is REMOVED before debate begins. 💥This is a slap in the face to every soldier who died defending thi…', \"#NewYork's New License Plates Will Still Be Made By Prisoners Earning 65 Cents An Hour … \", ' Calling on Christians to FLIP THIS POLL!! Please &amp; Thank you I hope you have a blessed day.', 'If Bernie wins we should immediately begin Impeachment Proceedings!FBI operatives must be embedded in his campaign… ', 'This type of #Democrat violence (...and they seem not to see the INTOLERANCE of it. Hmmm.) is ANOTHER reason why… ', ' Come on ! This is UNBELIEVABLE ! Conservative Christians please help flip this Poll ! 🙏🙏#CCOT', ' Floridais requiring that all persons seeking employment in the State be confirmed e-verified legal resi…', 'The Good, Bad, and Ugly argued with a \\U0001fa91 when \\u2066\\u2069 was potus, supported \\u2066\\u2069 in ‘16, and is… ', ' The results of this poll so far are NOT indicative of any community I’ve ever lived in, or even visited 🤔🙄 Let’s vote!', ' One less subject for you #DNI #VoteBlueToSaveAmerica #Election2020', ' Looks like...less than 3 weeks!👌🏻🤣👍🏻 Never stop being you, ...with each shovel load of #RussianCollusion you heap…', '2020 Presidential Election News Update🗞:Analysis | Nevada caucuses are Saturday. Here’s what to watch for.… ', ' #WakeUpAmericaAre DemocRats Mathematically Challenged?Do they really think life will be better under Socialism?Dupe…', ' Attn #California!NPP ballots are being sent to registered Dems. DO NOT CAST THAT BALLOT. There are no presidential candid…', \" What a weak petty stoogehas become.The majority of #American voters don't like or trust you!You can'…\", ' Floridais requiring that all persons seeking employment in the State be confirmed e-verified legal resi…', ' Floridais requiring that all persons seeking employment in the State be confirmed e-verified legal resi…', ' Here we go... flip this switch!', \" It's $3 Thursday! I'm asking for everyone to help that is able to donate $3 to my campaign for Congress. Join us and help put p…\", 'RT : #Election2020 ', ' Floridais requiring that all persons seeking employment in the State be confirmed e-verified legal resi…', 'Une campagne sans agressivité et dans la bonhumeur ça fait du bien de voir ça #lesmureaux #electionmunicipale2020… ', 'What about video fakes done in the garage, without any #AI sophistication?Facebook ban: … ', 'Want to know what it takes to run a winning campaign? IGNITE &amp;are training #BossLadies to lead camp… ', \" #BernieSanders wants to take the richest people's money he says but, also wants to raise your taxes to 52% if you make over…\", 'Getting to the polls is literally the most important part! _ is making it that much easier 🇺🇸🙏', 'Sally D’Amico, left, and Elizabeth Laird sign a petition to remove Gov. Steve Sisolak from office while in line for… ', ' Floridais requiring that all persons seeking employment in the State be confirmed e-verified legal resi…', 'je me suis permis de compléter votre chronique Good Morning America et votre portrait de… ', ' Even the‘s explanation and rationale for its endorsement of is idiotic and non-sensical. There’s…', ' #WakeUpAmericaAre DemocRats Mathematically Challenged?Do they really think life will be better under Socialism?Dupe…', ' Let’s flip this poll, patriots. More Christians, less ANTI American Muslims in our Congress 🙏🇺🇸❤️🐾', ' Floridais requiring that all persons seeking employment in the State be confirmed e-verified legal resi…', ' Do you believe America would be better off if more Christians served in elected office?#Retweet #Poll #Election2020 #…', \" It's time to email all other candidates and ask that they all condemn this behavior.No intern, st… \", ' One of our jobs as #Resisters is to *stay educated* on bots and trolls. Please read below for more info. Since …', \" #BernieSanders wants to take the richest people's money he says but, also wants to raise your taxes to 52% if you make over…\", ' What to Watch For in The Nevada Democratic Caucuses #Election2020 ', 'The latest Social Media Daily!Thanks to#trump #election2020', 'MSM has to vet and Dem candidates vet him too… ', ' 2020 Watch-Now: \\u2066\\u2069 glimpses a throng of \\u2066\\u2069 workers arrivingto check into the #NevadaCaucus p…', ' Via Jewish Insider:will no longer run ads againstin the 2020 primary election.Bernie Bros…', 'I’ll just leave this here. #election2020 #NVCaucus #WinTheEra', ' We are making sashes to wear in the Elmhurst St Pats Parade on March 7!! See you there 🎉 .#LeadingBeginsWithListening…', ' Floridais requiring that all persons seeking employment in the State be confirmed e-verified legal resi…', ' Attn #California!NPP ballots are being sent to registered Dems. DO NOT CAST THAT BALLOT. There are no presidential candid…', ' Twitter suspends 70 Bloomberg-boosting accounts for violating company policy #Election2020 ', 'This is what #Gaslighting on a national scale looks like, it implies that we should accept whoever the DNC craps ou… ', \"The #NevadaCaucuses wrap up tomorrow! Don't forget to get civically engaged. Stick with for coverage… \", 'Heyhow is the #Election2020 going? You’ll getting what you want?', 'Backing up her endorsement with action! 💚💚💚', \" Trump Rallygoers in Phoenix: 18 Percent Were Democrats and About a Quarter Didn't Vote in 2016#Election…\", ' Let’s flip this poll, patriots. More Christians, less ANTI American Muslims in our Congress 🙏🇺🇸❤️🐾 …', ' Do you believe America would be better off if more Christians served in elected office?#Retweet #Poll #Election2020 #…', ' Do you believe America would be better off if more Christians served in elected office?#Retweet #Poll #Election2020 #…', \" What a weak petty stoogehas become.The majority of #American voters don't like or trust you!You can'…\", \" is patronizing. I'm over it.is morally repugnant. Get them both out of this race. Ch… \", ' Our nonpartisan Election Protection team () makes sure nothing stands in the way of Americans’ freedom to vote.…', 'Dans ce nouveau podcast je décortique le portrait de #Bloomberg parsuret notamment son… ', ' Come on ! This is UNBELIEVABLE ! Conservative Christians please help flip this Poll ! 🙏🙏#CCOT', ' Wait!Russian collusion, oh my. Wrong guy! This is not how it was scripted by the DNC! Gee, why would Russia want Bernie…', 'Hey friends, this is important.The powers that be are getting nervous that we are going to elect Chip Welch and h… ', \"😂 Well dear! Shame is inconsequential in the General #Election2020 You're up against the… \", '#foreignpolicy #DonaldTrump #NorthKorea #Iran #Election2020 #EditorialBalance', 'Here is the best-known Medical Journal that supports Bernie’s plan that civilized countries use.2/27… ', ' \" is suspending 70 proaccounts, citing &amp; \\'platform manipulation\\'\"$TWTR#Election2020 LATimes https:…', 'Wait!Russian collusion, oh my. Wrong guy! This is not how it was scripted by the DNC! Gee, why would Russia want… ', ' Floridais requiring that all persons seeking employment in the State be confirmed e-verified legal resi…', '#Election2020', ' 🗣👁📢𝟚𝟘𝟚𝟘: 𝕋𝕙𝕖 𝕐𝕖𝕒𝕣 𝕠𝕗 𝔸𝕔𝕥𝕚𝕧𝕚𝕤𝕞#Election2020 #Vote2020 #USA #1A ', ' has great ideas but I’m not feeling the energy needed to win #potus46step it up, you are competing… ', ' #Climate the clear number-two issue—2nd only to health care—for #Democrats in upcoming primary/caucus states, says new pol…', ' Floridais requiring that all persons seeking employment in the State be confirmed e-verified legal resi…', ' The Fix is in DMV has Defaulted thousands of Republicans to Democrat Ballots!Coincidence We t…', 'Je t’aime moi non plus... un jour ils sont bien ensemble et le lendemain c’est l’inverse... on dirait des gosses !… ', ' To all the Sanders Precinct Captains in #NevadaCaucus today:We stand with you in #solidarity. Stay strong today. Take care…', 'Unbelievable. 😡', \"Lithuanian Immigrant: Bernie Fans 'Should Go to a Socialist Country' -“I’ve been in a communist country. I don’t… \", ' Go caucus. Find your site here: If you wanna know why you have to go to the site in your neig…', ' The truth that #msnbc n #CNN won’t show you!#socialism #socialismsucks #berniesanders #bernie2020 #bernie #medicaid #medica…', 'Registration is beginning for the Nevada Caucuses. Who has the most to win or lose today? | … ', 'RT : #MAGA #Election2020 OCTOBER 2016: Astrologers Align Against Trump🤣🤣🤣🤣🤣🤣🤣🤣🤣🤣🤣🤣', ' Here we go... flip this switch!', '#IntelligenceOfficials told #Lawmakers #Russia is aiding #PresidentTrump in #Election2020,reports: ', ' BREAKING: Bloomberg to Release Women Who Complained About Him From Non-Disclosure Agreements #Election2020 …', 'Trump IS the swamp...aiming for dictatorship using methods similar to HItler...interesting comments by Patti Davis… ', '#TrumpPence2020 #Bernie2020 #Election2020 #RussianInterference All mean nothing to 7 sweet #cats scheduled to be ki… ', ' Here we go... flip this switch! ', ' We need to save ourselves and stat. #Election2020', 'RT _: je me suis permis de compléter votre chronique Good Morning America et votre portrait de #Bloombe…', '#ElizabethWarren #Election2020 #BHM', ' Unbelievable. 😡', ' The washington postis #FAKENEWS and leftest propaganda.#election2020 Devin Nunes vows to sue Washin…', \" Here's a slightly longer clip of Yvette Carnell talking about . He's been acting a g0dd fool for a long…\", \" #Election2020#Sanders wins #Democrat nomination.#Trump calls #Sanders a #Socialist.#Americans don't like #Social…\", ' How does one get to be the MOST unpopular Senator in the entire country (net -13 favorable rating), in a state that your p…', ' Thank youand the wonderful crewfor an excellent and successful interview!!#vote #Election…', ' #MAGA #KAGA #Trump #Election2020', \"Interesting,it looks like your support of the NRA is more recent than Bernie's.Do you drop out no… \", '_ …', \" 'The American people cared.' Top lines from Judge Amy Berman Jackson during the Roger Stone sentencing …\", \" Damn, I've been had! Praising #Mike2020 daily4free! I must be #Patriot! Don't want2lose #Election2020! #Russians helping #B…\", ' The 2020 primary election is coming up. Make sure your voter registration information is correct and up-to-date before you…', ' #CNN - 2/21/2020 -interviewingtalking about Russia trying to benefit #BernieSanders 1/3#HELLOS…', ' Calling on Christians to FLIP THIS POLL!! Please &amp; Thank you I hope you have a blessed day.', ' Do you believe America would be better off if more Christians served in elected office?#Retweet #Poll #Election2020 #…', ' Do you believe America would be better off if more Christians served in elected office?#Retweet #Poll #Election2020 #…', ' \"Socialists don’t like people to do things for themselves. Socialists like to get people dependent on the state. You never build a…', \"Rep. Keith Ellison Demands Examples of 'Bernie Bro' Violence. Then Steve Scalise Stepped to the Mic.… \", \"Personally,I prefer president's who aren't mentally ill.#RepublicanParty #Republicans #Senate #voters #Election2020\", '#PresidentWarren2020 #Warren #Warren2020 #ElizabethWarren #NevadaCaucus #Dems2020#Election2020 #Dems… ', '#PresidentSanders#BernieWonIowa #BernieWonNewHampshire#BernieBeatsTrump#BerniesGonnaWin#NevadaCaucus… ', '#Bernie/#Warren take Democratic party back to legacy of FDR, carried on by Johnson domestically (civil/ voting righ… ', ' Here we go... flip this switch! ', 'Bernie telling it like it is.Dems are keeping him down. #Bernie #Election2020 #BernieKnew', '… ', ' Do you believe America would be better off if more Christians served in elected office?#Retweet #Poll #Election2020 #…', ' I’m endorsingfor Vice President. #Election2020', ' Do you believe America would be better off if more Christians served in elected office?#Retweet #Poll #Election2020 #…', ' Twitter suspends 70 Bloomberg-boosting accounts for violating company policy #Election2020 ', 'So Putin’s dream #Election2020 ticket is #BernieSandersvs Trump.', ' Your thoughts?', 'Get news, reminders, voting dates, and resources fromdelivered straight to your inbox so you can impa… ', '#LasVegas #LasVegasRally #TrumpRallyLasVegas #AmericaFirst #KAG2020 #MAGA2020 #2020election #KeepAmericaGreat… ', 'Yup! Same one.', '#AL04 campaign is not against&amp; hisLIFETIME score of 3%.#NHN campaign is 💯 pr…', ' Do you believe America would be better off if more Christians served in elected office?#Retweet #Poll #Election2020 #…', ' Attn #California!NPP ballots are being sent to registered Dems. DO NOT CAST THAT BALLOT. There are no presidential candid…', '👀', ' Alldoes is lie.leaked the false narrative. We know that thewarnedthe Russia…', ' Floridais requiring that all persons seeking employment in the State be confirmed e-verified legal resi…', ' Here here', ' We all need to help Donald Trump out. Out of office, that is. He needs to be overwhelmingly defeate… ', \"RT : Trump Rallygoers in Phoenix: 18 Percent Were Democrats and About a Quarter Didn't Vote in 2016 …\", '#dumptrump #antitrump #nevertrump #notrump #trump #maga #trumptrain #election2020 #deplorables #donaldtrump… ', \" A new breed of hackers is focused on stealing our information for #Election2020. Here's what to watch out for. https://…\", ' DID marry her brother and said she would \\'do what she had to do to get him \"papers\" h…', ' by formally targeted, is he referring to farmers as a voting bloc ? #Election2020', ' Floridais requiring that all persons seeking employment in the State be confirmed e-verified legal resi…', 'LIVE:performs atfundraiser -&gt;#Election2020 ', ' Why is Russia better than us at growth hacking? #growthhacking #growthmarketing #marketing #russia #election2020', \" A new breed of hackers is focused on stealing our information for #Election2020. Here's what to watch out for. https://…\", \" Here's a slightly longer clip of Yvette Carnell talking about . He's been acting a g0dd fool for a long…\", '#TulsiStrong', ' Nevada Independent: While A Sanders Victory Seems Likely, no One Knows How Nevada’s Democratic Caucus Will go Otherwise #E…', ' Corporate Socialism. Have to call it what it is...on both side. 🤷\\u200d♂️ #Election2020', 'This short clip says it all... Remember the Dem convention in 2016...no flags in view until we noted it. They sudde… ', \"I don't believe Russia is helping either of them. Democrats are using Russia to take Bernie and Trump down. It's no… \", '#notified by #US officials that #Russia is trying to aid his #Election2020 #campaign, report says: https:…', \" Damn, I've been had! Praising #Mike2020 daily4free! I must be #Patriot! Don't want2lose #Election2020! #Russians helping #B…\", ' #Arizona Elect🌟MARK KELLY🌟#AZSENRegstr🎓https:/…', ' Do you believe America would be better off if more Christians served in elected office?#Retweet #Poll #Election2020 #…', ' Which #JasonJohnson? THIS Jason Johnson? The one Yvette Carnell eviscerated a while back? 😏 #ados #reparations #election2…', ' Do you believe America would be better off if more Christians served in elected office?#Retweet #Poll #Election2020 #…', 'Also hello from our forthrally and third rally state of the #election2020 cycle. ', ' Floridais requiring that all persons seeking employment in the State be confirmed e-verified legal resi…', ' Do you believe America would be better off if more Christians served in elected office?#Retweet #Poll #Election2020 #…', ' Floridais requiring that all persons seeking employment in the State be confirmed e-verified legal resi…', ' Let’s flip this poll, patriots. More Christians, less ANTI American Muslims in our Congress 🙏🇺🇸❤️🐾', ' Floridais requiring that all persons seeking employment in the State be confirmed e-verified legal resi…', ' BREAKING:Brand new polling in #MO2 showscontinues to crush the latestballot filler.No won…', 'With ads like this, it makes ya wonder who’s making the epic fail decisions for #TeamBloomberg? Billion$ at his f… ', 'Yup, she’s that smart.', ' Yup! Same one.', ' Do you believe America would be better off if more Christians served in elected office?#Retweet #Poll #Election2020 #…', ' Let’s flip this poll, patriots. More Christians, less ANTI American Muslims in our Congress 🙏🇺🇸❤️🐾', 'So #murdochmedia doing what it can to win #Election2020', 'Well it is #Election2020 It has to be a sign. #lasvegas with all this rain 😑 ', ' Thanks tofor discussing the role cartoons can play in election coverage.#Election2020 https:…', ' Attn #California!NPP ballots are being sent to registered Dems. DO NOT CAST THAT BALLOT. There are no presidential candid…', \" #PiousPete #Buttigieg admits government healthcare for illegals is 'a pillar' of his plan.#Election2020#NVCaucus#Su…\", ' Do you believe America would be better off if more Christians served in elected office?#Retweet #Poll #Election2020 #…', 'Yes. This.', 'This is not normal. This is not okay.#trump#gop #maga #election2020 …', \" Great to watchdestroy , but doesn't mean she can do it to . Trump lacks the traces…\", ' Do you believe America would be better off if more Christians served in elected office?#Retweet #Poll #Election2020 #…', \" What a weak petty stoogehas become.The majority of #American voters don't like or trust you!You can'…\", '#VoteBlueNoMatterWho is a shortcut to thinking. Support the candidate that best aligns with your interests regardle… ', 'Memo to #JasonJohnson. Dude. You are a *danger*.', ' This rhyme is also on point -&gt;', 'Yep, . I refuse to subscribe to or watch the lazy, biased #CorporateMe…', ' Do you believe America would be better off if more Christians served in elected office?#Retweet #Poll #Election2020 #…', \" Good afternoon, patriots!I think I may be under a shadowban, at least as of yesterday...but that's not going to stop m…\", ' ', ' Your thoughts?', 'Always thought American political colours counter-intuitive.The left of centre party - BlueThe right of centre… ', \" Good afternoon, patriots!I think I may be under a shadowban, at least as of yesterday...but that's not going to stop m…\", ' Floridais requiring that all persons seeking employment in the State be confirmed e-verified legal resi…', ' Floridais requiring that all persons seeking employment in the State be confirmed e-verified legal resi…', 'PELOSI SIGNED OFF ON #UraniumOne BRENNAN-CLAPPER-SCHUMER-HOLDER-MUELLER-KERRYUra…', 'Bundy Dahmer 2020byonVote 1 for this killer combination! #tedbundy… ', 'Megatron 2020 - Peace Through Tyranny - All Stickers $2 + Sitewide Sale Today … ', 'Bloomberg must crush Bernie for any chance of beating Trump - New York Daily News. #Bloomberg #Bernie2020… ', ' 🗣👁📢𝟚𝟘𝟚𝟘: 𝕋𝕙𝕖 𝕐𝕖𝕒𝕣 𝕠𝕗 𝔸𝕔𝕥𝕚𝕧𝕚𝕤𝕞#Election2020 #Vote2020 #USA #1A ', ' Floridais requiring that all persons seeking employment in the State be confirmed e-verified legal resi…', ' #American people are not DUMB ENOUGH to elect these SOCIALISTS to Congress. They will DESTROY our country. The… ', \"Well, I'd like to hear from the lying horse-faced dog soldiers,.. or am I getting the Satanic #BabyKillers mixed-… \", 'RT _: Dominican Republic is fighting for fair elections. The electronic voting system was rigged to have only one party appea…', 'BREAKING: #Election2020 to Be Decided on Basis of Sandwich TransparencyBroke: eating Woke: eating… ', ' Vote Trump, get Trump.Vote , get #Trump.What #Russia wants, Russia gets.… ', ' . is voting for . Here’s why. #Election2020 ', 'RT : Calling all voters!! Are you ready for November?👉🏿RT to spread the word. 🗳️ #Election2020 http…', ' Do you believe America would be better off if more Christians served in elected office?#Retweet #Poll #Election2020 #…', 'Vote forfor House District 34!!! Volunteer to canvass and phone bank on your free for a campaign in th… ', '#California #Voters #Voting #NPP #Politics #Election2020 #Independents #Bernie2020 #BernieBeatsTrump #NotMeUs… ', 'Every candidate and every citizen must read this. #truml #SaturdayThoughts #maga #OnlyBernie #KAG… ', ' #CNN - 2/21/2020 -interviewingtalking about Russia trying to benefit #BernieSanders 1/3#HELLOS…', ' Floridais requiring that all persons seeking employment in the State be confirmed e-verified legal resi…', '… ', '#election2020 #decision2020 #vote2020 ⭐ Libertarian presidential candidate Arvin Vohra once again with an excelle… ', ' Floridais requiring that all persons seeking employment in the State be confirmed e-verified legal resi…', ' Bernie telling it like it is.Dems are keeping him down. #Bernie #Election2020 #BernieKnew https:/…', ' Bloomberg dismisses past comments as ‘a joke.’ NDA shows plaintiff barred from offering differing view. #Election2020 http…', ' Do you believe America would be better off if more Christians served in elected office?#Retweet #Poll #Election2020 #…', ' Nevada, you have one job today!Good luck!!!#Election2020 ', ' The best #tweets money can buy:Those pro- tweets are likely bought and paid for:\"Multimillion-dollar-a-…', ' People should be very very aware about whom they choose as their representatives..#Election2020 #Elections2020 #people htt…', ' So #murdochmedia doing what it can to win #Election2020 ', ' The results of this poll so far are NOT indicative of any community I’ve ever lived in, or even visited 🤔🙄 Let’s vote!', ' The truth that #msnbc n #CNN won’t show you!#socialism #socialismsucks #berniesanders #bernie2020 #bernie #medicaid #medica…', ' Floridais requiring that all persons seeking employment in the State be confirmed e-verified legal resi…', ' Reagan Was Right - Brian Burley for Congressvia #Burley4Congress #CA48#Congress#…', \" Thejust launched . It's a coordinated campaign that will win up &amp; down the ticket this Novembe…\", ' Do you believe America would be better off if more Christians served in elected office?#Retweet #Poll #Election2020 #…', '#Bloomberg #MichaelBloomberg #Election2020 #CAFA #ConsciousAwarenessForAll #MeritFreeman… ', 'You are EXACTLY right! Additionally, it’s Cyber War and ANYONE, (#Impotus), caught cons… ', ' Let’s flip this poll, patriots. More Christians, less ANTI American Muslims in our Congress 🙏🇺🇸❤️🐾', ' Looks like...less than 3 weeks!👌🏻🤣👍🏻 Never stop being you, ...with each shovel load of #RussianCollusion you heap…', \"#Togo #Election2020a la tête des candidats. Ya rien en face c'est manioc. #transparency is needed… \", ' \"Socialists don’t like people to do things for themselves. Socialists like to get people dependent on the state. You never build a…', 'RT : #Vote . #KYSen #Election2020 #FlipTheSenate', \"RT : Trump Rallygoers in Phoenix: 18 Percent Were Democrats and About a Quarter Didn't Vote in 2016 …\", ' Floridais requiring that all persons seeking employment in the State be confirmed e-verified legal resi…', 'We hope you find the help you need,Source: #uspolitics #media… ', ' Floridais requiring that all persons seeking employment in the State be confirmed e-verified legal resi…', ' Attn #California!NPP ballots are being sent to registered Dems. DO NOT CAST THAT BALLOT. There are no presidential candid…', ' #dumptrump #antitrump… ', 'Russia and trump are helping you win the primary bec this kind of rhetoric divides us. It isn’t the structure that’… ', ' Which #JasonJohnson? THIS Jason Johnson? The one Yvette Carnell eviscerated a while back? 😏 #ados #reparations #election2…', ' Do you believe America would be better off if more Christians served in elected office?#Retweet #Poll #Election2020 #…', 'RT : Iranians across the country cast their votes to elect the new290-member parliament\\xa0and choose replacements for seven d…', 'RT : Sanders claimed to \"unwittingly\" receive help from Russia in the 2016 election. Recieving help again in 2020 is no longe…', ' The 2020 primary election is coming up. Make sure your voter registration information is correct and up-to-date before you…', ' Here here', '#Election2020 #Decision2020 ', ' Ok Christians!We are not ashamed of the gospel and boldly proclaim our Lord and Savior Jesus.Let’s flip this poll.Ple…', \" Damn, I've been had! Praising #Mike2020 daily4free! I must be #Patriot! Don't want2lose #Election2020! #Russians helping #B…\", ' Looks like...less than 3 weeks!👌🏻🤣👍🏻 Never stop being you, ...with each shovel load of #RussianCollusion you heap…', ' Floridais requiring that all persons seeking employment in the State be confirmed e-verified legal resi…', \" Cast my vote in Texas today. In good faith, I cannot support a frontrunner who's ideals I fundamentally disagree with (FJG and…\", ' Looks like...less than 3 weeks!👌🏻🤣👍🏻 Never stop being you, ...with each shovel load of #RussianCollusion you heap…', ' Attn #California!NPP ballots are being sent to registered Dems. DO NOT CAST THAT BALLOT. There are no presidential candid…', ' Here we go... flip this switch!', '#Election2020 Candidate most likely to beat Trump is... Trumpvia ', ' . is voting for . Here’s why. #Election2020 ', 'Who are you voting for and why? Honest, political reasons- no BS or emotional reasons. #DemocraticDebates #Election2020 #TrumpPence2020', 'Withfavored to claim another victory in the Nevada caucuses on Saturday, some Democrats are frantic… ', ' Attn #California!NPP ballots are being sent to registered Dems. DO NOT CAST THAT BALLOT. There are no presidential candid…', ' Oh no he dih-int!Yes.Yes, I did.🤣__ #MEMES #memesdaily #voting #conservatives #trump2020 #kag20…', \" Maybecould ask every congressman/woman why they haven't helped pass this legislation?… \", '', ' Ok Christians!We are not ashamed of the gospel and boldly proclaim our Lord and Savior Jesus.Let’s flip this poll.Ple…', ' When you know you’re living in unusual times. It used to be that Supreme Court Justices never spoke publicly about politi…', ' Do you believe America would be better off if more Christians served in elected office?#Retweet #Poll #Election2020 #…', \" The best 10-minute take on #Election2020 from The's phenomenal : Sunday 1 p.m. and 8 p.m. @…\", ' Floridais requiring that all persons seeking employment in the State be confirmed e-verified legal resi…', 'What Andrew Yang is doing right now. via#YangGang #Election2020 #GoAxim', 'The democratic candidates look like the leftovers after everyone has picked their teams in a high school PE class.… ', ' Floridais requiring that all persons seeking employment in the State be confirmed e-verified legal resi…', '#CNN - 2/21/2020 -interviewingtalking about Russia trying to benefit #BernieSanders 1/3… ', ' . is voting for . Here’s why. #Election2020 ', ' Twitter suspends 70 Bloomberg-boosting accounts for violating company policy #Election2020 ', \"That reminds me -is everyone remembering to get their new Driver's Licenses all around the country -in order to fly… \", ' Do you believe America would be better off if more Christians served in elected office?#Retweet #Poll #Election2020 #…', 'Here’s the full archived article. #Election2020 Put your critical thinking caps on. “Appearing”Isn’t evidence. We… ', ' Let’s flip this poll, patriots. More Christians, less ANTI American Muslims in our Congress 🙏🇺🇸❤️🐾', 'FEEL DAT BERN, Vern!#MAGA #Millennials #UniteBlue #Democrats #DemocraticParty', ' Floridais requiring that all persons seeking employment in the State be confirmed e-verified legal resi…', ' #BWFWarren on the ground in Reno! Check it out. Thanks tofor going on the road for us in support of …', ' The truth that #msnbc n #CNN won’t show you!#socialism #socialismsucks #berniesanders #bernie2020 #bernie #medicaid #medica…', \" I'm still not over the fact that many Asian Americans criticize AY's Asian jokes via#YangGang #Electio…\", '#BeReady #Election2020 The #SocialMedia wars have begun. ', 'An invasive species of turtle presents a serious threat to #Kentucky and the rest of the country by dumping on the… ', ' A President who answered to Vlad Was valuable as his comrade.In a state of delusion,His Russian collusionProved his treas…', '#Election2020 Is anyone you know contributing to theTrump 2020 Presidential Campaign?Check the map at:… ', ' Attn #California!NPP ballots are being sent to registered Dems. DO NOT CAST THAT BALLOT. There are no presidential candid…', ' The 2020 primary election is coming up. Make sure your voter registration information is correct and up-to-date before you…', '‘Truth is not the goal.’ Facebook ‘news’ site admits to misleading 50,000 NC followers#election2020', ' Let’s flip this poll, patriots. More Christians, less ANTI American Muslims in our Congress 🙏🇺🇸❤️🐾', ' Do you believe America would be better off if more Christians served in elected office?#Retweet #Poll #Election2020 #…', ' If anyone is “interfering” w #BernieSanders #campaign to make him b the nominee it’s all to insurethe… ', 'RT _: Dominican Republic is fighting for fair elections. The electronic voting system was rigged to have only one party appea…', ' Chris Love is a prominent, black, female, Arizona-based attorney, public activist, and member of. She came…', ' FEEL DAT BERN, Vern!#MAGA #Millennials #UniteBlue #Democrats #DemocraticParty', ' Your thoughts?', ' Let’s flip this poll, patriots. More Christians, less ANTI American Muslims in our Congress 🙏🇺🇸❤️🐾', ' Sometimes, tech is a force for good. #TruthBot is a worthy project started by my friend . Let’s make it happe…'] 0.30000000000000004\n"
     ]
    }
   ],
   "source": [
    "print(X_test,y_test[0])"
   ]
  },
  {
   "cell_type": "code",
   "execution_count": 14,
   "metadata": {},
   "outputs": [
    {
     "data": {
      "text/plain": [
       "array(['joy', 'negative', 'positive', 'sadness', 'surprise', 'trust',\n",
       "       'anger', 'anticipation', 'disgust', 'fear'], dtype=object)"
      ]
     },
     "execution_count": 14,
     "metadata": {},
     "output_type": "execute_result"
    }
   ],
   "source": [
    "emolex_df.emotion.unique()"
   ]
  },
  {
   "cell_type": "code",
   "execution_count": 35,
   "metadata": {},
   "outputs": [],
   "source": [
    "# NRC\n",
    "filepath = \"NRC-Sentiment-Emotion-Lexicons/NRC-Emotion-Lexicon-v0.92/NRC-Emotion-Lexicon-Wordlevel-v0.92.txt\"\n",
    "emolex_df = pd.read_csv(filepath,  names=[\"word\", \"emotion\", \"association\"], skiprows=45, sep='\\t')"
   ]
  },
  {
   "cell_type": "code",
   "execution_count": 26,
   "metadata": {},
   "outputs": [],
   "source": [
    "import matplotlib.pyplot as plt\n",
    "from sklearn.neighbors import KNeighborsClassifier\n",
    "import pandas as pd\n",
    "import os"
   ]
  },
  {
   "cell_type": "code",
   "execution_count": 32,
   "metadata": {},
   "outputs": [
    {
     "ename": "ValueError",
     "evalue": "Expected 2D array, got 1D array instead:\narray=[\" Don't take your vote with you!Check your vote and put your vote in the ballot box!You can be a Texas voter with…\"\n ' Ok Christians!We are not ashamed of the gospel and boldly proclaim our Lord and Savior Jesus.Let’s flip this poll.Ple…'\n \"Let's go Ohio! // I’m attending Pete for America’s event, “Debate &amp; Post Card Party in Cleveland!” – sign up now to… \"\n ... 'Translation:#NYTimes wants #Buttigieg in #Election2020 '\n ' The truth that #msnbc n #CNN won’t show you!#socialism #socialismsucks #berniesanders #bernie2020 #bernie #medicaid #medica…'\n ' we live in a country that seems to care more about cheating in baseball than cheating in elections. #America #Election2020'].\nReshape your data either using array.reshape(-1, 1) if your data has a single feature or array.reshape(1, -1) if it contains a single sample.",
     "output_type": "error",
     "traceback": [
      "\u001b[1;31m---------------------------------------------------------------------------\u001b[0m",
      "\u001b[1;31mValueError\u001b[0m                                Traceback (most recent call last)",
      "\u001b[1;32m<ipython-input-32-df3c0bd76119>\u001b[0m in \u001b[0;36m<module>\u001b[1;34m\u001b[0m\n\u001b[0;32m      3\u001b[0m \u001b[1;32mfor\u001b[0m \u001b[0mk\u001b[0m \u001b[1;32min\u001b[0m \u001b[0mrange\u001b[0m\u001b[1;33m(\u001b[0m\u001b[1;36m1\u001b[0m\u001b[1;33m,\u001b[0m \u001b[1;36m20\u001b[0m\u001b[1;33m,\u001b[0m \u001b[1;36m2\u001b[0m\u001b[1;33m)\u001b[0m\u001b[1;33m:\u001b[0m\u001b[1;33m\u001b[0m\u001b[1;33m\u001b[0m\u001b[0m\n\u001b[0;32m      4\u001b[0m     \u001b[0mknn\u001b[0m \u001b[1;33m=\u001b[0m \u001b[0mKNeighborsClassifier\u001b[0m\u001b[1;33m(\u001b[0m\u001b[0mn_neighbors\u001b[0m\u001b[1;33m=\u001b[0m\u001b[0mk\u001b[0m\u001b[1;33m)\u001b[0m\u001b[1;33m\u001b[0m\u001b[1;33m\u001b[0m\u001b[0m\n\u001b[1;32m----> 5\u001b[1;33m     \u001b[0mknn\u001b[0m\u001b[1;33m.\u001b[0m\u001b[0mfit\u001b[0m\u001b[1;33m(\u001b[0m\u001b[0mX_train\u001b[0m\u001b[1;33m,\u001b[0m \u001b[0my_train\u001b[0m\u001b[1;33m)\u001b[0m\u001b[1;33m\u001b[0m\u001b[1;33m\u001b[0m\u001b[0m\n\u001b[0m\u001b[0;32m      6\u001b[0m     \u001b[0mtrain_score\u001b[0m \u001b[1;33m=\u001b[0m \u001b[0mknn\u001b[0m\u001b[1;33m.\u001b[0m\u001b[0mscore\u001b[0m\u001b[1;33m(\u001b[0m\u001b[0mX_train\u001b[0m\u001b[1;33m,\u001b[0m \u001b[0my_train\u001b[0m\u001b[1;33m)\u001b[0m\u001b[1;33m\u001b[0m\u001b[1;33m\u001b[0m\u001b[0m\n\u001b[0;32m      7\u001b[0m     \u001b[0mtest_score\u001b[0m \u001b[1;33m=\u001b[0m \u001b[0mknn\u001b[0m\u001b[1;33m.\u001b[0m\u001b[0mscore\u001b[0m\u001b[1;33m(\u001b[0m\u001b[0mX_test\u001b[0m\u001b[1;33m,\u001b[0m \u001b[0my_test\u001b[0m\u001b[1;33m)\u001b[0m\u001b[1;33m\u001b[0m\u001b[1;33m\u001b[0m\u001b[0m\n",
      "\u001b[1;32mC:\\ProgramData\\Anaconda3\\lib\\site-packages\\sklearn\\neighbors\\base.py\u001b[0m in \u001b[0;36mfit\u001b[1;34m(self, X, y)\u001b[0m\n\u001b[0;32m    890\u001b[0m         \"\"\"\n\u001b[0;32m    891\u001b[0m         \u001b[1;32mif\u001b[0m \u001b[1;32mnot\u001b[0m \u001b[0misinstance\u001b[0m\u001b[1;33m(\u001b[0m\u001b[0mX\u001b[0m\u001b[1;33m,\u001b[0m \u001b[1;33m(\u001b[0m\u001b[0mKDTree\u001b[0m\u001b[1;33m,\u001b[0m \u001b[0mBallTree\u001b[0m\u001b[1;33m)\u001b[0m\u001b[1;33m)\u001b[0m\u001b[1;33m:\u001b[0m\u001b[1;33m\u001b[0m\u001b[1;33m\u001b[0m\u001b[0m\n\u001b[1;32m--> 892\u001b[1;33m             \u001b[0mX\u001b[0m\u001b[1;33m,\u001b[0m \u001b[0my\u001b[0m \u001b[1;33m=\u001b[0m \u001b[0mcheck_X_y\u001b[0m\u001b[1;33m(\u001b[0m\u001b[0mX\u001b[0m\u001b[1;33m,\u001b[0m \u001b[0my\u001b[0m\u001b[1;33m,\u001b[0m \u001b[1;34m\"csr\"\u001b[0m\u001b[1;33m,\u001b[0m \u001b[0mmulti_output\u001b[0m\u001b[1;33m=\u001b[0m\u001b[1;32mTrue\u001b[0m\u001b[1;33m)\u001b[0m\u001b[1;33m\u001b[0m\u001b[1;33m\u001b[0m\u001b[0m\n\u001b[0m\u001b[0;32m    893\u001b[0m \u001b[1;33m\u001b[0m\u001b[0m\n\u001b[0;32m    894\u001b[0m         \u001b[1;32mif\u001b[0m \u001b[0my\u001b[0m\u001b[1;33m.\u001b[0m\u001b[0mndim\u001b[0m \u001b[1;33m==\u001b[0m \u001b[1;36m1\u001b[0m \u001b[1;32mor\u001b[0m \u001b[0my\u001b[0m\u001b[1;33m.\u001b[0m\u001b[0mndim\u001b[0m \u001b[1;33m==\u001b[0m \u001b[1;36m2\u001b[0m \u001b[1;32mand\u001b[0m \u001b[0my\u001b[0m\u001b[1;33m.\u001b[0m\u001b[0mshape\u001b[0m\u001b[1;33m[\u001b[0m\u001b[1;36m1\u001b[0m\u001b[1;33m]\u001b[0m \u001b[1;33m==\u001b[0m \u001b[1;36m1\u001b[0m\u001b[1;33m:\u001b[0m\u001b[1;33m\u001b[0m\u001b[1;33m\u001b[0m\u001b[0m\n",
      "\u001b[1;32mC:\\ProgramData\\Anaconda3\\lib\\site-packages\\sklearn\\utils\\validation.py\u001b[0m in \u001b[0;36mcheck_X_y\u001b[1;34m(X, y, accept_sparse, accept_large_sparse, dtype, order, copy, force_all_finite, ensure_2d, allow_nd, multi_output, ensure_min_samples, ensure_min_features, y_numeric, warn_on_dtype, estimator)\u001b[0m\n\u001b[0;32m    717\u001b[0m                     \u001b[0mensure_min_features\u001b[0m\u001b[1;33m=\u001b[0m\u001b[0mensure_min_features\u001b[0m\u001b[1;33m,\u001b[0m\u001b[1;33m\u001b[0m\u001b[1;33m\u001b[0m\u001b[0m\n\u001b[0;32m    718\u001b[0m                     \u001b[0mwarn_on_dtype\u001b[0m\u001b[1;33m=\u001b[0m\u001b[0mwarn_on_dtype\u001b[0m\u001b[1;33m,\u001b[0m\u001b[1;33m\u001b[0m\u001b[1;33m\u001b[0m\u001b[0m\n\u001b[1;32m--> 719\u001b[1;33m                     estimator=estimator)\n\u001b[0m\u001b[0;32m    720\u001b[0m     \u001b[1;32mif\u001b[0m \u001b[0mmulti_output\u001b[0m\u001b[1;33m:\u001b[0m\u001b[1;33m\u001b[0m\u001b[1;33m\u001b[0m\u001b[0m\n\u001b[0;32m    721\u001b[0m         y = check_array(y, 'csr', force_all_finite=True, ensure_2d=False,\n",
      "\u001b[1;32mC:\\ProgramData\\Anaconda3\\lib\\site-packages\\sklearn\\utils\\validation.py\u001b[0m in \u001b[0;36mcheck_array\u001b[1;34m(array, accept_sparse, accept_large_sparse, dtype, order, copy, force_all_finite, ensure_2d, allow_nd, ensure_min_samples, ensure_min_features, warn_on_dtype, estimator)\u001b[0m\n\u001b[0;32m    519\u001b[0m                     \u001b[1;34m\"Reshape your data either using array.reshape(-1, 1) if \"\u001b[0m\u001b[1;33m\u001b[0m\u001b[1;33m\u001b[0m\u001b[0m\n\u001b[0;32m    520\u001b[0m                     \u001b[1;34m\"your data has a single feature or array.reshape(1, -1) \"\u001b[0m\u001b[1;33m\u001b[0m\u001b[1;33m\u001b[0m\u001b[0m\n\u001b[1;32m--> 521\u001b[1;33m                     \"if it contains a single sample.\".format(array))\n\u001b[0m\u001b[0;32m    522\u001b[0m \u001b[1;33m\u001b[0m\u001b[0m\n\u001b[0;32m    523\u001b[0m         \u001b[1;31m# in the future np.flexible dtypes will be handled like object dtypes\u001b[0m\u001b[1;33m\u001b[0m\u001b[1;33m\u001b[0m\u001b[1;33m\u001b[0m\u001b[0m\n",
      "\u001b[1;31mValueError\u001b[0m: Expected 2D array, got 1D array instead:\narray=[\" Don't take your vote with you!Check your vote and put your vote in the ballot box!You can be a Texas voter with…\"\n ' Ok Christians!We are not ashamed of the gospel and boldly proclaim our Lord and Savior Jesus.Let’s flip this poll.Ple…'\n \"Let's go Ohio! // I’m attending Pete for America’s event, “Debate &amp; Post Card Party in Cleveland!” – sign up now to… \"\n ... 'Translation:#NYTimes wants #Buttigieg in #Election2020 '\n ' The truth that #msnbc n #CNN won’t show you!#socialism #socialismsucks #berniesanders #bernie2020 #bernie #medicaid #medica…'\n ' we live in a country that seems to care more about cheating in baseball than cheating in elections. #America #Election2020'].\nReshape your data either using array.reshape(-1, 1) if your data has a single feature or array.reshape(1, -1) if it contains a single sample."
     ]
    }
   ],
   "source": [
    "train_scores = []\n",
    "test_scores = []\n",
    "for k in range(1, 20, 2):\n",
    "    knn = KNeighborsClassifier(n_neighbors=k)\n",
    "    knn.fit(X_train, y_train)\n",
    "    train_score = knn.score(X_train, y_train)\n",
    "    test_score = knn.score(X_test, y_test)\n",
    "    train_scores.append(train_score)\n",
    "    test_scores.append(test_score)\n",
    "    print(f\"k: {k}, Train/Test Score: {train_score:.3f}/{test_score:.3f}\")\n",
    "    \n",
    "    \n",
    "plt.plot(range(1, 20, 2), train_scores, marker='o')\n",
    "plt.plot(range(1, 20, 2), test_scores, marker=\"x\")\n",
    "plt.xlabel(\"k neighbors\")\n",
    "plt.ylabel(\"Testing accuracy Score\")\n",
    "plt.show()"
   ]
  },
  {
   "cell_type": "code",
   "execution_count": null,
   "metadata": {},
   "outputs": [],
   "source": []
  },
  {
   "cell_type": "code",
   "execution_count": null,
   "metadata": {},
   "outputs": [],
   "source": []
  },
  {
   "cell_type": "code",
   "execution_count": null,
   "metadata": {},
   "outputs": [],
   "source": []
  },
  {
   "cell_type": "code",
   "execution_count": null,
   "metadata": {},
   "outputs": [],
   "source": []
  },
  {
   "cell_type": "code",
   "execution_count": null,
   "metadata": {},
   "outputs": [],
   "source": []
  },
  {
   "cell_type": "code",
   "execution_count": null,
   "metadata": {},
   "outputs": [],
   "source": []
  }
 ],
 "metadata": {
  "kernelspec": {
   "display_name": "Python 3",
   "language": "python",
   "name": "python3"
  },
  "language_info": {
   "codemirror_mode": {
    "name": "ipython",
    "version": 3
   },
   "file_extension": ".py",
   "mimetype": "text/x-python",
   "name": "python",
   "nbconvert_exporter": "python",
   "pygments_lexer": "ipython3",
   "version": "3.7.4"
  }
 },
 "nbformat": 4,
 "nbformat_minor": 2
}
