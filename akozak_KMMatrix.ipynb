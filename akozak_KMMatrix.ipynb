{
 "cells": [
  {
   "cell_type": "code",
   "execution_count": 1,
   "metadata": {},
   "outputs": [],
   "source": [
    "import psycopg2\n",
    "import json\n",
    "from datetime import datetime as dt\n",
    "import pandas as pd\n",
    "import re \n",
    "from textblob import TextBlob "
   ]
  },
  {
   "cell_type": "code",
   "execution_count": 2,
   "metadata": {},
   "outputs": [],
   "source": [
    "p=\"datasucks\""
   ]
  },
  {
   "cell_type": "code",
   "execution_count": 3,
   "metadata": {},
   "outputs": [],
   "source": [
    "conn = psycopg2.connect(user = \"alexis\",\n",
    "                                  password = f\"{p}\",\n",
    "                                  host = \"127.0.0.1\",\n",
    "                                  port = \"3306\",\n",
    "                                  database = \"postgres\")"
   ]
  },
  {
   "cell_type": "code",
   "execution_count": 4,
   "metadata": {},
   "outputs": [],
   "source": [
    "cursor = conn.cursor()"
   ]
  },
  {
   "cell_type": "code",
   "execution_count": 5,
   "metadata": {},
   "outputs": [],
   "source": [
    "tweet_list = []\n",
    "followers = []\n",
    "cursor.execute(\"select * from tweets\")\n",
    "tweets = cursor.fetchall()\n",
    "if not tweets:\n",
    "    print(\"empty\")\n",
    "for row in tweets:\n",
    "    for col in row:\n",
    "        if type(col) is dict:\n",
    "            tweet_list.append(col['text'])\n",
    "            followers.append(col['user']['followers_count'])"
   ]
  },
  {
   "cell_type": "code",
   "execution_count": 6,
   "metadata": {},
   "outputs": [],
   "source": [
    "remove_list = [r'@[A-Za-z0-9]+','https?://[A-Za-z0-9./]+','\\n','RT :',r'_[A-Za-z0-9]+','  ']"
   ]
  },
  {
   "cell_type": "code",
   "execution_count": 7,
   "metadata": {},
   "outputs": [],
   "source": [
    "def clean_tweets(remove_list,tweet_list):\n",
    "    for item in remove_list:\n",
    "        tweet_list = [re.sub(item,'',tweet) for tweet in tweet_list]\n",
    "    return tweet_list"
   ]
  },
  {
   "cell_type": "code",
   "execution_count": 8,
   "metadata": {},
   "outputs": [
    {
     "data": {
      "text/plain": [
       "2316"
      ]
     },
     "execution_count": 8,
     "metadata": {},
     "output_type": "execute_result"
    }
   ],
   "source": [
    "cleaned = clean_tweets(remove_list,tweet_list)\n",
    "len(cleaned)"
   ]
  },
  {
   "cell_type": "code",
   "execution_count": 9,
   "metadata": {},
   "outputs": [],
   "source": [
    "def result(tweet,keyword_list):\n",
    "    if any(word in tweet for word in keyword_list):\n",
    "        return 1\n",
    "    else:\n",
    "        return 0"
   ]
  },
  {
   "cell_type": "code",
   "execution_count": 28,
   "metadata": {},
   "outputs": [],
   "source": [
    "sentiment = []\n",
    "subjectivity= []\n",
    "bernie = []\n",
    "buttigieg = []\n",
    "biden = []\n",
    "warren = []\n",
    "gender = []\n",
    "age = []\n",
    "democrat = []\n",
    "socialist = []\n",
    "trump = []\n",
    "delegates = []\n",
    "extended = []\n",
    "length = []\n",
    "for tweet in cleaned:\n",
    "    tweet_length = len(tweet)\n",
    "    length.append(tweet_length)\n",
    "    if tweet_length > 140:\n",
    "        extended.append(1)\n",
    "    else:\n",
    "        extended.append(0)\n",
    "    delegates.append(result(tweet.lower(),[\"delegate\",\"delegates\"]))\n",
    "    trump.append(result(tweet.lower(),[\"trump\",\"donald\",\"donald trump\",\"donaldtrump\",\"donald j. trump\",\"don\"]))\n",
    "    socialist.append(result(tweet.lower(),[\"socialist\",\"socialism\",\"far-left\",\"left-extremist\", \"extreme left\"]))\n",
    "    democrat.append(result(tweet.lower(),[\"democrat\",\"democratic\",\"blue\",\"bluestate\", \"blue state\", \"blue states\"]))\n",
    "    age.append(result(tweet.lower(),[\"old\",\"aging\",\"grandpa\",\"geriatric\",\"uncle\",\"age\"]))\n",
    "    gender.append(result(tweet.lower(),[\"female\",\"woman\",\"girl\",\"lady\",\"women\"]))\n",
    "    warren.append(result(tweet.lower(),[\"warren\",'elizabeth',\"elizabethwarren\",\"elizabeth warren\"]))\n",
    "    biden.append(result(tweet.lower(),[\"biden\",\"joe\",\"joebiden\",\"joe biden\"]))\n",
    "    buttigieg.append(result(tweet.lower(),[\"buttigieg\",\"pete\",\"petebuttigieg\",\"pete buttigieg\"]))\n",
    "    bernie.append(result(tweet.lower(),[\"bernie\",\"berniesanders\",\"sanders\",\"bernie sanders\", \"feel the bern\"]))\n",
    "    sentiment.append([TextBlob(tweet).polarity])\n",
    "    subjectivity.append([TextBlob(tweet).subjectivity])"
   ]
  },
  {
   "cell_type": "code",
   "execution_count": 29,
   "metadata": {},
   "outputs": [
    {
     "data": {
      "text/html": [
       "<div>\n",
       "<style scoped>\n",
       "    .dataframe tbody tr th:only-of-type {\n",
       "        vertical-align: middle;\n",
       "    }\n",
       "\n",
       "    .dataframe tbody tr th {\n",
       "        vertical-align: top;\n",
       "    }\n",
       "\n",
       "    .dataframe thead th {\n",
       "        text-align: right;\n",
       "    }\n",
       "</style>\n",
       "<table border=\"1\" class=\"dataframe\">\n",
       "  <thead>\n",
       "    <tr style=\"text-align: right;\">\n",
       "      <th></th>\n",
       "      <th>bernie</th>\n",
       "      <th>buttigieg</th>\n",
       "      <th>biden</th>\n",
       "      <th>warren</th>\n",
       "      <th>gender</th>\n",
       "      <th>age</th>\n",
       "      <th>democrat</th>\n",
       "      <th>socialist</th>\n",
       "      <th>trump</th>\n",
       "      <th>delegates</th>\n",
       "      <th>extended</th>\n",
       "      <th>sentiment</th>\n",
       "      <th>subjectivity</th>\n",
       "    </tr>\n",
       "  </thead>\n",
       "  <tbody>\n",
       "    <tr>\n",
       "      <th>0</th>\n",
       "      <td>0</td>\n",
       "      <td>0</td>\n",
       "      <td>0</td>\n",
       "      <td>0</td>\n",
       "      <td>0</td>\n",
       "      <td>0</td>\n",
       "      <td>0</td>\n",
       "      <td>0</td>\n",
       "      <td>0</td>\n",
       "      <td>0</td>\n",
       "      <td>0</td>\n",
       "      <td>0.5</td>\n",
       "      <td>0.75</td>\n",
       "    </tr>\n",
       "    <tr>\n",
       "      <th>1</th>\n",
       "      <td>0</td>\n",
       "      <td>0</td>\n",
       "      <td>0</td>\n",
       "      <td>0</td>\n",
       "      <td>0</td>\n",
       "      <td>0</td>\n",
       "      <td>1</td>\n",
       "      <td>0</td>\n",
       "      <td>0</td>\n",
       "      <td>0</td>\n",
       "      <td>0</td>\n",
       "      <td>0.2</td>\n",
       "      <td>0.25</td>\n",
       "    </tr>\n",
       "    <tr>\n",
       "      <th>2</th>\n",
       "      <td>0</td>\n",
       "      <td>0</td>\n",
       "      <td>0</td>\n",
       "      <td>0</td>\n",
       "      <td>0</td>\n",
       "      <td>0</td>\n",
       "      <td>0</td>\n",
       "      <td>0</td>\n",
       "      <td>0</td>\n",
       "      <td>0</td>\n",
       "      <td>0</td>\n",
       "      <td>0.5</td>\n",
       "      <td>0.90</td>\n",
       "    </tr>\n",
       "    <tr>\n",
       "      <th>3</th>\n",
       "      <td>0</td>\n",
       "      <td>0</td>\n",
       "      <td>0</td>\n",
       "      <td>0</td>\n",
       "      <td>0</td>\n",
       "      <td>0</td>\n",
       "      <td>0</td>\n",
       "      <td>0</td>\n",
       "      <td>0</td>\n",
       "      <td>0</td>\n",
       "      <td>0</td>\n",
       "      <td>0.0</td>\n",
       "      <td>0.00</td>\n",
       "    </tr>\n",
       "    <tr>\n",
       "      <th>4</th>\n",
       "      <td>0</td>\n",
       "      <td>0</td>\n",
       "      <td>0</td>\n",
       "      <td>0</td>\n",
       "      <td>0</td>\n",
       "      <td>0</td>\n",
       "      <td>0</td>\n",
       "      <td>0</td>\n",
       "      <td>0</td>\n",
       "      <td>0</td>\n",
       "      <td>0</td>\n",
       "      <td>0.2</td>\n",
       "      <td>0.50</td>\n",
       "    </tr>\n",
       "  </tbody>\n",
       "</table>\n",
       "</div>"
      ],
      "text/plain": [
       "   bernie  buttigieg  biden  warren  gender  age  democrat  socialist  trump  \\\n",
       "0       0          0      0       0       0    0         0          0      0   \n",
       "1       0          0      0       0       0    0         1          0      0   \n",
       "2       0          0      0       0       0    0         0          0      0   \n",
       "3       0          0      0       0       0    0         0          0      0   \n",
       "4       0          0      0       0       0    0         0          0      0   \n",
       "\n",
       "   delegates  extended  sentiment  subjectivity  \n",
       "0          0         0        0.5          0.75  \n",
       "1          0         0        0.2          0.25  \n",
       "2          0         0        0.5          0.90  \n",
       "3          0         0        0.0          0.00  \n",
       "4          0         0        0.2          0.50  "
      ]
     },
     "execution_count": 29,
     "metadata": {},
     "output_type": "execute_result"
    }
   ],
   "source": [
    "data = pd.DataFrame({\"bernie\":bernie,\"buttigieg\":buttigieg,\"biden\":biden,\"warren\":warren,\"gender\":gender,\n",
    "             \"age\":age,\"democrat\":democrat,\"socialist\":socialist,\"trump\":trump,\"delegates\":delegates,\n",
    "             \"extended\":extended,\"sentiment\":sentiment, \"subjectivity\":subjectivity})\n",
    "data['sentiment'] = data['sentiment'].map(lambda x: x[0])\n",
    "data['subjectivity'] = data['subjectivity'].map(lambda x: x[0])\n",
    "\n",
    "# data['sentiment'] = data['sentiment'].astype(float)\n",
    "# data['sentiment'] = data['sentiment'].astype(float)\n",
    "\n",
    "data.head()"
   ]
  },
  {
   "cell_type": "code",
   "execution_count": 40,
   "metadata": {},
   "outputs": [],
   "source": [
    "from sklearn.cluster import KMeans\n",
    "kmeans = KMeans(n_clusters=12)"
   ]
  },
  {
   "cell_type": "code",
   "execution_count": 41,
   "metadata": {},
   "outputs": [
    {
     "data": {
      "text/plain": [
       "KMeans(algorithm='auto', copy_x=True, init='k-means++', max_iter=300,\n",
       "       n_clusters=12, n_init=10, n_jobs=None, precompute_distances='auto',\n",
       "       random_state=None, tol=0.0001, verbose=0)"
      ]
     },
     "execution_count": 41,
     "metadata": {},
     "output_type": "execute_result"
    }
   ],
   "source": [
    "kmeans.fit(data)"
   ]
  },
  {
   "cell_type": "code",
   "execution_count": 43,
   "metadata": {},
   "outputs": [
    {
     "name": "stdout",
     "output_type": "stream",
     "text": [
      "[[ 1.11111111e-01  1.73472348e-18  0.00000000e+00  1.85185185e-02\n",
      "  -1.73472348e-17  1.85185185e-02  1.00000000e+00  1.85185185e-02\n",
      "   1.00000000e+00  8.67361738e-19  0.00000000e+00  1.36246727e-02\n",
      "   1.18384907e-01]\n",
      " [-1.72084569e-15  1.44230769e-02  4.80769231e-03 -1.40512602e-16\n",
      "   1.68269231e-02 -3.74700271e-16 -8.32667268e-16  7.21153846e-03\n",
      "  -1.27675648e-15 -8.23993651e-18  0.00000000e+00  9.20601751e-04\n",
      "   5.20599951e-02]\n",
      " [-1.26287869e-15 -8.15320034e-17  3.27332242e-03  4.16333634e-17\n",
      "   1.80032733e-02 -3.33066907e-16 -7.07767178e-16  9.81996727e-03\n",
      "   1.63666121e-03  8.18330606e-03  0.00000000e+00  4.02894514e-01\n",
      "   5.88607461e-01]\n",
      " [ 2.91433544e-16  4.08163265e-03  1.22448980e-02 -6.93889390e-17\n",
      "   8.16326531e-03 -9.71445147e-17 -2.77555756e-17  5.71428571e-02\n",
      "   1.00000000e+00 -6.93889390e-18  0.00000000e+00  3.25361118e-02\n",
      "   2.04052993e-01]\n",
      " [ 1.28000000e-01 -1.56125113e-17  9.54097912e-18  1.90819582e-17\n",
      "   7.20000000e-02  1.38777878e-16  4.16333634e-17  8.00000000e-03\n",
      "   3.20000000e-02 -4.77048956e-18  0.00000000e+00 -4.33218682e-01\n",
      "   8.64147903e-01]\n",
      " [ 1.00000000e+00  1.60000000e-02  8.00000000e-03  1.90819582e-17\n",
      "   3.20000000e-02  4.00000000e-02  4.16333634e-17  1.12000000e-01\n",
      "  -1.66533454e-16 -4.77048956e-18  0.00000000e+00  5.64823232e-02\n",
      "   1.48267677e-01]\n",
      " [ 4.59770115e-02  1.73472348e-18  6.07153217e-18  1.73472348e-17\n",
      "   1.73472348e-17  1.00000000e+00  3.44827586e-02  3.46944695e-17\n",
      "   1.94289029e-16 -3.03576608e-18  0.00000000e+00  2.22155172e-01\n",
      "   6.05862069e-01]\n",
      " [-1.38777878e-17  9.70873786e-03  9.70873786e-03  1.73472348e-17\n",
      "   2.77555756e-17  2.91262136e-02  1.00000000e+00  2.62135922e-01\n",
      "   1.11022302e-16  9.70873786e-03  0.00000000e+00  1.40332136e-01\n",
      "   2.47559086e-01]\n",
      " [ 1.00000000e+00  1.73472348e-18 -8.67361738e-19  3.57142857e-02\n",
      "  -1.04083409e-17  1.07142857e-01  1.00000000e+00  1.07142857e-01\n",
      "   0.00000000e+00  0.00000000e+00  0.00000000e+00 -3.57142857e-03\n",
      "   2.70982143e-01]\n",
      " [ 1.00000000e+00  1.73472348e-18 -8.67361738e-19  1.92307692e-02\n",
      "  -1.73472348e-17 -4.16333634e-17  5.55111512e-17  3.84615385e-02\n",
      "   1.00000000e+00  8.67361738e-19  0.00000000e+00  1.37796232e-03\n",
      "   1.78849796e-01]\n",
      " [ 4.16333634e-17  1.73472348e-18  3.44827586e-02  1.00000000e+00\n",
      "  -1.04083409e-17  1.03448276e-01  3.44827586e-02 -1.38777878e-17\n",
      "   0.00000000e+00  0.00000000e+00  0.00000000e+00  1.25944171e-01\n",
      "   1.98932677e-01]\n",
      " [ 2.77555756e-17  2.40000000e-01  4.00000000e-02  3.46944695e-18\n",
      "  -1.04083409e-17  1.00000000e+00 -2.77555756e-17 -1.38777878e-17\n",
      "   1.00000000e+00 -8.67361738e-19  0.00000000e+00  2.53863636e-01\n",
      "   3.93045455e-01]]\n"
     ]
    }
   ],
   "source": [
    "print(kmeans.cluster_centers_)"
   ]
  },
  {
   "cell_type": "code",
   "execution_count": 45,
   "metadata": {},
   "outputs": [
    {
     "name": "stdout",
     "output_type": "stream",
     "text": [
      "[2 7 2 ... 2 1 1]\n"
     ]
    }
   ],
   "source": [
    "print(kmeans.labels_)"
   ]
  },
  {
   "cell_type": "code",
   "execution_count": 32,
   "metadata": {},
   "outputs": [
    {
     "data": {
      "text/plain": [
       "array([ 6, 10,  6,  0,  6, 10,  0,  6,  5, 10])"
      ]
     },
     "execution_count": 32,
     "metadata": {},
     "output_type": "execute_result"
    }
   ],
   "source": [
    "kmeans.predict(data)[:10]"
   ]
  },
  {
   "cell_type": "code",
   "execution_count": 33,
   "metadata": {},
   "outputs": [
    {
     "name": "stdout",
     "output_type": "stream",
     "text": [
      "(1, 13)\n"
     ]
    },
    {
     "data": {
      "text/plain": [
       "array([3])"
      ]
     },
     "execution_count": 33,
     "metadata": {},
     "output_type": "execute_result"
    }
   ],
   "source": [
    "# Check individual Result from \n",
    "print((data.iloc[59].values.reshape(1,13)).shape)\n",
    "kmeans.predict(data.iloc[59].values.reshape(1,13))"
   ]
  },
  {
   "cell_type": "code",
   "execution_count": 34,
   "metadata": {},
   "outputs": [
    {
     "data": {
      "text/plain": [
       "bernie          1.0\n",
       "buttigieg       0.0\n",
       "biden           0.0\n",
       "warren          0.0\n",
       "gender          0.0\n",
       "age             0.0\n",
       "democrat        1.0\n",
       "socialist       0.0\n",
       "trump           0.0\n",
       "delegates       0.0\n",
       "extended        0.0\n",
       "sentiment       0.0\n",
       "subjectivity    0.0\n",
       "Name: 75, dtype: float64"
      ]
     },
     "execution_count": 34,
     "metadata": {},
     "output_type": "execute_result"
    }
   ],
   "source": [
    "data.iloc[75]"
   ]
  },
  {
   "cell_type": "code",
   "execution_count": 35,
   "metadata": {},
   "outputs": [
    {
     "name": "stdout",
     "output_type": "stream",
     "text": [
      "Biden: 265\n",
      "Buttigieg: 878\n",
      "Warren: 977\n",
      "Buttigieg: 1742\n",
      "Warren: 1931\n"
     ]
    }
   ],
   "source": [
    "for i,row in data.iterrows():\n",
    "    if row[\"bernie\"] == 1:\n",
    "        if row[\"buttigieg\"] ==1:\n",
    "            print(f\"Buttigieg: {i}\")\n",
    "        if row[\"biden\"] == 1:\n",
    "            print(f\"Biden: {i}\")\n",
    "        if row[\"warren\"] == 1:\n",
    "            print(f\"Warren: {i}\")\n"
   ]
  },
  {
   "cell_type": "code",
   "execution_count": 36,
   "metadata": {},
   "outputs": [
    {
     "data": {
      "text/html": [
       "<div>\n",
       "<style scoped>\n",
       "    .dataframe tbody tr th:only-of-type {\n",
       "        vertical-align: middle;\n",
       "    }\n",
       "\n",
       "    .dataframe tbody tr th {\n",
       "        vertical-align: top;\n",
       "    }\n",
       "\n",
       "    .dataframe thead th {\n",
       "        text-align: right;\n",
       "    }\n",
       "</style>\n",
       "<table border=\"1\" class=\"dataframe\">\n",
       "  <thead>\n",
       "    <tr style=\"text-align: right;\">\n",
       "      <th></th>\n",
       "      <th>bernie</th>\n",
       "      <th>buttigieg</th>\n",
       "      <th>biden</th>\n",
       "      <th>warren</th>\n",
       "      <th>gender</th>\n",
       "      <th>age</th>\n",
       "      <th>democrat</th>\n",
       "      <th>socialist</th>\n",
       "      <th>trump</th>\n",
       "      <th>delegates</th>\n",
       "      <th>extended</th>\n",
       "      <th>sentiment</th>\n",
       "      <th>subjectivity</th>\n",
       "    </tr>\n",
       "  </thead>\n",
       "  <tbody>\n",
       "    <tr>\n",
       "      <th>1931</th>\n",
       "      <td>1</td>\n",
       "      <td>0</td>\n",
       "      <td>0</td>\n",
       "      <td>1</td>\n",
       "      <td>0</td>\n",
       "      <td>0</td>\n",
       "      <td>1</td>\n",
       "      <td>0</td>\n",
       "      <td>0</td>\n",
       "      <td>0</td>\n",
       "      <td>0</td>\n",
       "      <td>0.0</td>\n",
       "      <td>0.0</td>\n",
       "    </tr>\n",
       "  </tbody>\n",
       "</table>\n",
       "</div>"
      ],
      "text/plain": [
       "      bernie  buttigieg  biden  warren  gender  age  democrat  socialist  \\\n",
       "1931       1          0      0       1       0    0         1          0   \n",
       "\n",
       "      trump  delegates  extended  sentiment  subjectivity  \n",
       "1931      0          0         0        0.0           0.0  "
      ]
     },
     "execution_count": 36,
     "metadata": {},
     "output_type": "execute_result"
    }
   ],
   "source": [
    "data.iloc[1931:1932]"
   ]
  },
  {
   "cell_type": "code",
   "execution_count": 37,
   "metadata": {},
   "outputs": [],
   "source": [
    "data_results = data.copy()\n",
    "data_results['cluster'] = kmeans.predict(data).tolist()"
   ]
  },
  {
   "cell_type": "code",
   "execution_count": 38,
   "metadata": {},
   "outputs": [
    {
     "data": {
      "text/html": [
       "<div>\n",
       "<style scoped>\n",
       "    .dataframe tbody tr th:only-of-type {\n",
       "        vertical-align: middle;\n",
       "    }\n",
       "\n",
       "    .dataframe tbody tr th {\n",
       "        vertical-align: top;\n",
       "    }\n",
       "\n",
       "    .dataframe thead th {\n",
       "        text-align: right;\n",
       "    }\n",
       "</style>\n",
       "<table border=\"1\" class=\"dataframe\">\n",
       "  <thead>\n",
       "    <tr style=\"text-align: right;\">\n",
       "      <th></th>\n",
       "      <th>bernie</th>\n",
       "      <th>buttigieg</th>\n",
       "      <th>biden</th>\n",
       "      <th>warren</th>\n",
       "      <th>gender</th>\n",
       "      <th>age</th>\n",
       "      <th>democrat</th>\n",
       "      <th>socialist</th>\n",
       "      <th>trump</th>\n",
       "      <th>delegates</th>\n",
       "      <th>extended</th>\n",
       "      <th>sentiment</th>\n",
       "      <th>subjectivity</th>\n",
       "      <th>cluster</th>\n",
       "    </tr>\n",
       "  </thead>\n",
       "  <tbody>\n",
       "    <tr>\n",
       "      <th>0</th>\n",
       "      <td>0</td>\n",
       "      <td>0</td>\n",
       "      <td>0</td>\n",
       "      <td>0</td>\n",
       "      <td>0</td>\n",
       "      <td>0</td>\n",
       "      <td>0</td>\n",
       "      <td>0</td>\n",
       "      <td>0</td>\n",
       "      <td>0</td>\n",
       "      <td>0</td>\n",
       "      <td>0.5</td>\n",
       "      <td>0.75</td>\n",
       "      <td>6</td>\n",
       "    </tr>\n",
       "    <tr>\n",
       "      <th>1</th>\n",
       "      <td>0</td>\n",
       "      <td>0</td>\n",
       "      <td>0</td>\n",
       "      <td>0</td>\n",
       "      <td>0</td>\n",
       "      <td>0</td>\n",
       "      <td>1</td>\n",
       "      <td>0</td>\n",
       "      <td>0</td>\n",
       "      <td>0</td>\n",
       "      <td>0</td>\n",
       "      <td>0.2</td>\n",
       "      <td>0.25</td>\n",
       "      <td>10</td>\n",
       "    </tr>\n",
       "    <tr>\n",
       "      <th>2</th>\n",
       "      <td>0</td>\n",
       "      <td>0</td>\n",
       "      <td>0</td>\n",
       "      <td>0</td>\n",
       "      <td>0</td>\n",
       "      <td>0</td>\n",
       "      <td>0</td>\n",
       "      <td>0</td>\n",
       "      <td>0</td>\n",
       "      <td>0</td>\n",
       "      <td>0</td>\n",
       "      <td>0.5</td>\n",
       "      <td>0.90</td>\n",
       "      <td>6</td>\n",
       "    </tr>\n",
       "    <tr>\n",
       "      <th>3</th>\n",
       "      <td>0</td>\n",
       "      <td>0</td>\n",
       "      <td>0</td>\n",
       "      <td>0</td>\n",
       "      <td>0</td>\n",
       "      <td>0</td>\n",
       "      <td>0</td>\n",
       "      <td>0</td>\n",
       "      <td>0</td>\n",
       "      <td>0</td>\n",
       "      <td>0</td>\n",
       "      <td>0.0</td>\n",
       "      <td>0.00</td>\n",
       "      <td>0</td>\n",
       "    </tr>\n",
       "    <tr>\n",
       "      <th>4</th>\n",
       "      <td>0</td>\n",
       "      <td>0</td>\n",
       "      <td>0</td>\n",
       "      <td>0</td>\n",
       "      <td>0</td>\n",
       "      <td>0</td>\n",
       "      <td>0</td>\n",
       "      <td>0</td>\n",
       "      <td>0</td>\n",
       "      <td>0</td>\n",
       "      <td>0</td>\n",
       "      <td>0.2</td>\n",
       "      <td>0.50</td>\n",
       "      <td>6</td>\n",
       "    </tr>\n",
       "  </tbody>\n",
       "</table>\n",
       "</div>"
      ],
      "text/plain": [
       "   bernie  buttigieg  biden  warren  gender  age  democrat  socialist  trump  \\\n",
       "0       0          0      0       0       0    0         0          0      0   \n",
       "1       0          0      0       0       0    0         1          0      0   \n",
       "2       0          0      0       0       0    0         0          0      0   \n",
       "3       0          0      0       0       0    0         0          0      0   \n",
       "4       0          0      0       0       0    0         0          0      0   \n",
       "\n",
       "   delegates  extended  sentiment  subjectivity  cluster  \n",
       "0          0         0        0.5          0.75        6  \n",
       "1          0         0        0.2          0.25       10  \n",
       "2          0         0        0.5          0.90        6  \n",
       "3          0         0        0.0          0.00        0  \n",
       "4          0         0        0.2          0.50        6  "
      ]
     },
     "execution_count": 38,
     "metadata": {},
     "output_type": "execute_result"
    }
   ],
   "source": [
    "data_results.head()"
   ]
  },
  {
   "cell_type": "code",
   "execution_count": 55,
   "metadata": {},
   "outputs": [
    {
     "data": {
      "text/plain": [
       "<matplotlib.collections.PathCollection at 0x21d2ab2bf98>"
      ]
     },
     "execution_count": 55,
     "metadata": {},
     "output_type": "execute_result"
    },
    {
     "data": {
      "image/png": "[encoded data removed]",
      "text/plain": [
       "<Figure size 432x288 with 1 Axes>"
      ]
     },
     "metadata": {
      "needs_background": "light"
     },
     "output_type": "display_data"
    }
   ],
   "source": [
    "# plt.scatter(data[:,2],data[:,2], c=kmeans.labels_, cmap='rainbow')\n",
    "# plt.scatter(kmeans.cluster_centers_[:,0] ,kmeans.cluster_centers_[:,1], color='black')\n"
   ]
  },
  {
   "cell_type": "code",
   "execution_count": 59,
   "metadata": {},
   "outputs": [],
   "source": []
  },
  {
   "cell_type": "code",
   "execution_count": null,
   "metadata": {},
   "outputs": [],
   "source": []
  },
  {
   "cell_type": "code",
   "execution_count": null,
   "metadata": {},
   "outputs": [],
   "source": []
  }
 ],
 "metadata": {
  "kernelspec": {
   "display_name": "Python 3",
   "language": "python",
   "name": "python3"
  },
  "language_info": {
   "codemirror_mode": {
    "name": "ipython",
    "version": 3
   },
   "file_extension": ".py",
   "mimetype": "text/x-python",
   "name": "python",
   "nbconvert_exporter": "python",
   "pygments_lexer": "ipython3",
   "version": "3.7.3"
  }
 },
 "nbformat": 4,
 "nbformat_minor": 2
}
