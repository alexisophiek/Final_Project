{
 "cells": [
  {
   "cell_type": "code",
<<<<<<< HEAD
   "execution_count": 4,
=======
   "execution_count": 1,
>>>>>>> fa53cf2fdf308ee5aaef8d6002da30487df7a82e
   "metadata": {},
   "outputs": [],
   "source": [
    "import psycopg2\n",
    "import json\n",
    "from datetime import datetime as dt\n",
    "import pandas as pd\n",
    "import re \n",
    "from textblob import TextBlob "
   ]
  },
  {
   "cell_type": "code",
<<<<<<< HEAD
   "execution_count": 5,
   "metadata": {},
   "outputs": [],
   "source": [
    "p=\"datasucks\""
=======
   "execution_count": 2,
   "metadata": {},
   "outputs": [],
   "source": [
    "p=\"dataisok\""
>>>>>>> fa53cf2fdf308ee5aaef8d6002da30487df7a82e
   ]
  },
  {
   "cell_type": "code",
<<<<<<< HEAD
   "execution_count": 6,
   "metadata": {},
   "outputs": [],
   "source": [
    "conn = psycopg2.connect(user = \"alexis\",\n",
=======
   "execution_count": 3,
   "metadata": {},
   "outputs": [],
   "source": [
    "conn = psycopg2.connect(user = \"sam\",\n",
>>>>>>> fa53cf2fdf308ee5aaef8d6002da30487df7a82e
    "                                  password = f\"{p}\",\n",
    "                                  host = \"127.0.0.1\",\n",
    "                                  port = \"3306\",\n",
    "                                  database = \"postgres\")"
   ]
  },
  {
   "cell_type": "code",
<<<<<<< HEAD
   "execution_count": 7,
=======
   "execution_count": 4,
>>>>>>> fa53cf2fdf308ee5aaef8d6002da30487df7a82e
   "metadata": {},
   "outputs": [],
   "source": [
    "cursor = conn.cursor()"
   ]
  },
  {
   "cell_type": "code",
<<<<<<< HEAD
   "execution_count": 8,
=======
   "execution_count": 5,
>>>>>>> fa53cf2fdf308ee5aaef8d6002da30487df7a82e
   "metadata": {},
   "outputs": [],
   "source": [
    "tweet_list = []\n",
    "followers = []\n",
    "cursor.execute(\"select * from tweets\")\n",
    "tweets = cursor.fetchall()\n",
    "if not tweets:\n",
    "    print(\"empty\")\n",
    "for row in tweets:\n",
    "    for col in row:\n",
    "        if type(col) is dict:\n",
    "            tweet_list.append(col['text'])\n",
    "            followers.append(col['user']['followers_count'])"
   ]
  },
  {
   "cell_type": "code",
<<<<<<< HEAD
   "execution_count": 9,
=======
   "execution_count": 6,
>>>>>>> fa53cf2fdf308ee5aaef8d6002da30487df7a82e
   "metadata": {},
   "outputs": [],
   "source": [
    "remove_list = [r'@[A-Za-z0-9]+','https?://[A-Za-z0-9./]+','\\n','RT :',r'_[A-Za-z0-9]+','  ']"
   ]
  },
  {
   "cell_type": "code",
<<<<<<< HEAD
   "execution_count": 10,
=======
   "execution_count": 7,
>>>>>>> fa53cf2fdf308ee5aaef8d6002da30487df7a82e
   "metadata": {},
   "outputs": [],
   "source": [
    "def clean_tweets(remove_list,tweet_list):\n",
    "    for item in remove_list:\n",
    "        tweet_list = [re.sub(item,'',tweet) for tweet in tweet_list]\n",
    "    return tweet_list"
   ]
  },
  {
   "cell_type": "code",
<<<<<<< HEAD
   "execution_count": 28,
=======
   "execution_count": 8,
>>>>>>> fa53cf2fdf308ee5aaef8d6002da30487df7a82e
   "metadata": {},
   "outputs": [
    {
     "data": {
      "text/plain": [
       "2316"
      ]
     },
<<<<<<< HEAD
     "execution_count": 28,
=======
     "execution_count": 8,
>>>>>>> fa53cf2fdf308ee5aaef8d6002da30487df7a82e
     "metadata": {},
     "output_type": "execute_result"
    }
   ],
   "source": [
    "cleaned = clean_tweets(remove_list,tweet_list)\n",
    "len(cleaned)"
   ]
  },
  {
   "cell_type": "code",
<<<<<<< HEAD
   "execution_count": 12,
   "metadata": {},
   "outputs": [],
   "source": [
    "# sentiment = []\n",
    "# subjectivity= []\n",
    "\n",
    "# for each in cleaned:\n",
    "#     sentiment.append([TextBlob(each).polarity])\n",
    "#     subjectivity.append([TextBlob(each).subjectivity])\n",
    "\n",
    "    \n",
    "# sentiment_objects.polarity, sentiment_objects\n",
    "# sentiment_df = pd.DataFrame(sentiment_objects)\n",
    "# sentiment_df.rename(columns = {0:\"tweets\", 1:\"sentiment\",2:\"subjectivity\"}, inplace=True)\n",
    "\n",
    "# sentiment_df.head()"
   ]
  },
  {
   "cell_type": "code",
   "execution_count": 13,
=======
   "execution_count": 9,
>>>>>>> fa53cf2fdf308ee5aaef8d6002da30487df7a82e
   "metadata": {},
   "outputs": [],
   "source": [
    "def result(tweet,keyword_list):\n",
    "    if any(word in tweet for word in keyword_list):\n",
    "        return 1\n",
    "    else:\n",
    "        return 0"
   ]
  },
  {
   "cell_type": "code",
<<<<<<< HEAD
   "execution_count": 14,
=======
   "execution_count": 10,
>>>>>>> fa53cf2fdf308ee5aaef8d6002da30487df7a82e
   "metadata": {},
   "outputs": [],
   "source": [
    "sentiment = []\n",
    "subjectivity= []\n",
    "bernie = []\n",
    "buttigieg = []\n",
    "biden = []\n",
    "warren = []\n",
    "gender = []\n",
    "age = []\n",
    "democrat = []\n",
    "socialist = []\n",
    "trump = []\n",
    "delegates = []\n",
    "extended = []\n",
    "length = []\n",
    "for tweet in cleaned:\n",
    "    tweet_length = len(tweet)\n",
    "    length.append(tweet_length)\n",
    "    if tweet_length > 140:\n",
    "        extended.append(1)\n",
    "    else:\n",
    "        extended.append(0)\n",
<<<<<<< HEAD
    "    delegates.append(result(tweet.lower(),[\"delegate\"]))\n",
    "    trump.append(result(tweet.lower(),[\"trump\"]))\n",
    "    socialist.append(result(tweet.lower(),[\"socialist\"]))\n",
    "    democrat.append(result(tweet.lower(),[\"democrat\",\"democratic\"]))\n",
    "    age.append(result(tweet.lower(),[\"old\",\"aging\"]))\n",
    "    gender.append(result(tweet.lower(),[\"female\",\"woman\"]))\n",
    "    warren.append(result(tweet.lower(),[\"warren\"]))\n",
    "    biden.append(result(tweet.lower(),[\"biden\"]))\n",
    "    buttigieg.append(result(tweet.lower(),[\"buttigieg\"]))\n",
    "    bernie.append(result(tweet.lower(),[\"bernie\"]))\n",
=======
    "    delegates.append(result(tweet.lower(),[\"delegate\",\"delegates\"]))\n",
    "    trump.append(result(tweet.lower(),[\"trump\",\"donald\",\"donald trump\",\"donaldtrump\",\"donald j. trump\",\"don\"]))\n",
    "    socialist.append(result(tweet.lower(),[\"socialist\",\"socialism\",\"far-left\",\"left-extremist\", \"extreme left\"]))\n",
    "    democrat.append(result(tweet.lower(),[\"democrat\",\"democratic\"]))\n",
    "    age.append(result(tweet.lower(),[\"old\",\"aging\",\"grandpa\"]))\n",
    "    gender.append(result(tweet.lower(),[\"female\",\"woman\",\"girl\",\"lady\",\"women\"]))\n",
    "    warren.append(result(tweet.lower(),[\"warren\",'elizabeth',\"elizabethwarren\",\"elizabeth warren\"]))\n",
    "    biden.append(result(tweet.lower(),[\"biden\",\"joe\",\"joebiden\",\"joe biden\"]))\n",
    "    buttigieg.append(result(tweet.lower(),[\"buttigieg\",\"pete\",\"petebuttigieg\",\"pete buttigieg\"]))\n",
    "    bernie.append(result(tweet.lower(),[\"bernie\",\"berniesanders\",\"sanders\",\"bernie sanders\", \"feel the bern\"]))\n",
>>>>>>> fa53cf2fdf308ee5aaef8d6002da30487df7a82e
    "    sentiment.append([TextBlob(tweet).polarity])\n",
    "    subjectivity.append([TextBlob(tweet).subjectivity])"
   ]
  },
  {
   "cell_type": "code",
<<<<<<< HEAD
   "execution_count": 15,
=======
   "execution_count": 11,
>>>>>>> fa53cf2fdf308ee5aaef8d6002da30487df7a82e
   "metadata": {},
   "outputs": [
    {
     "data": {
      "text/html": [
       "<div>\n",
       "<style scoped>\n",
       "    .dataframe tbody tr th:only-of-type {\n",
       "        vertical-align: middle;\n",
       "    }\n",
       "\n",
       "    .dataframe tbody tr th {\n",
       "        vertical-align: top;\n",
       "    }\n",
       "\n",
       "    .dataframe thead th {\n",
       "        text-align: right;\n",
       "    }\n",
       "</style>\n",
       "<table border=\"1\" class=\"dataframe\">\n",
       "  <thead>\n",
       "    <tr style=\"text-align: right;\">\n",
       "      <th></th>\n",
       "      <th>bernie</th>\n",
       "      <th>buttigieg</th>\n",
       "      <th>biden</th>\n",
       "      <th>warren</th>\n",
       "      <th>gender</th>\n",
       "      <th>age</th>\n",
       "      <th>democrat</th>\n",
       "      <th>socialist</th>\n",
       "      <th>trump</th>\n",
       "      <th>delegates</th>\n",
       "      <th>extended</th>\n",
       "      <th>sentiment</th>\n",
       "      <th>subjectivity</th>\n",
       "    </tr>\n",
       "  </thead>\n",
       "  <tbody>\n",
       "    <tr>\n",
<<<<<<< HEAD
       "      <th>0</th>\n",
=======
       "      <td>0</td>\n",
>>>>>>> fa53cf2fdf308ee5aaef8d6002da30487df7a82e
       "      <td>0</td>\n",
       "      <td>0</td>\n",
       "      <td>0</td>\n",
       "      <td>0</td>\n",
       "      <td>0</td>\n",
       "      <td>0</td>\n",
       "      <td>0</td>\n",
       "      <td>0</td>\n",
       "      <td>0</td>\n",
       "      <td>0</td>\n",
       "      <td>0</td>\n",
       "      <td>0.5</td>\n",
       "      <td>0.75</td>\n",
       "    </tr>\n",
       "    <tr>\n",
<<<<<<< HEAD
       "      <th>1</th>\n",
=======
       "      <td>1</td>\n",
>>>>>>> fa53cf2fdf308ee5aaef8d6002da30487df7a82e
       "      <td>0</td>\n",
       "      <td>0</td>\n",
       "      <td>0</td>\n",
       "      <td>0</td>\n",
       "      <td>0</td>\n",
       "      <td>0</td>\n",
       "      <td>1</td>\n",
       "      <td>0</td>\n",
       "      <td>0</td>\n",
       "      <td>0</td>\n",
       "      <td>0</td>\n",
       "      <td>0.2</td>\n",
       "      <td>0.25</td>\n",
       "    </tr>\n",
       "    <tr>\n",
<<<<<<< HEAD
       "      <th>2</th>\n",
=======
       "      <td>2</td>\n",
>>>>>>> fa53cf2fdf308ee5aaef8d6002da30487df7a82e
       "      <td>0</td>\n",
       "      <td>0</td>\n",
       "      <td>0</td>\n",
       "      <td>0</td>\n",
       "      <td>0</td>\n",
       "      <td>0</td>\n",
       "      <td>0</td>\n",
       "      <td>0</td>\n",
       "      <td>0</td>\n",
       "      <td>0</td>\n",
       "      <td>0</td>\n",
       "      <td>0.5</td>\n",
       "      <td>0.90</td>\n",
       "    </tr>\n",
       "    <tr>\n",
<<<<<<< HEAD
       "      <th>3</th>\n",
=======
       "      <td>3</td>\n",
>>>>>>> fa53cf2fdf308ee5aaef8d6002da30487df7a82e
       "      <td>0</td>\n",
       "      <td>0</td>\n",
       "      <td>0</td>\n",
       "      <td>0</td>\n",
       "      <td>0</td>\n",
       "      <td>0</td>\n",
       "      <td>0</td>\n",
       "      <td>0</td>\n",
       "      <td>0</td>\n",
       "      <td>0</td>\n",
       "      <td>0</td>\n",
       "      <td>0.0</td>\n",
       "      <td>0.00</td>\n",
       "    </tr>\n",
       "    <tr>\n",
<<<<<<< HEAD
       "      <th>4</th>\n",
=======
       "      <td>4</td>\n",
>>>>>>> fa53cf2fdf308ee5aaef8d6002da30487df7a82e
       "      <td>0</td>\n",
       "      <td>0</td>\n",
       "      <td>0</td>\n",
       "      <td>0</td>\n",
       "      <td>0</td>\n",
       "      <td>0</td>\n",
       "      <td>0</td>\n",
       "      <td>0</td>\n",
       "      <td>0</td>\n",
       "      <td>0</td>\n",
       "      <td>0</td>\n",
       "      <td>0.2</td>\n",
       "      <td>0.50</td>\n",
       "    </tr>\n",
       "  </tbody>\n",
       "</table>\n",
       "</div>"
      ],
      "text/plain": [
       "   bernie  buttigieg  biden  warren  gender  age  democrat  socialist  trump  \\\n",
       "0       0          0      0       0       0    0         0          0      0   \n",
       "1       0          0      0       0       0    0         1          0      0   \n",
       "2       0          0      0       0       0    0         0          0      0   \n",
       "3       0          0      0       0       0    0         0          0      0   \n",
       "4       0          0      0       0       0    0         0          0      0   \n",
       "\n",
       "   delegates  extended  sentiment  subjectivity  \n",
       "0          0         0        0.5          0.75  \n",
       "1          0         0        0.2          0.25  \n",
       "2          0         0        0.5          0.90  \n",
       "3          0         0        0.0          0.00  \n",
       "4          0         0        0.2          0.50  "
      ]
     },
<<<<<<< HEAD
     "execution_count": 15,
=======
     "execution_count": 11,
>>>>>>> fa53cf2fdf308ee5aaef8d6002da30487df7a82e
     "metadata": {},
     "output_type": "execute_result"
    }
   ],
   "source": [
    "data = pd.DataFrame({\"bernie\":bernie,\"buttigieg\":buttigieg,\"biden\":biden,\"warren\":warren,\"gender\":gender,\n",
    "             \"age\":age,\"democrat\":democrat,\"socialist\":socialist,\"trump\":trump,\"delegates\":delegates,\n",
    "             \"extended\":extended,\"sentiment\":sentiment, \"subjectivity\":subjectivity})\n",
    "data['sentiment'] = data['sentiment'].map(lambda x: x[0])\n",
    "data['subjectivity'] = data['subjectivity'].map(lambda x: x[0])\n",
    "\n",
    "# data['sentiment'] = data['sentiment'].astype(float)\n",
    "# data['sentiment'] = data['sentiment'].astype(float)\n",
    "\n",
    "data.head()"
   ]
  },
  {
   "cell_type": "code",
<<<<<<< HEAD
   "execution_count": 16,
=======
   "execution_count": 69,
>>>>>>> fa53cf2fdf308ee5aaef8d6002da30487df7a82e
   "metadata": {},
   "outputs": [],
   "source": [
    "from sklearn.cluster import KMeans\n",
    "kmeans = KMeans(n_clusters=12)"
   ]
  },
  {
   "cell_type": "code",
<<<<<<< HEAD
   "execution_count": 17,
=======
   "execution_count": 70,
>>>>>>> fa53cf2fdf308ee5aaef8d6002da30487df7a82e
   "metadata": {},
   "outputs": [
    {
     "data": {
      "text/plain": [
       "KMeans(algorithm='auto', copy_x=True, init='k-means++', max_iter=300,\n",
       "       n_clusters=12, n_init=10, n_jobs=None, precompute_distances='auto',\n",
       "       random_state=None, tol=0.0001, verbose=0)"
      ]
     },
<<<<<<< HEAD
     "execution_count": 17,
=======
     "execution_count": 70,
>>>>>>> fa53cf2fdf308ee5aaef8d6002da30487df7a82e
     "metadata": {},
     "output_type": "execute_result"
    }
   ],
   "source": [
    "kmeans.fit(data)"
   ]
  },
  {
   "cell_type": "code",
<<<<<<< HEAD
   "execution_count": 18,
=======
   "execution_count": 71,
>>>>>>> fa53cf2fdf308ee5aaef8d6002da30487df7a82e
   "metadata": {},
   "outputs": [
    {
     "data": {
      "text/plain": [
<<<<<<< HEAD
       "array([ 2,  3,  2,  5,  0, 11,  5,  2,  2,  3])"
      ]
     },
     "execution_count": 18,
=======
       "array([0, 4, 0, 3, 0, 4, 3, 0, 2, 4], dtype=int32)"
      ]
     },
     "execution_count": 71,
>>>>>>> fa53cf2fdf308ee5aaef8d6002da30487df7a82e
     "metadata": {},
     "output_type": "execute_result"
    }
   ],
   "source": [
    "kmeans.predict(data)[:10]"
   ]
  },
  {
   "cell_type": "code",
<<<<<<< HEAD
   "execution_count": 21,
=======
   "execution_count": 72,
>>>>>>> fa53cf2fdf308ee5aaef8d6002da30487df7a82e
   "metadata": {},
   "outputs": [
    {
     "name": "stdout",
     "output_type": "stream",
     "text": [
      "(1, 13)\n"
     ]
    },
    {
     "data": {
      "text/plain": [
<<<<<<< HEAD
       "array([1])"
      ]
     },
     "execution_count": 21,
=======
       "array([11], dtype=int32)"
      ]
     },
     "execution_count": 72,
>>>>>>> fa53cf2fdf308ee5aaef8d6002da30487df7a82e
     "metadata": {},
     "output_type": "execute_result"
    }
   ],
   "source": [
    "# Check individual Result from \n",
    "print((data.iloc[59].values.reshape(1,13)).shape)\n",
    "kmeans.predict(data.iloc[59].values.reshape(1,13))"
   ]
  },
  {
   "cell_type": "code",
<<<<<<< HEAD
   "execution_count": 22,
=======
   "execution_count": 73,
>>>>>>> fa53cf2fdf308ee5aaef8d6002da30487df7a82e
   "metadata": {},
   "outputs": [
    {
     "data": {
      "text/plain": [
       "bernie          1.0\n",
       "buttigieg       0.0\n",
       "biden           0.0\n",
       "warren          0.0\n",
       "gender          0.0\n",
       "age             0.0\n",
       "democrat        1.0\n",
       "socialist       0.0\n",
       "trump           0.0\n",
       "delegates       0.0\n",
       "extended        0.0\n",
       "sentiment       0.0\n",
       "subjectivity    0.0\n",
       "Name: 75, dtype: float64"
      ]
     },
<<<<<<< HEAD
     "execution_count": 22,
=======
     "execution_count": 73,
>>>>>>> fa53cf2fdf308ee5aaef8d6002da30487df7a82e
     "metadata": {},
     "output_type": "execute_result"
    }
   ],
   "source": [
    "data.iloc[75]"
   ]
  },
  {
   "cell_type": "code",
<<<<<<< HEAD
   "execution_count": 23,
=======
   "execution_count": 74,
>>>>>>> fa53cf2fdf308ee5aaef8d6002da30487df7a82e
   "metadata": {},
   "outputs": [
    {
     "name": "stdout",
     "output_type": "stream",
     "text": [
      "Biden: 265\n",
<<<<<<< HEAD
      "Warren: 1\n",
      "Buttigieg: 1742\n",
      "Warren: 1\n"
=======
      "Buttigieg: 878\n",
      "Warren: 977\n",
      "Buttigieg: 1742\n",
      "Warren: 1931\n"
>>>>>>> fa53cf2fdf308ee5aaef8d6002da30487df7a82e
     ]
    }
   ],
   "source": [
    "for i,row in data.iterrows():\n",
    "    if row[\"bernie\"] == 1:\n",
    "        if row[\"buttigieg\"] ==1:\n",
    "            print(f\"Buttigieg: {i}\")\n",
    "        if row[\"biden\"] == 1:\n",
    "            print(f\"Biden: {i}\")\n",
    "        if row[\"warren\"] == 1:\n",
<<<<<<< HEAD
    "            print(f\"Warren: {1}\")"
=======
    "            print(f\"Warren: {i}\")\n",
    "#This is GREAT because we can rule out a lot of multi-candidate references in a single tweet positivity score / analysis. \n",
    "\n"
>>>>>>> fa53cf2fdf308ee5aaef8d6002da30487df7a82e
   ]
  },
  {
   "cell_type": "code",
<<<<<<< HEAD
   "execution_count": 24,
=======
   "execution_count": 75,
>>>>>>> fa53cf2fdf308ee5aaef8d6002da30487df7a82e
   "metadata": {},
   "outputs": [
    {
     "data": {
      "text/html": [
       "<div>\n",
       "<style scoped>\n",
       "    .dataframe tbody tr th:only-of-type {\n",
       "        vertical-align: middle;\n",
       "    }\n",
       "\n",
       "    .dataframe tbody tr th {\n",
       "        vertical-align: top;\n",
       "    }\n",
       "\n",
       "    .dataframe thead th {\n",
       "        text-align: right;\n",
       "    }\n",
       "</style>\n",
       "<table border=\"1\" class=\"dataframe\">\n",
       "  <thead>\n",
       "    <tr style=\"text-align: right;\">\n",
       "      <th></th>\n",
       "      <th>bernie</th>\n",
       "      <th>buttigieg</th>\n",
       "      <th>biden</th>\n",
       "      <th>warren</th>\n",
       "      <th>gender</th>\n",
       "      <th>age</th>\n",
       "      <th>democrat</th>\n",
       "      <th>socialist</th>\n",
       "      <th>trump</th>\n",
       "      <th>delegates</th>\n",
       "      <th>extended</th>\n",
       "      <th>sentiment</th>\n",
       "      <th>subjectivity</th>\n",
       "    </tr>\n",
       "  </thead>\n",
       "  <tbody>\n",
       "    <tr>\n",
<<<<<<< HEAD
       "      <th>330</th>\n",
       "      <td>0</td>\n",
       "      <td>0</td>\n",
       "      <td>0</td>\n",
       "      <td>0</td>\n",
       "      <td>1</td>\n",
       "      <td>0</td>\n",
       "      <td>0</td>\n",
       "      <td>0</td>\n",
       "      <td>0</td>\n",
       "      <td>0</td>\n",
       "      <td>0</td>\n",
       "      <td>0.166667</td>\n",
       "      <td>0.453333</td>\n",
       "    </tr>\n",
       "    <tr>\n",
       "      <th>331</th>\n",
       "      <td>0</td>\n",
       "      <td>0</td>\n",
       "      <td>0</td>\n",
       "      <td>0</td>\n",
       "      <td>0</td>\n",
       "      <td>0</td>\n",
       "      <td>0</td>\n",
       "      <td>0</td>\n",
       "      <td>0</td>\n",
       "      <td>0</td>\n",
       "      <td>0</td>\n",
       "      <td>-0.390625</td>\n",
       "      <td>1.000000</td>\n",
       "    </tr>\n",
       "    <tr>\n",
       "      <th>332</th>\n",
       "      <td>0</td>\n",
       "      <td>0</td>\n",
       "      <td>0</td>\n",
       "      <td>0</td>\n",
       "      <td>0</td>\n",
=======
       "      <td>878</td>\n",
       "      <td>1</td>\n",
>>>>>>> fa53cf2fdf308ee5aaef8d6002da30487df7a82e
       "      <td>1</td>\n",
       "      <td>0</td>\n",
       "      <td>0</td>\n",
       "      <td>0</td>\n",
       "      <td>0</td>\n",
       "      <td>0</td>\n",
<<<<<<< HEAD
       "      <td>0.416667</td>\n",
       "      <td>0.583333</td>\n",
       "    </tr>\n",
       "    <tr>\n",
       "      <th>333</th>\n",
       "      <td>0</td>\n",
       "      <td>0</td>\n",
       "      <td>0</td>\n",
=======
>>>>>>> fa53cf2fdf308ee5aaef8d6002da30487df7a82e
       "      <td>0</td>\n",
       "      <td>0</td>\n",
       "      <td>0</td>\n",
       "      <td>0</td>\n",
<<<<<<< HEAD
       "      <td>0</td>\n",
       "      <td>0</td>\n",
       "      <td>0</td>\n",
       "      <td>0</td>\n",
       "      <td>0.500000</td>\n",
       "      <td>0.500000</td>\n",
       "    </tr>\n",
       "    <tr>\n",
       "      <th>334</th>\n",
       "      <td>0</td>\n",
       "      <td>0</td>\n",
       "      <td>0</td>\n",
       "      <td>0</td>\n",
       "      <td>0</td>\n",
       "      <td>0</td>\n",
=======
       "      <td>0.0</td>\n",
       "      <td>0.0</td>\n",
       "    </tr>\n",
       "    <tr>\n",
       "      <td>879</td>\n",
>>>>>>> fa53cf2fdf308ee5aaef8d6002da30487df7a82e
       "      <td>0</td>\n",
       "      <td>0</td>\n",
       "      <td>0</td>\n",
       "      <td>0</td>\n",
       "      <td>0</td>\n",
<<<<<<< HEAD
       "      <td>0.111111</td>\n",
       "      <td>0.188889</td>\n",
       "    </tr>\n",
       "    <tr>\n",
       "      <th>335</th>\n",
       "      <td>0</td>\n",
       "      <td>0</td>\n",
=======
>>>>>>> fa53cf2fdf308ee5aaef8d6002da30487df7a82e
       "      <td>0</td>\n",
       "      <td>0</td>\n",
       "      <td>0</td>\n",
       "      <td>1</td>\n",
       "      <td>0</td>\n",
       "      <td>0</td>\n",
<<<<<<< HEAD
       "      <td>0</td>\n",
       "      <td>0</td>\n",
       "      <td>0</td>\n",
       "      <td>0.416667</td>\n",
       "      <td>0.583333</td>\n",
=======
       "      <td>0.0</td>\n",
       "      <td>0.0</td>\n",
>>>>>>> fa53cf2fdf308ee5aaef8d6002da30487df7a82e
       "    </tr>\n",
       "  </tbody>\n",
       "</table>\n",
       "</div>"
      ],
      "text/plain": [
       "     bernie  buttigieg  biden  warren  gender  age  democrat  socialist  \\\n",
<<<<<<< HEAD
       "330       0          0      0       0       1    0         0          0   \n",
       "331       0          0      0       0       0    0         0          0   \n",
       "332       0          0      0       0       0    1         0          0   \n",
       "333       0          0      0       0       0    0         0          0   \n",
       "334       0          0      0       0       0    0         0          0   \n",
       "335       0          0      0       0       0    1         0          0   \n",
       "\n",
       "     trump  delegates  extended  sentiment  subjectivity  \n",
       "330      0          0         0   0.166667      0.453333  \n",
       "331      0          0         0  -0.390625      1.000000  \n",
       "332      0          0         0   0.416667      0.583333  \n",
       "333      0          0         0   0.500000      0.500000  \n",
       "334      0          0         0   0.111111      0.188889  \n",
       "335      0          0         0   0.416667      0.583333  "
      ]
     },
     "execution_count": 24,
=======
       "878       1          1      0       0       0    0         0          0   \n",
       "879       0          0      0       0       0    0         0          0   \n",
       "\n",
       "     trump  delegates  extended  sentiment  subjectivity  \n",
       "878      0          0         0        0.0           0.0  \n",
       "879      1          0         0        0.0           0.0  "
      ]
     },
     "execution_count": 75,
>>>>>>> fa53cf2fdf308ee5aaef8d6002da30487df7a82e
     "metadata": {},
     "output_type": "execute_result"
    }
   ],
   "source": [
<<<<<<< HEAD
    "data.iloc[330:336]"
=======
    "data.iloc[878:880]"
>>>>>>> fa53cf2fdf308ee5aaef8d6002da30487df7a82e
   ]
  },
  {
   "cell_type": "code",
<<<<<<< HEAD
   "execution_count": 25,
=======
   "execution_count": 76,
>>>>>>> fa53cf2fdf308ee5aaef8d6002da30487df7a82e
   "metadata": {},
   "outputs": [],
   "source": [
    "data_results = data.copy()\n",
    "data_results['cluster'] = kmeans.predict(data).tolist()"
   ]
  },
  {
   "cell_type": "code",
<<<<<<< HEAD
   "execution_count": 27,
=======
   "execution_count": 82,
>>>>>>> fa53cf2fdf308ee5aaef8d6002da30487df7a82e
   "metadata": {},
   "outputs": [
    {
     "data": {
      "text/html": [
       "<div>\n",
       "<style scoped>\n",
       "    .dataframe tbody tr th:only-of-type {\n",
       "        vertical-align: middle;\n",
       "    }\n",
       "\n",
       "    .dataframe tbody tr th {\n",
       "        vertical-align: top;\n",
       "    }\n",
       "\n",
       "    .dataframe thead th {\n",
       "        text-align: right;\n",
       "    }\n",
       "</style>\n",
       "<table border=\"1\" class=\"dataframe\">\n",
       "  <thead>\n",
       "    <tr style=\"text-align: right;\">\n",
       "      <th></th>\n",
       "      <th>bernie</th>\n",
       "      <th>buttigieg</th>\n",
       "      <th>biden</th>\n",
       "      <th>warren</th>\n",
       "      <th>gender</th>\n",
       "      <th>age</th>\n",
       "      <th>democrat</th>\n",
       "      <th>socialist</th>\n",
       "      <th>trump</th>\n",
       "      <th>delegates</th>\n",
       "      <th>extended</th>\n",
       "      <th>sentiment</th>\n",
       "      <th>subjectivity</th>\n",
       "      <th>cluster</th>\n",
       "    </tr>\n",
       "  </thead>\n",
       "  <tbody>\n",
       "    <tr>\n",
<<<<<<< HEAD
       "      <th>0</th>\n",
=======
       "      <td>0</td>\n",
>>>>>>> fa53cf2fdf308ee5aaef8d6002da30487df7a82e
       "      <td>0</td>\n",
       "      <td>0</td>\n",
       "      <td>0</td>\n",
       "      <td>0</td>\n",
       "      <td>0</td>\n",
       "      <td>0</td>\n",
       "      <td>0</td>\n",
       "      <td>0</td>\n",
       "      <td>0</td>\n",
       "      <td>0</td>\n",
       "      <td>0</td>\n",
       "      <td>0.5</td>\n",
<<<<<<< HEAD
       "      <td>0.75</td>\n",
       "      <td>2</td>\n",
       "    </tr>\n",
       "    <tr>\n",
       "      <th>1</th>\n",
=======
       "      <td>0.750</td>\n",
       "      <td>0</td>\n",
       "    </tr>\n",
       "    <tr>\n",
       "      <td>1</td>\n",
>>>>>>> fa53cf2fdf308ee5aaef8d6002da30487df7a82e
       "      <td>0</td>\n",
       "      <td>0</td>\n",
       "      <td>0</td>\n",
       "      <td>0</td>\n",
       "      <td>0</td>\n",
       "      <td>0</td>\n",
       "      <td>1</td>\n",
       "      <td>0</td>\n",
       "      <td>0</td>\n",
       "      <td>0</td>\n",
       "      <td>0</td>\n",
       "      <td>0.2</td>\n",
<<<<<<< HEAD
       "      <td>0.25</td>\n",
       "      <td>3</td>\n",
       "    </tr>\n",
       "    <tr>\n",
       "      <th>2</th>\n",
=======
       "      <td>0.250</td>\n",
       "      <td>4</td>\n",
       "    </tr>\n",
       "    <tr>\n",
       "      <td>2</td>\n",
>>>>>>> fa53cf2fdf308ee5aaef8d6002da30487df7a82e
       "      <td>0</td>\n",
       "      <td>0</td>\n",
       "      <td>0</td>\n",
       "      <td>0</td>\n",
       "      <td>0</td>\n",
       "      <td>0</td>\n",
       "      <td>0</td>\n",
       "      <td>0</td>\n",
       "      <td>0</td>\n",
       "      <td>0</td>\n",
       "      <td>0</td>\n",
       "      <td>0.5</td>\n",
<<<<<<< HEAD
       "      <td>0.90</td>\n",
       "      <td>2</td>\n",
       "    </tr>\n",
       "    <tr>\n",
       "      <th>3</th>\n",
=======
       "      <td>0.900</td>\n",
       "      <td>0</td>\n",
       "    </tr>\n",
       "    <tr>\n",
       "      <td>3</td>\n",
>>>>>>> fa53cf2fdf308ee5aaef8d6002da30487df7a82e
       "      <td>0</td>\n",
       "      <td>0</td>\n",
       "      <td>0</td>\n",
       "      <td>0</td>\n",
       "      <td>0</td>\n",
       "      <td>0</td>\n",
       "      <td>0</td>\n",
       "      <td>0</td>\n",
       "      <td>0</td>\n",
       "      <td>0</td>\n",
       "      <td>0</td>\n",
       "      <td>0.0</td>\n",
<<<<<<< HEAD
       "      <td>0.00</td>\n",
       "      <td>5</td>\n",
       "    </tr>\n",
       "    <tr>\n",
       "      <th>4</th>\n",
=======
       "      <td>0.000</td>\n",
       "      <td>3</td>\n",
       "    </tr>\n",
       "    <tr>\n",
       "      <td>4</td>\n",
>>>>>>> fa53cf2fdf308ee5aaef8d6002da30487df7a82e
       "      <td>0</td>\n",
       "      <td>0</td>\n",
       "      <td>0</td>\n",
       "      <td>0</td>\n",
       "      <td>0</td>\n",
       "      <td>0</td>\n",
       "      <td>0</td>\n",
       "      <td>0</td>\n",
       "      <td>0</td>\n",
       "      <td>0</td>\n",
       "      <td>0</td>\n",
       "      <td>0.2</td>\n",
<<<<<<< HEAD
       "      <td>0.50</td>\n",
       "      <td>0</td>\n",
       "    </tr>\n",
=======
       "      <td>0.500</td>\n",
       "      <td>0</td>\n",
       "    </tr>\n",
       "    <tr>\n",
       "      <td>5</td>\n",
       "      <td>0</td>\n",
       "      <td>0</td>\n",
       "      <td>0</td>\n",
       "      <td>1</td>\n",
       "      <td>0</td>\n",
       "      <td>0</td>\n",
       "      <td>1</td>\n",
       "      <td>0</td>\n",
       "      <td>0</td>\n",
       "      <td>0</td>\n",
       "      <td>0</td>\n",
       "      <td>0.0</td>\n",
       "      <td>0.000</td>\n",
       "      <td>4</td>\n",
       "    </tr>\n",
       "    <tr>\n",
       "      <td>6</td>\n",
       "      <td>0</td>\n",
       "      <td>0</td>\n",
       "      <td>0</td>\n",
       "      <td>0</td>\n",
       "      <td>0</td>\n",
       "      <td>0</td>\n",
       "      <td>0</td>\n",
       "      <td>0</td>\n",
       "      <td>0</td>\n",
       "      <td>0</td>\n",
       "      <td>0</td>\n",
       "      <td>0.0</td>\n",
       "      <td>0.000</td>\n",
       "      <td>3</td>\n",
       "    </tr>\n",
       "    <tr>\n",
       "      <td>7</td>\n",
       "      <td>0</td>\n",
       "      <td>0</td>\n",
       "      <td>0</td>\n",
       "      <td>0</td>\n",
       "      <td>0</td>\n",
       "      <td>0</td>\n",
       "      <td>0</td>\n",
       "      <td>0</td>\n",
       "      <td>0</td>\n",
       "      <td>0</td>\n",
       "      <td>0</td>\n",
       "      <td>0.4</td>\n",
       "      <td>0.600</td>\n",
       "      <td>0</td>\n",
       "    </tr>\n",
       "    <tr>\n",
       "      <td>8</td>\n",
       "      <td>0</td>\n",
       "      <td>0</td>\n",
       "      <td>0</td>\n",
       "      <td>0</td>\n",
       "      <td>0</td>\n",
       "      <td>0</td>\n",
       "      <td>0</td>\n",
       "      <td>0</td>\n",
       "      <td>1</td>\n",
       "      <td>0</td>\n",
       "      <td>0</td>\n",
       "      <td>0.5</td>\n",
       "      <td>0.625</td>\n",
       "      <td>2</td>\n",
       "    </tr>\n",
       "    <tr>\n",
       "      <td>9</td>\n",
       "      <td>0</td>\n",
       "      <td>0</td>\n",
       "      <td>0</td>\n",
       "      <td>0</td>\n",
       "      <td>0</td>\n",
       "      <td>0</td>\n",
       "      <td>1</td>\n",
       "      <td>0</td>\n",
       "      <td>0</td>\n",
       "      <td>0</td>\n",
       "      <td>0</td>\n",
       "      <td>0.0</td>\n",
       "      <td>0.000</td>\n",
       "      <td>4</td>\n",
       "    </tr>\n",
>>>>>>> fa53cf2fdf308ee5aaef8d6002da30487df7a82e
       "  </tbody>\n",
       "</table>\n",
       "</div>"
      ],
      "text/plain": [
       "   bernie  buttigieg  biden  warren  gender  age  democrat  socialist  trump  \\\n",
       "0       0          0      0       0       0    0         0          0      0   \n",
       "1       0          0      0       0       0    0         1          0      0   \n",
       "2       0          0      0       0       0    0         0          0      0   \n",
       "3       0          0      0       0       0    0         0          0      0   \n",
       "4       0          0      0       0       0    0         0          0      0   \n",
<<<<<<< HEAD
       "\n",
       "   delegates  extended  sentiment  subjectivity  cluster  \n",
       "0          0         0        0.5          0.75        2  \n",
       "1          0         0        0.2          0.25        3  \n",
       "2          0         0        0.5          0.90        2  \n",
       "3          0         0        0.0          0.00        5  \n",
       "4          0         0        0.2          0.50        0  "
      ]
     },
     "execution_count": 27,
=======
       "5       0          0      0       1       0    0         1          0      0   \n",
       "6       0          0      0       0       0    0         0          0      0   \n",
       "7       0          0      0       0       0    0         0          0      0   \n",
       "8       0          0      0       0       0    0         0          0      1   \n",
       "9       0          0      0       0       0    0         1          0      0   \n",
       "\n",
       "   delegates  extended  sentiment  subjectivity  cluster  \n",
       "0          0         0        0.5         0.750        0  \n",
       "1          0         0        0.2         0.250        4  \n",
       "2          0         0        0.5         0.900        0  \n",
       "3          0         0        0.0         0.000        3  \n",
       "4          0         0        0.2         0.500        0  \n",
       "5          0         0        0.0         0.000        4  \n",
       "6          0         0        0.0         0.000        3  \n",
       "7          0         0        0.4         0.600        0  \n",
       "8          0         0        0.5         0.625        2  \n",
       "9          0         0        0.0         0.000        4  "
      ]
     },
     "execution_count": 82,
>>>>>>> fa53cf2fdf308ee5aaef8d6002da30487df7a82e
     "metadata": {},
     "output_type": "execute_result"
    }
   ],
   "source": [
<<<<<<< HEAD
    "data_results.head()"
=======
    "data_results.head(10)"
   ]
  },
  {
   "cell_type": "code",
   "execution_count": null,
   "metadata": {},
   "outputs": [],
   "source": [
    "data_results.groupby"
>>>>>>> fa53cf2fdf308ee5aaef8d6002da30487df7a82e
   ]
  },
  {
   "cell_type": "code",
<<<<<<< HEAD
   "execution_count": 29,
=======
   "execution_count": 78,
>>>>>>> fa53cf2fdf308ee5aaef8d6002da30487df7a82e
   "metadata": {},
   "outputs": [
    {
     "data": {
<<<<<<< HEAD
      "text/plain": [
       "<matplotlib.colorbar.Colorbar at 0x1f848de4208>"
      ]
     },
     "execution_count": 29,
     "metadata": {},
     "output_type": "execute_result"
=======
      "image/png": "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\n",
      "text/plain": [
       "<Figure size 432x288 with 1 Axes>"
      ]
     },
     "metadata": {
      "needs_background": "light"
     },
     "output_type": "display_data"
>>>>>>> fa53cf2fdf308ee5aaef8d6002da30487df7a82e
    }
   ],
   "source": [
    "import numpy as np\n",
    "import matplotlib.pyplot as plt\n",
    "\n",
    "\n",
    "# random example\n",
<<<<<<< HEAD
    "plt.imshow(np.random.random((50,50)));\n",
    "plt.colorbar()\n",
=======
    "plt.imshow(data_results);\n",
    "# plt.colorbar()\n",
>>>>>>> fa53cf2fdf308ee5aaef8d6002da30487df7a82e
    "# plt.show()"
   ]
  },
  {
   "cell_type": "code",
<<<<<<< HEAD
   "execution_count": 31,
   "metadata": {},
   "outputs": [],
   "source": [
    "# See the unique rows in the data with clusters added\n",
    "unique_rows = data_results.drop_duplicates()"
=======
   "execution_count": 79,
   "metadata": {},
   "outputs": [],
   "source": [
    "df = data_results.groupby('cluster').mean()\n",
    "x = data_results['sentiment']\n",
    "y= data_results['cluster']\n",
    "#df = data_results.groupby('cluster').mean()"
>>>>>>> fa53cf2fdf308ee5aaef8d6002da30487df7a82e
   ]
  },
  {
   "cell_type": "code",
<<<<<<< HEAD
   "execution_count": 32,
=======
   "execution_count": 81,
>>>>>>> fa53cf2fdf308ee5aaef8d6002da30487df7a82e
   "metadata": {},
   "outputs": [
    {
     "data": {
      "text/plain": [
<<<<<<< HEAD
       "<matplotlib.image.AxesImage at 0x1f848fe5a58>"
      ]
     },
     "execution_count": 32,
=======
       "<matplotlib.collections.PathCollection at 0x1a2c4ee6d0>"
      ]
     },
     "execution_count": 81,
>>>>>>> fa53cf2fdf308ee5aaef8d6002da30487df7a82e
     "metadata": {},
     "output_type": "execute_result"
    },
    {
     "data": {
<<<<<<< HEAD
      "image/png": "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\n",
=======
      "image/png": "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\n",
      "text/plain": [
       "<Figure size 432x288 with 1 Axes>"
      ]
     },
     "metadata": {
      "needs_background": "light"
     },
     "output_type": "display_data"
    }
   ],
   "source": [
    "plt.scatter(y,x)\n",
    "\n",
    "# CREATE A BUBBLE / HEAT \n",
    "\n",
    "# USE SENTIMENT OR SUBJECTIVITY AS BUBBLE SIZE\n",
    "\n",
    "# COLOR BY CLUSTER"
   ]
  },
  {
   "cell_type": "code",
   "execution_count": 40,
   "metadata": {},
   "outputs": [
    {
     "data": {
      "text/plain": [
       "<matplotlib.image.AxesImage at 0x1a2c0cf590>"
      ]
     },
     "execution_count": 40,
     "metadata": {},
     "output_type": "execute_result"
    },
    {
     "data": {
      "image/png": "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\n",
>>>>>>> fa53cf2fdf308ee5aaef8d6002da30487df7a82e
      "text/plain": [
       "<Figure size 7200x7200 with 1 Axes>"
      ]
     },
     "metadata": {
      "needs_background": "light"
     },
     "output_type": "display_data"
    }
   ],
   "source": [
    "# Still hard to see\n",
    "plt.figure(figsize=(100,100))\n",
<<<<<<< HEAD
    "plt.imshow(unique_rows)"
=======
    "# plt.imshow(data_results)\n",
    "plt.imshow(df)\n"
>>>>>>> fa53cf2fdf308ee5aaef8d6002da30487df7a82e
   ]
  },
  {
   "cell_type": "code",
<<<<<<< HEAD
   "execution_count": 34,
=======
   "execution_count": 43,
>>>>>>> fa53cf2fdf308ee5aaef8d6002da30487df7a82e
   "metadata": {},
   "outputs": [
    {
     "data": {
<<<<<<< HEAD
      "text/html": [
       "<div>\n",
       "<style scoped>\n",
       "    .dataframe tbody tr th:only-of-type {\n",
       "        vertical-align: middle;\n",
       "    }\n",
       "\n",
       "    .dataframe tbody tr th {\n",
       "        vertical-align: top;\n",
       "    }\n",
       "\n",
       "    .dataframe thead th {\n",
       "        text-align: right;\n",
       "    }\n",
       "</style>\n",
       "<table border=\"1\" class=\"dataframe\">\n",
       "  <thead>\n",
       "    <tr style=\"text-align: right;\">\n",
       "      <th></th>\n",
       "      <th>bernie</th>\n",
       "      <th>buttigieg</th>\n",
       "      <th>biden</th>\n",
       "      <th>warren</th>\n",
       "      <th>gender</th>\n",
       "      <th>age</th>\n",
       "      <th>democrat</th>\n",
       "      <th>socialist</th>\n",
       "      <th>trump</th>\n",
       "      <th>delegates</th>\n",
       "      <th>extended</th>\n",
       "      <th>sentiment</th>\n",
       "      <th>subjectivity</th>\n",
       "      <th>cluster</th>\n",
       "    </tr>\n",
       "  </thead>\n",
       "  <tbody>\n",
       "    <tr>\n",
       "      <th>2184</th>\n",
       "      <td>0</td>\n",
       "      <td>0</td>\n",
       "      <td>0</td>\n",
       "      <td>1</td>\n",
       "      <td>0</td>\n",
       "      <td>0</td>\n",
       "      <td>0</td>\n",
       "      <td>0</td>\n",
       "      <td>0</td>\n",
       "      <td>0</td>\n",
       "      <td>0</td>\n",
       "      <td>-0.033333</td>\n",
       "      <td>0.033333</td>\n",
       "      <td>11</td>\n",
       "    </tr>\n",
       "    <tr>\n",
       "      <th>5</th>\n",
       "      <td>0</td>\n",
       "      <td>0</td>\n",
       "      <td>0</td>\n",
       "      <td>1</td>\n",
       "      <td>0</td>\n",
       "      <td>0</td>\n",
       "      <td>1</td>\n",
       "      <td>0</td>\n",
       "      <td>0</td>\n",
       "      <td>0</td>\n",
       "      <td>0</td>\n",
       "      <td>0.000000</td>\n",
       "      <td>0.000000</td>\n",
       "      <td>11</td>\n",
       "    </tr>\n",
       "    <tr>\n",
       "      <th>304</th>\n",
       "      <td>0</td>\n",
       "      <td>0</td>\n",
       "      <td>0</td>\n",
       "      <td>1</td>\n",
       "      <td>0</td>\n",
       "      <td>0</td>\n",
       "      <td>0</td>\n",
       "      <td>0</td>\n",
       "      <td>0</td>\n",
       "      <td>0</td>\n",
       "      <td>0</td>\n",
       "      <td>0.000000</td>\n",
       "      <td>0.000000</td>\n",
       "      <td>11</td>\n",
       "    </tr>\n",
       "    <tr>\n",
       "      <th>130</th>\n",
       "      <td>0</td>\n",
       "      <td>0</td>\n",
       "      <td>0</td>\n",
       "      <td>1</td>\n",
       "      <td>0</td>\n",
       "      <td>0</td>\n",
       "      <td>0</td>\n",
       "      <td>0</td>\n",
       "      <td>0</td>\n",
       "      <td>0</td>\n",
       "      <td>0</td>\n",
       "      <td>0.200000</td>\n",
       "      <td>0.200000</td>\n",
       "      <td>11</td>\n",
       "    </tr>\n",
       "    <tr>\n",
       "      <th>1541</th>\n",
       "      <td>0</td>\n",
       "      <td>0</td>\n",
       "      <td>0</td>\n",
       "      <td>1</td>\n",
       "      <td>0</td>\n",
       "      <td>0</td>\n",
       "      <td>0</td>\n",
       "      <td>0</td>\n",
       "      <td>0</td>\n",
       "      <td>0</td>\n",
       "      <td>0</td>\n",
       "      <td>0.200000</td>\n",
       "      <td>0.400000</td>\n",
       "      <td>11</td>\n",
       "    </tr>\n",
       "    <tr>\n",
       "      <th>527</th>\n",
       "      <td>0</td>\n",
       "      <td>0</td>\n",
       "      <td>0</td>\n",
       "      <td>1</td>\n",
       "      <td>0</td>\n",
       "      <td>0</td>\n",
       "      <td>0</td>\n",
       "      <td>0</td>\n",
       "      <td>0</td>\n",
       "      <td>0</td>\n",
       "      <td>0</td>\n",
       "      <td>0.285714</td>\n",
       "      <td>0.535714</td>\n",
       "      <td>11</td>\n",
       "    </tr>\n",
       "    <tr>\n",
       "      <th>215</th>\n",
       "      <td>0</td>\n",
       "      <td>0</td>\n",
       "      <td>1</td>\n",
       "      <td>1</td>\n",
       "      <td>0</td>\n",
       "      <td>0</td>\n",
       "      <td>0</td>\n",
       "      <td>0</td>\n",
       "      <td>0</td>\n",
       "      <td>0</td>\n",
       "      <td>0</td>\n",
       "      <td>0.350000</td>\n",
       "      <td>0.550000</td>\n",
       "      <td>11</td>\n",
       "    </tr>\n",
       "    <tr>\n",
       "      <th>365</th>\n",
       "      <td>0</td>\n",
       "      <td>0</td>\n",
       "      <td>0</td>\n",
       "      <td>1</td>\n",
       "      <td>0</td>\n",
       "      <td>0</td>\n",
       "      <td>0</td>\n",
       "      <td>0</td>\n",
       "      <td>0</td>\n",
       "      <td>0</td>\n",
       "      <td>0</td>\n",
       "      <td>0.450000</td>\n",
       "      <td>0.850000</td>\n",
       "      <td>11</td>\n",
       "    </tr>\n",
       "  </tbody>\n",
       "</table>\n",
       "</div>"
      ],
      "text/plain": [
       "      bernie  buttigieg  biden  warren  gender  age  democrat  socialist  \\\n",
       "2184       0          0      0       1       0    0         0          0   \n",
       "5          0          0      0       1       0    0         1          0   \n",
       "304        0          0      0       1       0    0         0          0   \n",
       "130        0          0      0       1       0    0         0          0   \n",
       "1541       0          0      0       1       0    0         0          0   \n",
       "527        0          0      0       1       0    0         0          0   \n",
       "215        0          0      1       1       0    0         0          0   \n",
       "365        0          0      0       1       0    0         0          0   \n",
       "\n",
       "      trump  delegates  extended  sentiment  subjectivity  cluster  \n",
       "2184      0          0         0  -0.033333      0.033333       11  \n",
       "5         0          0         0   0.000000      0.000000       11  \n",
       "304       0          0         0   0.000000      0.000000       11  \n",
       "130       0          0         0   0.200000      0.200000       11  \n",
       "1541      0          0         0   0.200000      0.400000       11  \n",
       "527       0          0         0   0.285714      0.535714       11  \n",
       "215       0          0         0   0.350000      0.550000       11  \n",
       "365       0          0         0   0.450000      0.850000       11  "
      ]
     },
     "execution_count": 34,
     "metadata": {},
     "output_type": "execute_result"
    }
   ],
   "source": [
    "# seeing what columns the clusters contain (checking one)\n",
    "unique_rows.loc[unique_rows['cluster'] == 11].sort_values(\"sentiment\")"
   ]
=======
      "text/plain": [
       "<matplotlib.image.AxesImage at 0x1a2bb40b10>"
      ]
     },
     "execution_count": 43,
     "metadata": {},
     "output_type": "execute_result"
    },
    {
     "data": {
      "image/png": "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\n",
      "text/plain": [
       "<Figure size 432x288 with 1 Axes>"
      ]
     },
     "metadata": {
      "needs_background": "light"
     },
     "output_type": "display_data"
    }
   ],
   "source": [
    "plt.imshow(df)\n"
   ]
  },
  {
   "cell_type": "code",
   "execution_count": null,
   "metadata": {},
   "outputs": [],
   "source": [
    "# MAKE ANOTHER DATAFRAME WITH NRC \n",
    "\n",
    "    #JOY, ANGER, \n",
    "    \n",
    "    # IF WE ARE USING NRC IN OUR FINAL DF WE MUST HAVE A COMPOSITE SCORE\n",
    "    \n",
    "    # THE TWEETS HAVE MULTIPLE WORDS AND / OR SCORE IN MULTIPLE CATEGORIES\n",
    "    \n",
    "    # "
   ]
  },
  {
   "cell_type": "code",
   "execution_count": null,
   "metadata": {},
   "outputs": [],
   "source": [
    "# Is there better features that will evaluate the clustering data? \n",
    "\n",
    "    # What features? \n",
    "    # Scores over binary\n",
    "    # "
   ]
  },
  {
   "cell_type": "code",
   "execution_count": 41,
   "metadata": {},
   "outputs": [],
   "source": [
    "# ONCE THE K-MEAN ANALYSIS HAS BEEN PERFORMED, INTRODUCE DECISION TREE\n",
    "\n",
    "# DECISION TREE"
   ]
  },
  {
   "cell_type": "code",
   "execution_count": null,
   "metadata": {},
   "outputs": [],
   "source": []
>>>>>>> fa53cf2fdf308ee5aaef8d6002da30487df7a82e
  }
 ],
 "metadata": {
  "kernelspec": {
   "display_name": "Python 3",
   "language": "python",
   "name": "python3"
  },
  "language_info": {
   "codemirror_mode": {
    "name": "ipython",
    "version": 3
   },
   "file_extension": ".py",
   "mimetype": "text/x-python",
   "name": "python",
   "nbconvert_exporter": "python",
   "pygments_lexer": "ipython3",
<<<<<<< HEAD
   "version": "3.7.3"
=======
   "version": "3.7.4"
>>>>>>> fa53cf2fdf308ee5aaef8d6002da30487df7a82e
  }
 },
 "nbformat": 4,
 "nbformat_minor": 2
}
