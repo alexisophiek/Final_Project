{
 "cells": [
  {
   "cell_type": "code",
   "execution_count": 1,
   "metadata": {},
   "outputs": [
    {
     "name": "stdout",
     "output_type": "stream",
     "text": [
      "Password: ········\n",
      "None\n"
     ]
    }
   ],
   "source": [
    "from config import *\n",
    "import tweepy\n",
    "import psycopg2\n",
    "import getpass\n",
    "import json\n",
    "\n",
    "\n",
    "p = getpass.getpass(prompt=\"Password: \")\n",
    "conn = psycopg2.connect(user = \"postgres\",\n",
    "                                  password = f\"{p}\",\n",
    "                                  host = \"localhost\",\n",
    "                                  port = \"5432\",\n",
    "                                  database = \"twitter_db\")\n",
    "\n",
    "cursor = conn.cursor()\n",
    "\n",
    "cursor.execute(\"select * from twitter_feed\")\n",
    "\n",
    "fetch = cursor.fetchone()\n",
    "print(fetch)\n",
    "# rds_connection_string = f\"postgres:{p}@localhost:5432/twitter_db\"\n",
    "# engine = create_engine(f'postgresql://{rds_connection_string}')"
   ]
  },
  {
   "cell_type": "code",
   "execution_count": 2,
   "metadata": {
    "scrolled": false
   },
   "outputs": [
    {
     "name": "stdout",
     "output_type": "stream",
     "text": [
      "Authentication OK\n",
      "On Data\n",
      "('Chelmsford, East', 'Expectivisms', 'RT @williewjewell: Just a #Election2020 reminder #DemocratsAreCorrupt and to #VoteRedToSaveAmerica!\\n\\nWe need to support our President @real…')\n",
      "INSERT INTO twitter_feed (date, user_location, user_id, text, metadata) VALUES (1582178316644,\"Chelmsford, East\",\"RT @williewjewell: Just a #Election2020 reminder #DemocratsAreCorrupt and to #VoteRedToSaveAmerica!\n",
      "\n",
      "We need to support our President @real…\",Expectivisms,224983);\n",
      "('Expectivisms', 'RT @williewjewell: Just a #Election2020 reminder #DemocratsAreCorrupt and to #VoteRedToSaveAmerica!\\n\\nWe need to support our President @real…')\n",
      "On Data\n",
      "('Galena Park, TX', 'TrespassingSatr', 'RT @williewjewell: Just a #Election2020 reminder #DemocratsAreCorrupt and to #VoteRedToSaveAmerica!\\n\\nWe need to support our President @real…')\n",
      "INSERT INTO twitter_feed (date, user_location, user_id, text, metadata) VALUES (1582178318094,\"Galena Park, TX\",\"RT @williewjewell: Just a #Election2020 reminder #DemocratsAreCorrupt and to #VoteRedToSaveAmerica!\n",
      "\n",
      "We need to support our President @real…\",TrespassingSatr,6565);\n",
      "('TrespassingSatr', 'RT @williewjewell: Just a #Election2020 reminder #DemocratsAreCorrupt and to #VoteRedToSaveAmerica!\\n\\nWe need to support our President @real…')\n",
      "On Data\n",
      "('Los Angeles + Coachella Valley', 'tweetingbrit', \"You're making me laugh!....#MayorPete would have zero chance against @realDonaldTrump #2menandadog #twomenandadog w… https://t.co/cyVHefGx0N\")\n",
      "INSERT INTO twitter_feed (date, user_location, user_id, text, metadata) VALUES (1582178336070,\"Los Angeles + Coachella Valley\",\"You're making me laugh!....#MayorPete would have zero chance against @realDonaldTrump #2menandadog #twomenandadog w… https://t.co/cyVHefGx0N\",tweetingbrit,8611);\n",
      "('tweetingbrit', \"You're making me laugh!....#MayorPete would have zero chance against @realDonaldTrump #2menandadog #twomenandadog w… https://t.co/cyVHefGx0N\")\n",
      "On Data\n",
      "(None, 'cizlfab', \"RT @LBDem4Ever: Here's your adult on the stage. Here's the adult we need to elect, America.  #DemDebate2020 #Pete2020 #PeteForPresident #Ma…\")\n",
      "INSERT INTO twitter_feed (date, user_location, user_id, text, metadata) VALUES (1582178360132,\"None\",\"RT @LBDem4Ever: Here's your adult on the stage. Here's the adult we need to elect, America.  #DemDebate2020 #Pete2020 #PeteForPresident #Ma…\",cizlfab,125477);\n",
      "('cizlfab', \"RT @LBDem4Ever: Here's your adult on the stage. Here's the adult we need to elect, America.  #DemDebate2020 #Pete2020 #PeteForPresident #Ma…\")\n",
      "On Data\n",
      "('Washington D.C.', 'RaceForPresNews', '2020 Presidential Election News Update🗞:\\nBloomberg faces attacks for refusing to release women from confidentiality… https://t.co/mU7uJmTOmo')\n",
      "INSERT INTO twitter_feed (date, user_location, user_id, text, metadata) VALUES (1582178372058,\"Washington D.C.\",\"2020 Presidential Election News Update🗞:\n",
      "Bloomberg faces attacks for refusing to release women from confidentiality… https://t.co/mU7uJmTOmo\",RaceForPresNews,7);\n",
      "('RaceForPresNews', '2020 Presidential Election News Update🗞:\\nBloomberg faces attacks for refusing to release women from confidentiality… https://t.co/mU7uJmTOmo')\n",
      "On Data\n",
      "('Flippin Arkansas', 'ClaraLKatzenmai', 'RT @michaeljohns: A congressional candidates’ forum in Theodore, Alabama (near Mobile), last Saturday should serve as a reminder of just h…')\n",
      "INSERT INTO twitter_feed (date, user_location, user_id, text, metadata) VALUES (1582178378359,\"Flippin Arkansas\",\"RT @michaeljohns: A congressional candidates’ forum in Theodore, Alabama (near Mobile), last Saturday should serve as a reminder of just h…\",ClaraLKatzenmai,37762);\n",
      "('ClaraLKatzenmai', 'RT @michaeljohns: A congressional candidates’ forum in Theodore, Alabama (near Mobile), last Saturday should serve as a reminder of just h…')\n"
     ]
    }
   ],
   "source": [
    "auth = tweepy.OAuthHandler(consumer_key, consumer_secret)\n",
    "auth.set_access_token(access_token, access_token_secret)\n",
    "\n",
    "api = tweepy.API(auth, wait_on_rate_limit=True, wait_on_rate_limit_notify=True)\n",
    "try:\n",
    "    api.verify_credentials()\n",
    "    print(\"Authentication OK\")\n",
    "except:\n",
    "    print(\"Error during authentication\")\n",
    "\n",
    "my_list = []\n",
    "class MyStreamListener(tweepy.StreamListener):\n",
    "    def __init__(self, api=None):\n",
    "        super(MyStreamListener, self).__init__()\n",
    "        self.num_tweets = 0\n",
    "    \n",
    "    def on_status(self, status):\n",
    "        collection = []\n",
    "        print(status.text)\n",
    "        #Don't know why it doesnt print out coordinates\n",
    "        print(status.coordinates)\n",
    "        self.num_tweets += 1\n",
    "        if self.num_tweets < 20:\n",
    "            collection.append(status)\n",
    "            return True\n",
    "        else:\n",
    "            return False\n",
    "        \n",
    "    def on_data(self, data):\n",
    "        print(\"On Data\")\n",
    "        all_data = json.loads(data)\n",
    "#         print(json.dumps(all_data, indent=4))\n",
    "        date = all_data['timestamp_ms']\n",
    "        place = all_data['user']['location']\n",
    "        tweet = all_data[\"text\"].replace('\"',\"\")\n",
    "        username = all_data[\"user\"][\"screen_name\"]\n",
    "        metadata = all_data['user'][\"favourites_count\"]\n",
    "        print((place,username,tweet))\n",
    "        print(f'INSERT INTO twitter_feed (date, user_location, user_id, text, metadata) VALUES ({date},\"{place}\",\"{tweet}\",{username},{metadata});')\n",
    "        self.num_tweets += 1\n",
    "        if self.num_tweets < 20:\n",
    "            cursor.execute('INSERT INTO twitter_feed ( user_location, user_id, text, metadata) \\\n",
    "            VALUES (%s,%s,%s,%s);', (place,tweet,username,metadata))\n",
    "\n",
    "            conn.commit()\n",
    "\n",
    "            print((username,tweet))\n",
    "\n",
    "            return True\n",
    "        else:\n",
    "            return False\n",
    "    \n",
    "        \n",
    "\n",
    "\n",
    "myStreamListener = MyStreamListener()\n",
    "\n",
    "myStream = tweepy.Stream(auth=api.auth, listener=myStreamListener)\n",
    "\n",
    "\n",
    "myStream.filter(track=['election2020'], is_async=True)"
   ]
  },
  {
   "cell_type": "code",
   "execution_count": null,
   "metadata": {},
   "outputs": [],
   "source": []
  }
 ],
 "metadata": {
  "kernelspec": {
   "display_name": "Python 3.6.9 64-bit ('PythonData': conda)",
   "language": "python",
   "name": "python36964bitpythondataconda387ec7e747ec49fcae7849ccd8da23ce"
  },
  "language_info": {
   "codemirror_mode": {
    "name": "ipython",
    "version": 3
   },
   "file_extension": ".py",
   "mimetype": "text/x-python",
   "name": "python",
   "nbconvert_exporter": "python",
   "pygments_lexer": "ipython3",
   "version": "3.6.9"
  }
 },
 "nbformat": 4,
 "nbformat_minor": 2
}
