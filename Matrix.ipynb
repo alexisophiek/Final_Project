{
 "cells": [
  {
   "cell_type": "code",
   "execution_count": 1,
   "metadata": {},
   "outputs": [],
   "source": [
    "import psycopg2\n",
    "import json\n",
    "# from datetime import datetime as dt\n",
    "import pandas as pd\n",
    "import re \n",
    "from textblob import TextBlob "
   ]
  },
  {
   "cell_type": "code",
   "execution_count": 2,
   "metadata": {},
   "outputs": [],
   "source": [
    "# p=\"dataisgreat\""
   ]
  },
  {
   "cell_type": "code",
   "execution_count": 3,
   "metadata": {},
   "outputs": [],
   "source": [
    "# conn = psycopg2.connect(user = \"postgres\",\n",
    "#                                   password = f\"{p}\",\n",
    "#                                   host = \"127.0.0.1\",\n",
    "#                                   port = \"3306\",\n",
    "#                                   database = \"postgres\")"
   ]
  },
  {
   "cell_type": "code",
   "execution_count": 4,
   "metadata": {},
   "outputs": [],
   "source": [
    "# cursor = conn.cursor()"
   ]
  },
  {
   "cell_type": "code",
   "execution_count": 5,
   "metadata": {},
   "outputs": [],
   "source": [
    "# tweet_list = []\n",
    "# followers = []\n",
    "# cursor.execute(\"select * from tweets\")\n",
    "# tweets = cursor.fetchall()\n",
    "# if not tweets:\n",
    "#     print(\"empty\")\n",
    "# for row in tweets:\n",
    "#     for col in row:\n",
    "#         if type(col) is dict:\n",
    "#             tweet_list.append(col['text'])\n",
    "#             followers.append(col['user']['followers_count'])"
   ]
  },
  {
   "cell_type": "code",
   "execution_count": 6,
   "metadata": {},
   "outputs": [],
   "source": [
    "# Did not want to (also should not) install Cloud SDK and Cloud Proxy SQL on work computer, so grabbed new tweets for testing\n",
    "import tweepy\n",
    "from config import *\n",
    "import datetime as dt"
   ]
  },
  {
   "cell_type": "code",
   "execution_count": 7,
   "metadata": {},
   "outputs": [
    {
     "name": "stdout",
     "output_type": "stream",
     "text": [
      "Authentication Complete\n"
     ]
    }
   ],
   "source": [
    "auth = tweepy.OAuthHandler(consumer_key, consumer_secret)\n",
    "auth.set_access_token(access_token, access_token_secret)\n",
    "api = tweepy.API(auth, wait_on_rate_limit=True, wait_on_rate_limit_notify=True)\n",
    "\n",
    "try:\n",
    "    api.verify_credentials()\n",
    "    print(\"Authentication Complete\")\n",
    "except:\n",
    "    print(\"Authentication Unable to Complete\")\n",
    "    \n",
    "two_days = (dt.datetime.now() - dt.timedelta(days=3)).strftime(\"%Y-%m-%d\")\n",
    "one_day = (dt.datetime.now() - dt.timedelta(days=2)).strftime(\"%Y-%m-%d\")\n",
    "\n",
    "# startDate = datetime.datetime(2014, 6, 1, 0, 0, 0)\n",
    "# endDate =   datetime.datetime(2015, 1, 1, 0, 0, 0)\n",
    "MAX_TWEETS = 500\n",
    "tweets = tweepy.Cursor(api.search, q='#election2020', rpp=100, since=two_days, until=one_day).items(MAX_TWEETS)\n"
   ]
  },
  {
   "cell_type": "code",
   "execution_count": 8,
   "metadata": {
    "code_folding": []
   },
   "outputs": [],
   "source": [
    "tweet_list = []\n",
    "followers = []\n",
    "# cursor.execute(\"select * from tweets\")\n",
    "# tweets = cursor.fetchall()\n",
    "if not tweets:\n",
    "    print(\"empty\")\n",
    "for row in tweets:\n",
    "#     for col in row:\n",
    "#     if type(row) is dict:\n",
    "    tweet_list.append(row.text)\n",
    "#     followers.append(row['user']['followers_count'])"
   ]
  },
  {
   "cell_type": "code",
   "execution_count": 9,
   "metadata": {},
   "outputs": [],
   "source": [
    "remove_list = [r'@[A-Za-z0-9]+','https://t.co[A-Za-z0-9./t.co]+','\\n','RT :',r'_[A-Za-z0-9]+','  ']"
   ]
  },
  {
   "cell_type": "code",
   "execution_count": 10,
   "metadata": {},
   "outputs": [],
   "source": [
    "def clean_tweets(remove_list,tweet_list):\n",
    "    for item in remove_list:\n",
    "        tweet_list = [re.sub(item,'',tweet) for tweet in tweet_list]\n",
    "    return tweet_list"
   ]
  },
  {
   "cell_type": "code",
   "execution_count": 11,
   "metadata": {},
   "outputs": [
    {
     "data": {
      "text/plain": [
       "['After being pummeled in his first debate, former NYC Mayor Mike Bloomberg told Boston business leaders that his nex… ',\n",
       " ' POLL TIME!!! Please Vote, Comment, &amp; RetweetIFgets the nomination, who would be the best running mate to bo…',\n",
       " ' Ep 11: Malpractice Magnifies Mini Mike’s Shortcomings #Election2020 ',\n",
       " ' The reason(s) you should all be voting for Bernie...#DemocraticPrimary #Election2020 #Bernie2020#OnlyBernie #BernieBros…',\n",
       " \" Bernie Sanders continues to lead Nevada's presidential caucuses based on early returns. Catch the complete results as they come in…\"]"
      ]
     },
     "execution_count": 11,
     "metadata": {},
     "output_type": "execute_result"
    }
   ],
   "source": [
    "cleaned = clean_tweets(remove_list,tweet_list)\n",
    "cleaned[:5]"
   ]
  },
  {
   "cell_type": "code",
   "execution_count": 12,
   "metadata": {},
   "outputs": [],
   "source": [
    "# tweet_text = pd.DataFrame(tweet)\n",
    "# tweet_text.rename(columns = {0: \"tweets\"}, inplace = True)\n",
    "# tweet_text.head()"
   ]
  },
  {
   "cell_type": "code",
   "execution_count": 13,
   "metadata": {},
   "outputs": [
    {
     "name": "stdout",
     "output_type": "stream",
     "text": [
      "[0.125, 1.0, 0.0, 0.0, 0.1, 0.35, 0.075, 0.3, -0.0625, 1.0]\n"
     ]
    }
   ],
   "source": [
    "sentiment_objects = []\n",
    "sentiments = []\n",
    "for each in cleaned:\n",
    "    sentiments.append(TextBlob(each).polarity)\n",
    "\n",
    "    \n",
    "# sentiment_objects.polarity, sentiment_objects\n",
    "# print(sentiment_objects[0])\n",
    "    \n",
    "print(sentiments[:10])"
   ]
  },
  {
   "cell_type": "code",
   "execution_count": 14,
   "metadata": {},
   "outputs": [],
   "source": [
    "def result(tweet,keyword_list):\n",
    "    if any(word in tweet for word in keyword_list):\n",
    "        return 1\n",
    "    else:\n",
    "        return 0"
   ]
  },
  {
   "cell_type": "code",
   "execution_count": 15,
   "metadata": {},
   "outputs": [],
   "source": [
    "bernie = []\n",
    "buttigieg = []\n",
    "biden = []\n",
    "warren = []\n",
    "gender = []\n",
    "age = []\n",
    "democrat = []\n",
    "socialist = []\n",
    "trump = []\n",
    "delegates = []\n",
    "extended = []\n",
    "length = []\n",
    "for tweet in cleaned:\n",
    "    tweet_length = len(tweet)\n",
    "    length.append(tweet_length)\n",
    "    if tweet_length > 140:\n",
    "        extended.append(1)\n",
    "    else:\n",
    "        extended.append(0)\n",
    "    delegates.append(result(tweet.lower(),[\"delegate\"]))\n",
    "    trump.append(result(tweet.lower(),[\"trump\"]))\n",
    "    socialist.append(result(tweet.lower(),[\"socialist\"]))\n",
    "    democrat.append(result(tweet.lower(),[\"democrat\",\"democratic\"]))\n",
    "    age.append(result(tweet.lower(),[\"old\",\"aging\"]))\n",
    "    gender.append(result(tweet.lower(),[\"female\",\"woman\"]))\n",
    "    warren.append(result(tweet.lower(),[\"warren\"]))\n",
    "    biden.append(result(tweet.lower(),[\"biden\"]))\n",
    "    buttigieg.append(result(tweet.lower(),[\"buttigieg\"]))\n",
    "    bernie.append(result(tweet.lower(),[\"bernie\"]))\n",
    "    \n",
    "    "
   ]
  },
  {
   "cell_type": "code",
   "execution_count": 16,
   "metadata": {},
   "outputs": [],
   "source": [
    "data = pd.DataFrame({\"bernie\":bernie,\"buttigieg\":buttigieg,\"biden\":biden,\"warren\":warren,\"gender\":gender,\n",
    "             \"age\":age,\"democrat\":democrat,\"socialist\":socialist,\"trump\":trump,\"delegates\":delegates,\n",
    "             \"extended\":extended,\"sentiments\":sentiments})"
   ]
  },
  {
   "cell_type": "code",
   "execution_count": 17,
   "metadata": {},
   "outputs": [],
   "source": [
    "from sklearn.cluster import KMeans\n",
    "kmeans = KMeans(n_clusters=12)\n"
   ]
  },
  {
   "cell_type": "code",
   "execution_count": 18,
   "metadata": {},
   "outputs": [
    {
     "data": {
      "text/plain": [
       "KMeans(algorithm='auto', copy_x=True, init='k-means++', max_iter=300,\n",
       "       n_clusters=12, n_init=10, n_jobs=None, precompute_distances='auto',\n",
       "       random_state=None, tol=0.0001, verbose=0)"
      ]
     },
     "execution_count": 18,
     "metadata": {},
     "output_type": "execute_result"
    }
   ],
   "source": [
    "kmeans.fit(data)"
   ]
  },
  {
   "cell_type": "code",
   "execution_count": 19,
   "metadata": {},
   "outputs": [
    {
     "data": {
      "text/plain": [
       "array([11,  2,  0,  5,  1,  8,  0,  1,  0,  2])"
      ]
     },
     "execution_count": 19,
     "metadata": {},
     "output_type": "execute_result"
    }
   ],
   "source": [
    "kmeans.predict(data)[:10]"
   ]
  },
  {
   "cell_type": "code",
   "execution_count": 20,
   "metadata": {},
   "outputs": [
    {
     "name": "stdout",
     "output_type": "stream",
     "text": [
      "(1, 12)\n"
     ]
    },
    {
     "data": {
      "text/plain": [
       "array([0])"
      ]
     },
     "execution_count": 20,
     "metadata": {},
     "output_type": "execute_result"
    }
   ],
   "source": [
    "# Check individual Result from \n",
    "print((data.iloc[59].values.reshape(1,12)).shape)\n",
    "kmeans.predict(data.iloc[59].values.reshape(1,12))\n"
   ]
  },
  {
   "cell_type": "code",
   "execution_count": 21,
   "metadata": {},
   "outputs": [
    {
     "data": {
      "text/plain": [
       "bernie        0.000000\n",
       "buttigieg     0.000000\n",
       "biden         0.000000\n",
       "warren        0.000000\n",
       "gender        0.000000\n",
       "age           0.000000\n",
       "democrat      1.000000\n",
       "socialist     0.000000\n",
       "trump         0.000000\n",
       "delegates     0.000000\n",
       "extended      0.000000\n",
       "sentiments    0.236667\n",
       "Name: 75, dtype: float64"
      ]
     },
     "execution_count": 21,
     "metadata": {},
     "output_type": "execute_result"
    }
   ],
   "source": [
    "data.iloc[75]"
   ]
  },
  {
   "cell_type": "code",
   "execution_count": 22,
   "metadata": {},
   "outputs": [
    {
     "name": "stdout",
     "output_type": "stream",
     "text": [
      "Biden: 24\n",
      "Warren: 1\n",
      "Biden: 36\n",
      "Warren: 1\n",
      "Warren: 1\n",
      "Buttigieg: 215\n",
      "Buttigieg: 234\n",
      "Biden: 332\n",
      "Biden: 336\n",
      "Biden: 337\n",
      "Warren: 1\n",
      "Biden: 338\n",
      "Biden: 384\n"
     ]
    }
   ],
   "source": [
    "for i,row in data.iterrows():\n",
    "    if row[\"bernie\"] == 1:\n",
    "        if row[\"buttigieg\"] ==1:\n",
    "            print(f\"Buttigieg: {i}\")\n",
    "        if row[\"biden\"] == 1:\n",
    "            print(f\"Biden: {i}\")\n",
    "        if row[\"warren\"] == 1:\n",
    "            print(f\"Warren: {1}\")"
   ]
  },
  {
   "cell_type": "code",
   "execution_count": 23,
   "metadata": {},
   "outputs": [
    {
     "data": {
      "text/html": [
       "<div>\n",
       "<style scoped>\n",
       "    .dataframe tbody tr th:only-of-type {\n",
       "        vertical-align: middle;\n",
       "    }\n",
       "\n",
       "    .dataframe tbody tr th {\n",
       "        vertical-align: top;\n",
       "    }\n",
       "\n",
       "    .dataframe thead th {\n",
       "        text-align: right;\n",
       "    }\n",
       "</style>\n",
       "<table border=\"1\" class=\"dataframe\">\n",
       "  <thead>\n",
       "    <tr style=\"text-align: right;\">\n",
       "      <th></th>\n",
       "      <th>bernie</th>\n",
       "      <th>buttigieg</th>\n",
       "      <th>biden</th>\n",
       "      <th>warren</th>\n",
       "      <th>gender</th>\n",
       "      <th>age</th>\n",
       "      <th>democrat</th>\n",
       "      <th>socialist</th>\n",
       "      <th>trump</th>\n",
       "      <th>delegates</th>\n",
       "      <th>extended</th>\n",
       "      <th>sentiments</th>\n",
       "    </tr>\n",
       "  </thead>\n",
       "  <tbody>\n",
       "    <tr>\n",
       "      <th>330</th>\n",
       "      <td>0</td>\n",
       "      <td>0</td>\n",
       "      <td>0</td>\n",
       "      <td>0</td>\n",
       "      <td>0</td>\n",
       "      <td>0</td>\n",
       "      <td>0</td>\n",
       "      <td>0</td>\n",
       "      <td>0</td>\n",
       "      <td>0</td>\n",
       "      <td>0</td>\n",
       "      <td>0.000000</td>\n",
       "    </tr>\n",
       "    <tr>\n",
       "      <th>331</th>\n",
       "      <td>0</td>\n",
       "      <td>0</td>\n",
       "      <td>0</td>\n",
       "      <td>0</td>\n",
       "      <td>0</td>\n",
       "      <td>0</td>\n",
       "      <td>1</td>\n",
       "      <td>0</td>\n",
       "      <td>0</td>\n",
       "      <td>0</td>\n",
       "      <td>0</td>\n",
       "      <td>0.000000</td>\n",
       "    </tr>\n",
       "    <tr>\n",
       "      <th>332</th>\n",
       "      <td>1</td>\n",
       "      <td>0</td>\n",
       "      <td>1</td>\n",
       "      <td>0</td>\n",
       "      <td>0</td>\n",
       "      <td>0</td>\n",
       "      <td>0</td>\n",
       "      <td>0</td>\n",
       "      <td>0</td>\n",
       "      <td>0</td>\n",
       "      <td>0</td>\n",
       "      <td>0.500000</td>\n",
       "    </tr>\n",
       "    <tr>\n",
       "      <th>333</th>\n",
       "      <td>0</td>\n",
       "      <td>0</td>\n",
       "      <td>0</td>\n",
       "      <td>0</td>\n",
       "      <td>0</td>\n",
       "      <td>0</td>\n",
       "      <td>0</td>\n",
       "      <td>0</td>\n",
       "      <td>0</td>\n",
       "      <td>0</td>\n",
       "      <td>0</td>\n",
       "      <td>0.000000</td>\n",
       "    </tr>\n",
       "    <tr>\n",
       "      <th>334</th>\n",
       "      <td>0</td>\n",
       "      <td>0</td>\n",
       "      <td>0</td>\n",
       "      <td>0</td>\n",
       "      <td>0</td>\n",
       "      <td>0</td>\n",
       "      <td>0</td>\n",
       "      <td>0</td>\n",
       "      <td>0</td>\n",
       "      <td>0</td>\n",
       "      <td>0</td>\n",
       "      <td>-0.083333</td>\n",
       "    </tr>\n",
       "    <tr>\n",
       "      <th>335</th>\n",
       "      <td>0</td>\n",
       "      <td>0</td>\n",
       "      <td>0</td>\n",
       "      <td>0</td>\n",
       "      <td>0</td>\n",
       "      <td>0</td>\n",
       "      <td>0</td>\n",
       "      <td>0</td>\n",
       "      <td>0</td>\n",
       "      <td>0</td>\n",
       "      <td>0</td>\n",
       "      <td>-0.125000</td>\n",
       "    </tr>\n",
       "  </tbody>\n",
       "</table>\n",
       "</div>"
      ],
      "text/plain": [
       "     bernie  buttigieg  biden  warren  gender  age  democrat  socialist  \\\n",
       "330       0          0      0       0       0    0         0          0   \n",
       "331       0          0      0       0       0    0         1          0   \n",
       "332       1          0      1       0       0    0         0          0   \n",
       "333       0          0      0       0       0    0         0          0   \n",
       "334       0          0      0       0       0    0         0          0   \n",
       "335       0          0      0       0       0    0         0          0   \n",
       "\n",
       "     trump  delegates  extended  sentiments  \n",
       "330      0          0         0    0.000000  \n",
       "331      0          0         0    0.000000  \n",
       "332      0          0         0    0.500000  \n",
       "333      0          0         0    0.000000  \n",
       "334      0          0         0   -0.083333  \n",
       "335      0          0         0   -0.125000  "
      ]
     },
     "execution_count": 23,
     "metadata": {},
     "output_type": "execute_result"
    }
   ],
   "source": [
    "data.iloc[330:336]"
   ]
  },
  {
   "cell_type": "code",
   "execution_count": 24,
   "metadata": {},
   "outputs": [],
   "source": [
    "data_results = data.copy()\n",
    "data_results['cluster'] = kmeans.predict(data).tolist()"
   ]
  },
  {
   "cell_type": "code",
   "execution_count": 25,
   "metadata": {},
   "outputs": [
    {
     "data": {
      "text/html": [
       "<div>\n",
       "<style scoped>\n",
       "    .dataframe tbody tr th:only-of-type {\n",
       "        vertical-align: middle;\n",
       "    }\n",
       "\n",
       "    .dataframe tbody tr th {\n",
       "        vertical-align: top;\n",
       "    }\n",
       "\n",
       "    .dataframe thead th {\n",
       "        text-align: right;\n",
       "    }\n",
       "</style>\n",
       "<table border=\"1\" class=\"dataframe\">\n",
       "  <thead>\n",
       "    <tr style=\"text-align: right;\">\n",
       "      <th></th>\n",
       "      <th>bernie</th>\n",
       "      <th>buttigieg</th>\n",
       "      <th>biden</th>\n",
       "      <th>warren</th>\n",
       "      <th>gender</th>\n",
       "      <th>age</th>\n",
       "      <th>democrat</th>\n",
       "      <th>socialist</th>\n",
       "      <th>trump</th>\n",
       "      <th>delegates</th>\n",
       "      <th>extended</th>\n",
       "      <th>sentiments</th>\n",
       "      <th>cluster</th>\n",
       "    </tr>\n",
       "  </thead>\n",
       "  <tbody>\n",
       "    <tr>\n",
       "      <th>495</th>\n",
       "      <td>0</td>\n",
       "      <td>0</td>\n",
       "      <td>0</td>\n",
       "      <td>0</td>\n",
       "      <td>0</td>\n",
       "      <td>0</td>\n",
       "      <td>0</td>\n",
       "      <td>0</td>\n",
       "      <td>0</td>\n",
       "      <td>0</td>\n",
       "      <td>0</td>\n",
       "      <td>0.19375</td>\n",
       "      <td>8</td>\n",
       "    </tr>\n",
       "    <tr>\n",
       "      <th>496</th>\n",
       "      <td>0</td>\n",
       "      <td>0</td>\n",
       "      <td>0</td>\n",
       "      <td>0</td>\n",
       "      <td>0</td>\n",
       "      <td>0</td>\n",
       "      <td>0</td>\n",
       "      <td>0</td>\n",
       "      <td>0</td>\n",
       "      <td>0</td>\n",
       "      <td>0</td>\n",
       "      <td>0.00000</td>\n",
       "      <td>0</td>\n",
       "    </tr>\n",
       "    <tr>\n",
       "      <th>497</th>\n",
       "      <td>0</td>\n",
       "      <td>0</td>\n",
       "      <td>0</td>\n",
       "      <td>0</td>\n",
       "      <td>0</td>\n",
       "      <td>0</td>\n",
       "      <td>0</td>\n",
       "      <td>0</td>\n",
       "      <td>0</td>\n",
       "      <td>0</td>\n",
       "      <td>0</td>\n",
       "      <td>0.00000</td>\n",
       "      <td>0</td>\n",
       "    </tr>\n",
       "    <tr>\n",
       "      <th>498</th>\n",
       "      <td>0</td>\n",
       "      <td>0</td>\n",
       "      <td>0</td>\n",
       "      <td>0</td>\n",
       "      <td>0</td>\n",
       "      <td>0</td>\n",
       "      <td>0</td>\n",
       "      <td>0</td>\n",
       "      <td>0</td>\n",
       "      <td>0</td>\n",
       "      <td>0</td>\n",
       "      <td>0.00000</td>\n",
       "      <td>0</td>\n",
       "    </tr>\n",
       "    <tr>\n",
       "      <th>499</th>\n",
       "      <td>0</td>\n",
       "      <td>0</td>\n",
       "      <td>0</td>\n",
       "      <td>0</td>\n",
       "      <td>0</td>\n",
       "      <td>0</td>\n",
       "      <td>0</td>\n",
       "      <td>0</td>\n",
       "      <td>1</td>\n",
       "      <td>0</td>\n",
       "      <td>0</td>\n",
       "      <td>0.00000</td>\n",
       "      <td>4</td>\n",
       "    </tr>\n",
       "  </tbody>\n",
       "</table>\n",
       "</div>"
      ],
      "text/plain": [
       "     bernie  buttigieg  biden  warren  gender  age  democrat  socialist  \\\n",
       "495       0          0      0       0       0    0         0          0   \n",
       "496       0          0      0       0       0    0         0          0   \n",
       "497       0          0      0       0       0    0         0          0   \n",
       "498       0          0      0       0       0    0         0          0   \n",
       "499       0          0      0       0       0    0         0          0   \n",
       "\n",
       "     trump  delegates  extended  sentiments  cluster  \n",
       "495      0          0         0     0.19375        8  \n",
       "496      0          0         0     0.00000        0  \n",
       "497      0          0         0     0.00000        0  \n",
       "498      0          0         0     0.00000        0  \n",
       "499      1          0         0     0.00000        4  "
      ]
     },
     "execution_count": 25,
     "metadata": {},
     "output_type": "execute_result"
    }
   ],
   "source": [
    "data_results.tail()"
   ]
  },
  {
   "cell_type": "code",
   "execution_count": 26,
   "metadata": {},
   "outputs": [
    {
     "data": {
      "text/plain": [
       "<matplotlib.colorbar.Colorbar at 0x1ed1838d978>"
      ]
     },
     "execution_count": 26,
     "metadata": {},
     "output_type": "execute_result"
    }
   ],
   "source": [
    "import numpy as np\n",
    "import matplotlib.pyplot as plt\n",
    "\n",
    "\n",
    "# random example\n",
    "plt.imshow(np.random.random((50,50)));\n",
    "plt.colorbar()\n",
    "# plt.show()"
   ]
  },
  {
   "cell_type": "code",
   "execution_count": 27,
   "metadata": {},
   "outputs": [
    {
     "data": {
      "text/plain": [
       "<matplotlib.image.AxesImage at 0x1ed184704a8>"
      ]
     },
     "execution_count": 27,
     "metadata": {},
     "output_type": "execute_result"
    },
    {
     "data": {
      "image/png": "[encoded data removed]",
      "text/plain": [
       "<Figure size 7200x7200 with 1 Axes>"
      ]
     },
     "metadata": {
      "needs_background": "light"
     },
     "output_type": "display_data"
    }
   ],
   "source": [
    "# Hard to see anything, probably shouldn't keep\n",
    "plt.figure(figsize=(100,100))\n",
    "plt.imshow(data_results)\n"
   ]
  },
  {
   "cell_type": "code",
   "execution_count": 28,
   "metadata": {},
   "outputs": [
    {
     "data": {
      "text/html": [
       "<div>\n",
       "<style scoped>\n",
       "    .dataframe tbody tr th:only-of-type {\n",
       "        vertical-align: middle;\n",
       "    }\n",
       "\n",
       "    .dataframe tbody tr th {\n",
       "        vertical-align: top;\n",
       "    }\n",
       "\n",
       "    .dataframe thead th {\n",
       "        text-align: right;\n",
       "    }\n",
       "</style>\n",
       "<table border=\"1\" class=\"dataframe\">\n",
       "  <thead>\n",
       "    <tr style=\"text-align: right;\">\n",
       "      <th></th>\n",
       "      <th>bernie</th>\n",
       "      <th>buttigieg</th>\n",
       "      <th>biden</th>\n",
       "      <th>warren</th>\n",
       "      <th>gender</th>\n",
       "      <th>age</th>\n",
       "      <th>democrat</th>\n",
       "      <th>socialist</th>\n",
       "      <th>trump</th>\n",
       "      <th>delegates</th>\n",
       "      <th>extended</th>\n",
       "      <th>sentiments</th>\n",
       "      <th>cluster</th>\n",
       "    </tr>\n",
       "  </thead>\n",
       "  <tbody>\n",
       "    <tr>\n",
       "      <th>0</th>\n",
       "      <td>0</td>\n",
       "      <td>0</td>\n",
       "      <td>0</td>\n",
       "      <td>0</td>\n",
       "      <td>0</td>\n",
       "      <td>1</td>\n",
       "      <td>0</td>\n",
       "      <td>0</td>\n",
       "      <td>0</td>\n",
       "      <td>0</td>\n",
       "      <td>0</td>\n",
       "      <td>0.125</td>\n",
       "      <td>11</td>\n",
       "    </tr>\n",
       "    <tr>\n",
       "      <th>1</th>\n",
       "      <td>0</td>\n",
       "      <td>0</td>\n",
       "      <td>0</td>\n",
       "      <td>0</td>\n",
       "      <td>0</td>\n",
       "      <td>0</td>\n",
       "      <td>0</td>\n",
       "      <td>0</td>\n",
       "      <td>0</td>\n",
       "      <td>0</td>\n",
       "      <td>0</td>\n",
       "      <td>1.000</td>\n",
       "      <td>2</td>\n",
       "    </tr>\n",
       "    <tr>\n",
       "      <th>2</th>\n",
       "      <td>0</td>\n",
       "      <td>0</td>\n",
       "      <td>0</td>\n",
       "      <td>0</td>\n",
       "      <td>0</td>\n",
       "      <td>0</td>\n",
       "      <td>0</td>\n",
       "      <td>0</td>\n",
       "      <td>0</td>\n",
       "      <td>0</td>\n",
       "      <td>0</td>\n",
       "      <td>0.000</td>\n",
       "      <td>0</td>\n",
       "    </tr>\n",
       "    <tr>\n",
       "      <th>3</th>\n",
       "      <td>1</td>\n",
       "      <td>0</td>\n",
       "      <td>0</td>\n",
       "      <td>0</td>\n",
       "      <td>0</td>\n",
       "      <td>0</td>\n",
       "      <td>1</td>\n",
       "      <td>0</td>\n",
       "      <td>0</td>\n",
       "      <td>0</td>\n",
       "      <td>0</td>\n",
       "      <td>0.000</td>\n",
       "      <td>5</td>\n",
       "    </tr>\n",
       "    <tr>\n",
       "      <th>4</th>\n",
       "      <td>1</td>\n",
       "      <td>0</td>\n",
       "      <td>0</td>\n",
       "      <td>0</td>\n",
       "      <td>0</td>\n",
       "      <td>0</td>\n",
       "      <td>0</td>\n",
       "      <td>0</td>\n",
       "      <td>0</td>\n",
       "      <td>0</td>\n",
       "      <td>0</td>\n",
       "      <td>0.100</td>\n",
       "      <td>1</td>\n",
       "    </tr>\n",
       "  </tbody>\n",
       "</table>\n",
       "</div>"
      ],
      "text/plain": [
       "   bernie  buttigieg  biden  warren  gender  age  democrat  socialist  trump  \\\n",
       "0       0          0      0       0       0    1         0          0      0   \n",
       "1       0          0      0       0       0    0         0          0      0   \n",
       "2       0          0      0       0       0    0         0          0      0   \n",
       "3       1          0      0       0       0    0         1          0      0   \n",
       "4       1          0      0       0       0    0         0          0      0   \n",
       "\n",
       "   delegates  extended  sentiments  cluster  \n",
       "0          0         0       0.125       11  \n",
       "1          0         0       1.000        2  \n",
       "2          0         0       0.000        0  \n",
       "3          0         0       0.000        5  \n",
       "4          0         0       0.100        1  "
      ]
     },
     "execution_count": 28,
     "metadata": {},
     "output_type": "execute_result"
    }
   ],
   "source": [
    "data_results.head()\n"
   ]
  },
  {
   "cell_type": "code",
   "execution_count": 29,
   "metadata": {},
   "outputs": [],
   "source": [
    "# See the unique rows in the data with clusters added\n",
    "unique_rows = data_results.drop_duplicates()"
   ]
  },
  {
   "cell_type": "code",
   "execution_count": 30,
   "metadata": {},
   "outputs": [
    {
     "data": {
      "text/plain": [
       "<matplotlib.image.AxesImage at 0x1ed1e334d68>"
      ]
     },
     "execution_count": 30,
     "metadata": {},
     "output_type": "execute_result"
    },
    {
     "data": {
      "image/png": "[encoded data removed]",
      "text/plain": [
       "<Figure size 7200x7200 with 1 Axes>"
      ]
     },
     "metadata": {
      "needs_background": "light"
     },
     "output_type": "display_data"
    }
   ],
   "source": [
    "# Still hard to see\n",
    "plt.figure(figsize=(100,100))\n",
    "plt.imshow(unique_rows)\n"
   ]
  },
  {
   "cell_type": "code",
   "execution_count": 31,
   "metadata": {},
   "outputs": [
    {
     "data": {
      "text/html": [
       "<div>\n",
       "<style scoped>\n",
       "    .dataframe tbody tr th:only-of-type {\n",
       "        vertical-align: middle;\n",
       "    }\n",
       "\n",
       "    .dataframe tbody tr th {\n",
       "        vertical-align: top;\n",
       "    }\n",
       "\n",
       "    .dataframe thead th {\n",
       "        text-align: right;\n",
       "    }\n",
       "</style>\n",
       "<table border=\"1\" class=\"dataframe\">\n",
       "  <thead>\n",
       "    <tr style=\"text-align: right;\">\n",
       "      <th></th>\n",
       "      <th>bernie</th>\n",
       "      <th>buttigieg</th>\n",
       "      <th>biden</th>\n",
       "      <th>warren</th>\n",
       "      <th>gender</th>\n",
       "      <th>age</th>\n",
       "      <th>democrat</th>\n",
       "      <th>socialist</th>\n",
       "      <th>trump</th>\n",
       "      <th>delegates</th>\n",
       "      <th>extended</th>\n",
       "      <th>sentiments</th>\n",
       "      <th>cluster</th>\n",
       "    </tr>\n",
       "  </thead>\n",
       "  <tbody>\n",
       "    <tr>\n",
       "      <th>157</th>\n",
       "      <td>0</td>\n",
       "      <td>0</td>\n",
       "      <td>0</td>\n",
       "      <td>0</td>\n",
       "      <td>0</td>\n",
       "      <td>1</td>\n",
       "      <td>0</td>\n",
       "      <td>0</td>\n",
       "      <td>0</td>\n",
       "      <td>0</td>\n",
       "      <td>0</td>\n",
       "      <td>-0.625000</td>\n",
       "      <td>11</td>\n",
       "    </tr>\n",
       "    <tr>\n",
       "      <th>374</th>\n",
       "      <td>0</td>\n",
       "      <td>0</td>\n",
       "      <td>0</td>\n",
       "      <td>0</td>\n",
       "      <td>0</td>\n",
       "      <td>1</td>\n",
       "      <td>0</td>\n",
       "      <td>0</td>\n",
       "      <td>0</td>\n",
       "      <td>0</td>\n",
       "      <td>0</td>\n",
       "      <td>-0.200000</td>\n",
       "      <td>11</td>\n",
       "    </tr>\n",
       "    <tr>\n",
       "      <th>158</th>\n",
       "      <td>0</td>\n",
       "      <td>0</td>\n",
       "      <td>0</td>\n",
       "      <td>0</td>\n",
       "      <td>0</td>\n",
       "      <td>1</td>\n",
       "      <td>0</td>\n",
       "      <td>0</td>\n",
       "      <td>0</td>\n",
       "      <td>0</td>\n",
       "      <td>0</td>\n",
       "      <td>0.000000</td>\n",
       "      <td>11</td>\n",
       "    </tr>\n",
       "    <tr>\n",
       "      <th>487</th>\n",
       "      <td>0</td>\n",
       "      <td>0</td>\n",
       "      <td>0</td>\n",
       "      <td>0</td>\n",
       "      <td>0</td>\n",
       "      <td>1</td>\n",
       "      <td>0</td>\n",
       "      <td>0</td>\n",
       "      <td>0</td>\n",
       "      <td>0</td>\n",
       "      <td>0</td>\n",
       "      <td>0.011458</td>\n",
       "      <td>11</td>\n",
       "    </tr>\n",
       "    <tr>\n",
       "      <th>0</th>\n",
       "      <td>0</td>\n",
       "      <td>0</td>\n",
       "      <td>0</td>\n",
       "      <td>0</td>\n",
       "      <td>0</td>\n",
       "      <td>1</td>\n",
       "      <td>0</td>\n",
       "      <td>0</td>\n",
       "      <td>0</td>\n",
       "      <td>0</td>\n",
       "      <td>0</td>\n",
       "      <td>0.125000</td>\n",
       "      <td>11</td>\n",
       "    </tr>\n",
       "  </tbody>\n",
       "</table>\n",
       "</div>"
      ],
      "text/plain": [
       "     bernie  buttigieg  biden  warren  gender  age  democrat  socialist  \\\n",
       "157       0          0      0       0       0    1         0          0   \n",
       "374       0          0      0       0       0    1         0          0   \n",
       "158       0          0      0       0       0    1         0          0   \n",
       "487       0          0      0       0       0    1         0          0   \n",
       "0         0          0      0       0       0    1         0          0   \n",
       "\n",
       "     trump  delegates  extended  sentiments  cluster  \n",
       "157      0          0         0   -0.625000       11  \n",
       "374      0          0         0   -0.200000       11  \n",
       "158      0          0         0    0.000000       11  \n",
       "487      0          0         0    0.011458       11  \n",
       "0        0          0         0    0.125000       11  "
      ]
     },
     "execution_count": 31,
     "metadata": {},
     "output_type": "execute_result"
    }
   ],
   "source": [
    "# seeing what columns the clusters contain (checking one)\n",
    "unique_rows.loc[unique_rows['cluster'] == 11].sort_values(\"sentiments\")"
   ]
  },
  {
   "cell_type": "code",
   "execution_count": null,
   "metadata": {},
   "outputs": [],
   "source": []
  }
 ],
 "metadata": {
  "kernelspec": {
   "display_name": "Python 3",
   "language": "python",
   "name": "python3"
  },
  "language_info": {
   "codemirror_mode": {
    "name": "ipython",
    "version": 3
   },
   "file_extension": ".py",
   "mimetype": "text/x-python",
   "name": "python",
   "nbconvert_exporter": "python",
   "pygments_lexer": "ipython3",
   "version": "3.7.3"
  }
 },
 "nbformat": 4,
 "nbformat_minor": 2
}
